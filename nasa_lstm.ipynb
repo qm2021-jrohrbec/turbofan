{
 "cells": [
  {
   "cell_type": "code",
   "execution_count": 3,
   "id": "a9791b35",
   "metadata": {},
   "outputs": [],
   "source": [
    "import turbo as tb\n",
    "import rul_dataframe as rd\n",
    "import plots as pl\n",
    "import labeling as lb\n",
    "import preprocessing as pre\n",
    "import classification as cls\n",
    "import variational_autoencoder as vae_class\n",
    "\n",
    "import pandas as pd\n",
    "import numpy as np\n",
    "import tensorflow as tf, keras\n",
    "from keras import Sequential, layers, regularizers\n",
    "from keras.layers import LSTM, Dense, Masking, Conv1D, Dropout\n",
    "import matplotlib.pyplot as plt"
   ]
  },
  {
   "cell_type": "code",
   "execution_count": 19,
   "id": "a597991e",
   "metadata": {},
   "outputs": [],
   "source": [
    "from sklearn.model_selection import GroupShuffleSplit\n",
    "from sklearn.metrics import mean_squared_error, r2_score"
   ]
  },
  {
   "cell_type": "markdown",
   "id": "17c0eaad",
   "metadata": {},
   "source": [
    "# Prepare Dataset"
   ]
  },
  {
   "cell_type": "code",
   "execution_count": 499,
   "id": "bored-architecture",
   "metadata": {},
   "outputs": [],
   "source": [
    "dataset = 2\n",
    "tr, te, rl = tb.getTFDataset(set = dataset)\n",
    "tb.addTFlinear(tr, te, rl)\n",
    "tr_df = rd.RUL_DataFrame(df = tr, label_cols = ['linear'])\n",
    "te_df = rd.RUL_DataFrame(df = te, label_cols = ['linear'])"
   ]
  },
  {
   "cell_type": "code",
   "execution_count": 6,
   "id": "1edcd125",
   "metadata": {},
   "outputs": [],
   "source": [
    "#plots = pl.Plots(tr_df)\n",
    "preproc = pre.Preprocessing()\n",
    "classy = cls.Classification()\n",
    "label = lb.Labeling()"
   ]
  },
  {
   "cell_type": "code",
   "execution_count": 501,
   "id": "d1d24f5d",
   "metadata": {},
   "outputs": [],
   "source": [
    "if dataset in [1,3]:\n",
    "    preproc.drop_zero_variance(rul_df = tr_df, rul_df_test = te_df)\n",
    "    preproc.scale(rul_df = tr_df, rul_df_test = te_df, scale = 'std')\n",
    "elif dataset in [2, 4]:\n",
    "    classy.fit_kmeans(rul_df = tr_df, rul_df_test = te_df, colname = 'kmeans')\n",
    "    preproc.one_hot_encode(rul_df = tr_df, rul_df_test = te_df, c_col = 'kmeans')\n",
    "    preproc.c_drop_zero_variance(rul_df = tr_df, rul_df_test = te_df , c_cols = tr_df.categ_cols)\n",
    "    preproc.c_scale(rul_df = tr_df, rul_df_test = te_df , c_cols = tr_df.categ_cols, scale = 'std')"
   ]
  },
  {
   "cell_type": "code",
   "execution_count": 502,
   "id": "50fa754d",
   "metadata": {},
   "outputs": [],
   "source": [
    "# Optional smoothing\n",
    "smoothing = False\n",
    "if smoothing:\n",
    "    preproc.moving_average(rul_df = tr_df, shift = 10, mp = 10)\n",
    "    preproc.moving_average(rul_df = te_df, shift = 10, mp = 10)\n",
    "else:\n",
    "    # Or\n",
    "    preproc.delete_first_n(tr_df, 9)"
   ]
  },
  {
   "cell_type": "code",
   "execution_count": 20,
   "id": "d4275ef8",
   "metadata": {},
   "outputs": [],
   "source": [
    "# prepare data functions\n",
    "# 1. training-validation split\n",
    "def training_validation_split(X, Y, groupshufflesplit, groups = tr_df.df[tr_df.id_col], verbose = False):\n",
    "    for itrain, ival in groupshufflesplit.split(X, Y, groups = groups):\n",
    "        Xtrain = X.iloc[itrain].copy()\n",
    "        Ytrain = Y.iloc[itrain].copy()\n",
    "        Xval = X.iloc[ival].copy()\n",
    "        Yval = Y.iloc[ival].copy()\n",
    "        if verbose:\n",
    "            print(f'Training data ids {groups[itrain].unique()}')\n",
    "            print(f'Validation data ids {groups[ival].unique()}')\n",
    "    return Xtrain, Ytrain, groups[itrain], Xval, Yval, groups[ival]\n",
    "\n",
    "# 2. make xtest\n",
    "def make_xtest_to_sequence_one_id(df, sequence_length, mask_value):\n",
    "    n = df.shape[0]\n",
    "    if n >= sequence_length:\n",
    "        yield df[(n-sequence_length):]\n",
    "    if n < sequence_length:\n",
    "        index = sequence_length - n\n",
    "        Xpadded = np.full(shape = (sequence_length, df.shape[1]), fill_value = mask_value).astype(np.float32)\n",
    "        Xpadded[index:, :] = df.values\n",
    "        yield Xpadded\n",
    "def make_xtest_to_sequence(df, sequence_length, groups, mask_value):\n",
    "    Xtemp = (list(make_xtest_to_sequence_one_id(df[groups==i], sequence_length, mask_value)) for i in groups.unique())\n",
    "    return np.concatenate(list(Xtemp)).astype(np.float32)\n",
    "\n",
    "# 3. make ytest\n",
    "def make_ytest_one_id(df, sequence_length):\n",
    "    return df[-1:]   \n",
    "def make_ytest(df, sequence_length, groups):\n",
    "    Ytemp = [make_ytest_one_id(df[groups==i], sequence_length) for i in groups.unique()]\n",
    "    return np.concatenate(Ytemp).astype(np.float32)\n",
    "\n",
    "# 4. make xrain data\n",
    "def make_data_to_sequence_one_id(df, sequence_length, mask_value, stride, y, frac):\n",
    "    n = df.shape[0]\n",
    "    if not stride:\n",
    "        stride = int(sequence_length/2)\n",
    "    counter = 0\n",
    "    for start, stop in zip(range(0, n - sequence_length + 1, int(stride/frac)), range(sequence_length, n + 1, int(stride/frac))):\n",
    "        if stop <= (n - 70) and counter % frac == 0:\n",
    "            if y:\n",
    "                yield(df.values[start:stop,:][-1])\n",
    "            else:\n",
    "                yield(df.values[start:stop,:])\n",
    "        if stop > (n - 70):\n",
    "            if y:\n",
    "                yield(df.values[start:stop,:][-1])\n",
    "            else:\n",
    "                yield(df.values[start:stop,:])\n",
    "        counter = counter + 1\n",
    "def make_data_to_sequence(df, sequence_length, groups, mask_value, stride = None, y = False, frac = 1):\n",
    "    if not stride % frac == 0:\n",
    "        print('stride/frac!')\n",
    "    Xtemp = ((list(make_data_to_sequence_one_id(df[groups==i], sequence_length, mask_value, stride, y, frac))) for i in groups.unique())\n",
    "    return np.concatenate(list(Xtemp)).astype(np.float32)"
   ]
  },
  {
   "cell_type": "markdown",
   "id": "1665ceb0",
   "metadata": {},
   "source": [
    "# Lableing"
   ]
  },
  {
   "cell_type": "code",
   "execution_count": 503,
   "id": "f25de75f",
   "metadata": {},
   "outputs": [],
   "source": [
    "labels = pd.read_csv(f'labels/FD00{dataset}')\n",
    "label_cols = ['linear', 'piecewise_optimized', 'piecewies_125', 'descriptive', 'spearman', 'rec_error']\n",
    "if not labels.shape[0] == tr_df.df.shape[0]:\n",
    "    print(f'Labels and Data do not have same length. Dataset FD00{dataset}')"
   ]
  },
  {
   "cell_type": "code",
   "execution_count": 358,
   "id": "058ddd3b",
   "metadata": {},
   "outputs": [
    {
     "data": {
      "text/plain": [
       "array([ 1.00000000e+01,  1.00000000e+00,  1.10000000e+01,  4.20029000e+01,\n",
       "        8.40000000e-01,  1.00000000e+02,  2.42861931e-01, -3.09416651e-01,\n",
       "       -2.05911613e-01, -1.18475462e+00, -1.86828828e+00, -1.27302579e+00,\n",
       "       -1.48052636e+00, -1.58300441e-01, -4.13693874e-01, -4.09512577e-01,\n",
       "       -1.27518038e+00, -7.88846072e-01,  3.21075188e-01,  3.46944695e-18,\n",
       "       -4.72098458e-02,  0.00000000e+00, -7.08128291e-01, -1.83793021e-01,\n",
       "        1.38000000e+02,  0.00000000e+00,  0.00000000e+00,  1.00000000e+00,\n",
       "        0.00000000e+00,  0.00000000e+00,  0.00000000e+00,  0.00000000e+00])"
      ]
     },
     "execution_count": 358,
     "metadata": {},
     "output_type": "execute_result"
    }
   ],
   "source": [
    "tr_df.df.values[0:2,:][-1]"
   ]
  },
  {
   "cell_type": "code",
   "execution_count": 504,
   "id": "6003419e",
   "metadata": {},
   "outputs": [],
   "source": [
    "temp = pd.concat([tr_df.df, labels], axis=1)\n",
    "training_data_with_labels = rd.RUL_DataFrame(df = temp, data_cols = tr_df.data_cols, label_cols = ['linear', 'piecewise_optimized', 'piecewise_125', 'descriptive', 'spearman',\n",
    "                                                        'rec_error'])"
   ]
  },
  {
   "cell_type": "code",
   "execution_count": 505,
   "id": "e543fddc",
   "metadata": {},
   "outputs": [],
   "source": [
    "Xtrain = training_data_with_labels.df[training_data_with_labels.data_cols]\n",
    "Xtest = te_df.df[te_df.data_cols]"
   ]
  },
  {
   "cell_type": "code",
   "execution_count": 506,
   "id": "6c5b1c82",
   "metadata": {},
   "outputs": [],
   "source": [
    "Ytrain = training_data_with_labels.df[training_data_with_labels.label_cols]\n",
    "Ytest = te_df.df['linear']"
   ]
  },
  {
   "cell_type": "code",
   "execution_count": 563,
   "id": "5a6f3a2c",
   "metadata": {},
   "outputs": [
    {
     "name": "stdout",
     "output_type": "stream",
     "text": [
      "278\n",
      "(60, 14)\n",
      "278\n",
      "(60, 14)\n",
      "278\n",
      "(60, 14)\n",
      "170\n",
      "(60, 14)\n",
      "170\n",
      "(60, 14)\n",
      "170\n",
      "(60, 14)\n",
      "180\n",
      "(60, 14)\n",
      "180\n",
      "(60, 14)\n",
      "180\n",
      "(60, 14)\n",
      "180\n",
      "(54, 14)\n",
      "179\n",
      "(60, 14)\n",
      "179\n",
      "(60, 14)\n",
      "179\n",
      "(60, 14)\n",
      "250\n",
      "(60, 14)\n",
      "250\n",
      "(60, 14)\n",
      "250\n",
      "(60, 14)\n",
      "141\n",
      "(60, 14)\n",
      "141\n",
      "(60, 14)\n",
      "141\n",
      "(60, 14)\n",
      "141\n",
      "(55, 14)\n",
      "192\n",
      "(60, 14)\n",
      "192\n",
      "(60, 14)\n",
      "192\n",
      "(60, 14)\n",
      "213\n",
      "(60, 14)\n",
      "213\n",
      "(60, 14)\n",
      "213\n",
      "(60, 14)\n",
      "161\n",
      "(60, 14)\n",
      "161\n",
      "(60, 14)\n",
      "161\n",
      "(60, 14)\n",
      "161\n",
      "(55, 14)\n",
      "171\n",
      "(60, 14)\n",
      "171\n",
      "(60, 14)\n",
      "171\n",
      "(60, 14)\n",
      "198\n",
      "(60, 14)\n",
      "198\n",
      "(60, 14)\n",
      "198\n",
      "(60, 14)\n",
      "200\n",
      "(60, 14)\n",
      "200\n",
      "(60, 14)\n",
      "200\n",
      "(60, 14)\n",
      "200\n",
      "(54, 14)\n",
      "267\n",
      "(60, 14)\n",
      "267\n",
      "(60, 14)\n",
      "267\n",
      "(60, 14)\n",
      "267\n",
      "(60, 14)\n",
      "186\n",
      "(60, 14)\n",
      "186\n",
      "(60, 14)\n",
      "186\n",
      "(60, 14)\n",
      "186\n",
      "(60, 14)\n",
      "225\n",
      "(60, 14)\n",
      "225\n",
      "(60, 14)\n",
      "225\n",
      "(60, 14)\n",
      "225\n",
      "(59, 14)\n",
      "186\n",
      "(60, 14)\n",
      "186\n",
      "(60, 14)\n",
      "186\n",
      "(60, 14)\n",
      "186\n",
      "(60, 14)\n",
      "193\n",
      "(60, 14)\n",
      "193\n",
      "(60, 14)\n",
      "193\n",
      "(60, 14)\n",
      "138\n",
      "(60, 14)\n",
      "138\n",
      "(60, 14)\n",
      "138\n",
      "(60, 14)\n",
      "221\n",
      "(60, 14)\n",
      "221\n",
      "(60, 14)\n",
      "221\n",
      "(60, 14)\n",
      "221\n",
      "(55, 14)\n",
      "190\n",
      "(60, 14)\n",
      "190\n",
      "(60, 14)\n",
      "190\n",
      "(60, 14)\n",
      "147\n",
      "(60, 14)\n",
      "147\n",
      "(60, 14)\n",
      "147\n",
      "(60, 14)\n",
      "147\n",
      "(60, 14)\n",
      "156\n",
      "(60, 14)\n",
      "156\n",
      "(60, 14)\n",
      "156\n",
      "(60, 14)\n",
      "154\n",
      "(60, 14)\n",
      "154\n",
      "(60, 14)\n",
      "154\n",
      "(60, 14)\n",
      "185\n",
      "(60, 14)\n",
      "185\n",
      "(60, 14)\n",
      "185\n",
      "(60, 14)\n",
      "185\n",
      "(59, 14)\n",
      "191\n",
      "(60, 14)\n",
      "191\n",
      "(60, 14)\n",
      "191\n",
      "(60, 14)\n",
      "172\n",
      "(60, 14)\n",
      "172\n",
      "(60, 14)\n",
      "172\n",
      "(60, 14)\n",
      "149\n",
      "(60, 14)\n",
      "149\n",
      "(60, 14)\n",
      "149\n",
      "(60, 14)\n",
      "149\n",
      "(60, 14)\n",
      "161\n",
      "(60, 14)\n",
      "161\n",
      "(60, 14)\n",
      "161\n",
      "(60, 14)\n",
      "161\n",
      "(55, 14)\n",
      "185\n",
      "(60, 14)\n",
      "185\n",
      "(60, 14)\n",
      "185\n",
      "(60, 14)\n",
      "185\n",
      "(59, 14)\n",
      "119\n",
      "(60, 14)\n",
      "119\n",
      "(60, 14)\n",
      "119\n",
      "(60, 14)\n",
      "207\n",
      "(60, 14)\n",
      "207\n",
      "(60, 14)\n",
      "207\n",
      "(60, 14)\n",
      "207\n",
      "(60, 14)\n",
      "187\n",
      "(60, 14)\n",
      "187\n",
      "(60, 14)\n",
      "187\n",
      "(60, 14)\n",
      "187\n",
      "(60, 14)\n",
      "198\n",
      "(60, 14)\n",
      "198\n",
      "(60, 14)\n",
      "198\n",
      "(60, 14)\n",
      "183\n",
      "(60, 14)\n",
      "183\n",
      "(60, 14)\n",
      "183\n",
      "(60, 14)\n",
      "183\n",
      "(57, 14)\n",
      "205\n",
      "(60, 14)\n",
      "205\n",
      "(60, 14)\n",
      "205\n",
      "(60, 14)\n",
      "205\n",
      "(59, 14)\n",
      "222\n",
      "(60, 14)\n",
      "222\n",
      "(60, 14)\n",
      "222\n",
      "(60, 14)\n",
      "222\n",
      "(56, 14)\n",
      "206\n",
      "(60, 14)\n",
      "206\n",
      "(60, 14)\n",
      "206\n",
      "(60, 14)\n",
      "206\n",
      "(60, 14)\n",
      "189\n",
      "(60, 14)\n",
      "189\n",
      "(60, 14)\n",
      "189\n",
      "(60, 14)\n",
      "189\n",
      "(60, 14)\n",
      "204\n",
      "(60, 14)\n",
      "204\n",
      "(60, 14)\n",
      "204\n",
      "(60, 14)\n",
      "204\n",
      "(58, 14)\n",
      "204\n",
      "(60, 14)\n",
      "204\n",
      "(60, 14)\n",
      "204\n",
      "(60, 14)\n",
      "204\n",
      "(58, 14)\n",
      "186\n",
      "(60, 14)\n",
      "186\n",
      "(60, 14)\n",
      "186\n",
      "(60, 14)\n",
      "186\n",
      "(60, 14)\n",
      "184\n",
      "(60, 14)\n",
      "184\n",
      "(60, 14)\n",
      "184\n",
      "(60, 14)\n",
      "184\n",
      "(58, 14)\n",
      "266\n",
      "(60, 14)\n",
      "266\n",
      "(60, 14)\n",
      "266\n",
      "(60, 14)\n",
      "266\n",
      "(60, 14)\n",
      "128\n",
      "(60, 14)\n",
      "128\n",
      "(60, 14)\n",
      "128\n",
      "(60, 14)\n",
      "128\n",
      "(60, 14)\n",
      "138\n",
      "(60, 14)\n",
      "138\n",
      "(60, 14)\n",
      "138\n",
      "(60, 14)\n",
      "222\n",
      "(60, 14)\n",
      "222\n",
      "(60, 14)\n",
      "222\n",
      "(60, 14)\n",
      "222\n",
      "(56, 14)\n",
      "163\n",
      "(60, 14)\n",
      "163\n",
      "(60, 14)\n",
      "163\n",
      "(60, 14)\n",
      "163\n",
      "(57, 14)\n",
      "176\n",
      "(60, 14)\n",
      "176\n",
      "(60, 14)\n",
      "176\n",
      "(60, 14)\n",
      "171\n",
      "(60, 14)\n",
      "171\n",
      "(60, 14)\n",
      "171\n",
      "(60, 14)\n",
      "165\n",
      "(60, 14)\n",
      "165\n",
      "(60, 14)\n",
      "165\n",
      "(60, 14)\n",
      "165\n",
      "(59, 14)\n",
      "274\n",
      "(60, 14)\n",
      "274\n",
      "(60, 14)\n",
      "274\n",
      "(60, 14)\n",
      "144\n",
      "(60, 14)\n",
      "144\n",
      "(60, 14)\n",
      "144\n",
      "(60, 14)\n",
      "144\n",
      "(58, 14)\n",
      "193\n",
      "(60, 14)\n",
      "193\n",
      "(60, 14)\n",
      "193\n",
      "(60, 14)\n",
      "304\n",
      "(60, 14)\n",
      "304\n",
      "(60, 14)\n",
      "304\n",
      "(60, 14)\n",
      "304\n",
      "(58, 14)\n",
      "190\n",
      "(60, 14)\n",
      "190\n",
      "(60, 14)\n",
      "190\n",
      "(60, 14)\n",
      "353\n",
      "(60, 14)\n",
      "353\n",
      "(60, 14)\n",
      "353\n",
      "(60, 14)\n",
      "128\n",
      "(60, 14)\n",
      "128\n",
      "(60, 14)\n",
      "128\n",
      "(60, 14)\n",
      "128\n",
      "(60, 14)\n",
      "204\n",
      "(60, 14)\n",
      "204\n",
      "(60, 14)\n",
      "204\n",
      "(60, 14)\n",
      "204\n",
      "(58, 14)\n",
      "204\n",
      "(60, 14)\n",
      "204\n",
      "(60, 14)\n",
      "204\n",
      "(60, 14)\n",
      "204\n",
      "(58, 14)\n",
      "220\n",
      "(60, 14)\n",
      "220\n",
      "(60, 14)\n",
      "220\n",
      "(60, 14)\n",
      "220\n",
      "(54, 14)\n",
      "201\n",
      "(60, 14)\n",
      "201\n",
      "(60, 14)\n",
      "201\n",
      "(60, 14)\n",
      "201\n",
      "(55, 14)\n",
      "190\n",
      "(60, 14)\n",
      "190\n",
      "(60, 14)\n",
      "190\n",
      "(60, 14)\n",
      "176\n",
      "(60, 14)\n",
      "176\n",
      "(60, 14)\n",
      "176\n",
      "(60, 14)\n",
      "205\n",
      "(60, 14)\n",
      "205\n",
      "(60, 14)\n",
      "205\n",
      "(60, 14)\n",
      "205\n",
      "(59, 14)\n",
      "284\n",
      "(60, 14)\n",
      "284\n",
      "(60, 14)\n",
      "284\n",
      "(60, 14)\n",
      "284\n",
      "(58, 14)\n",
      "179\n",
      "(60, 14)\n",
      "179\n",
      "(60, 14)\n",
      "179\n",
      "(60, 14)\n",
      "269\n",
      "(60, 14)\n",
      "269\n",
      "(60, 14)\n",
      "269\n",
      "(60, 14)\n",
      "269\n",
      "(60, 14)\n",
      "169\n",
      "(60, 14)\n",
      "169\n",
      "(60, 14)\n",
      "169\n",
      "(60, 14)\n",
      "169\n",
      "(60, 14)\n",
      "204\n",
      "(60, 14)\n",
      "204\n",
      "(60, 14)\n",
      "204\n",
      "(60, 14)\n",
      "204\n",
      "(58, 14)\n",
      "208\n",
      "(60, 14)\n",
      "208\n",
      "(60, 14)\n",
      "208\n",
      "(60, 14)\n",
      "208\n",
      "(60, 14)\n",
      "145\n",
      "(60, 14)\n",
      "145\n",
      "(60, 14)\n",
      "145\n",
      "(60, 14)\n",
      "145\n",
      "(59, 14)\n",
      "332\n",
      "(60, 14)\n",
      "332\n",
      "(60, 14)\n",
      "332\n",
      "(60, 14)\n",
      "146\n",
      "(60, 14)\n",
      "146\n",
      "(60, 14)\n",
      "146\n",
      "(60, 14)\n",
      "146\n",
      "(60, 14)\n",
      "249\n",
      "(60, 14)\n",
      "249\n",
      "(60, 14)\n",
      "249\n",
      "(60, 14)\n",
      "249\n",
      "(60, 14)\n",
      "274\n",
      "(60, 14)\n",
      "274\n",
      "(60, 14)\n",
      "274\n",
      "(60, 14)\n",
      "327\n",
      "(60, 14)\n",
      "327\n",
      "(60, 14)\n",
      "327\n",
      "(60, 14)\n",
      "327\n",
      "(60, 14)\n",
      "193\n",
      "(60, 14)\n",
      "193\n",
      "(60, 14)\n",
      "193\n",
      "(60, 14)\n",
      "147\n",
      "(60, 14)\n",
      "147\n",
      "(60, 14)\n",
      "147\n",
      "(60, 14)\n",
      "147\n",
      "(60, 14)\n",
      "176\n",
      "(60, 14)\n",
      "176\n",
      "(60, 14)\n",
      "176\n",
      "(60, 14)\n",
      "191\n",
      "(60, 14)\n",
      "191\n",
      "(60, 14)\n",
      "191\n",
      "(60, 14)\n"
     ]
    },
    {
     "name": "stderr",
     "output_type": "stream",
     "text": [
      "<__array_function__ internals>:180: VisibleDeprecationWarning: Creating an ndarray from ragged nested sequences (which is a list-or-tuple of lists-or-tuples-or ndarrays with different lengths or shapes) is deprecated. If you meant to do this, you must specify 'dtype=object' when creating the ndarray.\n"
     ]
    },
    {
     "ename": "ValueError",
     "evalue": "all the input arrays must have same number of dimensions, but the array at index 0 has 3 dimension(s) and the array at index 1 has 1 dimension(s)",
     "output_type": "error",
     "traceback": [
      "\u001b[1;31m---------------------------------------------------------------------------\u001b[0m",
      "\u001b[1;31mValueError\u001b[0m                                Traceback (most recent call last)",
      "\u001b[1;32m<ipython-input-563-6c38a20792e0>\u001b[0m in \u001b[0;36m<module>\u001b[1;34m\u001b[0m\n\u001b[0;32m      6\u001b[0m                                                                                     groups = training_data_with_labels.df[training_data_with_labels.id_col])\n\u001b[0;32m      7\u001b[0m \u001b[1;33m\u001b[0m\u001b[0m\n\u001b[1;32m----> 8\u001b[1;33m \u001b[0mXtrain_split_sequences\u001b[0m \u001b[1;33m=\u001b[0m \u001b[0mmake_data_to_sequence\u001b[0m\u001b[1;33m(\u001b[0m\u001b[0mXtrain_split\u001b[0m\u001b[1;33m,\u001b[0m \u001b[0msequence_length\u001b[0m\u001b[1;33m,\u001b[0m \u001b[0mgroupstrain\u001b[0m\u001b[1;33m,\u001b[0m \u001b[0mmask_value\u001b[0m\u001b[1;33m,\u001b[0m \u001b[0mstride\u001b[0m\u001b[1;33m)\u001b[0m\u001b[1;33m\u001b[0m\u001b[1;33m\u001b[0m\u001b[0m\n\u001b[0m\u001b[0;32m      9\u001b[0m \u001b[0mYtrain_split_sequences\u001b[0m \u001b[1;33m=\u001b[0m \u001b[0mmake_data_to_sequence\u001b[0m\u001b[1;33m(\u001b[0m\u001b[0mYtrain_split\u001b[0m\u001b[1;33m,\u001b[0m \u001b[0msequence_length\u001b[0m\u001b[1;33m,\u001b[0m \u001b[0mgroupstrain\u001b[0m\u001b[1;33m,\u001b[0m \u001b[0mmask_value\u001b[0m\u001b[1;33m,\u001b[0m \u001b[0mstride\u001b[0m\u001b[1;33m,\u001b[0m \u001b[0my\u001b[0m \u001b[1;33m=\u001b[0m \u001b[1;32mTrue\u001b[0m\u001b[1;33m)\u001b[0m\u001b[1;33m\u001b[0m\u001b[1;33m\u001b[0m\u001b[0m\n\u001b[0;32m     10\u001b[0m \u001b[0mXval_split_sequences\u001b[0m \u001b[1;33m=\u001b[0m \u001b[0mmake_data_to_sequence\u001b[0m\u001b[1;33m(\u001b[0m\u001b[0mXval_split\u001b[0m\u001b[1;33m,\u001b[0m \u001b[0msequence_length\u001b[0m\u001b[1;33m,\u001b[0m \u001b[0mgroupsval\u001b[0m\u001b[1;33m,\u001b[0m \u001b[0mmask_value\u001b[0m\u001b[1;33m,\u001b[0m \u001b[0mstride\u001b[0m\u001b[1;33m)\u001b[0m\u001b[1;33m\u001b[0m\u001b[1;33m\u001b[0m\u001b[0m\n",
      "\u001b[1;32m<ipython-input-562-30e39ef2a332>\u001b[0m in \u001b[0;36mmake_data_to_sequence\u001b[1;34m(df, sequence_length, groups, mask_value, stride, y)\u001b[0m\n\u001b[0;32m     54\u001b[0m \u001b[1;32mdef\u001b[0m \u001b[0mmake_data_to_sequence\u001b[0m\u001b[1;33m(\u001b[0m\u001b[0mdf\u001b[0m\u001b[1;33m,\u001b[0m \u001b[0msequence_length\u001b[0m\u001b[1;33m,\u001b[0m \u001b[0mgroups\u001b[0m\u001b[1;33m,\u001b[0m \u001b[0mmask_value\u001b[0m\u001b[1;33m,\u001b[0m \u001b[0mstride\u001b[0m \u001b[1;33m=\u001b[0m \u001b[1;32mNone\u001b[0m\u001b[1;33m,\u001b[0m \u001b[0my\u001b[0m \u001b[1;33m=\u001b[0m \u001b[1;32mFalse\u001b[0m\u001b[1;33m)\u001b[0m\u001b[1;33m:\u001b[0m\u001b[1;33m\u001b[0m\u001b[1;33m\u001b[0m\u001b[0m\n\u001b[0;32m     55\u001b[0m     \u001b[0mXtemp\u001b[0m \u001b[1;33m=\u001b[0m \u001b[1;33m(\u001b[0m\u001b[0mlist\u001b[0m\u001b[1;33m(\u001b[0m\u001b[0mmake_data_to_sequence_one_id\u001b[0m\u001b[1;33m(\u001b[0m\u001b[0mdf\u001b[0m\u001b[1;33m[\u001b[0m\u001b[0mgroups\u001b[0m\u001b[1;33m==\u001b[0m\u001b[0mi\u001b[0m\u001b[1;33m]\u001b[0m\u001b[1;33m,\u001b[0m \u001b[0msequence_length\u001b[0m\u001b[1;33m,\u001b[0m \u001b[0mmask_value\u001b[0m\u001b[1;33m,\u001b[0m \u001b[0mstride\u001b[0m\u001b[1;33m,\u001b[0m \u001b[0my\u001b[0m\u001b[1;33m)\u001b[0m\u001b[1;33m)\u001b[0m \u001b[1;32mfor\u001b[0m \u001b[0mi\u001b[0m \u001b[1;32min\u001b[0m \u001b[0mgroups\u001b[0m\u001b[1;33m.\u001b[0m\u001b[0munique\u001b[0m\u001b[1;33m(\u001b[0m\u001b[1;33m)\u001b[0m\u001b[1;33m)\u001b[0m\u001b[1;33m\u001b[0m\u001b[1;33m\u001b[0m\u001b[0m\n\u001b[1;32m---> 56\u001b[1;33m     \u001b[1;32mreturn\u001b[0m \u001b[0mnp\u001b[0m\u001b[1;33m.\u001b[0m\u001b[0mconcatenate\u001b[0m\u001b[1;33m(\u001b[0m\u001b[0mlist\u001b[0m\u001b[1;33m(\u001b[0m\u001b[0mXtemp\u001b[0m\u001b[1;33m)\u001b[0m\u001b[1;33m)\u001b[0m\u001b[1;33m.\u001b[0m\u001b[0mastype\u001b[0m\u001b[1;33m(\u001b[0m\u001b[0mnp\u001b[0m\u001b[1;33m.\u001b[0m\u001b[0mfloat32\u001b[0m\u001b[1;33m)\u001b[0m\u001b[1;33m\u001b[0m\u001b[1;33m\u001b[0m\u001b[0m\n\u001b[0m",
      "\u001b[1;32mc:\\Users\\jakob\\AppData\\Local\\Programs\\Python\\Python39\\lib\\site-packages\\numpy\\core\\overrides.py\u001b[0m in \u001b[0;36mconcatenate\u001b[1;34m(*args, **kwargs)\u001b[0m\n",
      "\u001b[1;31mValueError\u001b[0m: all the input arrays must have same number of dimensions, but the array at index 0 has 3 dimension(s) and the array at index 1 has 1 dimension(s)"
     ]
    }
   ],
   "source": [
    "sequence_length = 60\n",
    "stride = 20\n",
    "frac = 2 # means stride gets doubled if near death (more data)\n",
    "mask_value = -100.0\n",
    "groupshufflesplit = GroupShuffleSplit(n_splits = 1, train_size = 0.8 , random_state = 42)\n",
    "Xtrain_split, Ytrain_split, groupstrain, Xval_split, Yval_split, groupsval = training_validation_split(Xtrain, Ytrain, groupshufflesplit, \n",
    "                                                                                    groups = training_data_with_labels.df[training_data_with_labels.id_col])\n",
    "\n",
    "Xtrain_split_sequences = make_data_to_sequence(Xtrain_split, sequence_length, groupstrain, mask_value, stride, frac = 2)\n",
    "Ytrain_split_sequences = make_data_to_sequence(Ytrain_split, sequence_length, groupstrain, mask_value, stride, y = True, frac = 2)\n",
    "Xval_split_sequences = make_data_to_sequence(Xval_split, sequence_length, groupsval, mask_value, stride, frac = 2)\n",
    "Yval_split_sequences = make_data_to_sequence(Yval_split, sequence_length, groupsval, mask_value, stride, y = True, frac = 2)\n",
    "\n",
    "Xtrain_whole_sequences = make_data_to_sequence(Xtrain, sequence_length, tr_df.df[tr_df.id_col], mask_value, stride, frac = 2)\n",
    "Ytrain_whole_sequences = make_data_to_sequence(Ytrain, sequence_length, tr_df.df[tr_df.id_col], mask_value, stride, y = True, frac = 2)\n",
    "\n",
    "Xtest_sequences = make_xtest_to_sequence(Xtest, sequence_length, te_df.df[te_df.id_col], mask_value)\n",
    "Ytest_sequences = make_ytest(Ytest, sequence_length, te_df.df[te_df.id_col])"
   ]
  },
  {
   "cell_type": "code",
   "execution_count": 508,
   "id": "3de2bf47",
   "metadata": {},
   "outputs": [
    {
     "data": {
      "text/plain": [
       "(1561, 60, 18)"
      ]
     },
     "execution_count": 508,
     "metadata": {},
     "output_type": "execute_result"
    }
   ],
   "source": [
    "Xtrain_split_sequences.shape"
   ]
  },
  {
   "cell_type": "code",
   "execution_count": 510,
   "id": "115ab58a",
   "metadata": {},
   "outputs": [
    {
     "data": {
      "text/plain": [
       "(1561,)"
      ]
     },
     "execution_count": 510,
     "metadata": {},
     "output_type": "execute_result"
    }
   ],
   "source": [
    "Ytrain_split_sequences[:,0].shape"
   ]
  },
  {
   "cell_type": "code",
   "execution_count": 511,
   "id": "91e262a6",
   "metadata": {},
   "outputs": [
    {
     "data": {
      "text/plain": [
       "(361, 60, 18)"
      ]
     },
     "execution_count": 511,
     "metadata": {},
     "output_type": "execute_result"
    }
   ],
   "source": [
    "Xval_split_sequences.shape"
   ]
  },
  {
   "cell_type": "code",
   "execution_count": 512,
   "id": "e7103485",
   "metadata": {},
   "outputs": [
    {
     "data": {
      "text/plain": [
       "(361, 6)"
      ]
     },
     "execution_count": 512,
     "metadata": {},
     "output_type": "execute_result"
    }
   ],
   "source": [
    "Yval_split_sequences.shape"
   ]
  },
  {
   "cell_type": "code",
   "execution_count": 272,
   "id": "27b3e3e9",
   "metadata": {},
   "outputs": [
    {
     "data": {
      "text/plain": [
       "(100,)"
      ]
     },
     "execution_count": 272,
     "metadata": {},
     "output_type": "execute_result"
    }
   ],
   "source": [
    "Ytest_sequences.shape"
   ]
  },
  {
   "cell_type": "markdown",
   "id": "d75f0df3",
   "metadata": {},
   "source": [
    "# Scoring"
   ]
  },
  {
   "cell_type": "code",
   "execution_count": 24,
   "id": "f8775092",
   "metadata": {},
   "outputs": [],
   "source": [
    "def s_score(Y, Yhat, a1 = 10, a2 = 13):\n",
    "    s = 0.0\n",
    "    for i in range(len(Y)):\n",
    "        d = Yhat[i] - Y[i]\n",
    "        if d < 0:\n",
    "            s = s + np.exp(-d/a1) - 1\n",
    "        else:\n",
    "            s = s + np.exp(d/a2) - 1\n",
    "    return s\n",
    "\n",
    "def l_score(Y, Yhat):\n",
    "    s = 0.0\n",
    "    for i in range(len(Y)):\n",
    "        d = (Yhat[i] - Y[i])**2\n",
    "        if Y[i] < 50:\n",
    "            s = s + 2 * d\n",
    "        else:\n",
    "            s = s + 0.5 * d\n",
    "    return s/len(Y)\n",
    "\n",
    "def evaluate(Y, Yhat, label = 'Test'):\n",
    "    if label == 'Test':\n",
    "        rsme = np.sqrt(mean_squared_error(Y, Yhat))\n",
    "        r2 = r2_score(Y, Yhat)\n",
    "        s = s_score(Y, Yhat)\n",
    "        l = l_score(Y, Yhat)\n",
    "        if type(s) == np.ndarray:\n",
    "            s = s[0]\n",
    "        if type(l) == np.ndarray:\n",
    "            l = l[0]\n",
    "        print(f'{label} set RSME = {rsme}, S = {s}, L= {l}, R2 = {r2}')\n",
    "        return rsme, s, l, r2\n",
    "    else:\n",
    "        rsme = np.sqrt(mean_squared_error(Y.flatten(), Yhat.flatten()))\n",
    "        r2 = r2_score(Y.flatten(), Yhat.flatten())\n",
    "        print(f'{label} set RSME = {rsme}, R2 = {r2}')\n",
    "        return rsme, r2"
   ]
  },
  {
   "cell_type": "code",
   "execution_count": 147,
   "id": "ea9c8867",
   "metadata": {},
   "outputs": [
    {
     "data": {
      "text/plain": [
       "(741550,)"
      ]
     },
     "execution_count": 147,
     "metadata": {},
     "output_type": "execute_result"
    }
   ],
   "source": [
    "Ytrain_whole_sequences[:,:,0].flatten().shape"
   ]
  },
  {
   "cell_type": "code",
   "execution_count": 141,
   "id": "111d043d",
   "metadata": {},
   "outputs": [
    {
     "data": {
      "text/plain": [
       "235.39552"
      ]
     },
     "execution_count": 141,
     "metadata": {},
     "output_type": "execute_result"
    }
   ],
   "source": [
    "mean_squared_error(Ytrain_whole_sequences[0,:,0], Yhat_train[0,:])"
   ]
  },
  {
   "cell_type": "markdown",
   "id": "ec927759",
   "metadata": {},
   "source": [
    "# Train LSTM"
   ]
  },
  {
   "cell_type": "code",
   "execution_count": 22,
   "id": "da314944",
   "metadata": {},
   "outputs": [],
   "source": [
    "def make_model(input_shape = Xtrain_split_sequences.shape[1:], masking = True, mask_value = -100., conv_layer = True, n_channels = 32, kernel_size = 5,\n",
    "                dense_regulatization = regularizers.l2(0.001), lstm_regularization = regularizers.l2(0.001), conv_regualrizer = regularizers.l2(0.001),\n",
    "                lstm_dims = [128, 96], dropout = True, d_rate = 0.2, dense_dims =  [48, 16]):\n",
    "    model = Sequential()\n",
    "    if masking:\n",
    "        model.add(Masking(mask_value = mask_value, input_shape = input_shape))\n",
    "    if conv_layer:\n",
    "        model.add(Conv1D(filters = n_channels, kernel_size = kernel_size, activation = 'relu', kernel_regularizer = conv_regualrizer, padding = 'same'))\n",
    "        if dropout:\n",
    "            model.add(Dropout(rate = d_rate))\n",
    "    n = len(lstm_dims)\n",
    "    c = 0\n",
    "    rs = True\n",
    "    for d in lstm_dims:\n",
    "        c = c + 1\n",
    "        if c == n:\n",
    "            rs = False\n",
    "        model.add(LSTM(units = d, return_sequences = rs, kernel_regularizer = lstm_regularization))\n",
    "        if dropout:\n",
    "            model.add(Dropout(rate = d_rate))\n",
    "    for d in dense_dims:\n",
    "        model.add(Dense(units = d, activation = 'relu', kernel_regularizer = dense_regulatization))\n",
    "        if dropout:\n",
    "            model.add(Dropout(rate = d_rate))\n",
    "    model.add(Dense(units = 1))\n",
    "    model.compile(loss='mean_squared_error', optimizer='adam')\n",
    "    return model"
   ]
  },
  {
   "cell_type": "code",
   "execution_count": 524,
   "id": "b622b02a",
   "metadata": {},
   "outputs": [
    {
     "name": "stdout",
     "output_type": "stream",
     "text": [
      "Epoch 1/20\n",
      "49/49 [==============================] - 20s 369ms/step - loss: 5851.2280 - val_loss: 2916.8772\n",
      "Epoch 2/20\n",
      "49/49 [==============================] - 18s 370ms/step - loss: 3440.0554 - val_loss: 2706.7771\n",
      "Epoch 3/20\n",
      "49/49 [==============================] - 19s 395ms/step - loss: 3326.2026 - val_loss: 2683.5476\n",
      "Epoch 4/20\n",
      "49/49 [==============================] - 19s 388ms/step - loss: 2690.7922 - val_loss: 1155.1719\n",
      "Epoch 5/20\n",
      "49/49 [==============================] - 19s 380ms/step - loss: 1548.0646 - val_loss: 937.1133\n",
      "Epoch 6/20\n",
      "49/49 [==============================] - 18s 377ms/step - loss: 1399.2378 - val_loss: 997.6387\n",
      "Epoch 7/20\n",
      "49/49 [==============================] - 19s 379ms/step - loss: 1342.1365 - val_loss: 901.2587\n",
      "Epoch 8/20\n",
      "49/49 [==============================] - 19s 386ms/step - loss: 1286.9767 - val_loss: 838.2105\n",
      "Epoch 9/20\n",
      "49/49 [==============================] - 19s 394ms/step - loss: 1209.0973 - val_loss: 774.7936\n",
      "Epoch 10/20\n",
      "49/49 [==============================] - 19s 392ms/step - loss: 1229.2185 - val_loss: 846.8725\n",
      "Epoch 11/20\n",
      "49/49 [==============================] - 19s 391ms/step - loss: 1174.2437 - val_loss: 778.2968\n",
      "Epoch 12/20\n",
      "49/49 [==============================] - 19s 380ms/step - loss: 1152.7383 - val_loss: 715.6394\n",
      "Epoch 13/20\n",
      "49/49 [==============================] - 20s 402ms/step - loss: 1087.4478 - val_loss: 729.2010\n",
      "Epoch 14/20\n",
      "49/49 [==============================] - 20s 405ms/step - loss: 1111.3995 - val_loss: 815.5642\n",
      "Epoch 15/20\n",
      "49/49 [==============================] - 19s 387ms/step - loss: 1026.6088 - val_loss: 689.0244\n",
      "Epoch 16/20\n",
      "49/49 [==============================] - 19s 384ms/step - loss: 1007.2297 - val_loss: 692.7489\n",
      "Epoch 17/20\n",
      "49/49 [==============================] - 19s 387ms/step - loss: 1040.4121 - val_loss: 763.7430\n",
      "Epoch 18/20\n",
      "49/49 [==============================] - 18s 370ms/step - loss: 1010.8946 - val_loss: 728.5156\n",
      "Epoch 19/20\n",
      "49/49 [==============================] - 19s 384ms/step - loss: 977.6428 - val_loss: 656.5521\n",
      "Epoch 20/20\n",
      "49/49 [==============================] - 18s 375ms/step - loss: 947.3039 - val_loss: 741.2724\n",
      "Train set RSME = 27.016651153564453, R2 = 0.7620987807652966\n",
      "Test set RSME = 76.14054870605469, S = 1238463.375, L= 9385.01171875, R2 = -1.004517723406062\n"
     ]
    }
   ],
   "source": [
    "path = f'scores/LSTM_FD00{dataset}'\n",
    "results = pd.DataFrame(columns=['dataset', 'label', 'RSME','R2','RSME','S Score', 'L Score', 'R2'])\n",
    "predictions = []\n",
    "predictions_test = []\n",
    "for l in range(1): #'linear', 'piecewise_optimized', 'piecewise_125', 'descriptive', 'spearman', 'rec_error'\n",
    "    keras.backend.clear_session()\n",
    "    lstm_model = make_model(input_shape = Xtrain_split_sequences.shape[1:], masking = True, mask_value = -100., conv_layer = True, n_channels = 32, kernel_size = 10,\n",
    "                regularization = regularizers.l2(0.001),\n",
    "                lstm_dims = [256], dropout = True, d_rate = 0.2, dense_dims =  [16])\n",
    "    lstm_model.fit(Xtrain_split_sequences, Ytrain_split_sequences[:,l],\n",
    "                    validation_data = (Xval_split_sequences, Yval_split_sequences[:,l]),\n",
    "                    epochs = 20,\n",
    "                    batch_size = 32) \n",
    "    label_name = label_cols[l]\n",
    "    # lstm_model.save(f'saved_models/lstm_model_FD00{dataset}_{label_name}')\n",
    "    Yhat_train = lstm_model.predict(Xtrain_whole_sequences)\n",
    "    predictions.append(Yhat_train)\n",
    "    rsme1, r21 = evaluate(Ytrain_whole_sequences[:,l], Yhat_train, 'Train')\n",
    "    Yhat_test = lstm_model.predict(Xtest_sequences)\n",
    "    predictions_test.append(Yhat_test)\n",
    "    rsme2, s, ls, r22 = evaluate(Ytest_sequences, Yhat_test)\n",
    "    df = pd.DataFrame([[dataset, label_name, rsme1, r21, rsme2, s, ls, r22]], columns=['dataset', 'label', 'RSME','R2','RSME','S Score', 'L Score', 'R2'])\n",
    "    results = pd.concat((results, df))\n",
    "results.to_csv(path,index = False)"
   ]
  },
  {
   "cell_type": "code",
   "execution_count": 522,
   "id": "9faf0a17",
   "metadata": {},
   "outputs": [
    {
     "name": "stdout",
     "output_type": "stream",
     "text": [
      "Epoch 1/15\n",
      "49/49 [==============================] - 10s 211ms/step - loss: 1264.4452 - val_loss: 643.7990\n",
      "Epoch 2/15\n",
      "49/49 [==============================] - 11s 223ms/step - loss: 1264.3656 - val_loss: 717.3807\n",
      "Epoch 3/15\n",
      "49/49 [==============================] - 13s 269ms/step - loss: 1334.9694 - val_loss: 657.2663\n",
      "Epoch 4/15\n",
      "49/49 [==============================] - 15s 311ms/step - loss: 1098.8589 - val_loss: 643.7427\n",
      "Epoch 5/15\n",
      "49/49 [==============================] - 12s 240ms/step - loss: 1186.0835 - val_loss: 688.6915\n",
      "Epoch 6/15\n",
      "49/49 [==============================] - 11s 233ms/step - loss: 1213.4382 - val_loss: 734.4344\n",
      "Epoch 7/15\n",
      "49/49 [==============================] - 11s 222ms/step - loss: 1104.9908 - val_loss: 751.8842\n",
      "Epoch 8/15\n",
      "49/49 [==============================] - 11s 224ms/step - loss: 1092.9838 - val_loss: 736.6002\n",
      "Epoch 9/15\n",
      "49/49 [==============================] - 11s 222ms/step - loss: 1166.3590 - val_loss: 744.9288\n",
      "Epoch 10/15\n",
      "49/49 [==============================] - 11s 222ms/step - loss: 1083.0858 - val_loss: 726.8162\n",
      "Epoch 11/15\n",
      "49/49 [==============================] - 11s 227ms/step - loss: 1063.5162 - val_loss: 791.5793\n",
      "Epoch 12/15\n",
      "49/49 [==============================] - 11s 227ms/step - loss: 1030.0170 - val_loss: 724.8215\n",
      "Epoch 13/15\n",
      "49/49 [==============================] - 11s 226ms/step - loss: 1027.9642 - val_loss: 708.5364\n",
      "Epoch 14/15\n",
      "49/49 [==============================] - 11s 235ms/step - loss: 945.9257 - val_loss: 763.5279\n",
      "Epoch 15/15\n",
      "49/49 [==============================] - 11s 219ms/step - loss: 979.8474 - val_loss: 735.9343\n"
     ]
    },
    {
     "data": {
      "text/plain": [
       "<keras.callbacks.History at 0x1aaa2ec4490>"
      ]
     },
     "execution_count": 522,
     "metadata": {},
     "output_type": "execute_result"
    }
   ],
   "source": [
    "lstm_model.fit(Xtrain_split_sequences, Ytrain_split_sequences[:,l],\n",
    "                    validation_data = (Xval_split_sequences, Yval_split_sequences[:,l]),\n",
    "                    epochs = 15,\n",
    "                    batch_size = 32)"
   ]
  },
  {
   "cell_type": "code",
   "execution_count": 523,
   "id": "fcef2ae9",
   "metadata": {},
   "outputs": [
    {
     "name": "stdout",
     "output_type": "stream",
     "text": [
      "Train set RSME = 21.01774787902832, R2 = 0.8560187394214633\n",
      "Test set RSME = 69.61740112304688, S = 7766989.5, L= 6436.2294921875, R2 = -0.6757665843291718\n"
     ]
    }
   ],
   "source": [
    "Yhat_train = lstm_model.predict(Xtrain_whole_sequences)\n",
    "predictions.append(Yhat_train)\n",
    "rsme1, r21 = evaluate(Ytrain_whole_sequences[:,l], Yhat_train, 'Train')\n",
    "Yhat_test = lstm_model.predict(Xtest_sequences)\n",
    "predictions_test.append(Yhat_test)\n",
    "rsme2, s, ls, r22 = evaluate(Ytest_sequences, Yhat_test)"
   ]
  },
  {
   "cell_type": "code",
   "execution_count": 381,
   "id": "baa96eaa",
   "metadata": {},
   "outputs": [],
   "source": [
    "keras.backend.clear_session()"
   ]
  },
  {
   "cell_type": "code",
   "execution_count": 385,
   "id": "eef6f7f7",
   "metadata": {},
   "outputs": [],
   "source": [
    "input_shape = Xtrain_split_sequences.shape[1:]"
   ]
  },
  {
   "cell_type": "code",
   "execution_count": 386,
   "id": "69e7d911",
   "metadata": {},
   "outputs": [
    {
     "data": {
      "text/plain": [
       "(60, 14)"
      ]
     },
     "execution_count": 386,
     "metadata": {},
     "output_type": "execute_result"
    }
   ],
   "source": [
    "input_shape"
   ]
  },
  {
   "cell_type": "code",
   "execution_count": 387,
   "id": "6bbb29e9",
   "metadata": {},
   "outputs": [],
   "source": [
    "lstm_model = make_model(input_shape = Xtrain_split_sequences.shape[1:])"
   ]
  },
  {
   "cell_type": "code",
   "execution_count": 388,
   "id": "edf2a9f7",
   "metadata": {},
   "outputs": [
    {
     "name": "stdout",
     "output_type": "stream",
     "text": [
      "Model: \"sequential_1\"\n",
      "_________________________________________________________________\n",
      " Layer (type)                Output Shape              Param #   \n",
      "=================================================================\n",
      " masking_1 (Masking)         (None, 60, 14)            0         \n",
      "                                                                 \n",
      " conv1d_1 (Conv1D)           (None, 60, 32)            2272      \n",
      "                                                                 \n",
      " dropout_5 (Dropout)         (None, 60, 32)            0         \n",
      "                                                                 \n",
      " lstm_2 (LSTM)               (None, 60, 256)           295936    \n",
      "                                                                 \n",
      " dropout_6 (Dropout)         (None, 60, 256)           0         \n",
      "                                                                 \n",
      " lstm_3 (LSTM)               (None, 96)                135552    \n",
      "                                                                 \n",
      " dropout_7 (Dropout)         (None, 96)                0         \n",
      "                                                                 \n",
      " dense_3 (Dense)             (None, 48)                4656      \n",
      "                                                                 \n",
      " dropout_8 (Dropout)         (None, 48)                0         \n",
      "                                                                 \n",
      " dense_4 (Dense)             (None, 16)                784       \n",
      "                                                                 \n",
      " dropout_9 (Dropout)         (None, 16)                0         \n",
      "                                                                 \n",
      " dense_5 (Dense)             (None, 1)                 17        \n",
      "                                                                 \n",
      "=================================================================\n",
      "Total params: 439,217\n",
      "Trainable params: 439,217\n",
      "Non-trainable params: 0\n",
      "_________________________________________________________________\n"
     ]
    }
   ],
   "source": [
    "lstm_model.summary()"
   ]
  },
  {
   "cell_type": "code",
   "execution_count": 379,
   "id": "81106393",
   "metadata": {},
   "outputs": [
    {
     "ename": "ValueError",
     "evalue": "in user code:\n\n    File \"c:\\Users\\jakob\\AppData\\Local\\Programs\\Python\\Python39\\lib\\site-packages\\keras\\engine\\training.py\", line 1801, in predict_function  *\n        return step_function(self, iterator)\n    File \"c:\\Users\\jakob\\AppData\\Local\\Programs\\Python\\Python39\\lib\\site-packages\\keras\\engine\\training.py\", line 1790, in step_function  **\n        outputs = model.distribute_strategy.run(run_step, args=(data,))\n    File \"c:\\Users\\jakob\\AppData\\Local\\Programs\\Python\\Python39\\lib\\site-packages\\keras\\engine\\training.py\", line 1783, in run_step  **\n        outputs = model.predict_step(data)\n    File \"c:\\Users\\jakob\\AppData\\Local\\Programs\\Python\\Python39\\lib\\site-packages\\keras\\engine\\training.py\", line 1751, in predict_step\n        return self(x, training=False)\n    File \"c:\\Users\\jakob\\AppData\\Local\\Programs\\Python\\Python39\\lib\\site-packages\\keras\\utils\\traceback_utils.py\", line 67, in error_handler\n        raise e.with_traceback(filtered_tb) from None\n    File \"c:\\Users\\jakob\\AppData\\Local\\Programs\\Python\\Python39\\lib\\site-packages\\keras\\engine\\input_spec.py\", line 264, in assert_input_compatibility\n        raise ValueError(f'Input {input_index} of layer \"{layer_name}\" is '\n\n    ValueError: Input 0 of layer \"sequential\" is incompatible with the layer: expected shape=(None, 60, 18), found shape=(None, 60, 14)\n",
     "output_type": "error",
     "traceback": [
      "\u001b[1;31m---------------------------------------------------------------------------\u001b[0m",
      "\u001b[1;31mValueError\u001b[0m                                Traceback (most recent call last)",
      "\u001b[1;32m<ipython-input-379-47314ece7b7d>\u001b[0m in \u001b[0;36m<module>\u001b[1;34m\u001b[0m\n\u001b[1;32m----> 1\u001b[1;33m \u001b[0mYhat_train\u001b[0m \u001b[1;33m=\u001b[0m \u001b[0mlstm_model\u001b[0m\u001b[1;33m.\u001b[0m\u001b[0mpredict\u001b[0m\u001b[1;33m(\u001b[0m\u001b[0mXtrain_whole_sequences\u001b[0m\u001b[1;33m)\u001b[0m\u001b[1;33m\u001b[0m\u001b[1;33m\u001b[0m\u001b[0m\n\u001b[0m\u001b[0;32m      2\u001b[0m \u001b[0mrsmewhole\u001b[0m\u001b[1;33m,\u001b[0m \u001b[0mr2whole\u001b[0m \u001b[1;33m=\u001b[0m \u001b[0mevaluate\u001b[0m\u001b[1;33m(\u001b[0m\u001b[0mYtrain_whole_sequences\u001b[0m\u001b[1;33m[\u001b[0m\u001b[1;33m:\u001b[0m\u001b[1;33m,\u001b[0m\u001b[0ml\u001b[0m\u001b[1;33m]\u001b[0m\u001b[1;33m,\u001b[0m \u001b[0mYhat_train\u001b[0m\u001b[1;33m,\u001b[0m \u001b[1;34m'Train'\u001b[0m\u001b[1;33m)\u001b[0m\u001b[1;33m\u001b[0m\u001b[1;33m\u001b[0m\u001b[0m\n\u001b[0;32m      3\u001b[0m \u001b[1;33m\u001b[0m\u001b[0m\n\u001b[0;32m      4\u001b[0m \u001b[0mYhat_train_split\u001b[0m \u001b[1;33m=\u001b[0m \u001b[0mlstm_model\u001b[0m\u001b[1;33m.\u001b[0m\u001b[0mpredict\u001b[0m\u001b[1;33m(\u001b[0m\u001b[0mXtrain_split_sequences\u001b[0m\u001b[1;33m)\u001b[0m\u001b[1;33m\u001b[0m\u001b[1;33m\u001b[0m\u001b[0m\n\u001b[0;32m      5\u001b[0m \u001b[0mrsmesplit\u001b[0m\u001b[1;33m,\u001b[0m \u001b[0mr2split\u001b[0m \u001b[1;33m=\u001b[0m \u001b[0mevaluate\u001b[0m\u001b[1;33m(\u001b[0m\u001b[0mYtrain_split_sequences\u001b[0m\u001b[1;33m[\u001b[0m\u001b[1;33m:\u001b[0m\u001b[1;33m,\u001b[0m\u001b[0ml\u001b[0m\u001b[1;33m]\u001b[0m\u001b[1;33m,\u001b[0m \u001b[0mYhat_train_split\u001b[0m\u001b[1;33m,\u001b[0m \u001b[1;34m'Train'\u001b[0m\u001b[1;33m)\u001b[0m\u001b[1;33m\u001b[0m\u001b[1;33m\u001b[0m\u001b[0m\n",
      "\u001b[1;32mc:\\Users\\jakob\\AppData\\Local\\Programs\\Python\\Python39\\lib\\site-packages\\keras\\utils\\traceback_utils.py\u001b[0m in \u001b[0;36merror_handler\u001b[1;34m(*args, **kwargs)\u001b[0m\n\u001b[0;32m     65\u001b[0m     \u001b[1;32mexcept\u001b[0m \u001b[0mException\u001b[0m \u001b[1;32mas\u001b[0m \u001b[0me\u001b[0m\u001b[1;33m:\u001b[0m  \u001b[1;31m# pylint: disable=broad-except\u001b[0m\u001b[1;33m\u001b[0m\u001b[1;33m\u001b[0m\u001b[0m\n\u001b[0;32m     66\u001b[0m       \u001b[0mfiltered_tb\u001b[0m \u001b[1;33m=\u001b[0m \u001b[0m_process_traceback_frames\u001b[0m\u001b[1;33m(\u001b[0m\u001b[0me\u001b[0m\u001b[1;33m.\u001b[0m\u001b[0m__traceback__\u001b[0m\u001b[1;33m)\u001b[0m\u001b[1;33m\u001b[0m\u001b[1;33m\u001b[0m\u001b[0m\n\u001b[1;32m---> 67\u001b[1;33m       \u001b[1;32mraise\u001b[0m \u001b[0me\u001b[0m\u001b[1;33m.\u001b[0m\u001b[0mwith_traceback\u001b[0m\u001b[1;33m(\u001b[0m\u001b[0mfiltered_tb\u001b[0m\u001b[1;33m)\u001b[0m \u001b[1;32mfrom\u001b[0m \u001b[1;32mNone\u001b[0m\u001b[1;33m\u001b[0m\u001b[1;33m\u001b[0m\u001b[0m\n\u001b[0m\u001b[0;32m     68\u001b[0m     \u001b[1;32mfinally\u001b[0m\u001b[1;33m:\u001b[0m\u001b[1;33m\u001b[0m\u001b[1;33m\u001b[0m\u001b[0m\n\u001b[0;32m     69\u001b[0m       \u001b[1;32mdel\u001b[0m \u001b[0mfiltered_tb\u001b[0m\u001b[1;33m\u001b[0m\u001b[1;33m\u001b[0m\u001b[0m\n",
      "\u001b[1;32mc:\\Users\\jakob\\AppData\\Local\\Programs\\Python\\Python39\\lib\\site-packages\\tensorflow\\python\\framework\\func_graph.py\u001b[0m in \u001b[0;36mautograph_handler\u001b[1;34m(*args, **kwargs)\u001b[0m\n\u001b[0;32m   1145\u001b[0m           \u001b[1;32mexcept\u001b[0m \u001b[0mException\u001b[0m \u001b[1;32mas\u001b[0m \u001b[0me\u001b[0m\u001b[1;33m:\u001b[0m  \u001b[1;31m# pylint:disable=broad-except\u001b[0m\u001b[1;33m\u001b[0m\u001b[1;33m\u001b[0m\u001b[0m\n\u001b[0;32m   1146\u001b[0m             \u001b[1;32mif\u001b[0m \u001b[0mhasattr\u001b[0m\u001b[1;33m(\u001b[0m\u001b[0me\u001b[0m\u001b[1;33m,\u001b[0m \u001b[1;34m\"ag_error_metadata\"\u001b[0m\u001b[1;33m)\u001b[0m\u001b[1;33m:\u001b[0m\u001b[1;33m\u001b[0m\u001b[1;33m\u001b[0m\u001b[0m\n\u001b[1;32m-> 1147\u001b[1;33m               \u001b[1;32mraise\u001b[0m \u001b[0me\u001b[0m\u001b[1;33m.\u001b[0m\u001b[0mag_error_metadata\u001b[0m\u001b[1;33m.\u001b[0m\u001b[0mto_exception\u001b[0m\u001b[1;33m(\u001b[0m\u001b[0me\u001b[0m\u001b[1;33m)\u001b[0m\u001b[1;33m\u001b[0m\u001b[1;33m\u001b[0m\u001b[0m\n\u001b[0m\u001b[0;32m   1148\u001b[0m             \u001b[1;32melse\u001b[0m\u001b[1;33m:\u001b[0m\u001b[1;33m\u001b[0m\u001b[1;33m\u001b[0m\u001b[0m\n\u001b[0;32m   1149\u001b[0m               \u001b[1;32mraise\u001b[0m\u001b[1;33m\u001b[0m\u001b[1;33m\u001b[0m\u001b[0m\n",
      "\u001b[1;31mValueError\u001b[0m: in user code:\n\n    File \"c:\\Users\\jakob\\AppData\\Local\\Programs\\Python\\Python39\\lib\\site-packages\\keras\\engine\\training.py\", line 1801, in predict_function  *\n        return step_function(self, iterator)\n    File \"c:\\Users\\jakob\\AppData\\Local\\Programs\\Python\\Python39\\lib\\site-packages\\keras\\engine\\training.py\", line 1790, in step_function  **\n        outputs = model.distribute_strategy.run(run_step, args=(data,))\n    File \"c:\\Users\\jakob\\AppData\\Local\\Programs\\Python\\Python39\\lib\\site-packages\\keras\\engine\\training.py\", line 1783, in run_step  **\n        outputs = model.predict_step(data)\n    File \"c:\\Users\\jakob\\AppData\\Local\\Programs\\Python\\Python39\\lib\\site-packages\\keras\\engine\\training.py\", line 1751, in predict_step\n        return self(x, training=False)\n    File \"c:\\Users\\jakob\\AppData\\Local\\Programs\\Python\\Python39\\lib\\site-packages\\keras\\utils\\traceback_utils.py\", line 67, in error_handler\n        raise e.with_traceback(filtered_tb) from None\n    File \"c:\\Users\\jakob\\AppData\\Local\\Programs\\Python\\Python39\\lib\\site-packages\\keras\\engine\\input_spec.py\", line 264, in assert_input_compatibility\n        raise ValueError(f'Input {input_index} of layer \"{layer_name}\" is '\n\n    ValueError: Input 0 of layer \"sequential\" is incompatible with the layer: expected shape=(None, 60, 18), found shape=(None, 60, 14)\n"
     ]
    }
   ],
   "source": [
    "Yhat_train = lstm_model.predict(Xtrain_whole_sequences)\n",
    "rsmewhole, r2whole = evaluate(Ytrain_whole_sequences[:,l], Yhat_train, 'Train')\n",
    "\n",
    "Yhat_train_split = lstm_model.predict(Xtrain_split_sequences)\n",
    "rsmesplit, r2split = evaluate(Ytrain_split_sequences[:,l], Yhat_train_split, 'Train')\n",
    "\n",
    "Yhat_val_split = lstm_model.predict(Xval_split_sequences)\n",
    "rsmeval, r2val = evaluate(Yval_split_sequences[:,l], Yhat_val_split, 'Train')\n",
    "\n",
    "Yhat_test = lstm_model.predict(Xtest_sequences)\n",
    "rsmetest, s, ls, r2test = evaluate(Ytest_sequences, Yhat_test)"
   ]
  },
  {
   "cell_type": "code",
   "execution_count": 221,
   "id": "22565fca",
   "metadata": {},
   "outputs": [
    {
     "name": "stdout",
     "output_type": "stream",
     "text": [
      "Model: \"sequential\"\n",
      "_________________________________________________________________\n",
      " Layer (type)                Output Shape              Param #   \n",
      "=================================================================\n",
      " masking (Masking)           (None, 100, 14)           0         \n",
      "                                                                 \n",
      " conv1d (Conv1D)             (None, 100, 32)           2272      \n",
      "                                                                 \n",
      " dropout (Dropout)           (None, 100, 32)           0         \n",
      "                                                                 \n",
      " lstm (LSTM)                 (None, 100, 128)          82432     \n",
      "                                                                 \n",
      " lstm_1 (LSTM)               (None, 100, 64)           49408     \n",
      "                                                                 \n",
      " dropout_1 (Dropout)         (None, 100, 64)           0         \n",
      "                                                                 \n",
      " dense (Dense)               (None, 100, 32)           2080      \n",
      "                                                                 \n",
      " dense_1 (Dense)             (None, 100, 16)           528       \n",
      "                                                                 \n",
      " dense_2 (Dense)             (None, 100, 1)            17        \n",
      "                                                                 \n",
      "=================================================================\n",
      "Total params: 136,737\n",
      "Trainable params: 136,737\n",
      "Non-trainable params: 0\n",
      "_________________________________________________________________\n",
      "\\begin{tabular}{}\n",
      "\\hline\n",
      " Layer (type)   & Output Shape   & Param \\#   \\\\\n",
      "\\hline\n",
      "\\hline\n",
      "\\end{tabular}\n"
     ]
    }
   ],
   "source": [
    "from tabulate import tabulate\n",
    "print(tabulate(lstm_model.summary(), headers=['Layer (type)', 'Output Shape', 'Param #'], tablefmt='latex'))"
   ]
  },
  {
   "cell_type": "code",
   "execution_count": 410,
   "id": "84b2c5ac",
   "metadata": {},
   "outputs": [
    {
     "name": "stdout",
     "output_type": "stream",
     "text": [
      "Model: \"sequential\"\n",
      "_________________________________________________________________\n",
      " Layer (type)                Output Shape              Param #   \n",
      "=================================================================\n",
      " masking (Masking)           (None, 60, 14)            0         \n",
      "                                                                 \n",
      " conv1d (Conv1D)             (None, 60, 32)            2272      \n",
      "                                                                 \n",
      " dropout (Dropout)           (None, 60, 32)            0         \n",
      "                                                                 \n",
      " lstm (LSTM)                 (None, 60, 128)           82432     \n",
      "                                                                 \n",
      " dropout_1 (Dropout)         (None, 60, 128)           0         \n",
      "                                                                 \n",
      " lstm_1 (LSTM)               (None, 96)                86400     \n",
      "                                                                 \n",
      " dropout_2 (Dropout)         (None, 96)                0         \n",
      "                                                                 \n",
      " dense (Dense)               (None, 48)                4656      \n",
      "                                                                 \n",
      " dropout_3 (Dropout)         (None, 48)                0         \n",
      "                                                                 \n",
      " dense_1 (Dense)             (None, 16)                784       \n",
      "                                                                 \n",
      " dropout_4 (Dropout)         (None, 16)                0         \n",
      "                                                                 \n",
      " dense_2 (Dense)             (None, 1)                 17        \n",
      "                                                                 \n",
      "=================================================================\n",
      "Total params: 176,561\n",
      "Trainable params: 176,561\n",
      "Non-trainable params: 0\n",
      "_________________________________________________________________\n"
     ]
    }
   ],
   "source": [
    "lstm_model.summary()"
   ]
  },
  {
   "cell_type": "code",
   "execution_count": 183,
   "id": "38749221",
   "metadata": {},
   "outputs": [
    {
     "name": "stdout",
     "output_type": "stream",
     "text": [
      "Test set RSME = 22.08218002319336, S = 1263.778076171875, R2 = 0.7176262352160586\n"
     ]
    }
   ],
   "source": [
    "Yhat_test = lstm_model.predict(Xtest_sequences)\n",
    "rsme2, s, r22 = evaluate(Ytest_sequences, Yhat_test[:,-1,:])"
   ]
  },
  {
   "cell_type": "code",
   "execution_count": 162,
   "id": "6b5cc355",
   "metadata": {},
   "outputs": [],
   "source": [
    "Yhat_test = lstm_model.predict(Xtest_sequences)"
   ]
  },
  {
   "cell_type": "code",
   "execution_count": 165,
   "id": "5836f612",
   "metadata": {},
   "outputs": [
    {
     "data": {
      "text/plain": [
       "(100, 1)"
      ]
     },
     "execution_count": 165,
     "metadata": {},
     "output_type": "execute_result"
    }
   ],
   "source": [
    "Yhat_test[:,-1,:].shape"
   ]
  },
  {
   "cell_type": "code",
   "execution_count": 164,
   "id": "de244925",
   "metadata": {},
   "outputs": [
    {
     "data": {
      "text/plain": [
       "(100,)"
      ]
     },
     "execution_count": 164,
     "metadata": {},
     "output_type": "execute_result"
    }
   ],
   "source": [
    "Ytest_sequences.shape"
   ]
  },
  {
   "cell_type": "code",
   "execution_count": 429,
   "id": "b3682e0b",
   "metadata": {},
   "outputs": [
    {
     "data": {
      "text/plain": [
       "(1840, 1)"
      ]
     },
     "execution_count": 429,
     "metadata": {},
     "output_type": "execute_result"
    }
   ],
   "source": [
    "Yhat_train.shape"
   ]
  },
  {
   "cell_type": "code",
   "execution_count": 158,
   "id": "f7df2062",
   "metadata": {},
   "outputs": [
    {
     "data": {
      "text/plain": [
       "(50,)"
      ]
     },
     "execution_count": 158,
     "metadata": {},
     "output_type": "execute_result"
    }
   ],
   "source": [
    "Ytrain_whole_sequences[i,:,0].shape"
   ]
  },
  {
   "cell_type": "code",
   "execution_count": 160,
   "id": "c9cbef7d",
   "metadata": {},
   "outputs": [
    {
     "data": {
      "image/png": "[encoded data removed]",
      "text/plain": [
       "<Figure size 720x720 with 1 Axes>"
      ]
     },
     "metadata": {
      "needs_background": "light"
     },
     "output_type": "display_data"
    }
   ],
   "source": [
    "Yhat_train = lstm_model.predict(Xtrain_whole_sequences)\n",
    "plt.figure(figsize=(10,10))\n",
    "for i in range(1000):\n",
    "    if i % 5 == 0:\n",
    "        y1 = np.squeeze(Yhat_train[i])\n",
    "        y2 = np.squeeze(Ytrain_whole_sequences[i,:,0])\n",
    "        plt.scatter(y2,y1)\n",
    "plt.xlabel('Label')\n",
    "plt.ylabel('Estimate')\n",
    "plt.plot(range(200))\n",
    "plt.show()"
   ]
  },
  {
   "cell_type": "code",
   "execution_count": 80,
   "id": "9ef464d1",
   "metadata": {},
   "outputs": [
    {
     "name": "stdout",
     "output_type": "stream",
     "text": [
      "Model: \"sequential_4\"\n",
      "_________________________________________________________________\n",
      " Layer (type)                Output Shape              Param #   \n",
      "=================================================================\n",
      " masking_4 (Masking)         (None, 50, 14)            0         \n",
      "                                                                 \n",
      " conv1d_4 (Conv1D)           (None, 46, 32)            2272      \n",
      "                                                                 \n",
      " lstm_8 (LSTM)               (None, 46, 64)            24832     \n",
      "                                                                 \n",
      " lstm_9 (LSTM)               (None, 64)                33024     \n",
      "                                                                 \n",
      " dropout_4 (Dropout)         (None, 64)                0         \n",
      "                                                                 \n",
      " dense_11 (Dense)            (None, 32)                2080      \n",
      "                                                                 \n",
      " dense_12 (Dense)            (None, 16)                528       \n",
      "                                                                 \n",
      " dense_13 (Dense)            (None, 1)                 17        \n",
      "                                                                 \n",
      "=================================================================\n",
      "Total params: 62,753\n",
      "Trainable params: 62,753\n",
      "Non-trainable params: 0\n",
      "_________________________________________________________________\n"
     ]
    }
   ],
   "source": [
    "lstm_model.summary()"
   ]
  },
  {
   "cell_type": "code",
   "execution_count": 65,
   "id": "f9cf80fc",
   "metadata": {},
   "outputs": [],
   "source": [
    "df1 = pd.DataFrame(columns=['A','B','C','D','E','F','G'])"
   ]
  },
  {
   "cell_type": "code",
   "execution_count": 75,
   "id": "6910d861",
   "metadata": {},
   "outputs": [],
   "source": [
    "df1 = pd.concat((df1, df))"
   ]
  },
  {
   "cell_type": "code",
   "execution_count": 76,
   "id": "3d20a625",
   "metadata": {},
   "outputs": [
    {
     "data": {
      "text/html": [
       "<div>\n",
       "<style scoped>\n",
       "    .dataframe tbody tr th:only-of-type {\n",
       "        vertical-align: middle;\n",
       "    }\n",
       "\n",
       "    .dataframe tbody tr th {\n",
       "        vertical-align: top;\n",
       "    }\n",
       "\n",
       "    .dataframe thead th {\n",
       "        text-align: right;\n",
       "    }\n",
       "</style>\n",
       "<table border=\"1\" class=\"dataframe\">\n",
       "  <thead>\n",
       "    <tr style=\"text-align: right;\">\n",
       "      <th></th>\n",
       "      <th>A</th>\n",
       "      <th>B</th>\n",
       "      <th>C</th>\n",
       "      <th>D</th>\n",
       "      <th>E</th>\n",
       "      <th>F</th>\n",
       "      <th>G</th>\n",
       "    </tr>\n",
       "  </thead>\n",
       "  <tbody>\n",
       "    <tr>\n",
       "      <th>0</th>\n",
       "      <td>1</td>\n",
       "      <td>2</td>\n",
       "      <td>3</td>\n",
       "      <td>4</td>\n",
       "      <td>5</td>\n",
       "      <td>6</td>\n",
       "      <td>7</td>\n",
       "    </tr>\n",
       "    <tr>\n",
       "      <th>0</th>\n",
       "      <td>1</td>\n",
       "      <td>2</td>\n",
       "      <td>3</td>\n",
       "      <td>4</td>\n",
       "      <td>5</td>\n",
       "      <td>6</td>\n",
       "      <td>7</td>\n",
       "    </tr>\n",
       "  </tbody>\n",
       "</table>\n",
       "</div>"
      ],
      "text/plain": [
       "   A  B  C  D  E  F  G\n",
       "0  1  2  3  4  5  6  7\n",
       "0  1  2  3  4  5  6  7"
      ]
     },
     "execution_count": 76,
     "metadata": {},
     "output_type": "execute_result"
    }
   ],
   "source": [
    "df1"
   ]
  },
  {
   "cell_type": "code",
   "execution_count": 50,
   "id": "63d1c18a",
   "metadata": {},
   "outputs": [
    {
     "name": "stdout",
     "output_type": "stream",
     "text": [
      "Train set RSME = 12.133970260620117, R2 = 0.9520173657205261\n",
      "Test set RSME = 34.013545989990234, S = 88251.234375, R2 = 0.3300471144299555\n"
     ]
    },
    {
     "data": {
      "text/plain": [
       "(34.013546, 88251.234, 0.3300471144299555)"
      ]
     },
     "execution_count": 50,
     "metadata": {},
     "output_type": "execute_result"
    }
   ],
   "source": [
    "Yhat_train = lstm_model.predict(Xtrain_whole_sequences)\n",
    "evaluate(Ytrain_whole_sequences[:,8], Yhat_train, 'Train')\n",
    "Yhat_test = lstm_model.predict(Xtest_sequences)\n",
    "evaluate(Ytest_sequences, Yhat_test)"
   ]
  },
  {
   "cell_type": "code",
   "execution_count": 53,
   "id": "6c7ae03f",
   "metadata": {},
   "outputs": [
    {
     "name": "stdout",
     "output_type": "stream",
     "text": [
      "Train set RSME = 15.738731384277344, R2 = 0.8805356528252978\n",
      "Test set RSME = 40.799015045166016, S = 19840.470703125, R2 = 0.036082636004615476\n"
     ]
    },
    {
     "data": {
      "text/plain": [
       "(40.799015, 19840.47, 0.036082636004615476)"
      ]
     },
     "execution_count": 53,
     "metadata": {},
     "output_type": "execute_result"
    }
   ],
   "source": [
    "Yhat_train = lstm_model.predict(Xtrain_whole_sequences)\n",
    "evaluate(Ytrain_whole_sequences[:,8], Yhat_train, 'Train')\n",
    "Yhat_test = lstm_model.predict(Xtest_sequences)\n",
    "evaluate(Ytest_sequences, Yhat_test)"
   ]
  },
  {
   "cell_type": "code",
   "execution_count": 428,
   "id": "a3fdd083",
   "metadata": {},
   "outputs": [
    {
     "data": {
      "text/plain": [
       "Index(['id', 'dt', 'set1', 'set2', 'set3', 's2', 's3', 's4', 's6', 's7', 's8',\n",
       "       's9', 's10', 's11', 's12', 's13', 's14', 's15', 's16', 's17', 's19',\n",
       "       's20', 's21', 'linear', 'kmeans', 'kmeans_5', 'kmeans_0', 'kmeans_2',\n",
       "       'kmeans_3', 'kmeans_4', 'kmeans_1', 'piecewise_optimized',\n",
       "       'piecewise_125', 'descriptive', 'spearman', 'rec_error'],\n",
       "      dtype='object')"
      ]
     },
     "execution_count": 428,
     "metadata": {},
     "output_type": "execute_result"
    }
   ],
   "source": [
    "training_data_with_labels.df.columns"
   ]
  },
  {
   "cell_type": "markdown",
   "id": "b32b6bd1",
   "metadata": {},
   "source": [
    "# Putting all together in one loop"
   ]
  },
  {
   "cell_type": "code",
   "execution_count": 26,
   "id": "d92d75fa",
   "metadata": {},
   "outputs": [
    {
     "name": "stdout",
     "output_type": "stream",
     "text": [
      "Epoch 1/16\n",
      "36/36 [==============================] - 10s 200ms/step - loss: 5959.6885 - val_loss: 3426.0388\n",
      "Epoch 2/16\n",
      "36/36 [==============================] - 6s 172ms/step - loss: 3338.9626 - val_loss: 2316.7590\n",
      "Epoch 3/16\n",
      "36/36 [==============================] - 8s 214ms/step - loss: 3066.5710 - val_loss: 2299.1738\n",
      "Epoch 4/16\n",
      "36/36 [==============================] - 8s 217ms/step - loss: 3019.8645 - val_loss: 2215.6335\n",
      "Epoch 5/16\n",
      "36/36 [==============================] - 8s 220ms/step - loss: 2830.2661 - val_loss: 1601.8760\n",
      "Epoch 6/16\n",
      "36/36 [==============================] - 9s 249ms/step - loss: 1682.2068 - val_loss: 815.2674\n",
      "Epoch 7/16\n",
      "36/36 [==============================] - 9s 250ms/step - loss: 1295.4644 - val_loss: 625.1860\n",
      "Epoch 8/16\n",
      "36/36 [==============================] - 8s 230ms/step - loss: 1174.3717 - val_loss: 585.8012\n",
      "Epoch 9/16\n",
      "36/36 [==============================] - 8s 226ms/step - loss: 1135.4811 - val_loss: 526.9388\n",
      "Epoch 10/16\n",
      "36/36 [==============================] - 9s 254ms/step - loss: 1044.7019 - val_loss: 531.1320\n",
      "Epoch 11/16\n",
      "36/36 [==============================] - 8s 228ms/step - loss: 1031.7299 - val_loss: 539.7161\n",
      "Epoch 12/16\n",
      "36/36 [==============================] - 8s 228ms/step - loss: 1013.1110 - val_loss: 517.1074\n",
      "Epoch 13/16\n",
      "36/36 [==============================] - 9s 243ms/step - loss: 943.1248 - val_loss: 547.2366\n",
      "Epoch 14/16\n",
      "36/36 [==============================] - 9s 243ms/step - loss: 947.8743 - val_loss: 501.4365\n",
      "Epoch 15/16\n",
      "36/36 [==============================] - 8s 212ms/step - loss: 915.8055 - val_loss: 468.1294\n",
      "Epoch 16/16\n",
      "36/36 [==============================] - 8s 220ms/step - loss: 894.9846 - val_loss: 527.2388\n"
     ]
    },
    {
     "name": "stderr",
     "output_type": "stream",
     "text": [
      "WARNING:absl:Found untraced functions such as lstm_cell_layer_call_fn, lstm_cell_layer_call_and_return_conditional_losses, lstm_cell_1_layer_call_fn, lstm_cell_1_layer_call_and_return_conditional_losses while saving (showing 4 of 4). These functions will not be directly callable after loading.\n"
     ]
    },
    {
     "name": "stdout",
     "output_type": "stream",
     "text": [
      "INFO:tensorflow:Assets written to: saved_models/lstm_model_FD002_linear_1\\assets\n"
     ]
    },
    {
     "name": "stderr",
     "output_type": "stream",
     "text": [
      "INFO:tensorflow:Assets written to: saved_models/lstm_model_FD002_linear_1\\assets\n",
      "WARNING:absl:<keras.layers.recurrent.LSTMCell object at 0x00000219ABDFA3A0> has the same name 'LSTMCell' as a built-in Keras object. Consider renaming <class 'keras.layers.recurrent.LSTMCell'> to avoid naming conflicts when loading with `tf.keras.models.load_model`. If renaming is not possible, pass the object in the `custom_objects` parameter of the load function.\n",
      "WARNING:absl:<keras.layers.recurrent.LSTMCell object at 0x00000219ABA709A0> has the same name 'LSTMCell' as a built-in Keras object. Consider renaming <class 'keras.layers.recurrent.LSTMCell'> to avoid naming conflicts when loading with `tf.keras.models.load_model`. If renaming is not possible, pass the object in the `custom_objects` parameter of the load function.\n"
     ]
    },
    {
     "name": "stdout",
     "output_type": "stream",
     "text": [
      "Train set RSME = 23.66413688659668, R2 = 0.7915955934461667\n",
      "Train Split set RSME = 23.82979965209961, R2 = 0.7952546628438202\n",
      "Train set RSME = 22.950510025024414, R2 = 0.7715080892288018\n",
      "Test set RSME = 64.53764343261719, S = 785496.3125, L= 5789.57568359375, R2 = -0.4401382293510958\n",
      "Epoch 1/16\n",
      "36/36 [==============================] - 11s 213ms/step - loss: 4743.9956 - val_loss: 2766.7329\n",
      "Epoch 2/16\n",
      "36/36 [==============================] - 7s 197ms/step - loss: 2513.0488 - val_loss: 1800.3899\n",
      "Epoch 3/16\n",
      "36/36 [==============================] - 7s 194ms/step - loss: 2254.6907 - val_loss: 1770.0088\n",
      "Epoch 4/16\n",
      "36/36 [==============================] - 8s 223ms/step - loss: 2186.9336 - val_loss: 1771.9692\n",
      "Epoch 5/16\n",
      "36/36 [==============================] - 10s 283ms/step - loss: 2207.8130 - val_loss: 1768.4518\n",
      "Epoch 6/16\n",
      "36/36 [==============================] - 9s 240ms/step - loss: 2183.8435 - val_loss: 1768.0133\n",
      "Epoch 7/16\n",
      "36/36 [==============================] - 8s 215ms/step - loss: 2114.1252 - val_loss: 1632.6193\n",
      "Epoch 8/16\n",
      "36/36 [==============================] - 7s 193ms/step - loss: 1523.4210 - val_loss: 702.0043\n",
      "Epoch 9/16\n",
      "36/36 [==============================] - 7s 194ms/step - loss: 921.6473 - val_loss: 562.5760\n",
      "Epoch 10/16\n",
      "36/36 [==============================] - 7s 194ms/step - loss: 848.2844 - val_loss: 493.0018\n",
      "Epoch 11/16\n",
      "36/36 [==============================] - 7s 195ms/step - loss: 762.6312 - val_loss: 459.8350\n",
      "Epoch 12/16\n",
      "36/36 [==============================] - 7s 195ms/step - loss: 657.9036 - val_loss: 476.1915\n",
      "Epoch 13/16\n",
      "36/36 [==============================] - 8s 212ms/step - loss: 686.5559 - val_loss: 471.0960\n",
      "Epoch 14/16\n",
      "36/36 [==============================] - 7s 194ms/step - loss: 670.2173 - val_loss: 501.0511\n",
      "Epoch 15/16\n",
      "36/36 [==============================] - 7s 194ms/step - loss: 636.9056 - val_loss: 401.0862\n",
      "Epoch 16/16\n",
      "36/36 [==============================] - 7s 194ms/step - loss: 599.6414 - val_loss: 402.7835\n"
     ]
    },
    {
     "name": "stderr",
     "output_type": "stream",
     "text": [
      "WARNING:absl:Found untraced functions such as lstm_cell_layer_call_fn, lstm_cell_layer_call_and_return_conditional_losses, lstm_cell_1_layer_call_fn, lstm_cell_1_layer_call_and_return_conditional_losses while saving (showing 4 of 4). These functions will not be directly callable after loading.\n"
     ]
    },
    {
     "name": "stdout",
     "output_type": "stream",
     "text": [
      "INFO:tensorflow:Assets written to: saved_models/lstm_model_FD002_piecewise_optimized_1\\assets\n"
     ]
    },
    {
     "name": "stderr",
     "output_type": "stream",
     "text": [
      "INFO:tensorflow:Assets written to: saved_models/lstm_model_FD002_piecewise_optimized_1\\assets\n",
      "WARNING:absl:<keras.layers.recurrent.LSTMCell object at 0x00000219A8BCE400> has the same name 'LSTMCell' as a built-in Keras object. Consider renaming <class 'keras.layers.recurrent.LSTMCell'> to avoid naming conflicts when loading with `tf.keras.models.load_model`. If renaming is not possible, pass the object in the `custom_objects` parameter of the load function.\n",
      "WARNING:absl:<keras.layers.recurrent.LSTMCell object at 0x00000219A8BC2040> has the same name 'LSTMCell' as a built-in Keras object. Consider renaming <class 'keras.layers.recurrent.LSTMCell'> to avoid naming conflicts when loading with `tf.keras.models.load_model`. If renaming is not possible, pass the object in the `custom_objects` parameter of the load function.\n"
     ]
    },
    {
     "name": "stdout",
     "output_type": "stream",
     "text": [
      "Train set RSME = 20.23094367980957, R2 = 0.7928626472581337\n",
      "Train Split set RSME = 20.271892547607422, R2 = 0.7967751282746678\n",
      "Train set RSME = 20.056882858276367, R2 = 0.7726675138122456\n",
      "Test set RSME = 57.308074951171875, S = 584997.25, L= 4417.9599609375, R2 = -0.1355584903133049\n",
      "Epoch 1/16\n",
      "36/36 [==============================] - 13s 293ms/step - loss: 4579.9487 - val_loss: 3059.6035\n",
      "Epoch 2/16\n",
      "36/36 [==============================] - 11s 293ms/step - loss: 2550.9695 - val_loss: 1501.1890\n",
      "Epoch 3/16\n",
      "36/36 [==============================] - 10s 271ms/step - loss: 1957.9933 - val_loss: 1486.1158\n",
      "Epoch 4/16\n",
      "36/36 [==============================] - 11s 302ms/step - loss: 1919.5145 - val_loss: 1484.0463\n",
      "Epoch 5/16\n",
      "36/36 [==============================] - 11s 291ms/step - loss: 1827.9209 - val_loss: 1485.1465\n",
      "Epoch 6/16\n",
      "36/36 [==============================] - 10s 269ms/step - loss: 1851.6097 - val_loss: 1484.3463\n",
      "Epoch 7/16\n",
      "36/36 [==============================] - 11s 310ms/step - loss: 1868.5287 - val_loss: 1484.1171\n",
      "Epoch 8/16\n",
      "36/36 [==============================] - 12s 326ms/step - loss: 1830.8060 - val_loss: 1483.0560\n",
      "Epoch 9/16\n",
      "36/36 [==============================] - 11s 317ms/step - loss: 1767.8347 - val_loss: 1149.9011\n",
      "Epoch 10/16\n",
      "36/36 [==============================] - 11s 317ms/step - loss: 870.5974 - val_loss: 361.3405\n",
      "Epoch 11/16\n",
      "36/36 [==============================] - 10s 274ms/step - loss: 627.7789 - val_loss: 312.4027\n",
      "Epoch 12/16\n",
      "36/36 [==============================] - 10s 274ms/step - loss: 560.1284 - val_loss: 264.9937\n",
      "Epoch 13/16\n",
      "36/36 [==============================] - 10s 268ms/step - loss: 562.6298 - val_loss: 292.8512\n",
      "Epoch 14/16\n",
      "36/36 [==============================] - 10s 268ms/step - loss: 501.7237 - val_loss: 225.1526\n",
      "Epoch 15/16\n",
      "36/36 [==============================] - 10s 269ms/step - loss: 457.3614 - val_loss: 199.9473\n",
      "Epoch 16/16\n",
      "36/36 [==============================] - 10s 268ms/step - loss: 443.8138 - val_loss: 192.1957\n"
     ]
    },
    {
     "name": "stderr",
     "output_type": "stream",
     "text": [
      "WARNING:absl:Found untraced functions such as lstm_cell_layer_call_fn, lstm_cell_layer_call_and_return_conditional_losses, lstm_cell_1_layer_call_fn, lstm_cell_1_layer_call_and_return_conditional_losses while saving (showing 4 of 4). These functions will not be directly callable after loading.\n"
     ]
    },
    {
     "name": "stdout",
     "output_type": "stream",
     "text": [
      "INFO:tensorflow:Assets written to: saved_models/lstm_model_FD002_piecewise_125_1\\assets\n"
     ]
    },
    {
     "name": "stderr",
     "output_type": "stream",
     "text": [
      "INFO:tensorflow:Assets written to: saved_models/lstm_model_FD002_piecewise_125_1\\assets\n",
      "WARNING:absl:<keras.layers.recurrent.LSTMCell object at 0x00000219ABB06280> has the same name 'LSTMCell' as a built-in Keras object. Consider renaming <class 'keras.layers.recurrent.LSTMCell'> to avoid naming conflicts when loading with `tf.keras.models.load_model`. If renaming is not possible, pass the object in the `custom_objects` parameter of the load function.\n",
      "WARNING:absl:<keras.layers.recurrent.LSTMCell object at 0x00000219ABB12490> has the same name 'LSTMCell' as a built-in Keras object. Consider renaming <class 'keras.layers.recurrent.LSTMCell'> to avoid naming conflicts when loading with `tf.keras.models.load_model`. If renaming is not possible, pass the object in the `custom_objects` parameter of the load function.\n"
     ]
    },
    {
     "name": "stdout",
     "output_type": "stream",
     "text": [
      "Train set RSME = 14.075142860412598, R2 = 0.8754023184089479\n",
      "Train Split set RSME = 14.129023551940918, R2 = 0.876294168906675\n",
      "Train set RSME = 13.845016479492188, R2 = 0.870802430229864\n",
      "Test set RSME = 57.26851272583008, S = 1229391.875, L= 4005.830810546875, R2 = -0.13399126460762223\n",
      "Epoch 1/16\n",
      "36/36 [==============================] - 12s 270ms/step - loss: 5581.9492 - val_loss: 2855.1731\n",
      "Epoch 2/16\n",
      "36/36 [==============================] - 10s 279ms/step - loss: 2665.8359 - val_loss: 2072.3406\n",
      "Epoch 3/16\n",
      "36/36 [==============================] - 9s 259ms/step - loss: 2565.2161 - val_loss: 2057.7092\n",
      "Epoch 4/16\n",
      "36/36 [==============================] - 11s 302ms/step - loss: 2555.3027 - val_loss: 2061.9539\n",
      "Epoch 5/16\n",
      "36/36 [==============================] - 10s 289ms/step - loss: 2555.8618 - val_loss: 2059.9497\n",
      "Epoch 6/16\n",
      "36/36 [==============================] - 10s 269ms/step - loss: 2525.3921 - val_loss: 2057.4819\n",
      "Epoch 7/16\n",
      "36/36 [==============================] - 9s 249ms/step - loss: 2541.6248 - val_loss: 2070.0649\n",
      "Epoch 8/16\n",
      "36/36 [==============================] - 9s 249ms/step - loss: 2519.5847 - val_loss: 2053.7131\n",
      "Epoch 9/16\n",
      "36/36 [==============================] - 10s 268ms/step - loss: 2457.0056 - val_loss: 1950.7372\n",
      "Epoch 10/16\n",
      "36/36 [==============================] - 10s 285ms/step - loss: 1855.3154 - val_loss: 1035.2231\n",
      "Epoch 11/16\n",
      "36/36 [==============================] - 10s 277ms/step - loss: 1349.5702 - val_loss: 899.6307\n",
      "Epoch 12/16\n",
      "36/36 [==============================] - 11s 301ms/step - loss: 1271.3259 - val_loss: 899.2888\n",
      "Epoch 13/16\n",
      "36/36 [==============================] - 10s 266ms/step - loss: 1251.7031 - val_loss: 884.7941\n",
      "Epoch 14/16\n",
      "36/36 [==============================] - 10s 277ms/step - loss: 1243.4391 - val_loss: 930.2620\n",
      "Epoch 15/16\n",
      "36/36 [==============================] - 9s 251ms/step - loss: 1244.5388 - val_loss: 873.9873\n",
      "Epoch 16/16\n",
      "36/36 [==============================] - 9s 250ms/step - loss: 1209.8765 - val_loss: 850.4420\n"
     ]
    },
    {
     "name": "stderr",
     "output_type": "stream",
     "text": [
      "WARNING:absl:Found untraced functions such as lstm_cell_layer_call_fn, lstm_cell_layer_call_and_return_conditional_losses, lstm_cell_1_layer_call_fn, lstm_cell_1_layer_call_and_return_conditional_losses while saving (showing 4 of 4). These functions will not be directly callable after loading.\n"
     ]
    },
    {
     "name": "stdout",
     "output_type": "stream",
     "text": [
      "INFO:tensorflow:Assets written to: saved_models/lstm_model_FD002_descriptive_1\\assets\n"
     ]
    },
    {
     "name": "stderr",
     "output_type": "stream",
     "text": [
      "INFO:tensorflow:Assets written to: saved_models/lstm_model_FD002_descriptive_1\\assets\n",
      "WARNING:absl:<keras.layers.recurrent.LSTMCell object at 0x00000219BF188CD0> has the same name 'LSTMCell' as a built-in Keras object. Consider renaming <class 'keras.layers.recurrent.LSTMCell'> to avoid naming conflicts when loading with `tf.keras.models.load_model`. If renaming is not possible, pass the object in the `custom_objects` parameter of the load function.\n",
      "WARNING:absl:<keras.layers.recurrent.LSTMCell object at 0x00000219BF183AC0> has the same name 'LSTMCell' as a built-in Keras object. Consider renaming <class 'keras.layers.recurrent.LSTMCell'> to avoid naming conflicts when loading with `tf.keras.models.load_model`. If renaming is not possible, pass the object in the `custom_objects` parameter of the load function.\n"
     ]
    },
    {
     "name": "stdout",
     "output_type": "stream",
     "text": [
      "Train set RSME = 30.532236099243164, R2 = 0.5838621958010091\n",
      "Train Split set RSME = 30.849246978759766, R2 = 0.582963210643302\n",
      "Train set RSME = 29.15386390686035, R2 = 0.5868331513039668\n",
      "Test set RSME = 59.29316711425781, S = 513829.53125, L= 5067.89013671875, R2 = -0.21559021701218795\n",
      "Epoch 1/16\n",
      "36/36 [==============================] - 11s 204ms/step - loss: 5194.1382 - val_loss: 2501.2639\n",
      "Epoch 2/16\n",
      "36/36 [==============================] - 7s 202ms/step - loss: 2229.3740 - val_loss: 1660.0002\n",
      "Epoch 3/16\n",
      "36/36 [==============================] - 7s 192ms/step - loss: 2088.2510 - val_loss: 1649.0038\n",
      "Epoch 4/16\n",
      "36/36 [==============================] - 7s 191ms/step - loss: 2092.7993 - val_loss: 1654.5521\n",
      "Epoch 5/16\n",
      "36/36 [==============================] - 7s 191ms/step - loss: 2072.3936 - val_loss: 1648.0496\n",
      "Epoch 6/16\n",
      "36/36 [==============================] - 7s 192ms/step - loss: 2061.7595 - val_loss: 1640.3370\n",
      "Epoch 7/16\n",
      "36/36 [==============================] - 7s 191ms/step - loss: 1994.1937 - val_loss: 1527.4253\n",
      "Epoch 8/16\n",
      "36/36 [==============================] - 7s 191ms/step - loss: 1666.3048 - val_loss: 857.5381\n",
      "Epoch 9/16\n",
      "36/36 [==============================] - 7s 192ms/step - loss: 1169.1213 - val_loss: 821.9849\n",
      "Epoch 10/16\n",
      "36/36 [==============================] - 7s 192ms/step - loss: 1107.8513 - val_loss: 751.3906\n",
      "Epoch 11/16\n",
      "36/36 [==============================] - 7s 191ms/step - loss: 1072.3337 - val_loss: 750.3636\n",
      "Epoch 12/16\n",
      "36/36 [==============================] - 7s 192ms/step - loss: 1040.7336 - val_loss: 741.2087\n",
      "Epoch 13/16\n",
      "36/36 [==============================] - 7s 194ms/step - loss: 1060.3208 - val_loss: 760.0292\n",
      "Epoch 14/16\n",
      "36/36 [==============================] - 8s 229ms/step - loss: 1045.4747 - val_loss: 736.6603\n",
      "Epoch 15/16\n",
      "36/36 [==============================] - 8s 210ms/step - loss: 1018.0602 - val_loss: 738.2031\n",
      "Epoch 16/16\n",
      "36/36 [==============================] - 7s 192ms/step - loss: 1047.3340 - val_loss: 764.1096\n"
     ]
    },
    {
     "name": "stderr",
     "output_type": "stream",
     "text": [
      "WARNING:absl:Found untraced functions such as lstm_cell_layer_call_fn, lstm_cell_layer_call_and_return_conditional_losses, lstm_cell_1_layer_call_fn, lstm_cell_1_layer_call_and_return_conditional_losses while saving (showing 4 of 4). These functions will not be directly callable after loading.\n"
     ]
    },
    {
     "name": "stdout",
     "output_type": "stream",
     "text": [
      "INFO:tensorflow:Assets written to: saved_models/lstm_model_FD002_spearman_1\\assets\n"
     ]
    },
    {
     "name": "stderr",
     "output_type": "stream",
     "text": [
      "INFO:tensorflow:Assets written to: saved_models/lstm_model_FD002_spearman_1\\assets\n",
      "WARNING:absl:<keras.layers.recurrent.LSTMCell object at 0x00000219AB9F68E0> has the same name 'LSTMCell' as a built-in Keras object. Consider renaming <class 'keras.layers.recurrent.LSTMCell'> to avoid naming conflicts when loading with `tf.keras.models.load_model`. If renaming is not possible, pass the object in the `custom_objects` parameter of the load function.\n",
      "WARNING:absl:<keras.layers.recurrent.LSTMCell object at 0x00000219AB9E36D0> has the same name 'LSTMCell' as a built-in Keras object. Consider renaming <class 'keras.layers.recurrent.LSTMCell'> to avoid naming conflicts when loading with `tf.keras.models.load_model`. If renaming is not possible, pass the object in the `custom_objects` parameter of the load function.\n"
     ]
    },
    {
     "name": "stdout",
     "output_type": "stream",
     "text": [
      "Train set RSME = 28.092458724975586, R2 = 0.5611243379263424\n",
      "Train Split set RSME = 28.19980239868164, R2 = 0.5662471109576767\n",
      "Train set RSME = 27.634016036987305, R2 = 0.5352102648023285\n",
      "Test set RSME = 58.67020797729492, S = 850705.3125, L= 4666.90673828125, R2 = -0.19018117236626075\n",
      "Epoch 1/16\n",
      "36/36 [==============================] - 12s 264ms/step - loss: 10052.8076 - val_loss: 7239.1694\n",
      "Epoch 2/16\n",
      "36/36 [==============================] - 9s 255ms/step - loss: 4863.6426 - val_loss: 2087.1174\n",
      "Epoch 3/16\n",
      "36/36 [==============================] - 9s 258ms/step - loss: 2491.5308 - val_loss: 1905.3325\n",
      "Epoch 4/16\n",
      "36/36 [==============================] - 9s 257ms/step - loss: 2401.7625 - val_loss: 1907.9551\n",
      "Epoch 5/16\n",
      "36/36 [==============================] - 9s 263ms/step - loss: 2427.4866 - val_loss: 1907.4482\n",
      "Epoch 6/16\n",
      "36/36 [==============================] - 9s 256ms/step - loss: 2331.2744 - val_loss: 1906.3760\n",
      "Epoch 7/16\n",
      "36/36 [==============================] - 9s 254ms/step - loss: 2427.6963 - val_loss: 1910.6550\n",
      "Epoch 8/16\n",
      "36/36 [==============================] - 9s 254ms/step - loss: 2366.7124 - val_loss: 1918.3032\n",
      "Epoch 9/16\n",
      "36/36 [==============================] - 9s 254ms/step - loss: 2288.2505 - val_loss: 1916.1454\n",
      "Epoch 10/16\n",
      "36/36 [==============================] - 9s 255ms/step - loss: 2375.5208 - val_loss: 1905.7208\n",
      "Epoch 11/16\n",
      "36/36 [==============================] - 9s 255ms/step - loss: 2315.8403 - val_loss: 1886.9723\n",
      "Epoch 12/16\n",
      "36/36 [==============================] - 9s 255ms/step - loss: 2241.7207 - val_loss: 1707.6420\n",
      "Epoch 13/16\n",
      "36/36 [==============================] - 9s 255ms/step - loss: 1714.3026 - val_loss: 1071.5389\n",
      "Epoch 14/16\n",
      "36/36 [==============================] - 9s 256ms/step - loss: 1406.4924 - val_loss: 1012.3400\n",
      "Epoch 15/16\n",
      "36/36 [==============================] - 9s 256ms/step - loss: 1347.4625 - val_loss: 1022.0765\n",
      "Epoch 16/16\n",
      "36/36 [==============================] - 9s 256ms/step - loss: 1269.9249 - val_loss: 986.7773\n"
     ]
    },
    {
     "name": "stderr",
     "output_type": "stream",
     "text": [
      "WARNING:absl:Found untraced functions such as lstm_cell_layer_call_fn, lstm_cell_layer_call_and_return_conditional_losses, lstm_cell_1_layer_call_fn, lstm_cell_1_layer_call_and_return_conditional_losses while saving (showing 4 of 4). These functions will not be directly callable after loading.\n"
     ]
    },
    {
     "name": "stdout",
     "output_type": "stream",
     "text": [
      "INFO:tensorflow:Assets written to: saved_models/lstm_model_FD002_rec_error_1\\assets\n"
     ]
    },
    {
     "name": "stderr",
     "output_type": "stream",
     "text": [
      "INFO:tensorflow:Assets written to: saved_models/lstm_model_FD002_rec_error_1\\assets\n",
      "WARNING:absl:<keras.layers.recurrent.LSTMCell object at 0x00000219BED76F40> has the same name 'LSTMCell' as a built-in Keras object. Consider renaming <class 'keras.layers.recurrent.LSTMCell'> to avoid naming conflicts when loading with `tf.keras.models.load_model`. If renaming is not possible, pass the object in the `custom_objects` parameter of the load function.\n",
      "WARNING:absl:<keras.layers.recurrent.LSTMCell object at 0x00000219BEC70B50> has the same name 'LSTMCell' as a built-in Keras object. Consider renaming <class 'keras.layers.recurrent.LSTMCell'> to avoid naming conflicts when loading with `tf.keras.models.load_model`. If renaming is not possible, pass the object in the `custom_objects` parameter of the load function.\n"
     ]
    },
    {
     "name": "stdout",
     "output_type": "stream",
     "text": [
      "Train set RSME = 30.57546043395996, R2 = 0.5201332513421342\n",
      "Train Split set RSME = 30.37577247619629, R2 = 0.5286055138689856\n",
      "Train set RSME = 31.40570831298828, R2 = 0.48214690549552075\n",
      "Test set RSME = 56.15243911743164, S = 750265.6875, L= 4207.10302734375, R2 = -0.09022260510370361\n"
     ]
    }
   ],
   "source": [
    "for dataset in [2]:\n",
    "    tr, te, rl = tb.getTFDataset(set = dataset)\n",
    "    tb.addTFlinear(tr, te, rl)\n",
    "    tr_df = rd.RUL_DataFrame(df = tr, label_cols = ['linear'])\n",
    "    te_df = rd.RUL_DataFrame(df = te, label_cols = ['linear'])\n",
    "    if dataset in [1,3]:\n",
    "        preproc.drop_zero_variance(rul_df = tr_df, rul_df_test = te_df)\n",
    "        preproc.scale(rul_df = tr_df, rul_df_test = te_df, scale = 'minmax')\n",
    "    elif dataset in [2, 4]:\n",
    "        classy.fit_kmeans(rul_df = tr_df, rul_df_test = te_df, colname = 'kmeans')\n",
    "        preproc.one_hot_encode(rul_df = tr_df, rul_df_test = te_df, c_col = 'kmeans')\n",
    "        preproc.c_drop_zero_variance(rul_df = tr_df, rul_df_test = te_df , c_cols = tr_df.categ_cols)\n",
    "        preproc.c_scale(rul_df = tr_df, rul_df_test = te_df , c_cols = tr_df.categ_cols, scale = 'std')\n",
    "    \n",
    "    # adjust to label size\n",
    "    preproc.delete_first_n(tr_df, 9)\n",
    "\n",
    "    labels = pd.read_csv(f'labels/FD00{dataset}')\n",
    "    label_cols = ['linear', 'piecewise_optimized', 'piecewise_125', 'descriptive', 'spearman', 'rec_error']\n",
    "    if not labels.shape[0] == tr_df.df.shape[0]:\n",
    "        print(f'Labels and Data do not have same length. Dataset FD00{dataset}')\n",
    "    temp = pd.concat([tr_df.df, labels], axis=1)\n",
    "    training_data_with_labels = rd.RUL_DataFrame(df = temp, data_cols = tr_df.data_cols, categ_cols = tr_df.categ_cols, label_cols = ['linear', 'piecewise_optimized', 'piecewise_125', 'descriptive', 'spearman',\n",
    "                                                            'rec_error'])\n",
    "\n",
    "    Xtrain = training_data_with_labels.df[training_data_with_labels.data_cols + training_data_with_labels.categ_cols]\n",
    "    Xtest = te_df.df[te_df.data_cols + te_df.categ_cols]\n",
    "    Ytrain = training_data_with_labels.df[training_data_with_labels.label_cols + training_data_with_labels.categ_cols]\n",
    "    Ytest = te_df.df['linear']\n",
    "\n",
    "    sequence_length = 60\n",
    "    stride = 20\n",
    "    frac = 2\n",
    "    mask_value = -100.0\n",
    "    groupshufflesplit = GroupShuffleSplit(n_splits = 1, train_size = 0.8 , random_state = 42)\n",
    "    Xtrain_split, Ytrain_split, groupstrain, Xval_split, Yval_split, groupsval = training_validation_split(Xtrain, Ytrain, groupshufflesplit, \n",
    "                                                                                        groups = training_data_with_labels.df[training_data_with_labels.id_col])\n",
    "\n",
    "    Xtrain_split_sequences = make_data_to_sequence(Xtrain_split, sequence_length, groupstrain, mask_value, stride, frac = frac)\n",
    "    Ytrain_split_sequences = make_data_to_sequence(Ytrain_split, sequence_length, groupstrain, mask_value, stride, y = True, frac = frac)\n",
    "    Xval_split_sequences = make_data_to_sequence(Xval_split, sequence_length, groupsval, mask_value, stride, frac = frac)\n",
    "    Yval_split_sequences = make_data_to_sequence(Yval_split, sequence_length, groupsval, mask_value, stride, y = True, frac = frac)\n",
    "\n",
    "    Xtrain_whole_sequences = make_data_to_sequence(Xtrain, sequence_length, tr_df.df[tr_df.id_col], mask_value, stride, frac = frac)\n",
    "    Ytrain_whole_sequences = make_data_to_sequence(Ytrain, sequence_length, tr_df.df[tr_df.id_col], mask_value, stride, y = True, frac = frac)\n",
    "\n",
    "    Xtest_sequences = make_xtest_to_sequence(Xtest, sequence_length, te_df.df[te_df.id_col], mask_value)\n",
    "    Ytest_sequences = make_ytest(Ytest, sequence_length, te_df.df[te_df.id_col])\n",
    "\n",
    "    keras.backend.clear_session()\n",
    "\n",
    "\n",
    "    batch = 64\n",
    "    epochs = 16\n",
    "    \n",
    "    for iteration in [1]:\n",
    "        path = f'scores/LSTM_FD00{dataset}_{iteration}'\n",
    "        results = pd.DataFrame(columns=['dataset', 'label', 'RSME_w','R2_w','RSME_tr','R2_tr', 'RSME_v','R2_v','RSME_te','S Score', 'L Score', 'R2_te'])\n",
    "        for l in range(6): #'linear', 'piecewise_optimized', 'piecewise_125', 'descriptive', 'spearman', 'rec_error'\n",
    "            keras.backend.clear_session()\n",
    "            lstm_model = make_model(input_shape = Xtrain_split_sequences.shape[1:])\n",
    "            lstm_model.fit(Xtrain_split_sequences, Ytrain_split_sequences[:,l],\n",
    "                            validation_data = (Xval_split_sequences, Yval_split_sequences[:,l]),\n",
    "                            epochs = epochs,\n",
    "                            batch_size = batch)\n",
    "            label_name = label_cols[l]\n",
    "            lstm_model.save(f'saved_models/lstm_model_FD00{dataset}_{label_name}_{iteration}')\n",
    "\n",
    "            Yhat_train = lstm_model.predict(Xtrain_whole_sequences)\n",
    "            rsmewhole, r2whole = evaluate(Ytrain_whole_sequences[:,l], Yhat_train, 'Train')\n",
    "\n",
    "            Yhat_train_split = lstm_model.predict(Xtrain_split_sequences)\n",
    "            rsmesplit, r2split = evaluate(Ytrain_split_sequences[:,l], Yhat_train_split, 'Train Split')\n",
    "\n",
    "            Yhat_val_split = lstm_model.predict(Xval_split_sequences)\n",
    "            rsmeval, r2val = evaluate(Yval_split_sequences[:,l], Yhat_val_split, 'Train')\n",
    "\n",
    "            Yhat_test = lstm_model.predict(Xtest_sequences)\n",
    "            rsmetest, s, ls, r2test = evaluate(Ytest_sequences, Yhat_test)\n",
    "\n",
    "            df = pd.DataFrame([[dataset, label_name, rsmewhole, r2whole, rsmesplit, r2split, rsmeval, r2val, rsmetest, s, ls, r2test]], columns=['dataset', 'label', 'RSME_w','R2_w','RSME_tr','R2_tr', 'RSME_v','R2_v','RSME_te','S Score', 'L Score', 'R2_te'])\n",
    "            results = pd.concat((results, df))\n",
    "        results.to_csv(path, index = False)"
   ]
  },
  {
   "cell_type": "code",
   "execution_count": null,
   "id": "6329f558",
   "metadata": {},
   "outputs": [],
   "source": []
  },
  {
   "cell_type": "code",
   "execution_count": 35,
   "id": "d8b899fb",
   "metadata": {},
   "outputs": [
    {
     "data": {
      "image/png": "[encoded data removed]",
      "text/plain": [
       "<Figure size 720x720 with 1 Axes>"
      ]
     },
     "metadata": {
      "needs_background": "light"
     },
     "output_type": "display_data"
    }
   ],
   "source": [
    "plt.figure(figsize=(10,10))\n",
    "for i in range(1000):\n",
    "    if i % 5 == 0:\n",
    "        y1 = np.squeeze(Yhat_train[i])\n",
    "        y2 = np.squeeze(Ytrain_whole_sequences[i,5])\n",
    "        plt.scatter(y2,y1)\n",
    "plt.xlabel('Label')\n",
    "plt.ylabel('Estimate')\n",
    "plt.plot(range(200))\n",
    "plt.show()"
   ]
  },
  {
   "cell_type": "code",
   "execution_count": 530,
   "id": "eb8599d7",
   "metadata": {},
   "outputs": [],
   "source": [
    "lstm_model = make_model(input_shape = Xtrain_split_sequences.shape[1:], masking = True, mask_value = -100., conv_layer = False, n_channels = 32, kernel_size = 10,\n",
    "                regularization = None, lstm_dims = [256], dropout = True, d_rate = 0.1, dense_dims =  [])"
   ]
  },
  {
   "cell_type": "code",
   "execution_count": 36,
   "id": "131da66f",
   "metadata": {},
   "outputs": [],
   "source": [
    "path = f'scores/LSTM_FD00{3}_{1}'\n",
    "results = pd.read_csv(path)"
   ]
  },
  {
   "cell_type": "code",
   "execution_count": 30,
   "id": "892bcf4e",
   "metadata": {},
   "outputs": [
    {
     "data": {
      "text/html": [
       "<div>\n",
       "<style scoped>\n",
       "    .dataframe tbody tr th:only-of-type {\n",
       "        vertical-align: middle;\n",
       "    }\n",
       "\n",
       "    .dataframe tbody tr th {\n",
       "        vertical-align: top;\n",
       "    }\n",
       "\n",
       "    .dataframe thead th {\n",
       "        text-align: right;\n",
       "    }\n",
       "</style>\n",
       "<table border=\"1\" class=\"dataframe\">\n",
       "  <thead>\n",
       "    <tr style=\"text-align: right;\">\n",
       "      <th></th>\n",
       "      <th>dataset</th>\n",
       "      <th>label</th>\n",
       "      <th>RSME_w</th>\n",
       "      <th>R2_w</th>\n",
       "      <th>RSME_tr</th>\n",
       "      <th>R2_tr</th>\n",
       "      <th>RSME_v</th>\n",
       "      <th>R2_v</th>\n",
       "      <th>RSME_te</th>\n",
       "      <th>S Score</th>\n",
       "      <th>L Score</th>\n",
       "      <th>R2_te</th>\n",
       "    </tr>\n",
       "  </thead>\n",
       "  <tbody>\n",
       "    <tr>\n",
       "      <th>0</th>\n",
       "      <td>3</td>\n",
       "      <td>linear</td>\n",
       "      <td>46.290234</td>\n",
       "      <td>0.696437</td>\n",
       "      <td>46.750790</td>\n",
       "      <td>0.700140</td>\n",
       "      <td>44.280918</td>\n",
       "      <td>0.674165</td>\n",
       "      <td>45.856323</td>\n",
       "      <td>1.579231e+06</td>\n",
       "      <td>1301.146118</td>\n",
       "      <td>-0.227127</td>\n",
       "    </tr>\n",
       "    <tr>\n",
       "      <th>1</th>\n",
       "      <td>3</td>\n",
       "      <td>piecewise_optimized</td>\n",
       "      <td>37.111198</td>\n",
       "      <td>0.646383</td>\n",
       "      <td>36.551128</td>\n",
       "      <td>0.654335</td>\n",
       "      <td>39.401173</td>\n",
       "      <td>0.612508</td>\n",
       "      <td>27.771736</td>\n",
       "      <td>2.904259e+03</td>\n",
       "      <td>575.354858</td>\n",
       "      <td>0.549912</td>\n",
       "    </tr>\n",
       "    <tr>\n",
       "      <th>2</th>\n",
       "      <td>3</td>\n",
       "      <td>piecewise_125</td>\n",
       "      <td>17.777119</td>\n",
       "      <td>0.831460</td>\n",
       "      <td>17.761562</td>\n",
       "      <td>0.833048</td>\n",
       "      <td>17.843035</td>\n",
       "      <td>0.823583</td>\n",
       "      <td>20.299397</td>\n",
       "      <td>8.923704e+02</td>\n",
       "      <td>331.563751</td>\n",
       "      <td>0.759532</td>\n",
       "    </tr>\n",
       "    <tr>\n",
       "      <th>3</th>\n",
       "      <td>3</td>\n",
       "      <td>descriptive</td>\n",
       "      <td>47.333920</td>\n",
       "      <td>0.580988</td>\n",
       "      <td>45.780727</td>\n",
       "      <td>0.595184</td>\n",
       "      <td>53.429543</td>\n",
       "      <td>0.529364</td>\n",
       "      <td>44.575455</td>\n",
       "      <td>2.120517e+04</td>\n",
       "      <td>1666.530151</td>\n",
       "      <td>-0.159532</td>\n",
       "    </tr>\n",
       "    <tr>\n",
       "      <th>4</th>\n",
       "      <td>3</td>\n",
       "      <td>spearman</td>\n",
       "      <td>42.572960</td>\n",
       "      <td>0.489691</td>\n",
       "      <td>41.563389</td>\n",
       "      <td>0.499367</td>\n",
       "      <td>46.617596</td>\n",
       "      <td>0.453701</td>\n",
       "      <td>29.758593</td>\n",
       "      <td>3.303979e+03</td>\n",
       "      <td>957.557800</td>\n",
       "      <td>0.483208</td>\n",
       "    </tr>\n",
       "    <tr>\n",
       "      <th>5</th>\n",
       "      <td>3</td>\n",
       "      <td>rec_error</td>\n",
       "      <td>47.512245</td>\n",
       "      <td>0.430091</td>\n",
       "      <td>45.693241</td>\n",
       "      <td>0.447943</td>\n",
       "      <td>54.566013</td>\n",
       "      <td>0.368604</td>\n",
       "      <td>62.467270</td>\n",
       "      <td>4.745548e+04</td>\n",
       "      <td>4988.858398</td>\n",
       "      <td>-1.277174</td>\n",
       "    </tr>\n",
       "  </tbody>\n",
       "</table>\n",
       "</div>"
      ],
      "text/plain": [
       "   dataset                label     RSME_w      R2_w    RSME_tr     R2_tr  \\\n",
       "0        3               linear  46.290234  0.696437  46.750790  0.700140   \n",
       "1        3  piecewise_optimized  37.111198  0.646383  36.551128  0.654335   \n",
       "2        3        piecewise_125  17.777119  0.831460  17.761562  0.833048   \n",
       "3        3          descriptive  47.333920  0.580988  45.780727  0.595184   \n",
       "4        3             spearman  42.572960  0.489691  41.563389  0.499367   \n",
       "5        3            rec_error  47.512245  0.430091  45.693241  0.447943   \n",
       "\n",
       "      RSME_v      R2_v    RSME_te       S Score      L Score     R2_te  \n",
       "0  44.280918  0.674165  45.856323  1.579231e+06  1301.146118 -0.227127  \n",
       "1  39.401173  0.612508  27.771736  2.904259e+03   575.354858  0.549912  \n",
       "2  17.843035  0.823583  20.299397  8.923704e+02   331.563751  0.759532  \n",
       "3  53.429543  0.529364  44.575455  2.120517e+04  1666.530151 -0.159532  \n",
       "4  46.617596  0.453701  29.758593  3.303979e+03   957.557800  0.483208  \n",
       "5  54.566013  0.368604  62.467270  4.745548e+04  4988.858398 -1.277174  "
      ]
     },
     "execution_count": 30,
     "metadata": {},
     "output_type": "execute_result"
    }
   ],
   "source": [
    "results"
   ]
  },
  {
   "cell_type": "code",
   "execution_count": 37,
   "id": "2ed43ca5",
   "metadata": {},
   "outputs": [
    {
     "name": "stdout",
     "output_type": "stream",
     "text": [
      "\\begin{tabular}{lrrrrrr}\n",
      "\\hline\n",
      " Label               &   RSME Whole &   RSME Training &   RSME Validation &   RSME Testing &               S &        L \\\\\n",
      "\\hline\n",
      " linear              &      46.2902 &         46.7508 &           44.2809 &        45.8563 &     1.57923e+06 & 1301.15  \\\\\n",
      " piecewise\\_optimized &      37.1112 &         36.5511 &           39.4012 &        27.7717 &  2904.26        &  575.355 \\\\\n",
      " piecewise\\_125       &      17.7771 &         17.7616 &           17.843  &        20.2994 &   892.37        &  331.564 \\\\\n",
      " descriptive         &      47.3339 &         45.7807 &           53.4295 &        44.5755 & 21205.2         & 1666.53  \\\\\n",
      " spearman            &      42.573  &         41.5634 &           46.6176 &        29.7586 &  3303.98        &  957.558 \\\\\n",
      " rec\\_error           &      47.5122 &         45.6932 &           54.566  &        62.4673 & 47455.5         & 4988.86  \\\\\n",
      "\\hline\n",
      "\\end{tabular}\n"
     ]
    }
   ],
   "source": [
    "from tabulate import tabulate\n",
    "print(tabulate(results[['label', 'RSME_w', 'RSME_tr','RSME_v', 'RSME_te', 'S Score', 'L Score']], headers=['Label','RSME Whole','RSME Training','RSME Validation', 'RSME Testing', 'S', 'L'], tablefmt='latex', showindex=False))"
   ]
  },
  {
   "cell_type": "code",
   "execution_count": 7,
   "id": "9cdc70e1",
   "metadata": {},
   "outputs": [],
   "source": [
    "new_model = tf.keras.models.load_model(f'saved_models/lstm_model_FD00{1}_linear_{1}')\n"
   ]
  },
  {
   "cell_type": "code",
   "execution_count": null,
   "id": "4e1ab470",
   "metadata": {},
   "outputs": [],
   "source": [
    "for dataset in [2,4]:\n",
    "    tr, te, rl = tb.getTFDataset(set = dataset)\n",
    "    tb.addTFlinear(tr, te, rl)\n",
    "    tr_df = rd.RUL_DataFrame(df = tr, label_cols = ['linear'])\n",
    "    te_df = rd.RUL_DataFrame(df = te, label_cols = ['linear'])\n",
    "    if dataset in [1,3]:\n",
    "        preproc.drop_zero_variance(rul_df = tr_df, rul_df_test = te_df)\n",
    "        preproc.scale(rul_df = tr_df, rul_df_test = te_df, scale = 'minmax')\n",
    "    elif dataset in [2, 4]:\n",
    "        classy.fit_kmeans(rul_df = tr_df, rul_df_test = te_df, colname = 'kmeans')\n",
    "        preproc.one_hot_encode(rul_df = tr_df, rul_df_test = te_df, c_col = 'kmeans')\n",
    "        preproc.c_drop_zero_variance(rul_df = tr_df, rul_df_test = te_df , c_cols = tr_df.categ_cols)\n",
    "        preproc.c_scale(rul_df = tr_df, rul_df_test = te_df , c_cols = tr_df.categ_cols, scale = 'std')\n",
    "    \n",
    "    # adjust to label size\n",
    "    preproc.delete_first_n(tr_df, 9)\n",
    "\n",
    "    labels = pd.read_csv(f'labels/FD00{dataset}')\n",
    "    label_cols = ['linear', 'piecewise_optimized', 'piecewise_125', 'descriptive', 'spearman', 'rec_error']\n",
    "    if not labels.shape[0] == tr_df.df.shape[0]:\n",
    "        print(f'Labels and Data do not have same length. Dataset FD00{dataset}')\n",
    "    temp = pd.concat([tr_df.df, labels], axis=1)\n",
    "    training_data_with_labels = rd.RUL_DataFrame(df = temp, data_cols = tr_df.data_cols, categ_cols = tr_df.categ_cols, label_cols = ['linear', 'piecewise_optimized', 'piecewise_125', 'descriptive', 'spearman',\n",
    "                                                            'rec_error'])\n",
    "\n",
    "    Xtrain = training_data_with_labels.df[training_data_with_labels.data_cols + training_data_with_labels.categ_cols]\n",
    "    Xtest = te_df.df[te_df.data_cols + te_df.categ_cols]\n",
    "    Ytrain = training_data_with_labels.df[training_data_with_labels.label_cols + training_data_with_labels.categ_cols]\n",
    "    Ytest = te_df.df['linear']\n",
    "\n",
    "    sequence_length = 60\n",
    "    stride = 20\n",
    "    frac = 2\n",
    "    mask_value = -100.0\n",
    "    groupshufflesplit = GroupShuffleSplit(n_splits = 1, train_size = 0.8 , random_state = 42)\n",
    "    Xtrain_split, Ytrain_split, groupstrain, Xval_split, Yval_split, groupsval = training_validation_split(Xtrain, Ytrain, groupshufflesplit, \n",
    "                                                                                        groups = training_data_with_labels.df[training_data_with_labels.id_col])\n",
    "\n",
    "    Xtrain_split_sequences = make_data_to_sequence(Xtrain_split, sequence_length, groupstrain, mask_value, stride, frac = frac)\n",
    "    Ytrain_split_sequences = make_data_to_sequence(Ytrain_split, sequence_length, groupstrain, mask_value, stride, y = True, frac = frac)\n",
    "    Xval_split_sequences = make_data_to_sequence(Xval_split, sequence_length, groupsval, mask_value, stride, frac = frac)\n",
    "    Yval_split_sequences = make_data_to_sequence(Yval_split, sequence_length, groupsval, mask_value, stride, y = True, frac = frac)\n",
    "\n",
    "    Xtrain_whole_sequences = make_data_to_sequence(Xtrain, sequence_length, tr_df.df[tr_df.id_col], mask_value, stride, frac = frac)\n",
    "    Ytrain_whole_sequences = make_data_to_sequence(Ytrain, sequence_length, tr_df.df[tr_df.id_col], mask_value, stride, y = True, frac = frac)\n",
    "\n",
    "    Xtest_sequences = make_xtest_to_sequence(Xtest, sequence_length, te_df.df[te_df.id_col], mask_value)\n",
    "    Ytest_sequences = make_ytest(Ytest, sequence_length, te_df.df[te_df.id_col])"
   ]
  },
  {
   "cell_type": "markdown",
   "id": "5d58eb69",
   "metadata": {},
   "source": [
    "# Fit linear model for comparison"
   ]
  },
  {
   "cell_type": "code",
   "execution_count": 167,
   "id": "b48dfcb9",
   "metadata": {},
   "outputs": [
    {
     "name": "stdout",
     "output_type": "stream",
     "text": [
      "Test set RSME = 55.14430606680672, S = 19759454077.306793 R2 = 0.07999694871695906\n"
     ]
    }
   ],
   "source": [
    "from sklearn.linear_model import LinearRegression\n",
    "lm = LinearRegression()\n",
    "lm.fit(Xtrain, Ytrain['rec_error'])\n",
    "\n",
    "Yhat_lm_test = lm.predict(Xtest_sequences)\n",
    "evaluate(Ytest, Yhat_lm_test)"
   ]
  },
  {
   "cell_type": "code",
   "execution_count": 163,
   "id": "1b29d73d",
   "metadata": {},
   "outputs": [
    {
     "data": {
      "text/html": [
       "<div>\n",
       "<style scoped>\n",
       "    .dataframe tbody tr th:only-of-type {\n",
       "        vertical-align: middle;\n",
       "    }\n",
       "\n",
       "    .dataframe tbody tr th {\n",
       "        vertical-align: top;\n",
       "    }\n",
       "\n",
       "    .dataframe thead th {\n",
       "        text-align: right;\n",
       "    }\n",
       "</style>\n",
       "<table border=\"1\" class=\"dataframe\">\n",
       "  <thead>\n",
       "    <tr style=\"text-align: right;\">\n",
       "      <th></th>\n",
       "      <th>s2</th>\n",
       "      <th>s3</th>\n",
       "      <th>s4</th>\n",
       "      <th>s7</th>\n",
       "      <th>s8</th>\n",
       "      <th>s9</th>\n",
       "      <th>s11</th>\n",
       "      <th>s12</th>\n",
       "      <th>s13</th>\n",
       "      <th>s14</th>\n",
       "      <th>s15</th>\n",
       "      <th>s17</th>\n",
       "      <th>s20</th>\n",
       "      <th>s21</th>\n",
       "    </tr>\n",
       "  </thead>\n",
       "  <tbody>\n",
       "    <tr>\n",
       "      <th>0</th>\n",
       "      <td>0.298494</td>\n",
       "      <td>0.363462</td>\n",
       "      <td>0.313808</td>\n",
       "      <td>0.683736</td>\n",
       "      <td>0.225758</td>\n",
       "      <td>0.124877</td>\n",
       "      <td>0.251190</td>\n",
       "      <td>0.736887</td>\n",
       "      <td>0.241176</td>\n",
       "      <td>0.166622</td>\n",
       "      <td>0.321239</td>\n",
       "      <td>0.316667</td>\n",
       "      <td>0.654264</td>\n",
       "      <td>0.684065</td>\n",
       "    </tr>\n",
       "    <tr>\n",
       "      <th>1</th>\n",
       "      <td>0.312349</td>\n",
       "      <td>0.346130</td>\n",
       "      <td>0.313876</td>\n",
       "      <td>0.686634</td>\n",
       "      <td>0.224242</td>\n",
       "      <td>0.126411</td>\n",
       "      <td>0.232143</td>\n",
       "      <td>0.731343</td>\n",
       "      <td>0.239706</td>\n",
       "      <td>0.167633</td>\n",
       "      <td>0.326818</td>\n",
       "      <td>0.316667</td>\n",
       "      <td>0.644961</td>\n",
       "      <td>0.692309</td>\n",
       "    </tr>\n",
       "    <tr>\n",
       "      <th>2</th>\n",
       "      <td>0.309639</td>\n",
       "      <td>0.327796</td>\n",
       "      <td>0.308828</td>\n",
       "      <td>0.699034</td>\n",
       "      <td>0.231818</td>\n",
       "      <td>0.128789</td>\n",
       "      <td>0.213690</td>\n",
       "      <td>0.721109</td>\n",
       "      <td>0.232353</td>\n",
       "      <td>0.169058</td>\n",
       "      <td>0.312197</td>\n",
       "      <td>0.308333</td>\n",
       "      <td>0.649612</td>\n",
       "      <td>0.684355</td>\n",
       "    </tr>\n",
       "    <tr>\n",
       "      <th>3</th>\n",
       "      <td>0.331325</td>\n",
       "      <td>0.315152</td>\n",
       "      <td>0.303140</td>\n",
       "      <td>0.685829</td>\n",
       "      <td>0.237879</td>\n",
       "      <td>0.126043</td>\n",
       "      <td>0.220238</td>\n",
       "      <td>0.708955</td>\n",
       "      <td>0.239706</td>\n",
       "      <td>0.166410</td>\n",
       "      <td>0.311197</td>\n",
       "      <td>0.333333</td>\n",
       "      <td>0.648062</td>\n",
       "      <td>0.674896</td>\n",
       "    </tr>\n",
       "    <tr>\n",
       "      <th>4</th>\n",
       "      <td>0.331325</td>\n",
       "      <td>0.337301</td>\n",
       "      <td>0.298565</td>\n",
       "      <td>0.686312</td>\n",
       "      <td>0.234848</td>\n",
       "      <td>0.125096</td>\n",
       "      <td>0.238690</td>\n",
       "      <td>0.683582</td>\n",
       "      <td>0.227941</td>\n",
       "      <td>0.166720</td>\n",
       "      <td>0.322047</td>\n",
       "      <td>0.341667</td>\n",
       "      <td>0.671318</td>\n",
       "      <td>0.676098</td>\n",
       "    </tr>\n",
       "    <tr>\n",
       "      <th>...</th>\n",
       "      <td>...</td>\n",
       "      <td>...</td>\n",
       "      <td>...</td>\n",
       "      <td>...</td>\n",
       "      <td>...</td>\n",
       "      <td>...</td>\n",
       "      <td>...</td>\n",
       "      <td>...</td>\n",
       "      <td>...</td>\n",
       "      <td>...</td>\n",
       "      <td>...</td>\n",
       "      <td>...</td>\n",
       "      <td>...</td>\n",
       "      <td>...</td>\n",
       "    </tr>\n",
       "    <tr>\n",
       "      <th>19726</th>\n",
       "      <td>0.676506</td>\n",
       "      <td>0.623174</td>\n",
       "      <td>0.739855</td>\n",
       "      <td>0.261997</td>\n",
       "      <td>0.490909</td>\n",
       "      <td>0.202697</td>\n",
       "      <td>0.753571</td>\n",
       "      <td>0.245203</td>\n",
       "      <td>0.525000</td>\n",
       "      <td>0.212767</td>\n",
       "      <td>0.713390</td>\n",
       "      <td>0.666667</td>\n",
       "      <td>0.242636</td>\n",
       "      <td>0.273875</td>\n",
       "    </tr>\n",
       "    <tr>\n",
       "      <th>19727</th>\n",
       "      <td>0.673795</td>\n",
       "      <td>0.639612</td>\n",
       "      <td>0.760263</td>\n",
       "      <td>0.251208</td>\n",
       "      <td>0.492424</td>\n",
       "      <td>0.202324</td>\n",
       "      <td>0.753571</td>\n",
       "      <td>0.235181</td>\n",
       "      <td>0.525000</td>\n",
       "      <td>0.210708</td>\n",
       "      <td>0.715391</td>\n",
       "      <td>0.658333</td>\n",
       "      <td>0.213953</td>\n",
       "      <td>0.264015</td>\n",
       "    </tr>\n",
       "    <tr>\n",
       "      <th>19728</th>\n",
       "      <td>0.680723</td>\n",
       "      <td>0.649836</td>\n",
       "      <td>0.762981</td>\n",
       "      <td>0.253945</td>\n",
       "      <td>0.489394</td>\n",
       "      <td>0.201526</td>\n",
       "      <td>0.741667</td>\n",
       "      <td>0.235821</td>\n",
       "      <td>0.529412</td>\n",
       "      <td>0.211281</td>\n",
       "      <td>0.747403</td>\n",
       "      <td>0.683333</td>\n",
       "      <td>0.220155</td>\n",
       "      <td>0.247183</td>\n",
       "    </tr>\n",
       "    <tr>\n",
       "      <th>19729</th>\n",
       "      <td>0.666867</td>\n",
       "      <td>0.661631</td>\n",
       "      <td>0.768687</td>\n",
       "      <td>0.238969</td>\n",
       "      <td>0.500000</td>\n",
       "      <td>0.203334</td>\n",
       "      <td>0.765476</td>\n",
       "      <td>0.239446</td>\n",
       "      <td>0.527941</td>\n",
       "      <td>0.211028</td>\n",
       "      <td>0.767372</td>\n",
       "      <td>0.666667</td>\n",
       "      <td>0.192248</td>\n",
       "      <td>0.247860</td>\n",
       "    </tr>\n",
       "    <tr>\n",
       "      <th>19730</th>\n",
       "      <td>0.688855</td>\n",
       "      <td>0.674559</td>\n",
       "      <td>0.778984</td>\n",
       "      <td>0.234622</td>\n",
       "      <td>0.507576</td>\n",
       "      <td>0.201871</td>\n",
       "      <td>0.777976</td>\n",
       "      <td>0.234755</td>\n",
       "      <td>0.527941</td>\n",
       "      <td>0.208474</td>\n",
       "      <td>0.762524</td>\n",
       "      <td>0.675000</td>\n",
       "      <td>0.188372</td>\n",
       "      <td>0.246741</td>\n",
       "    </tr>\n",
       "  </tbody>\n",
       "</table>\n",
       "<p>19731 rows × 14 columns</p>\n",
       "</div>"
      ],
      "text/plain": [
       "             s2        s3        s4        s7        s8        s9       s11  \\\n",
       "0      0.298494  0.363462  0.313808  0.683736  0.225758  0.124877  0.251190   \n",
       "1      0.312349  0.346130  0.313876  0.686634  0.224242  0.126411  0.232143   \n",
       "2      0.309639  0.327796  0.308828  0.699034  0.231818  0.128789  0.213690   \n",
       "3      0.331325  0.315152  0.303140  0.685829  0.237879  0.126043  0.220238   \n",
       "4      0.331325  0.337301  0.298565  0.686312  0.234848  0.125096  0.238690   \n",
       "...         ...       ...       ...       ...       ...       ...       ...   \n",
       "19726  0.676506  0.623174  0.739855  0.261997  0.490909  0.202697  0.753571   \n",
       "19727  0.673795  0.639612  0.760263  0.251208  0.492424  0.202324  0.753571   \n",
       "19728  0.680723  0.649836  0.762981  0.253945  0.489394  0.201526  0.741667   \n",
       "19729  0.666867  0.661631  0.768687  0.238969  0.500000  0.203334  0.765476   \n",
       "19730  0.688855  0.674559  0.778984  0.234622  0.507576  0.201871  0.777976   \n",
       "\n",
       "            s12       s13       s14       s15       s17       s20       s21  \n",
       "0      0.736887  0.241176  0.166622  0.321239  0.316667  0.654264  0.684065  \n",
       "1      0.731343  0.239706  0.167633  0.326818  0.316667  0.644961  0.692309  \n",
       "2      0.721109  0.232353  0.169058  0.312197  0.308333  0.649612  0.684355  \n",
       "3      0.708955  0.239706  0.166410  0.311197  0.333333  0.648062  0.674896  \n",
       "4      0.683582  0.227941  0.166720  0.322047  0.341667  0.671318  0.676098  \n",
       "...         ...       ...       ...       ...       ...       ...       ...  \n",
       "19726  0.245203  0.525000  0.212767  0.713390  0.666667  0.242636  0.273875  \n",
       "19727  0.235181  0.525000  0.210708  0.715391  0.658333  0.213953  0.264015  \n",
       "19728  0.235821  0.529412  0.211281  0.747403  0.683333  0.220155  0.247183  \n",
       "19729  0.239446  0.527941  0.211028  0.767372  0.666667  0.192248  0.247860  \n",
       "19730  0.234755  0.527941  0.208474  0.762524  0.675000  0.188372  0.246741  \n",
       "\n",
       "[19731 rows x 14 columns]"
      ]
     },
     "execution_count": 163,
     "metadata": {},
     "output_type": "execute_result"
    }
   ],
   "source": []
  },
  {
   "cell_type": "code",
   "execution_count": 254,
   "id": "fb81f337",
   "metadata": {},
   "outputs": [],
   "source": [
    "# prepare data\n",
    "# 1. training-validation split\n",
    "\n",
    "def training_validation_split(X, Y, groupshufflesplit, groups = tr_df.df[tr_df.id_col], verbose = False):\n",
    "    for itrain, ival in groupshufflesplit.split(X, Y, groups = groups):\n",
    "        Xtrain = X.iloc[itrain].copy()\n",
    "        Ytrain = Y.iloc[itrain].copy()\n",
    "        Xval = X.iloc[ival].copy()\n",
    "        Yval = Y.iloc[ival].copy()\n",
    "        if verbose:\n",
    "            print(f'Training data ids {groups[itrain].unique()}')\n",
    "            print(f'Validation data ids {groups[ival].unique()}')\n",
    "    return Xtrain, Ytrain, groups[itrain], Xval, Yval, groups[ival]\n",
    "\n",
    "# 2. make xtest\n",
    "def make_xtest_to_sequences_one_id(df, sequence_length, mask_value):\n",
    "    n = df.shape[0]\n",
    "    if n > sequence_length:\n",
    "        return df[sequence_length-1:n]\n",
    "    if n < sequence_length:\n",
    "        index = sequence_length - n\n",
    "        Xpadded = np.full(shape = (sequence_length, df.shape[1]), fill_value = mask_value).astype(np.float32)\n",
    "        Xpadded[index:, :] = df.values\n",
    "        yield Xpadded\n",
    "def make_xtest_to_sequences(df, sequence_length, groups, mask_value):\n",
    "    Xtemp = (list(make_xtest_to_sequences_one_id(df[groups==i], sequence_length, mask_value)) for i in groups.unique())\n",
    "    return np.concatenate(list(Xtemp)).astype(np.float32)\n",
    "\n",
    "# 3. make ytest\n",
    "def make_ytest_one_id(df, sequence_length):\n",
    "    return df[-1:]   \n",
    "def make_ytest(df, sequence_length, groups):\n",
    "    Ytemp = [make_ytest_one_id(df[groups==i], sequence_length) for i in groups.unique()]\n",
    "    return np.concatenate(Ytemp).astype(np.float32)\n",
    "\n",
    "# 4. make xrain data\n",
    "def make_xtrain_to_sequences_one_id(df, sequence_length, mask_value):\n",
    "    n = df.shape[0]\n",
    "    if n > sequence_length:\n",
    "        for start, stop in zip(range(0, n - sequence_length + 1), range(sequence_length, n + 1)):\n",
    "            yield(df.values[start:stop,:])\n",
    "    if n < sequence_length:\n",
    "        index = sequence_length - n\n",
    "        Xpadded = np.full(shape = (sequence_length, df.shape[1]), fill_value = mask_value).astype(np.float32)\n",
    "        Xpadded[index:, :] = df.values\n",
    "        yield Xpadded\n",
    "def make_xtrain_to_sequence(df, sequence_length, groups, mask_value):\n",
    "    Xtemp = (list(make_xtrain_to_sequences_one_id(df[groups==i], sequence_length, mask_value)) for i in groups.unique())\n",
    "    return np.concatenate(list(Xtemp)).astype(np.float32)\n",
    "# 5. make ytrain data\n",
    "def make_ytrain_accordingly_one_id(df, sequence_length, mask_value):\n",
    "    n = df.shape[0]\n",
    "    if n < sequence_length:\n",
    "        return df[-1:]\n",
    "    return df[sequence_length-1:n] \n",
    "def make_ytrain_accordingly(df, sequence_length, groups, mask_value):\n",
    "    Ytemp = [make_ytrain_accordingly_one_id(df[groups==i], sequence_length, mask_value) for i in groups.unique()]\n",
    "    return np.concatenate(Ytemp).astype(np.float32)"
   ]
  },
  {
   "cell_type": "code",
   "execution_count": 255,
   "id": "9b007f7f",
   "metadata": {},
   "outputs": [],
   "source": [
    "sequence_length = 100\n",
    "mask_value = 100.0\n",
    "groupshufflesplit = GroupShuffleSplit(n_splits = 1, train_size = 0.8 , random_state = 42)\n",
    "Xtrain_split, Ytrain_split, groupstrain, Xval_split, Yval_split, groupsval = training_validation_split(Xtrain, Ytrain, groupshufflesplit)\n",
    "Xtrain_split_sequences = make_x_to_sequences(Xtrain_split, sequence_length, groupstrain)\n",
    "Ytrain_split_sequences = make_y_accordingly(Ytrain_split, sequence_length, groupstrain)\n",
    "Xval_split_sequences = make_x_to_sequences(Xval_split, sequence_length, groupsval)\n",
    "Yval_split_sequences = make_y_accordingly(Xval_split, sequence_length, groupsval)\n",
    "\n",
    "Xtrain_whole_sequences = make_x_to_sequences(Xtrain, sequence_length, tr_df.df[tr_df.id_col])\n",
    "Ytrain_whole_sequences = make_y_accordingly(Ytrain, sequence_length, tr_df.df[tr_df.id_col])\n",
    "\n",
    "Xtest_sequences = make_test_x_to_sequence(Xtest, sequence_length, te_df.df[te_df.id_col], mask_value)\n",
    "Ytest_sequences = make_test_y_accordingly(Ytest, sequence_length, te_df.df[te_df.id_col], mask_value)"
   ]
  },
  {
   "cell_type": "markdown",
   "id": "impossible-argentina",
   "metadata": {},
   "source": [
    "### LSTM Model\n",
    "Layers:\n",
    "1. 1D Convolutional Layer (input_dim) -> 32\n",
    "2. LSTM 32 -> 256\n",
    "3. LSTM 246 -> 128\n",
    "4. Dense 128 -> 128\n",
    "5. Dense 128 -> 16\n",
    "6. Dense 16 -> 1"
   ]
  },
  {
   "cell_type": "code",
   "execution_count": null,
   "id": "e2e2740c",
   "metadata": {},
   "outputs": [],
   "source": [
    "def make_model(input_shape = Xtrain_split_sequences.shape[1:], masking = True, mask_value = 100., conv_layer = True, n_channels = 32, kernel_size = 5,\n",
    "                dense_regulatization = regularizers.l2(0.001), lstm_regularization = regularizers.l2(0.001), conv_regualrizer = regularizers.l2(0.001),\n",
    "                lstm_dims = [256, 128], dropout = True, d_rate = 0.2, dense_dims = [128, 16]):\n",
    "    model = Sequential()\n",
    "    if masking:\n",
    "        model.add(Masking(mask_value = mask_value, input_shape = input_shape))\n",
    "    if conv_layer:\n",
    "        model.add(Conv1D(filters = n_channels, kernel_size = kernel_size, activation = 'relu', kernel_regularizer = conv_regualrizer))\n",
    "    rs = True\n",
    "    n = len(lstm_dims)\n",
    "    c = 1\n",
    "    for d in lstm_dims:\n",
    "        if c == n:\n",
    "            rs = False\n",
    "        model.add(LSTM(units = d, return_sequences = rs, kernel_regularizer = lstm_regularization))\n",
    "        c += 1\n",
    "    if dropout:\n",
    "        model.add(Dropout(rate = d_rate))\n",
    "    for d in dense_dims:\n",
    "        model.add(Dense(units = d, activation = 'relu', kernel_regularizer = dense_regulatization))\n",
    "    model.add(Dense(units = 1))\n",
    "    model.compile(loss='mean_squared_error', optimizer='adam')\n",
    "    return model"
   ]
  },
  {
   "cell_type": "code",
   "execution_count": null,
   "id": "3ab255fa",
   "metadata": {},
   "outputs": [],
   "source": [
    "lstm_model = make_model()\n",
    "lstm_model.fit(Xtrain_split_sequences, Ytrain_split_sequences[:,3],\n",
    "                    validation_data = (Xval_split_sequences, Yval_split_sequences[:,3]),\n",
    "                    epochs = 50,\n",
    "                    batch_size = 2) "
   ]
  },
  {
   "cell_type": "code",
   "execution_count": 136,
   "id": "45920ee5",
   "metadata": {},
   "outputs": [
    {
     "name": "stdout",
     "output_type": "stream",
     "text": [
      "Test set RSME = 36.04899215698242 and R2 = 0.24746498636972647\n"
     ]
    }
   ],
   "source": [
    "Yhat_train = lstm_model.predict(Xtrain_whole_sequences)\n",
    "evaluate(Ytrain_whole_sequences[:,3], Yhat_train, 'Train')\n",
    "Yhat_test = lstm_model.predict(Xtest_sequences)\n",
    "evaluate(Ytest_sequences, Yhat_test)"
   ]
  },
  {
   "cell_type": "code",
   "execution_count": 175,
   "id": "85c21540",
   "metadata": {},
   "outputs": [
    {
     "name": "stdout",
     "output_type": "stream",
     "text": [
      "Test set RSME = 36.04899215698242, S = 95396.484375 R2 = 0.24746498636972647\n"
     ]
    }
   ],
   "source": [
    "evaluate(Ytest_sequences, Yhat_test)"
   ]
  },
  {
   "cell_type": "code",
   "execution_count": 160,
   "id": "0857010f",
   "metadata": {},
   "outputs": [
    {
     "data": {
      "image/png": "[encoded data removed]",
      "text/plain": [
       "<Figure size 720x720 with 1 Axes>"
      ]
     },
     "metadata": {
      "needs_background": "light"
     },
     "output_type": "display_data"
    }
   ],
   "source": [
    "plt.figure(figsize = (10,10))\n",
    "plt.scatter(range(len(Ytest_sequences)), Ytest_sequences)\n",
    "plt.scatter(range(len(Yhat_test)), Yhat_test, color = 'red')\n",
    "plt.show()"
   ]
  },
  {
   "cell_type": "code",
   "execution_count": 132,
   "id": "8fdc1349",
   "metadata": {},
   "outputs": [
    {
     "name": "stdout",
     "output_type": "stream",
     "text": [
      "Model: \"sequential_2\"\n",
      "_________________________________________________________________\n",
      " Layer (type)                Output Shape              Param #   \n",
      "=================================================================\n",
      " masking_2 (Masking)         (None, 100, 14)           0         \n",
      "                                                                 \n",
      " conv1d_2 (Conv1D)           (None, 96, 32)            2272      \n",
      "                                                                 \n",
      " lstm_4 (LSTM)               (None, 96, 256)           295936    \n",
      "                                                                 \n",
      " lstm_5 (LSTM)               (None, 128)               197120    \n",
      "                                                                 \n",
      " dropout_2 (Dropout)         (None, 128)               0         \n",
      "                                                                 \n",
      " dense_6 (Dense)             (None, 128)               16512     \n",
      "                                                                 \n",
      " dense_7 (Dense)             (None, 16)                2064      \n",
      "                                                                 \n",
      " dense_8 (Dense)             (None, 1)                 17        \n",
      "                                                                 \n",
      "=================================================================\n",
      "Total params: 513,921\n",
      "Trainable params: 513,921\n",
      "Non-trainable params: 0\n",
      "_________________________________________________________________\n"
     ]
    }
   ],
   "source": [
    "lstm_model.summary()"
   ]
  },
  {
   "cell_type": "code",
   "execution_count": null,
   "id": "321ca60f",
   "metadata": {},
   "outputs": [],
   "source": [
    "lstm_model.save(f'saved_models/lstm_model_FD00{dataset}_weights')"
   ]
  }
 ],
 "metadata": {
  "kernelspec": {
   "display_name": "Python 3.9.1 64-bit",
   "language": "python",
   "name": "python3"
  },
  "language_info": {
   "codemirror_mode": {
    "name": "ipython",
    "version": 3
   },
   "file_extension": ".py",
   "mimetype": "text/x-python",
   "name": "python",
   "nbconvert_exporter": "python",
   "pygments_lexer": "ipython3",
   "version": "3.9.1"
  },
  "vscode": {
   "interpreter": {
    "hash": "9ca1dab13569cba37c96f77d2e230d532249c1dfc43abceb441f3610f1bfff28"
   }
  }
 },
 "nbformat": 4,
 "nbformat_minor": 5
}
