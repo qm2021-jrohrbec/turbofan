{
 "cells": [
  {
   "cell_type": "code",
   "execution_count": 10,
   "metadata": {},
   "outputs": [
    {
     "data": {
      "image/png": "[encoded data removed]",
      "text/plain": [
       "<Figure size 720x360 with 2 Axes>"
      ]
     },
     "metadata": {
      "needs_background": "light"
     },
     "output_type": "display_data"
    }
   ],
   "source": [
    "from topologylayer.nn import AlphaLayer, BarcodePolyFeature\n",
    "import torch, numpy as np, matplotlib.pyplot as plt\n",
    "\n",
    "# random pointcloud\n",
    "np.random.seed(0)\n",
    "data = np.random.rand(100, 2)\n",
    "# data = np.concatenate((np.expand_dims(np.arange(1,101), axis=1), np.expand_dims(np.random.rand(100), axis=1)), axis=1)\n",
    "# data = np.expand_dims(np.sin(np.arange(1,101)/10)+np.random.rand(100), axis=1)\n",
    "\n",
    "# optimization to increase size of holes\n",
    "layer = AlphaLayer(maxdim=1)\n",
    "x = torch.autograd.Variable(torch.tensor(data).type(torch.float), requires_grad=True)\n",
    "f1 = BarcodePolyFeature(1,2,0)\n",
    "f2 = BarcodePolyFeature(0,2,0)\n",
    "optimizer = torch.optim.Adam([x], lr=1e-2)\n",
    "for i in range(100):\n",
    "    optimizer.zero_grad()\n",
    "    loss = -f1(layer(x)) + f2(layer(x))\n",
    "    loss.backward()\n",
    "    optimizer.step()\n",
    "\n",
    "# save figure\n",
    "y = x.detach().numpy()\n",
    "# data = np.concatenate((np.expand_dims(np.arange(1,101), axis=1), data), axis=1)\n",
    "# y = np.concatenate((np.expand_dims(np.arange(1,101), axis=1), y), axis=1)\n",
    "\n",
    "fig, ax = plt.subplots(ncols=2, figsize=(10,5))\n",
    "ax[0].scatter(data[:,0], data[:,1])\n",
    "ax[0].set_title(\"Before\")\n",
    "ax[1].scatter(y[:,0], y[:,1])\n",
    "ax[1].set_title(\"After\")\n",
    "for i in range(2):\n",
    "    ax[i].set_yticklabels([])\n",
    "    ax[i].set_xticklabels([])\n",
    "    ax[i].tick_params(bottom=False, left=False)\n",
    "# plt.savefig('holes.png')"
   ]
  },
  {
   "cell_type": "code",
   "execution_count": 7,
   "metadata": {},
   "outputs": [
    {
     "data": {
      "text/plain": [
       "((tensor([[0.0000,    inf],\n",
       "          [0.0000, 0.0670],\n",
       "          [0.0000, 0.0823],\n",
       "          [0.0000, 0.1091],\n",
       "          [0.0000, 0.1197],\n",
       "          [0.0000, 0.1112],\n",
       "          [0.0000, 0.1348],\n",
       "          [0.0000, 0.1190],\n",
       "          [0.0000, 0.1247],\n",
       "          [0.0000, 0.1548],\n",
       "          [0.0000, 0.1224],\n",
       "          [0.0000, 0.0674],\n",
       "          [0.0000, 0.1149],\n",
       "          [0.0000, 0.1047],\n",
       "          [0.0000, 0.0648],\n",
       "          [0.0000, 0.1197],\n",
       "          [0.0000, 0.0498],\n",
       "          [0.0000, 0.0875],\n",
       "          [0.0000, 0.0490],\n",
       "          [0.0000, 0.0748],\n",
       "          [0.0000, 0.1190],\n",
       "          [0.0000, 0.1120],\n",
       "          [0.0000, 0.0766],\n",
       "          [0.0000, 0.0910],\n",
       "          [0.0000, 0.0506],\n",
       "          [0.0000, 0.0540],\n",
       "          [0.0000, 0.1505],\n",
       "          [0.0000, 0.0324],\n",
       "          [0.0000, 0.1086],\n",
       "          [0.0000, 0.1025],\n",
       "          [0.0000, 0.0547],\n",
       "          [0.0000, 0.0882],\n",
       "          [0.0000, 0.1019],\n",
       "          [0.0000, 0.0961],\n",
       "          [0.0000, 0.0170],\n",
       "          [0.0000, 0.0862],\n",
       "          [0.0000, 0.0435],\n",
       "          [0.0000, 0.0356],\n",
       "          [0.0000, 0.0729],\n",
       "          [0.0000, 0.0134],\n",
       "          [0.0000, 0.0474],\n",
       "          [0.0000, 0.0754],\n",
       "          [0.0000, 0.0774],\n",
       "          [0.0000, 0.1181],\n",
       "          [0.0000, 0.0087],\n",
       "          [0.0000, 0.1073],\n",
       "          [0.0000, 0.0717],\n",
       "          [0.0000, 0.0633],\n",
       "          [0.0000, 0.0739],\n",
       "          [0.0000, 0.0918],\n",
       "          [0.0000, 0.0298],\n",
       "          [0.0000, 0.0967],\n",
       "          [0.0000, 0.0948],\n",
       "          [0.0000, 0.0294],\n",
       "          [0.0000, 0.0428],\n",
       "          [0.0000, 0.0464],\n",
       "          [0.0000, 0.0350],\n",
       "          [0.0000, 0.0877],\n",
       "          [0.0000, 0.0624],\n",
       "          [0.0000, 0.0629],\n",
       "          [0.0000, 0.0553],\n",
       "          [0.0000, 0.0398],\n",
       "          [0.0000, 0.0395],\n",
       "          [0.0000, 0.1163],\n",
       "          [0.0000, 0.0267],\n",
       "          [0.0000, 0.0488],\n",
       "          [0.0000, 0.0933],\n",
       "          [0.0000, 0.0289],\n",
       "          [0.0000, 0.0524],\n",
       "          [0.0000, 0.0342],\n",
       "          [0.0000, 0.0690],\n",
       "          [0.0000, 0.0017],\n",
       "          [0.0000, 0.0764],\n",
       "          [0.0000, 0.0499],\n",
       "          [0.0000, 0.0422],\n",
       "          [0.0000, 0.0711],\n",
       "          [0.0000, 0.0499],\n",
       "          [0.0000, 0.0326],\n",
       "          [0.0000, 0.0431],\n",
       "          [0.0000, 0.1148],\n",
       "          [0.0000, 0.0504],\n",
       "          [0.0000, 0.0562],\n",
       "          [0.0000, 0.0567],\n",
       "          [0.0000, 0.0589],\n",
       "          [0.0000, 0.0809],\n",
       "          [0.0000, 0.0397],\n",
       "          [0.0000, 0.1006],\n",
       "          [0.0000, 0.0824],\n",
       "          [0.0000, 0.0975],\n",
       "          [0.0000, 0.0292],\n",
       "          [0.0000, 0.0063],\n",
       "          [0.0000, 0.0295],\n",
       "          [0.0000, 0.0371],\n",
       "          [0.0000, 0.0343],\n",
       "          [0.0000, 0.0339],\n",
       "          [0.0000, 0.0764],\n",
       "          [0.0000, 0.0378],\n",
       "          [0.0000, 0.0180],\n",
       "          [0.0000, 0.0944],\n",
       "          [0.0000, 0.0877]], grad_fn=<FlagDiagramBackward>),),\n",
       " True)"
      ]
     },
     "execution_count": 7,
     "metadata": {},
     "output_type": "execute_result"
    }
   ],
   "source": [
    "layer(x)"
   ]
  },
  {
   "cell_type": "code",
   "execution_count": 36,
   "metadata": {},
   "outputs": [],
   "source": [
    "data = np.expand_dims(10*np.sin(np.arange(1,101)/10)+np.random.rand(100), axis=1)\n"
   ]
  },
  {
   "cell_type": "code",
   "execution_count": 11,
   "metadata": {},
   "outputs": [
    {
     "data": {
      "text/plain": [
       "torch.Size([100, 1])"
      ]
     },
     "execution_count": 11,
     "metadata": {},
     "output_type": "execute_result"
    }
   ],
   "source": [
    "torch.autograd.Variable(torch.tensor(data).type(torch.float), requires_grad=True).size()\n"
   ]
  },
  {
   "cell_type": "code",
   "execution_count": 37,
   "metadata": {},
   "outputs": [
    {
     "data": {
      "text/plain": [
       "((tensor([[0.0000,    inf],\n",
       "          [0.0000, 0.0987],\n",
       "          [0.0000, 0.9212],\n",
       "          [0.0000, 0.1388],\n",
       "          [0.0000, 0.1147],\n",
       "          [0.0000, 0.1070],\n",
       "          [0.0000, 0.0216],\n",
       "          [0.0000, 0.0499],\n",
       "          [0.0000, 0.0196],\n",
       "          [0.0000, 0.2828],\n",
       "          [0.0000, 0.2628],\n",
       "          [0.0000, 0.0427],\n",
       "          [0.0000, 0.0279],\n",
       "          [0.0000, 0.1559],\n",
       "          [0.0000, 0.0744],\n",
       "          [0.0000, 0.2583],\n",
       "          [0.0000, 0.2259],\n",
       "          [0.0000, 0.0461],\n",
       "          [0.0000, 0.0503],\n",
       "          [0.0000, 0.7041],\n",
       "          [0.0000, 0.3035],\n",
       "          [0.0000, 0.3368],\n",
       "          [0.0000, 0.0424],\n",
       "          [0.0000, 0.2384],\n",
       "          [0.0000, 0.7280],\n",
       "          [0.0000, 0.3377],\n",
       "          [0.0000, 0.1151],\n",
       "          [0.0000, 0.0023],\n",
       "          [0.0000, 0.3212],\n",
       "          [0.0000, 0.3789],\n",
       "          [0.0000, 0.0087],\n",
       "          [0.0000, 0.3708],\n",
       "          [0.0000, 0.0293],\n",
       "          [0.0000, 0.0776],\n",
       "          [0.0000, 0.2540],\n",
       "          [0.0000, 0.4967],\n",
       "          [0.0000, 0.1256],\n",
       "          [0.0000, 0.7003],\n",
       "          [0.0000, 0.1894],\n",
       "          [0.0000, 0.0305],\n",
       "          [0.0000, 0.0138],\n",
       "          [0.0000, 0.4448],\n",
       "          [0.0000, 0.0377],\n",
       "          [0.0000, 0.4178],\n",
       "          [0.0000, 0.0649],\n",
       "          [0.0000, 0.0610],\n",
       "          [0.0000, 0.5366],\n",
       "          [0.0000, 0.3981],\n",
       "          [0.0000, 0.0168],\n",
       "          [0.0000, 0.3021],\n",
       "          [0.0000, 0.1033],\n",
       "          [0.0000, 0.4978],\n",
       "          [0.0000, 0.0157],\n",
       "          [0.0000, 0.0258],\n",
       "          [0.0000, 0.0384],\n",
       "          [0.0000, 0.1571],\n",
       "          [0.0000, 0.0588],\n",
       "          [0.0000, 0.0900],\n",
       "          [0.0000, 0.0606],\n",
       "          [0.0000, 0.0277],\n",
       "          [0.0000, 0.7565],\n",
       "          [0.0000, 0.4597],\n",
       "          [0.0000, 0.3705],\n",
       "          [0.0000, 0.0618],\n",
       "          [0.0000, 0.0661],\n",
       "          [0.0000, 0.4248],\n",
       "          [0.0000, 0.5463],\n",
       "          [0.0000, 0.3287],\n",
       "          [0.0000, 0.1572],\n",
       "          [0.0000, 0.3602],\n",
       "          [0.0000, 0.0626],\n",
       "          [0.0000, 0.1302],\n",
       "          [0.0000, 0.2595],\n",
       "          [0.0000, 0.2530],\n",
       "          [0.0000, 0.1347],\n",
       "          [0.0000, 0.2321],\n",
       "          [0.0000, 0.1861],\n",
       "          [0.0000, 0.6404],\n",
       "          [0.0000, 0.0199],\n",
       "          [0.0000, 0.5118],\n",
       "          [0.0000, 0.4304],\n",
       "          [0.0000, 0.0284],\n",
       "          [0.0000, 0.0470],\n",
       "          [0.0000, 0.1424],\n",
       "          [0.0000, 0.2237],\n",
       "          [0.0000, 0.0583],\n",
       "          [0.0000, 0.3172],\n",
       "          [0.0000, 0.3352],\n",
       "          [0.0000, 0.1381],\n",
       "          [0.0000, 0.2564],\n",
       "          [0.0000, 0.2197],\n",
       "          [0.0000, 0.1732],\n",
       "          [0.0000, 0.0069],\n",
       "          [0.0000, 0.0058],\n",
       "          [0.0000, 0.0246],\n",
       "          [0.0000, 0.0433],\n",
       "          [0.0000, 0.0037],\n",
       "          [0.0000, 0.0557],\n",
       "          [0.0000, 0.0665],\n",
       "          [0.0000, 0.0041]], grad_fn=<FlagDiagramBackward>),),\n",
       " True)"
      ]
     },
     "execution_count": 37,
     "metadata": {},
     "output_type": "execute_result"
    }
   ],
   "source": [
    "layer(torch.autograd.Variable(torch.tensor(data).type(torch.float), requires_grad=True))"
   ]
  },
  {
   "cell_type": "code",
   "execution_count": 35,
   "metadata": {},
   "outputs": [
    {
     "data": {
      "text/plain": [
       "0.27155"
      ]
     },
     "execution_count": 35,
     "metadata": {},
     "output_type": "execute_result"
    }
   ],
   "source": [
    "2.7155e-01"
   ]
  }
 ],
 "metadata": {
  "kernelspec": {
   "display_name": "Python 3.9.1 64-bit",
   "language": "python",
   "name": "python3"
  },
  "language_info": {
   "codemirror_mode": {
    "name": "ipython",
    "version": 3
   },
   "file_extension": ".py",
   "mimetype": "text/x-python",
   "name": "python",
   "nbconvert_exporter": "python",
   "pygments_lexer": "ipython3",
   "version": "3.9.1"
  },
  "orig_nbformat": 4,
  "vscode": {
   "interpreter": {
    "hash": "9ca1dab13569cba37c96f77d2e230d532249c1dfc43abceb441f3610f1bfff28"
   }
  }
 },
 "nbformat": 4,
 "nbformat_minor": 2
}
