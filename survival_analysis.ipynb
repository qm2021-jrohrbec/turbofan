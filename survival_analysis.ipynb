{
 "cells": [
  {
   "cell_type": "markdown",
   "id": "artistic-clause",
   "metadata": {},
   "source": [
    "Implementation of Kaplan Meier Curves"
   ]
  },
  {
   "cell_type": "code",
   "execution_count": 1,
   "id": "injured-indian",
   "metadata": {},
   "outputs": [],
   "source": [
    "import matplotlib.pyplot as plt\n",
    "import pandas as pd\n",
    "from ipynb.fs.full.get_data import getTFData"
   ]
  },
  {
   "cell_type": "code",
   "execution_count": 3,
   "id": "covered-dallas",
   "metadata": {},
   "outputs": [],
   "source": [
    "train, test = getTFData(sets = [1])"
   ]
  },
  {
   "cell_type": "code",
   "execution_count": 4,
   "id": "functioning-staff",
   "metadata": {},
   "outputs": [],
   "source": [
    "data = [[0 , 1.0]]\n",
    "survivaltimestrain = train[['id','rul']].groupby('id').max()\n",
    "survivaltimestest = test[['id','rul']].groupby('id').max()\n",
    "lifetimes = survivaltimestrain['rul'].tolist() + survivaltimestest['rul'].tolist()\n",
    "lifetimes.sort()\n",
    "nTimeseries = len(lifetimes)\n",
    "survivers = nTimeseries\n",
    "failures = 0\n",
    "for j in sorted(set(lifetimes)):\n",
    "    failures = lifetimes.count(j)\n",
    "    survivers = survivers - failures\n",
    "    data.append([j, survivers/nTimeseries])"
   ]
  },
  {
   "cell_type": "code",
   "execution_count": 6,
   "id": "sweet-solid",
   "metadata": {},
   "outputs": [
    {
     "data": {
      "image/png": "[encoded data removed]",
      "text/plain": [
       "<Figure size 432x288 with 1 Axes>"
      ]
     },
     "metadata": {
      "needs_background": "light"
     },
     "output_type": "display_data"
    }
   ],
   "source": [
    "x = [row[0] for row in data]\n",
    "y = [row[1] for row in data]\n",
    "plt.step(x, y)\n",
    "plt.ylabel('S(t)')\n",
    "plt.xlabel('t')\n",
    "plt.show()"
   ]
  }
 ],
 "metadata": {
  "kernelspec": {
   "display_name": "Python 3",
   "language": "python",
   "name": "python3"
  },
  "language_info": {
   "codemirror_mode": {
    "name": "ipython",
    "version": 3
   },
   "file_extension": ".py",
   "mimetype": "text/x-python",
   "name": "python",
   "nbconvert_exporter": "python",
   "pygments_lexer": "ipython3",
   "version": "3.9.1"
  }
 },
 "nbformat": 4,
 "nbformat_minor": 5
}
