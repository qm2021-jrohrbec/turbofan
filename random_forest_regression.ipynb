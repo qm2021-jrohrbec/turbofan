{
 "cells": [
  {
   "cell_type": "markdown",
   "id": "original-heater",
   "metadata": {},
   "source": [
    "# Random Forest Regression"
   ]
  },
  {
   "cell_type": "code",
   "execution_count": 19,
   "id": "invalid-profession",
   "metadata": {},
   "outputs": [],
   "source": [
    "import matplotlib.pyplot as plt\n",
    "import pandas as pd\n",
    "import numpy as np\n",
    "import seaborn as sns\n",
    "\n",
    "from sklearn import ensemble\n",
    "from sklearn.tree import plot_tree\n",
    "# from sklearn.feature_selection import SelectFromModel\n",
    "# from sklearn.preprocessing import MinMaxScaler, PolynomialFeatures\n",
    "from sklearn.metrics import mean_squared_error, r2_score\n",
    "from ipynb.fs.full.get_data import getTFData, lagData"
   ]
  },
  {
   "cell_type": "code",
   "execution_count": 6,
   "id": "governmental-realtor",
   "metadata": {},
   "outputs": [],
   "source": [
    "train, test = getTFData(sets = [1], maxrul = 125)\n",
    "\n",
    "drops = ['dt', 'set1', 'set2', 'set3', 's1', 's5', 's6', 's10', 's16', 's18', 's19']\n",
    "train = train.drop(columns = drops)\n",
    "test = test.drop(columns = drops)"
   ]
  },
  {
   "cell_type": "code",
   "execution_count": 13,
   "id": "twelve-platform",
   "metadata": {},
   "outputs": [],
   "source": [
    "features = train.columns\n",
    "features = features.drop(['id','rul','rulfrac'])"
   ]
  },
  {
   "cell_type": "code",
   "execution_count": 17,
   "id": "universal-democracy",
   "metadata": {},
   "outputs": [],
   "source": [
    "classes = train['rul'].unique()"
   ]
  },
  {
   "cell_type": "markdown",
   "id": "recreational-dietary",
   "metadata": {},
   "source": [
    "## Basic"
   ]
  },
  {
   "cell_type": "code",
   "execution_count": 7,
   "id": "trained-simpson",
   "metadata": {},
   "outputs": [],
   "source": [
    "rul = 2\n",
    "rulfrac = 1\n",
    "\n",
    "r, c = train.shape\n",
    "Xtrain = train.iloc[:, 1:(c - rul)].values\n",
    "Ytrain = train.iloc[:, (c - rul)].values\n",
    "\n",
    "Xtest = test.iloc[:, 1:(c- rul)].values\n",
    "Ytest = test.iloc[:, (c - rul)].values"
   ]
  },
  {
   "cell_type": "code",
   "execution_count": 8,
   "id": "suitable-benchmark",
   "metadata": {},
   "outputs": [],
   "source": [
    "rf = ensemble.RandomForestRegressor(n_estimators = 100, max_features = \"sqrt\", random_state = 42)\n",
    "rf.fit(Xtrain, Ytrain)\n",
    "\n",
    "Ytrain_rf = rf.predict(Xtrain)\n",
    "Ytest_rf = rf.predict(Xtest)"
   ]
  },
  {
   "cell_type": "code",
   "execution_count": 11,
   "id": "catholic-volleyball",
   "metadata": {},
   "outputs": [
    {
     "name": "stdout",
     "output_type": "stream",
     "text": [
      "Training:\n",
      "Sqrt mse: 6.76\n",
      "Coefficient of determination: 0.97\n",
      "Testing:\n",
      "Sqrt mse: 60.12\n",
      "Coefficient of determination: -0.04\n"
     ]
    }
   ],
   "source": [
    "print(\"Training:\")\n",
    "print(\"Sqrt mse: %.2f\" % np.sqrt(mean_squared_error(Ytrain, Ytrain_rf)))\n",
    "print(\"Coefficient of determination: %.2f\" % r2_score(Ytrain, Ytrain_rf))\n",
    "\n",
    "print(\"Testing:\")\n",
    "print(\"Sqrt mse: %.2f\" % np.sqrt(mean_squared_error(Ytest, Ytest_rf)))\n",
    "print(\"Coefficient of determination: %.2f\" % r2_score(Ytest, Ytest_rf))"
   ]
  }
 ],
 "metadata": {
  "kernelspec": {
   "display_name": "Python 3.9.1 64-bit",
   "language": "python",
   "name": "python3"
  },
  "language_info": {
   "codemirror_mode": {
    "name": "ipython",
    "version": 3
   },
   "file_extension": ".py",
   "mimetype": "text/x-python",
   "name": "python",
   "nbconvert_exporter": "python",
   "pygments_lexer": "ipython3",
   "version": "3.9.1"
  },
  "vscode": {
   "interpreter": {
    "hash": "9ca1dab13569cba37c96f77d2e230d532249c1dfc43abceb441f3610f1bfff28"
   }
  }
 },
 "nbformat": 4,
 "nbformat_minor": 5
}
