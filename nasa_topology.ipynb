{
 "cells": [
  {
   "cell_type": "code",
   "execution_count": 136,
   "metadata": {},
   "outputs": [],
   "source": [
    "import turbo as tb\n",
    "import rul_dataframe as rd\n",
    "import plots as pl\n",
    "import labeling as lb\n",
    "import preprocessing as pre\n",
    "import classification as cls\n",
    "import variational_autoencoder as vae_class\n",
    "\n",
    "import pandas as pd\n",
    "import numpy as np\n",
    "import matplotlib.pyplot as plt\n",
    "import random\n",
    "\n",
    "from sklearn.model_selection import GroupShuffleSplit\n",
    "from sklearn.metrics import mean_squared_error, r2_score\n",
    "\n"
   ]
  },
  {
   "cell_type": "code",
   "execution_count": 2,
   "metadata": {},
   "outputs": [],
   "source": [
    "from sklearn import linear_model, svm\n",
    "from sklearn import ensemble"
   ]
  },
  {
   "cell_type": "code",
   "execution_count": 3,
   "metadata": {},
   "outputs": [],
   "source": [
    "from gtda.time_series import PearsonDissimilarity\n",
    "from gtda.homology import VietorisRipsPersistence\n",
    "from gtda.diagrams import Amplitude"
   ]
  },
  {
   "cell_type": "code",
   "execution_count": 4,
   "metadata": {},
   "outputs": [],
   "source": [
    "preproc = pre.Preprocessing()\n",
    "classy = cls.Classification()"
   ]
  },
  {
   "cell_type": "code",
   "execution_count": 5,
   "metadata": {},
   "outputs": [],
   "source": [
    "def s_score(Y, Yhat, a1 = 10, a2 = 13):\n",
    "    s = 0.0\n",
    "    for i in range(len(Y)):\n",
    "        d = Yhat[i] - Y[i]\n",
    "        if d < 0:\n",
    "            s = s + np.exp(-d/a1) - 1\n",
    "        else:\n",
    "            s = s + np.exp(d/a2) - 1\n",
    "    return s\n",
    "\n",
    "def l_score(Y, Yhat):\n",
    "    s = 0.0\n",
    "    for i in range(len(Y)):\n",
    "        d = (Yhat[i] - Y[i])**2\n",
    "        if Y[i] < 50:\n",
    "            s = s + 2 * d\n",
    "        else:\n",
    "            s = s + 0.5 * d\n",
    "    return s/len(Y)\n",
    "\n",
    "def evaluate(Y, Yhat, label = 'Test', verbose = False):\n",
    "    if label == 'Test':\n",
    "        rsme = np.sqrt(mean_squared_error(Y, Yhat))\n",
    "        r2 = r2_score(Y, Yhat)\n",
    "        s = s_score(Y, Yhat)\n",
    "        l = l_score(Y, Yhat)\n",
    "        if type(s) == np.ndarray:\n",
    "            s = s[0]\n",
    "        if type(l) == np.ndarray:\n",
    "            l = l[0]\n",
    "        if verbose:\n",
    "            print(f'{label} set RSME = {rsme}, S = {s}, L= {l}, R2 = {r2}')\n",
    "        return rsme, s, l, r2\n",
    "    else:\n",
    "        rsme = np.sqrt(mean_squared_error(Y, Yhat))\n",
    "        r2 = r2_score(Y, Yhat)\n",
    "        if verbose:\n",
    "            print(f'{label} set RSME = {rsme}, R2 = {r2}')\n",
    "        return rsme, r2"
   ]
  },
  {
   "cell_type": "code",
   "execution_count": 407,
   "metadata": {},
   "outputs": [],
   "source": [
    "# prepare data functions\n",
    "# 1. training-validation split\n",
    "def training_validation_split(X, Y, groupshufflesplit, groups, verbose = False):\n",
    "    for itrain, ival in groupshufflesplit.split(X, Y, groups = groups):\n",
    "        Xtrain = X.iloc[itrain].copy()\n",
    "        Ytrain = Y.iloc[itrain].copy()\n",
    "        Xval = X.iloc[ival].copy()\n",
    "        Yval = Y.iloc[ival].copy()\n",
    "        if verbose:\n",
    "            print(f'Training data ids {groups[itrain].unique()}')\n",
    "            print(f'Validation data ids {groups[ival].unique()}')\n",
    "    return Xtrain, Ytrain, groups[itrain], Xval, Yval, groups[ival]\n",
    "\n",
    "# 4. make xrain data\n",
    "def make_data_to_sequence_one_id(df, sequence_length, stride, y, test):\n",
    "    n = df.shape[0]\n",
    "    if test:\n",
    "        rest = n - stride * int(n/stride)\n",
    "        if rest == 0:\n",
    "            rest = stride\n",
    "    else:\n",
    "        rest = int(sequence_length/4) + 1\n",
    "    for start, stop in zip(range(rest-sequence_length, n - sequence_length + 1, stride), range(rest, n + 1, stride)):\n",
    "        if not y and start < 0:\n",
    "            index = sequence_length - stop\n",
    "            Xpadded = np.full(shape = (sequence_length, df.shape[1]), fill_value = 0).astype(np.float32)\n",
    "            Xpadded[index:, :] = df.values[0:stop,:]\n",
    "            yield Xpadded\n",
    "        elif y:\n",
    "            if test:\n",
    "                yield(df.values[stop-1])\n",
    "            else:\n",
    "                yield(df.values[0:stop,:][-1])\n",
    "        else:\n",
    "            yield(df.values[start:stop,:])\n",
    "def make_data_to_sequence(df, sequence_length, groups, stride, y = False, test = False):\n",
    "    Xtemp = (list(make_data_to_sequence_one_id(df[groups==i], sequence_length, stride, y, test)) for i in groups.unique())\n",
    "    return np.concatenate(list(Xtemp)).astype(np.float32)"
   ]
  },
  {
   "cell_type": "code",
   "execution_count": 404,
   "metadata": {},
   "outputs": [],
   "source": [
    "from gtda.time_series import PearsonDissimilarity\n",
    "from gtda.homology import VietorisRipsPersistence\n",
    "from gtda.diagrams import Amplitude\n",
    "\n",
    "from scipy import stats\n",
    "import dcor"
   ]
  },
  {
   "cell_type": "code",
   "execution_count": 644,
   "metadata": {},
   "outputs": [],
   "source": [
    "dataset = 4\n",
    "\n",
    "sequence_length = 50\n",
    "stride = 10\n",
    "\n",
    "dist = 'distance' # 'spearman', 'distance'\n",
    "m = 'landscape' # 'bottleneck' | 'wasserstein' | 'betti' | 'landscape' | 'silhouette' | 'heat' | 'persistence_image'"
   ]
  },
  {
   "cell_type": "code",
   "execution_count": 434,
   "metadata": {},
   "outputs": [
    {
     "data": {
      "text/plain": [
       "21"
      ]
     },
     "execution_count": 434,
     "metadata": {},
     "output_type": "execute_result"
    }
   ],
   "source": [
    "# if it doesn't work, check \n",
    "(te_df.df.groupby('id')['dt'].max()).min()"
   ]
  },
  {
   "cell_type": "code",
   "execution_count": 432,
   "metadata": {},
   "outputs": [
    {
     "data": {
      "text/plain": [
       "128"
      ]
     },
     "execution_count": 432,
     "metadata": {},
     "output_type": "execute_result"
    }
   ],
   "source": [
    "(tr_df.df.groupby('id')['dt'].max()).min()"
   ]
  },
  {
   "cell_type": "code",
   "execution_count": 645,
   "metadata": {},
   "outputs": [
    {
     "name": "stdout",
     "output_type": "stream",
     "text": [
      "17\n"
     ]
    }
   ],
   "source": [
    "tr, te, rl = tb.getTFDataset(set = dataset)\n",
    "tb.addTFlinear(tr, te, rl)\n",
    "tr_df = rd.RUL_DataFrame(df = tr, label_cols = ['linear'])\n",
    "te_df = rd.RUL_DataFrame(df = te, label_cols = ['linear'])\n",
    "if dataset in [1,3]:\n",
    "    preproc.drop_zero_variance(rul_df = tr_df, rul_df_test = te_df)\n",
    "    preproc.scale(rul_df = tr_df, rul_df_test = te_df, scale = 'std')\n",
    "    preproc.drop_zero_variance(rul_df = tr_df, rul_df_test = te_df)\n",
    "elif dataset in [2, 4]:\n",
    "    classy.fit_kmeans(rul_df = tr_df, rul_df_test = te_df, colname = 'kmeans')\n",
    "    preproc.one_hot_encode(rul_df = tr_df, rul_df_test = te_df, c_col = 'kmeans')\n",
    "    preproc.c_drop_zero_variance(rul_df = tr_df, rul_df_test = te_df , c_cols = tr_df.categ_cols)\n",
    "    preproc.c_scale(rul_df = tr_df, rul_df_test = te_df , c_cols = tr_df.categ_cols, scale = 'std')\n",
    "    preproc.drop_zero_variance(rul_df = tr_df, rul_df_test = te_df)\n",
    "\n",
    "#preproc.exponential_smooth(tr_df,0.1)\n",
    "#preproc.exponential_smooth(te_df,0.1)\n",
    "\n",
    "# adjust to label size\n",
    "preproc.delete_first_n(tr_df, 9)\n",
    "\n",
    "labels = pd.read_csv(f'labels/FD00{dataset}')\n",
    "label_cols = ['linear', 'piecewise_optimized', 'piecewies_125', 'descriptive', 'spearman', 'rec_error']\n",
    "if not labels.shape[0] == tr_df.df.shape[0]:\n",
    "    print(f'Labels and Data do not have same length. Dataset FD00{dataset}')\n",
    "temp = pd.concat([tr_df.df, labels], axis=1)\n",
    "training_data_with_labels = rd.RUL_DataFrame(df = temp, data_cols = tr_df.data_cols, categ_cols = tr_df.categ_cols, label_cols = ['linear', 'piecewise_optimized', 'piecewise_125', 'descriptive', 'spearman',\n",
    "                                                            'rec_error'])\n",
    "\n",
    "Xtrain = training_data_with_labels.df[[training_data_with_labels.id_col] + training_data_with_labels.data_cols]\n",
    "Xtest = te_df.df[[te_df.id_col] + te_df.data_cols]\n",
    "Ytrain = training_data_with_labels.df[training_data_with_labels.label_cols]\n",
    "Ytest = te_df.df['linear']\n",
    "\n",
    "n = len(training_data_with_labels.data_cols)\n",
    "print(n)\n",
    "\n",
    "groupshufflesplit = GroupShuffleSplit(n_splits = 1, train_size = 0.8 , random_state = 42)\n",
    "Xtrain_split, Ytrain_split, groupstrain, Xval_split, Yval_split, groupsval = training_validation_split(Xtrain, Ytrain, groupshufflesplit, \n",
    "                                                                                        groups = training_data_with_labels.df[training_data_with_labels.id_col])\n",
    "\n",
    "Xtrain_split_sequences_id = make_data_to_sequence(Xtrain_split, sequence_length, groupstrain, stride)\n",
    "Xtrain_split_sequences = Xtrain_split_sequences_id[:,:,1:(n+1)]\n",
    "Xtrain_split_sequences_id = Xtrain_split_sequences_id[:,:,0][:,-1]\n",
    "Ytrain_split_sequences = make_data_to_sequence(Ytrain_split, sequence_length, groupstrain, stride,  y = True)\n",
    "\n",
    "Xval_split_sequences_id = make_data_to_sequence(Xval_split, sequence_length, groupsval, stride)\n",
    "Xval_split_sequences = Xval_split_sequences_id[:,:,1:(n+1)]\n",
    "Xval_split_sequences_id = Xval_split_sequences_id[:,:,0][:,-1]\n",
    "Yval_split_sequences = make_data_to_sequence(Yval_split, sequence_length, groupsval, stride,  y = True)\n",
    "\n",
    "Xtest_sequences_id = make_data_to_sequence(Xtest, sequence_length, te_df.df[te_df.id_col], stride, test = True)\n",
    "Xtest_sequences = Xtest_sequences_id[:,:,1:(n+1)]\n",
    "Xtest_sequences_id = Xtest_sequences_id[:,:,0][:,-1]\n",
    "Ytest_sequences = make_data_to_sequence(Ytest, sequence_length, te_df.df[te_df.id_col], stride, y =True, test = True)\n",
    "\n",
    "path = f'topo_features/{sequence_length}_{stride}_{m}_{dist}_FD00{dataset}'\n",
    "results = pd.DataFrame(columns=['dataset', 'label', 'method', 'RSME_tr','R2_tr', 'RSME_v','R2_v','RSME_te', 'R2_te'])\n",
    "\n",
    "if dist == 'pearson':\n",
    "    PD = PearsonDissimilarity()\n",
    "    X_dm_train = PD.fit_transform(Xtrain_split_sequences)\n",
    "    X_dm_val = PD.transform(Xval_split_sequences)\n",
    "    X_dm_test = PD.transform(Xtest_sequences)\n",
    "elif dist == 'spearman':\n",
    "    roh, pval = stats.spearmanr(Xtrain_split_sequences[0])\n",
    "    X_dm_train = np.asarray([roh])\n",
    "    for i in range(1, Xtrain_split_sequences.shape[0]):\n",
    "        roh, pval = stats.spearmanr(Xtrain_split_sequences[i])\n",
    "        X_dm_train = np.concatenate((X_dm_train,[roh]))\n",
    "    \n",
    "    roh, pval = stats.spearmanr(Xval_split_sequences[0])\n",
    "    X_dm_val = np.asarray([roh])\n",
    "    for i in range(1, Xval_split_sequences.shape[0]):\n",
    "        roh, pval = stats.spearmanr(Xval_split_sequences[i])\n",
    "        X_dm_val = np.concatenate((X_dm_val,[roh]))\n",
    "        \n",
    "    roh, pval = stats.spearmanr(Xtest_sequences[0])\n",
    "    X_dm_test = np.asarray([roh])\n",
    "    for i in range(1, Xtest_sequences.shape[0]):\n",
    "        roh, pval = stats.spearmanr(Xtest_sequences[i])\n",
    "        X_dm_test = np.concatenate((X_dm_test,[roh]))\n",
    "elif dist == 'distance': #time dimension!\n",
    "    roh = dcor.distances.pairwise_distances(Xtrain_split_sequences[0])\n",
    "    X_dm_train = np.asarray([roh])\n",
    "    for i in range(1, Xtrain_split_sequences.shape[0]):\n",
    "        roh = dcor.distances.pairwise_distances(Xtrain_split_sequences[i])\n",
    "        X_dm_train = np.concatenate((X_dm_train,[roh]))\n",
    "    \n",
    "    roh = dcor.distances.pairwise_distances(Xval_split_sequences[0])\n",
    "    X_dm_val = np.asarray([roh])\n",
    "    for i in range(1, Xval_split_sequences.shape[0]):\n",
    "        roh = dcor.distances.pairwise_distances(Xval_split_sequences[i])\n",
    "        X_dm_val = np.concatenate((X_dm_val,[roh]))\n",
    "        \n",
    "    roh = dcor.distances.pairwise_distances(Xtest_sequences[0])\n",
    "    X_dm_test = np.asarray([roh])\n",
    "    for i in range(1, Xtest_sequences.shape[0]):\n",
    "        roh = dcor.distances.pairwise_distances(Xtest_sequences[i])\n",
    "        X_dm_test = np.concatenate((X_dm_test,[roh]))\n",
    "\n",
    "VR = VietorisRipsPersistence(metric=\"precomputed\")\n",
    "X_vr_train = VR.fit_transform(X_dm_train)\n",
    "X_vr_val = VR.fit_transform(X_dm_val)\n",
    "X_vr_test = VR.fit_transform(X_dm_test)\n",
    "    \n",
    "Ampl = Amplitude(metric = m)\n",
    "X_a_train = Ampl.fit_transform(X_vr_train)\n",
    "X_a_val = Ampl.fit_transform(X_vr_val)\n",
    "X_a_test = Ampl.fit_transform(X_vr_test)\n",
    "\n",
    "Xtrain_topo = pd.concat([pd.DataFrame(X_a_train, columns = ['H0', 'H1']),\n",
    "            pd.DataFrame(Ytrain_split_sequences, columns = ['linear', 'piecewise_optimized', 'piecewies_125', 'descriptive', 'spearman', 'rec_error']),\n",
    "            pd.DataFrame(Xtrain_split_sequences_id, columns = ['id'])], axis=1)\n",
    "Xtrain_topo.to_csv(path+'train')\n",
    "\n",
    "Xval_topo = pd.concat([pd.DataFrame(X_a_val, columns = ['H0', 'H1']),\n",
    "            pd.DataFrame(Yval_split_sequences, columns = ['linear', 'piecewise_optimized', 'piecewies_125', 'descriptive', 'spearman', 'rec_error']),\n",
    "            pd.DataFrame(Xval_split_sequences_id, columns = ['id'])], axis=1)\n",
    "Xval_topo.to_csv(path+'val')\n",
    "\n",
    "Xtest_topo = pd.concat([pd.DataFrame(X_a_test, columns = ['H0', 'H1']),\n",
    "            pd.DataFrame(Ytest_sequences, columns = ['linear']),\n",
    "            pd.DataFrame(Xtest_sequences_id, columns = ['id'])], axis=1)\n",
    "Xtest_topo.to_csv(path+'test')"
   ]
  },
  {
   "cell_type": "markdown",
   "metadata": {},
   "source": [
    "# Regression"
   ]
  },
  {
   "cell_type": "code",
   "execution_count": 573,
   "metadata": {},
   "outputs": [],
   "source": [
    "reg = 'lm' # 'svr', 'lm'\n",
    "add = True\n",
    "\n",
    "dataset = 3\n",
    "\n",
    "sequence_length = 50\n",
    "stride = 3\n",
    "\n",
    "dist = 'distance' # 'spearman', 'distance'\n",
    "m = 'landscape' # 'bottleneck' | 'wasserstein' | 'betti' | 'landscape' | 'silhouette' | 'heat' | 'persistence_image'"
   ]
  },
  {
   "cell_type": "code",
   "execution_count": 589,
   "metadata": {},
   "outputs": [
    {
     "name": "stdout",
     "output_type": "stream",
     "text": [
      "linear\n",
      "piecewise_optimized\n",
      "piecewies_125\n",
      "descriptive\n",
      "spearman\n",
      "rec_error\n"
     ]
    },
    {
     "name": "stderr",
     "output_type": "stream",
     "text": [
      "<ipython-input-5-82a10d389d22>:6: RuntimeWarning: overflow encountered in exp\n",
      "  s = s + np.exp(-d/a1) - 1\n",
      "<ipython-input-5-82a10d389d22>:6: RuntimeWarning: overflow encountered in exp\n",
      "  s = s + np.exp(-d/a1) - 1\n",
      "<ipython-input-5-82a10d389d22>:6: RuntimeWarning: overflow encountered in exp\n",
      "  s = s + np.exp(-d/a1) - 1\n",
      "<ipython-input-5-82a10d389d22>:6: RuntimeWarning: overflow encountered in exp\n",
      "  s = s + np.exp(-d/a1) - 1\n",
      "<ipython-input-5-82a10d389d22>:6: RuntimeWarning: overflow encountered in exp\n",
      "  s = s + np.exp(-d/a1) - 1\n",
      "<ipython-input-5-82a10d389d22>:6: RuntimeWarning: overflow encountered in exp\n",
      "  s = s + np.exp(-d/a1) - 1\n"
     ]
    }
   ],
   "source": [
    "path = f'scores/shallow_{reg}_{sequence_length}_{m}_{dist}_FD00{dataset}'\n",
    "results = pd.DataFrame(columns=['dataset', 'label', 'method', 'RSME_tr','R2_tr', 'RSME_v','R2_v','RSME_te', 'R2_te'])\n",
    "\n",
    "Xtrain_topo = pd.read_csv(f'topo_features/{sequence_length}_{stride}_{m}_{dist}_FD00{dataset}' + 'train')\n",
    "Xval_topo = pd.read_csv(f'topo_features/{sequence_length}_{stride}_{m}_{dist}_FD00{dataset}' + 'val')\n",
    "Xtest_topo = pd.read_csv(f'topo_features/{sequence_length}_{stride}_{m}_{dist}_FD00{dataset}' + 'test')\n",
    "\n",
    "label_cols = ['linear', 'piecewise_optimized', 'piecewies_125', 'descriptive', 'spearman', 'rec_error']\n",
    "\n",
    "X_a_train = np.asarray(Xtrain_topo[['H0', 'H1']])\n",
    "X_a_val = np.asarray(Xval_topo[['H0', 'H1']])\n",
    "\n",
    "Ytrain_split_sequences = np.asarray(Xtrain_topo[label_cols])\n",
    "Yval_split_sequences = np.asarray(Xval_topo[label_cols])\n",
    "\n",
    "# For 'shallow' regression testing (last elements for testing)\n",
    "X_a_test = np.asarray(Xtest_topo.groupby('id')[['H0', 'H1']].tail(1))\n",
    "\n",
    "if add:\n",
    "    X_a_train = np.concatenate((Xtrain_split_sequences[:,-1,:],X_a_train), axis = 1)\n",
    "    X_a_val =np.concatenate((Xval_split_sequences[:,-1,:],X_a_val), axis = 1)\n",
    "    Xtemp = []\n",
    "    current_id = 1\n",
    "    for i in range(Xtest_topo.shape[0]):\n",
    "        next_id = Xtest_topo.loc[i,'id']\n",
    "        if current_id != next_id:\n",
    "            Xtemp.append(Xtest_sequences[i-1][-1])\n",
    "            current_id = next_id\n",
    "    Xtemp.append(Xtest_sequences[i][-1])\n",
    "    X_a_test =np.concatenate((np.asarray(Xtemp),X_a_test), axis = 1)\n",
    "\n",
    "Ytest_sequences = np.asarray(Xtest_topo.groupby('id')['linear'].tail(1))\n",
    "\n",
    "for l in range(len(label_cols)):\n",
    "    print(label_cols[l])\n",
    "    if reg == 'lm':\n",
    "        rm = linear_model.LinearRegression()\n",
    "        rm.fit(X_a_train, Ytrain_split_sequences[:,l])\n",
    "\n",
    "    elif reg == 'svm':\n",
    "        rm = svm.SVR(kernel='linear')\n",
    "        rm.fit(X_a_train, Ytrain_split_sequences[:,l])\n",
    "\n",
    "    elif reg == 'rfr':\n",
    "        rm = ensemble.RandomForestRegressor(random_state=42)\n",
    "        rm.fit(X_a_train, Ytrain_split_sequences[:,l])\n",
    "\n",
    "    Ypred_train_rm = rm.predict(X_a_train)\n",
    "    rsmesplit, r2split = evaluate(Ytrain_split_sequences[:,l], Ypred_train_rm, 'Training')\n",
    "\n",
    "    Ypred_val_rm = rm.predict(X_a_val)\n",
    "    rsmeval, r2val = evaluate(Yval_split_sequences[:,l], Ypred_val_rm, 'Validation')\n",
    "\n",
    "    Ypred_test_rm = rm.predict(X_a_test)\n",
    "    rsmetest, s, ls, r2test = evaluate(Ytest_sequences, Ypred_test_rm, 'Test')\n",
    "\n",
    "    df = pd.DataFrame([[dataset, label_cols[l], reg, rsmesplit, r2split, rsmeval, r2val, rsmetest, s, ls, r2test]], columns=['dataset', 'label', 'method', 'RSME_tr','R2_tr', 'RSME_v','R2_v','RSME_te', 'S', 'L', 'R2_te'])\n",
    "    results = pd.concat((results, df))\n",
    "\n",
    "results.to_csv(path, index = False)"
   ]
  },
  {
   "cell_type": "code",
   "execution_count": 590,
   "metadata": {},
   "outputs": [
    {
     "name": "stdout",
     "output_type": "stream",
     "text": [
      "\\begin{tabular}{llrrrrr}\n",
      "\\hline\n",
      " Label               & Regression   &   RSME Training &   RSME Validation &   RSME Testing &   S &           L \\\\\n",
      "\\hline\n",
      " linear              & lm           &         42.2236 &           38.7597 &         565699 & inf & 3.49053e+11 \\\\\n",
      " piecewise\\_optimized & lm           &         34.4248 &           32.7508 &         399944 & inf & 1.6849e+11  \\\\\n",
      " piecewies\\_125       & lm           &         21.8925 &           21.5751 &         333048 & inf & 1.1888e+11  \\\\\n",
      " descriptive         & lm           &         37.9822 &           36.0682 &         448150 & inf & 2.1004e+11  \\\\\n",
      " spearman            & lm           &         34.7538 &           33.1444 &         471361 & inf & 2.32673e+11 \\\\\n",
      " rec\\_error           & lm           &         36.7468 &           37.3663 &         467208 & inf & 2.24867e+11 \\\\\n",
      "\\hline\n",
      "\\end{tabular}\n"
     ]
    }
   ],
   "source": [
    "from tabulate import tabulate\n",
    "print(tabulate(results[['label', 'method', 'RSME_tr','RSME_v', 'RSME_te', 'S', 'L']], headers=['Label', 'Regression','RSME Training','RSME Validation', 'RSME Testing', 'S', 'L'], tablefmt='latex', showindex=False))"
   ]
  },
  {
   "cell_type": "markdown",
   "metadata": {},
   "source": [
    "# Combination with LSTM"
   ]
  },
  {
   "cell_type": "code",
   "execution_count": 151,
   "metadata": {},
   "outputs": [],
   "source": [
    "import tensorflow as tf\n",
    "from keras import Sequential\n",
    "from keras.layers import LSTM, Dense, Dropout, Masking, TimeDistributed, Input"
   ]
  },
  {
   "cell_type": "code",
   "execution_count": 325,
   "metadata": {},
   "outputs": [],
   "source": [
    "def make_model(input_shape, lstm_dims = [128, 64], dropout = True, d_rate = 0.2, dense_dims = [16, 1]):\n",
    "    model = Sequential()\n",
    "    model.add(Input(shape = [None, input_shape], ragged = True))\n",
    "    for d in lstm_dims:\n",
    "        model.add(LSTM(units = d, return_sequences = True))\n",
    "        if dropout:\n",
    "            model.add(Dropout(rate = d_rate))\n",
    "    for d in dense_dims:\n",
    "        model.add(Dense(units = d))\n",
    "    model.compile(loss='mean_squared_error', optimizer='adam')\n",
    "    return model"
   ]
  },
  {
   "cell_type": "code",
   "execution_count": 491,
   "metadata": {},
   "outputs": [],
   "source": [
    "reg = 'lm' # 'svr', 'lm'\n",
    "add = True\n",
    "\n",
    "dataset = 3\n",
    "\n",
    "sequence_length = 50\n",
    "stride = 3\n",
    "\n",
    "dist = 'distance' # 'spearman', 'distance'\n",
    "m = 'landscape' # 'bottleneck' | 'wasserstein' | 'betti' | 'landscape' | 'silhouette' | 'heat' | 'persistence_image'"
   ]
  },
  {
   "cell_type": "code",
   "execution_count": 576,
   "metadata": {},
   "outputs": [
    {
     "name": "stdout",
     "output_type": "stream",
     "text": [
      "16\n"
     ]
    }
   ],
   "source": [
    "tr, te, rl = tb.getTFDataset(set = dataset)\n",
    "tb.addTFlinear(tr, te, rl)\n",
    "tr_df = rd.RUL_DataFrame(df = tr, label_cols = ['linear'])\n",
    "te_df = rd.RUL_DataFrame(df = te, label_cols = ['linear'])\n",
    "if dataset in [1,3]:\n",
    "    preproc.drop_zero_variance(rul_df = tr_df, rul_df_test = te_df)\n",
    "    preproc.scale(rul_df = tr_df, rul_df_test = te_df, scale = 'std')\n",
    "elif dataset in [2, 4]:\n",
    "    classy.fit_kmeans(rul_df = tr_df, rul_df_test = te_df, colname = 'kmeans')\n",
    "    preproc.one_hot_encode(rul_df = tr_df, rul_df_test = te_df, c_col = 'kmeans')\n",
    "    preproc.c_drop_zero_variance(rul_df = tr_df, rul_df_test = te_df , c_cols = tr_df.categ_cols)\n",
    "    preproc.c_scale(rul_df = tr_df, rul_df_test = te_df , c_cols = tr_df.categ_cols, scale = 'std')\n",
    "    preproc.drop_zero_variance(rul_df = tr_df, rul_df_test = te_df)\n",
    "    \n",
    "# adjust to label size\n",
    "preproc.delete_first_n(tr_df, 9)\n",
    "\n",
    "labels = pd.read_csv(f'labels/FD00{dataset}')\n",
    "label_cols = ['linear', 'piecewise_optimized', 'piecewies_125', 'descriptive', 'spearman', 'rec_error']\n",
    "if not labels.shape[0] == tr_df.df.shape[0]:\n",
    "    print(f'Labels and Data do not have same length. Dataset FD00{dataset}')\n",
    "temp = pd.concat([tr_df.df, labels], axis=1)\n",
    "training_data_with_labels = rd.RUL_DataFrame(df = temp, data_cols = tr_df.data_cols, categ_cols = tr_df.categ_cols, label_cols = ['linear', 'piecewise_optimized', 'piecewise_125', 'descriptive', 'spearman',\n",
    "                                                            'rec_error'])\n",
    "\n",
    "Xtrain = training_data_with_labels.df[[training_data_with_labels.id_col] + training_data_with_labels.data_cols]\n",
    "Xtest = te_df.df[[te_df.id_col] + te_df.data_cols]\n",
    "Ytrain = training_data_with_labels.df[training_data_with_labels.label_cols]\n",
    "Ytest = te_df.df['linear']\n",
    "\n",
    "n = len(training_data_with_labels.data_cols)\n",
    "print(n)\n",
    "\n",
    "groupshufflesplit = GroupShuffleSplit(n_splits = 1, train_size = 0.8 , random_state = 42)\n",
    "Xtrain_split, Ytrain_split, groupstrain, Xval_split, Yval_split, groupsval = training_validation_split(Xtrain, Ytrain, groupshufflesplit, \n",
    "                                                                                        groups = training_data_with_labels.df[training_data_with_labels.id_col])\n",
    "\n",
    "Xtrain_split_sequences_id = make_data_to_sequence(Xtrain_split, sequence_length, groupstrain, stride)\n",
    "Xtrain_split_sequences = Xtrain_split_sequences_id[:,:,1:(n+1)]\n",
    "Xtrain_split_sequences_id = Xtrain_split_sequences_id[:,:,0][:,-1]\n",
    "Ytrain_split_sequences = make_data_to_sequence(Ytrain_split, sequence_length, groupstrain, stride,  y = True)\n",
    "\n",
    "Xval_split_sequences_id = make_data_to_sequence(Xval_split, sequence_length, groupsval, stride)\n",
    "Xval_split_sequences = Xval_split_sequences_id[:,:,1:(n+1)]\n",
    "Xval_split_sequences_id = Xval_split_sequences_id[:,:,0][:,-1]\n",
    "Yval_split_sequences = make_data_to_sequence(Yval_split, sequence_length, groupsval, stride,  y = True)\n",
    "\n",
    "Xtest_sequences_id = make_data_to_sequence(Xtest, sequence_length, te_df.df[te_df.id_col], stride, test = True)\n",
    "Xtest_sequences = Xtest_sequences_id[:,:,1:(n+1)]\n",
    "Xtest_sequences_id = Xtest_sequences_id[:,:,0][:,-1]\n",
    "Ytest_sequences = make_data_to_sequence(Ytest, sequence_length, te_df.df[te_df.id_col], stride, y =True, test = True)"
   ]
  },
  {
   "cell_type": "code",
   "execution_count": 577,
   "metadata": {},
   "outputs": [],
   "source": [
    "Xtrain_topo = pd.read_csv(f'topo_features/{sequence_length}_{stride}_{m}_{dist}_FD00{dataset}' + 'train')\n",
    "Xval_topo = pd.read_csv(f'topo_features/{sequence_length}_{stride}_{m}_{dist}_FD00{dataset}' + 'val')\n",
    "Xtest_topo = pd.read_csv(f'topo_features/{sequence_length}_{stride}_{m}_{dist}_FD00{dataset}' + 'test')\n",
    "\n",
    "label_cols = ['linear', 'piecewise_optimized', 'piecewies_125', 'descriptive', 'spearman', 'rec_error']\n",
    "\n",
    "X_a_train = np.asarray(Xtrain_topo[['H0', 'H1']])\n",
    "X_a_val = np.asarray(Xval_topo[['H0', 'H1']])\n",
    "\n",
    "# choose label\n",
    "l = 2\n",
    "Ytrain_split_sequences = np.asarray(Xtrain_topo[label_cols[l]])\n",
    "Yval_split_sequences = np.asarray(Xval_topo[label_cols[l]])\n",
    "\n",
    "# For 'shallow' regression testing (last elements for testing)\n",
    "X_a_test = np.asarray(Xtest_topo[['H0', 'H1']])\n",
    "Ytest_sequences = np.asarray(Xtest_topo['linear'])\n",
    "\n",
    "if add:\n",
    "    X_a_train = np.concatenate((Xtrain_split_sequences[:,-1,:],X_a_train), axis = 1)\n",
    "    X_a_val =np.concatenate((Xval_split_sequences[:,-1,:],X_a_val), axis = 1)\n",
    "    X_a_test = np.concatenate((Xtest_sequences[:,-1,:] ,X_a_test), axis = 1)"
   ]
  },
  {
   "cell_type": "code",
   "execution_count": 578,
   "metadata": {},
   "outputs": [],
   "source": [
    "\n",
    "counter = 0\n",
    "for i in Xtrain_topo['id'].unique():\n",
    "        Xtrain_topo.loc[Xtrain_topo['id'] == i, 'id'] = counter\n",
    "        counter += 1\n",
    "\n",
    "counter = 0\n",
    "for i in Xval_topo['id'].unique():\n",
    "        Xval_topo.loc[Xval_topo['id'] == i, 'id'] = counter\n",
    "        counter += 1\n",
    "\n",
    "counter = 0\n",
    "for i in Xtest_topo['id'].unique():\n",
    "        Xtest_topo.loc[Xtest_topo['id'] == i, 'id'] = counter\n",
    "        counter += 1"
   ]
  },
  {
   "cell_type": "code",
   "execution_count": 579,
   "metadata": {},
   "outputs": [],
   "source": [
    "Xtrain_ragged = tf.RaggedTensor.from_value_rowids(\n",
    "                    values = X_a_train,\n",
    "                    value_rowids = Xtrain_topo['id'])\n",
    "Ytrain_ragged = tf.RaggedTensor.from_value_rowids(\n",
    "                    values = Ytrain_split_sequences,\n",
    "                    value_rowids = Xtrain_topo['id'])\n",
    "\n",
    "Xval_ragged = tf.RaggedTensor.from_value_rowids(\n",
    "                    values = X_a_val,\n",
    "                    value_rowids = Xval_topo['id'])\n",
    "Yval_ragged = tf.RaggedTensor.from_value_rowids(\n",
    "                    values = Yval_split_sequences,\n",
    "                    value_rowids = Xval_topo['id'])\n",
    "\n",
    "Xtest_ragged = tf.RaggedTensor.from_value_rowids(\n",
    "                    values = X_a_test,\n",
    "                    value_rowids = Xtest_topo['id']) \n",
    "Ytest_sequences = np.asarray(Xtest_topo.groupby('id')['linear'].tail(1))"
   ]
  },
  {
   "cell_type": "code",
   "execution_count": 580,
   "metadata": {},
   "outputs": [
    {
     "name": "stdout",
     "output_type": "stream",
     "text": [
      "Epoch 1/120\n"
     ]
    },
    {
     "name": "stderr",
     "output_type": "stream",
     "text": [
      "c:\\Users\\jakob\\AppData\\Local\\Programs\\Python\\Python39\\lib\\site-packages\\tensorflow\\python\\framework\\indexed_slices.py:444: UserWarning: Converting sparse IndexedSlices(IndexedSlices(indices=Tensor(\"gradient_tape/sequential_27/lstm_46/RaggedToTensor/boolean_mask_1/GatherV2:0\", shape=(None,), dtype=int32), values=Tensor(\"gradient_tape/sequential_27/lstm_46/RaggedToTensor/boolean_mask/GatherV2:0\", shape=(None, 128), dtype=float32), dense_shape=Tensor(\"gradient_tape/sequential_27/lstm_46/RaggedToTensor/Shape:0\", shape=(2,), dtype=int32))) to a dense Tensor of unknown shape. This may consume a large amount of memory.\n",
      "  warnings.warn(\n"
     ]
    },
    {
     "name": "stdout",
     "output_type": "stream",
     "text": [
      "5/5 [==============================] - 7s 406ms/step - loss: 9135.4160 - val_loss: 8736.8691\n",
      "Epoch 2/120\n",
      "5/5 [==============================] - 1s 159ms/step - loss: 8738.4189 - val_loss: 8197.8164\n",
      "Epoch 3/120\n",
      "5/5 [==============================] - 1s 166ms/step - loss: 8151.1655 - val_loss: 7624.2969\n",
      "Epoch 4/120\n",
      "5/5 [==============================] - 1s 162ms/step - loss: 7619.3218 - val_loss: 7122.3945\n",
      "Epoch 5/120\n",
      "5/5 [==============================] - 1s 143ms/step - loss: 7121.2109 - val_loss: 6665.9429\n",
      "Epoch 6/120\n",
      "5/5 [==============================] - 1s 149ms/step - loss: 6682.6235 - val_loss: 6284.6592\n",
      "Epoch 7/120\n",
      "5/5 [==============================] - 1s 160ms/step - loss: 6303.4277 - val_loss: 5940.5195\n",
      "Epoch 8/120\n",
      "5/5 [==============================] - 1s 171ms/step - loss: 5963.5269 - val_loss: 5606.0542\n",
      "Epoch 9/120\n",
      "5/5 [==============================] - 1s 163ms/step - loss: 5626.3999 - val_loss: 5282.5469\n",
      "Epoch 10/120\n",
      "5/5 [==============================] - 1s 155ms/step - loss: 5296.8018 - val_loss: 4973.7002\n",
      "Epoch 11/120\n",
      "5/5 [==============================] - 1s 155ms/step - loss: 4987.1963 - val_loss: 4681.4150\n",
      "Epoch 12/120\n",
      "5/5 [==============================] - 1s 171ms/step - loss: 4696.0718 - val_loss: 4401.8896\n",
      "Epoch 13/120\n",
      "5/5 [==============================] - 1s 172ms/step - loss: 4417.2119 - val_loss: 4137.3677\n",
      "Epoch 14/120\n",
      "5/5 [==============================] - 1s 198ms/step - loss: 4135.1274 - val_loss: 3887.2063\n",
      "Epoch 15/120\n",
      "5/5 [==============================] - 1s 212ms/step - loss: 3899.1531 - val_loss: 3650.3237\n",
      "Epoch 16/120\n",
      "5/5 [==============================] - 1s 209ms/step - loss: 3648.7007 - val_loss: 3429.2227\n",
      "Epoch 17/120\n",
      "5/5 [==============================] - 1s 217ms/step - loss: 3424.4812 - val_loss: 3224.6040\n",
      "Epoch 18/120\n",
      "5/5 [==============================] - 1s 193ms/step - loss: 3235.5977 - val_loss: 3035.5896\n",
      "Epoch 19/120\n",
      "5/5 [==============================] - 1s 203ms/step - loss: 3033.7568 - val_loss: 2865.0002\n",
      "Epoch 20/120\n",
      "5/5 [==============================] - 1s 211ms/step - loss: 2865.2341 - val_loss: 2709.0605\n",
      "Epoch 21/120\n",
      "5/5 [==============================] - 1s 219ms/step - loss: 2712.7573 - val_loss: 2571.1675\n",
      "Epoch 22/120\n",
      "5/5 [==============================] - 1s 214ms/step - loss: 2570.2231 - val_loss: 2447.8875\n",
      "Epoch 23/120\n",
      "5/5 [==============================] - 1s 211ms/step - loss: 2463.1301 - val_loss: 2339.4663\n",
      "Epoch 24/120\n",
      "5/5 [==============================] - 1s 202ms/step - loss: 2346.8142 - val_loss: 2246.3892\n",
      "Epoch 25/120\n",
      "5/5 [==============================] - 1s 189ms/step - loss: 2249.7788 - val_loss: 2167.3340\n",
      "Epoch 26/120\n",
      "5/5 [==============================] - 1s 210ms/step - loss: 2168.9395 - val_loss: 2100.9158\n",
      "Epoch 27/120\n",
      "5/5 [==============================] - 1s 208ms/step - loss: 2094.2773 - val_loss: 2046.0153\n",
      "Epoch 28/120\n",
      "5/5 [==============================] - 1s 204ms/step - loss: 2044.5876 - val_loss: 2000.2330\n",
      "Epoch 29/120\n",
      "5/5 [==============================] - 1s 223ms/step - loss: 2003.6589 - val_loss: 1963.5850\n",
      "Epoch 30/120\n",
      "5/5 [==============================] - 1s 201ms/step - loss: 1957.8805 - val_loss: 1933.8021\n",
      "Epoch 31/120\n",
      "5/5 [==============================] - 1s 206ms/step - loss: 1942.7395 - val_loss: 1909.5684\n",
      "Epoch 32/120\n",
      "5/5 [==============================] - 1s 218ms/step - loss: 1902.6631 - val_loss: 1889.7546\n",
      "Epoch 33/120\n",
      "5/5 [==============================] - 1s 180ms/step - loss: 1884.5498 - val_loss: 1871.4918\n",
      "Epoch 34/120\n",
      "5/5 [==============================] - 1s 210ms/step - loss: 1872.4254 - val_loss: 1851.4574\n",
      "Epoch 35/120\n",
      "5/5 [==============================] - 1s 194ms/step - loss: 1849.4043 - val_loss: 1827.3408\n",
      "Epoch 36/120\n",
      "5/5 [==============================] - 1s 201ms/step - loss: 1816.3197 - val_loss: 1791.8838\n",
      "Epoch 37/120\n",
      "5/5 [==============================] - 1s 220ms/step - loss: 1775.0266 - val_loss: 1733.4877\n",
      "Epoch 38/120\n",
      "5/5 [==============================] - 1s 204ms/step - loss: 1718.6852 - val_loss: 1624.4886\n",
      "Epoch 39/120\n",
      "5/5 [==============================] - 1s 208ms/step - loss: 1622.1719 - val_loss: 1453.5847\n",
      "Epoch 40/120\n",
      "5/5 [==============================] - 1s 206ms/step - loss: 1445.1472 - val_loss: 1133.3641\n",
      "Epoch 41/120\n",
      "5/5 [==============================] - 1s 215ms/step - loss: 1178.2068 - val_loss: 938.5456\n",
      "Epoch 42/120\n",
      "5/5 [==============================] - 1s 202ms/step - loss: 1048.4879 - val_loss: 840.5806\n",
      "Epoch 43/120\n",
      "5/5 [==============================] - 1s 218ms/step - loss: 894.7651 - val_loss: 788.7839\n",
      "Epoch 44/120\n",
      "5/5 [==============================] - 1s 207ms/step - loss: 817.5645 - val_loss: 704.5900\n",
      "Epoch 45/120\n",
      "5/5 [==============================] - 1s 222ms/step - loss: 736.5729 - val_loss: 658.3951\n",
      "Epoch 46/120\n",
      "5/5 [==============================] - 1s 217ms/step - loss: 690.1451 - val_loss: 599.2619\n",
      "Epoch 47/120\n",
      "5/5 [==============================] - 1s 214ms/step - loss: 628.7931 - val_loss: 538.2085\n",
      "Epoch 48/120\n",
      "5/5 [==============================] - 1s 234ms/step - loss: 574.3066 - val_loss: 497.8495\n",
      "Epoch 49/120\n",
      "5/5 [==============================] - 1s 205ms/step - loss: 526.6613 - val_loss: 462.6208\n",
      "Epoch 50/120\n",
      "5/5 [==============================] - 1s 222ms/step - loss: 481.2734 - val_loss: 423.4790\n",
      "Epoch 51/120\n",
      "5/5 [==============================] - 1s 209ms/step - loss: 452.4858 - val_loss: 393.6908\n",
      "Epoch 52/120\n",
      "5/5 [==============================] - 1s 209ms/step - loss: 423.5536 - val_loss: 390.2637\n",
      "Epoch 53/120\n",
      "5/5 [==============================] - 1s 190ms/step - loss: 396.1051 - val_loss: 435.9994\n",
      "Epoch 54/120\n",
      "5/5 [==============================] - 1s 213ms/step - loss: 371.0001 - val_loss: 353.9184\n",
      "Epoch 55/120\n",
      "5/5 [==============================] - 1s 206ms/step - loss: 365.9264 - val_loss: 321.1149\n",
      "Epoch 56/120\n",
      "5/5 [==============================] - 1s 196ms/step - loss: 346.2470 - val_loss: 348.8302\n",
      "Epoch 57/120\n",
      "5/5 [==============================] - 1s 215ms/step - loss: 346.6683 - val_loss: 319.3264\n",
      "Epoch 58/120\n",
      "5/5 [==============================] - 1s 219ms/step - loss: 315.7569 - val_loss: 311.5758\n",
      "Epoch 59/120\n",
      "5/5 [==============================] - 1s 209ms/step - loss: 300.9112 - val_loss: 299.3744\n",
      "Epoch 60/120\n",
      "5/5 [==============================] - 1s 206ms/step - loss: 277.1024 - val_loss: 307.7871\n",
      "Epoch 61/120\n",
      "5/5 [==============================] - 1s 214ms/step - loss: 278.2330 - val_loss: 250.8677\n",
      "Epoch 62/120\n",
      "5/5 [==============================] - 1s 227ms/step - loss: 274.7534 - val_loss: 272.0874\n",
      "Epoch 63/120\n",
      "5/5 [==============================] - 1s 219ms/step - loss: 264.7162 - val_loss: 287.4080\n",
      "Epoch 64/120\n",
      "5/5 [==============================] - 1s 214ms/step - loss: 270.0864 - val_loss: 242.8976\n",
      "Epoch 65/120\n",
      "5/5 [==============================] - 1s 231ms/step - loss: 247.7491 - val_loss: 261.3046\n",
      "Epoch 66/120\n",
      "5/5 [==============================] - 1s 237ms/step - loss: 235.4712 - val_loss: 246.0212\n",
      "Epoch 67/120\n",
      "5/5 [==============================] - 1s 206ms/step - loss: 233.6569 - val_loss: 259.0879\n",
      "Epoch 68/120\n",
      "5/5 [==============================] - 1s 200ms/step - loss: 254.1391 - val_loss: 216.6572\n",
      "Epoch 69/120\n",
      "5/5 [==============================] - 1s 216ms/step - loss: 285.9500 - val_loss: 253.4394\n",
      "Epoch 70/120\n",
      "5/5 [==============================] - 1s 201ms/step - loss: 253.8632 - val_loss: 249.6484\n",
      "Epoch 71/120\n",
      "5/5 [==============================] - 1s 214ms/step - loss: 246.3682 - val_loss: 251.2596\n",
      "Epoch 72/120\n",
      "5/5 [==============================] - 1s 216ms/step - loss: 229.9078 - val_loss: 213.1976\n",
      "Epoch 73/120\n",
      "5/5 [==============================] - 1s 190ms/step - loss: 235.4122 - val_loss: 214.9972\n",
      "Epoch 74/120\n",
      "5/5 [==============================] - 1s 194ms/step - loss: 230.2673 - val_loss: 221.3365\n",
      "Epoch 75/120\n",
      "5/5 [==============================] - 1s 197ms/step - loss: 239.2615 - val_loss: 245.5489\n",
      "Epoch 76/120\n",
      "5/5 [==============================] - 1s 204ms/step - loss: 245.0695 - val_loss: 235.0053\n",
      "Epoch 77/120\n",
      "5/5 [==============================] - 1s 199ms/step - loss: 250.0040 - val_loss: 226.2051\n",
      "Epoch 78/120\n",
      "5/5 [==============================] - 1s 201ms/step - loss: 223.6530 - val_loss: 246.8816\n",
      "Epoch 79/120\n",
      "5/5 [==============================] - 1s 192ms/step - loss: 220.0949 - val_loss: 235.5172\n",
      "Epoch 80/120\n",
      "5/5 [==============================] - 1s 209ms/step - loss: 215.7172 - val_loss: 237.0772\n",
      "Epoch 81/120\n",
      "5/5 [==============================] - 1s 204ms/step - loss: 223.4386 - val_loss: 221.7890\n",
      "Epoch 82/120\n",
      "5/5 [==============================] - 1s 235ms/step - loss: 209.7612 - val_loss: 195.8248\n",
      "Epoch 83/120\n",
      "5/5 [==============================] - 1s 199ms/step - loss: 198.6219 - val_loss: 193.4953\n",
      "Epoch 84/120\n",
      "5/5 [==============================] - 1s 246ms/step - loss: 195.3469 - val_loss: 218.3499\n",
      "Epoch 85/120\n",
      "5/5 [==============================] - 1s 275ms/step - loss: 190.1230 - val_loss: 185.9171\n",
      "Epoch 86/120\n",
      "5/5 [==============================] - 1s 230ms/step - loss: 182.8819 - val_loss: 201.8270\n",
      "Epoch 87/120\n",
      "5/5 [==============================] - 1s 242ms/step - loss: 192.1807 - val_loss: 221.5068\n",
      "Epoch 88/120\n",
      "5/5 [==============================] - 1s 278ms/step - loss: 188.3671 - val_loss: 182.3499\n",
      "Epoch 89/120\n",
      "5/5 [==============================] - 1s 215ms/step - loss: 189.0177 - val_loss: 221.9999\n",
      "Epoch 90/120\n",
      "5/5 [==============================] - 1s 240ms/step - loss: 189.6186 - val_loss: 227.3305\n",
      "Epoch 91/120\n",
      "5/5 [==============================] - 1s 236ms/step - loss: 199.3287 - val_loss: 207.4690\n",
      "Epoch 92/120\n",
      "5/5 [==============================] - 1s 227ms/step - loss: 190.2013 - val_loss: 207.8418\n",
      "Epoch 93/120\n",
      "5/5 [==============================] - 1s 268ms/step - loss: 179.8248 - val_loss: 180.8081\n",
      "Epoch 94/120\n",
      "5/5 [==============================] - 1s 257ms/step - loss: 173.0587 - val_loss: 187.1870\n",
      "Epoch 95/120\n",
      "5/5 [==============================] - 1s 271ms/step - loss: 170.8808 - val_loss: 178.8084\n",
      "Epoch 96/120\n",
      "5/5 [==============================] - 1s 229ms/step - loss: 164.8634 - val_loss: 196.2299\n",
      "Epoch 97/120\n",
      "5/5 [==============================] - 1s 238ms/step - loss: 164.0424 - val_loss: 194.3185\n",
      "Epoch 98/120\n",
      "5/5 [==============================] - 1s 195ms/step - loss: 171.5868 - val_loss: 202.7332\n",
      "Epoch 99/120\n",
      "5/5 [==============================] - 1s 220ms/step - loss: 165.4822 - val_loss: 185.2818\n",
      "Epoch 100/120\n",
      "5/5 [==============================] - 1s 216ms/step - loss: 166.1263 - val_loss: 184.0951\n",
      "Epoch 101/120\n",
      "5/5 [==============================] - 1s 234ms/step - loss: 166.5950 - val_loss: 194.8284\n",
      "Epoch 102/120\n",
      "5/5 [==============================] - 1s 258ms/step - loss: 164.6144 - val_loss: 201.3793\n",
      "Epoch 103/120\n",
      "5/5 [==============================] - 1s 218ms/step - loss: 165.5273 - val_loss: 179.7209\n",
      "Epoch 104/120\n",
      "5/5 [==============================] - 1s 226ms/step - loss: 159.3128 - val_loss: 182.9759\n",
      "Epoch 105/120\n",
      "5/5 [==============================] - 1s 229ms/step - loss: 161.3264 - val_loss: 189.0480\n",
      "Epoch 106/120\n",
      "5/5 [==============================] - 1s 228ms/step - loss: 144.5183 - val_loss: 202.4954\n",
      "Epoch 107/120\n",
      "5/5 [==============================] - 1s 219ms/step - loss: 153.5022 - val_loss: 212.5706\n",
      "Epoch 108/120\n",
      "5/5 [==============================] - 1s 191ms/step - loss: 154.2838 - val_loss: 164.8790\n",
      "Epoch 109/120\n",
      "5/5 [==============================] - 1s 210ms/step - loss: 144.8246 - val_loss: 185.5817\n",
      "Epoch 110/120\n",
      "5/5 [==============================] - 1s 221ms/step - loss: 150.1500 - val_loss: 220.7617\n",
      "Epoch 111/120\n",
      "5/5 [==============================] - 1s 199ms/step - loss: 152.4648 - val_loss: 216.1142\n",
      "Epoch 112/120\n",
      "5/5 [==============================] - 1s 219ms/step - loss: 165.0964 - val_loss: 201.0943\n",
      "Epoch 113/120\n",
      "5/5 [==============================] - 1s 231ms/step - loss: 166.6977 - val_loss: 172.1361\n",
      "Epoch 114/120\n",
      "5/5 [==============================] - 1s 216ms/step - loss: 165.4852 - val_loss: 193.2091\n",
      "Epoch 115/120\n",
      "5/5 [==============================] - 1s 230ms/step - loss: 149.6051 - val_loss: 203.1169\n",
      "Epoch 116/120\n",
      "5/5 [==============================] - 1s 185ms/step - loss: 146.9503 - val_loss: 175.6134\n",
      "Epoch 117/120\n",
      "5/5 [==============================] - 1s 222ms/step - loss: 162.2209 - val_loss: 194.2225\n",
      "Epoch 118/120\n",
      "5/5 [==============================] - 1s 221ms/step - loss: 157.5852 - val_loss: 175.1945\n",
      "Epoch 119/120\n",
      "5/5 [==============================] - 1s 199ms/step - loss: 142.6517 - val_loss: 206.7278\n",
      "Epoch 120/120\n",
      "5/5 [==============================] - 1s 224ms/step - loss: 151.1313 - val_loss: 206.7452\n"
     ]
    },
    {
     "data": {
      "text/plain": [
       "<keras.callbacks.History at 0x218198aef10>"
      ]
     },
     "execution_count": 580,
     "metadata": {},
     "output_type": "execute_result"
    }
   ],
   "source": [
    "model = make_model(input_shape = Xtrain_ragged.shape[2])\n",
    "        \n",
    "model.fit(Xtrain_ragged, Ytrain_ragged,\n",
    "                validation_data = (Xval_ragged, Yval_ragged),\n",
    "                epochs = 120,\n",
    "                batch_size = 16)"
   ]
  },
  {
   "cell_type": "code",
   "execution_count": 348,
   "metadata": {},
   "outputs": [
    {
     "name": "stdout",
     "output_type": "stream",
     "text": [
      "Epoch 1/50\n",
      "3/3 [==============================] - 0s 111ms/step - loss: 177.5215 - val_loss: 234.2076\n",
      "Epoch 2/50\n",
      "3/3 [==============================] - 0s 104ms/step - loss: 162.4347 - val_loss: 226.8186\n",
      "Epoch 3/50\n",
      "3/3 [==============================] - 0s 109ms/step - loss: 175.6819 - val_loss: 254.2122\n",
      "Epoch 4/50\n",
      "3/3 [==============================] - 0s 102ms/step - loss: 172.8331 - val_loss: 230.3495\n",
      "Epoch 5/50\n",
      "3/3 [==============================] - 0s 105ms/step - loss: 170.4599 - val_loss: 216.5189\n",
      "Epoch 6/50\n",
      "3/3 [==============================] - 0s 116ms/step - loss: 160.5467 - val_loss: 220.2491\n",
      "Epoch 7/50\n",
      "3/3 [==============================] - 0s 111ms/step - loss: 154.5792 - val_loss: 233.3346\n",
      "Epoch 8/50\n",
      "3/3 [==============================] - 0s 105ms/step - loss: 151.4322 - val_loss: 222.2635\n",
      "Epoch 9/50\n",
      "3/3 [==============================] - 0s 105ms/step - loss: 161.5825 - val_loss: 238.7146\n",
      "Epoch 10/50\n",
      "3/3 [==============================] - 0s 116ms/step - loss: 161.2143 - val_loss: 238.8914\n",
      "Epoch 11/50\n",
      "3/3 [==============================] - 0s 112ms/step - loss: 176.0504 - val_loss: 210.3057\n",
      "Epoch 12/50\n",
      "3/3 [==============================] - 0s 106ms/step - loss: 169.5288 - val_loss: 258.2112\n",
      "Epoch 13/50\n",
      "3/3 [==============================] - 0s 108ms/step - loss: 171.7258 - val_loss: 219.8444\n",
      "Epoch 14/50\n",
      "3/3 [==============================] - 0s 94ms/step - loss: 184.9631 - val_loss: 234.0653\n",
      "Epoch 15/50\n",
      "3/3 [==============================] - 0s 104ms/step - loss: 185.2226 - val_loss: 249.6505\n",
      "Epoch 16/50\n",
      "3/3 [==============================] - 0s 96ms/step - loss: 176.2063 - val_loss: 213.0008\n",
      "Epoch 17/50\n",
      "3/3 [==============================] - 0s 105ms/step - loss: 173.8476 - val_loss: 211.5425\n",
      "Epoch 18/50\n",
      "3/3 [==============================] - 0s 110ms/step - loss: 166.7919 - val_loss: 226.6252\n",
      "Epoch 19/50\n",
      "3/3 [==============================] - 0s 100ms/step - loss: 172.1919 - val_loss: 217.3333\n",
      "Epoch 20/50\n",
      "3/3 [==============================] - 0s 94ms/step - loss: 152.6484 - val_loss: 221.7772\n",
      "Epoch 21/50\n",
      "3/3 [==============================] - 0s 103ms/step - loss: 153.7672 - val_loss: 217.9366\n",
      "Epoch 22/50\n",
      "3/3 [==============================] - 0s 104ms/step - loss: 149.6299 - val_loss: 229.5861\n",
      "Epoch 23/50\n",
      "3/3 [==============================] - 0s 123ms/step - loss: 145.7932 - val_loss: 221.7109\n",
      "Epoch 24/50\n",
      "3/3 [==============================] - 0s 142ms/step - loss: 149.3742 - val_loss: 223.3735\n",
      "Epoch 25/50\n",
      "3/3 [==============================] - 0s 144ms/step - loss: 137.1754 - val_loss: 228.7222\n",
      "Epoch 26/50\n",
      "3/3 [==============================] - 0s 150ms/step - loss: 140.4669 - val_loss: 236.2457\n",
      "Epoch 27/50\n",
      "3/3 [==============================] - 1s 162ms/step - loss: 138.6552 - val_loss: 236.9024\n",
      "Epoch 28/50\n",
      "3/3 [==============================] - 0s 141ms/step - loss: 139.6641 - val_loss: 225.4033\n",
      "Epoch 29/50\n",
      "3/3 [==============================] - 0s 135ms/step - loss: 136.1033 - val_loss: 242.3747\n",
      "Epoch 30/50\n",
      "3/3 [==============================] - 0s 145ms/step - loss: 136.0710 - val_loss: 235.2471\n",
      "Epoch 31/50\n",
      "3/3 [==============================] - 0s 150ms/step - loss: 132.5848 - val_loss: 236.4311\n",
      "Epoch 32/50\n",
      "3/3 [==============================] - 0s 148ms/step - loss: 129.7946 - val_loss: 243.2952\n",
      "Epoch 33/50\n",
      "3/3 [==============================] - 0s 137ms/step - loss: 132.5021 - val_loss: 247.3941\n",
      "Epoch 34/50\n",
      "3/3 [==============================] - 0s 146ms/step - loss: 133.1667 - val_loss: 234.7915\n",
      "Epoch 35/50\n",
      "3/3 [==============================] - 0s 134ms/step - loss: 138.9196 - val_loss: 261.6455\n",
      "Epoch 36/50\n",
      "3/3 [==============================] - 0s 141ms/step - loss: 138.1545 - val_loss: 227.7208\n",
      "Epoch 37/50\n",
      "3/3 [==============================] - 0s 148ms/step - loss: 134.0558 - val_loss: 240.6390\n",
      "Epoch 38/50\n",
      "3/3 [==============================] - 0s 145ms/step - loss: 130.9147 - val_loss: 223.7126\n",
      "Epoch 39/50\n",
      "3/3 [==============================] - 0s 141ms/step - loss: 139.5545 - val_loss: 247.9045\n",
      "Epoch 40/50\n",
      "3/3 [==============================] - 0s 138ms/step - loss: 127.6737 - val_loss: 233.3784\n",
      "Epoch 41/50\n",
      "3/3 [==============================] - 0s 155ms/step - loss: 128.5518 - val_loss: 258.1319\n",
      "Epoch 42/50\n",
      "3/3 [==============================] - 0s 144ms/step - loss: 139.7933 - val_loss: 242.2641\n",
      "Epoch 43/50\n",
      "3/3 [==============================] - 0s 141ms/step - loss: 125.9690 - val_loss: 271.6266\n",
      "Epoch 44/50\n",
      "3/3 [==============================] - 0s 139ms/step - loss: 127.6164 - val_loss: 239.0212\n",
      "Epoch 45/50\n",
      "3/3 [==============================] - 0s 138ms/step - loss: 125.8576 - val_loss: 256.7230\n",
      "Epoch 46/50\n",
      "3/3 [==============================] - 0s 150ms/step - loss: 121.4269 - val_loss: 243.3036\n",
      "Epoch 47/50\n",
      "3/3 [==============================] - 0s 138ms/step - loss: 127.3130 - val_loss: 261.4824\n",
      "Epoch 48/50\n",
      "3/3 [==============================] - 0s 134ms/step - loss: 132.0625 - val_loss: 238.9983\n",
      "Epoch 49/50\n",
      "3/3 [==============================] - 0s 134ms/step - loss: 124.3961 - val_loss: 246.6035\n",
      "Epoch 50/50\n",
      "3/3 [==============================] - 0s 147ms/step - loss: 124.4375 - val_loss: 240.7955\n"
     ]
    },
    {
     "data": {
      "text/plain": [
       "<keras.callbacks.History at 0x21818d5cd00>"
      ]
     },
     "execution_count": 348,
     "metadata": {},
     "output_type": "execute_result"
    }
   ],
   "source": [
    "model.fit(Xtrain_ragged, Ytrain_ragged,\n",
    "                validation_data = (Xval_ragged, Yval_ragged),\n",
    "                epochs = 50,\n",
    "                batch_size = 32)"
   ]
  },
  {
   "cell_type": "code",
   "execution_count": 581,
   "metadata": {},
   "outputs": [],
   "source": [
    "Yhat_test_ragged = model.predict(Xtest_ragged)"
   ]
  },
  {
   "cell_type": "code",
   "execution_count": 582,
   "metadata": {},
   "outputs": [
    {
     "data": {
      "text/plain": [
       "(16.73415981058162, 376.4453252812496, 173.68277916587076, 0.8365823431556597)"
      ]
     },
     "execution_count": 582,
     "metadata": {},
     "output_type": "execute_result"
    }
   ],
   "source": [
    "Yhat_test_ragged = model.predict(Xtest_ragged)\n",
    "\n",
    "Yhat = []\n",
    "for i in range(Yhat_test_ragged.shape[0]):\n",
    "    temp = Yhat_test_ragged[i][-1]\n",
    "    Yhat.append(temp[-1].numpy())\n",
    "\n",
    "evaluate(np.asarray(rl), np.asarray(Yhat))"
   ]
  },
  {
   "cell_type": "code",
   "execution_count": 517,
   "metadata": {},
   "outputs": [
    {
     "data": {
      "text/plain": [
       "(13.926154756932464,\n",
       " 314.80625257653946,\n",
       " 119.58097240581542,\n",
       " 0.8876940179420423)"
      ]
     },
     "execution_count": 517,
     "metadata": {},
     "output_type": "execute_result"
    }
   ],
   "source": [
    "evaluate(np.asarray(rl), np.asarray(Yhat))"
   ]
  },
  {
   "cell_type": "code",
   "execution_count": 514,
   "metadata": {},
   "outputs": [
    {
     "data": {
      "text/plain": [
       "(7.890807469685202, 0.9606607343349207)"
      ]
     },
     "execution_count": 514,
     "metadata": {},
     "output_type": "execute_result"
    }
   ],
   "source": [
    "Yhat_train_ragged = model.predict(Xtrain_ragged)\n",
    "evaluate(Ytrain_ragged.to_list()[0], Yhat_train_ragged.to_list()[0], 'train')"
   ]
  },
  {
   "cell_type": "code",
   "execution_count": 513,
   "metadata": {},
   "outputs": [
    {
     "data": {
      "text/plain": [
       "(10.70468471290443, 0.9344349596587355)"
      ]
     },
     "execution_count": 513,
     "metadata": {},
     "output_type": "execute_result"
    }
   ],
   "source": [
    "Yhat_val_ragged = model.predict(Xval_ragged)\n",
    "evaluate(Yval_ragged.to_list()[0], Yhat_val_ragged.to_list()[0], 'train')"
   ]
  },
  {
   "cell_type": "code",
   "execution_count": 472,
   "metadata": {},
   "outputs": [
    {
     "name": "stderr",
     "output_type": "stream",
     "text": [
      "WARNING:absl:Function `_wrapped_model` contains input name(s) args_0 with unsupported characters which will be renamed to args_0_1 in the SavedModel.\n",
      "WARNING:absl:Found untraced functions such as lstm_cell_15_layer_call_fn, lstm_cell_15_layer_call_and_return_conditional_losses, lstm_cell_16_layer_call_fn, lstm_cell_16_layer_call_and_return_conditional_losses while saving (showing 4 of 4). These functions will not be directly callable after loading.\n"
     ]
    },
    {
     "name": "stdout",
     "output_type": "stream",
     "text": [
      "INFO:tensorflow:Assets written to: saved_models/FD001_ragged_topo_70_3_lanscape_pearson\\assets\n"
     ]
    },
    {
     "name": "stderr",
     "output_type": "stream",
     "text": [
      "INFO:tensorflow:Assets written to: saved_models/FD001_ragged_topo_70_3_lanscape_pearson\\assets\n",
      "WARNING:absl:<keras.layers.recurrent.LSTMCell object at 0x0000021818E93850> has the same name 'LSTMCell' as a built-in Keras object. Consider renaming <class 'keras.layers.recurrent.LSTMCell'> to avoid naming conflicts when loading with `tf.keras.models.load_model`. If renaming is not possible, pass the object in the `custom_objects` parameter of the load function.\n",
      "WARNING:absl:<keras.layers.recurrent.LSTMCell object at 0x0000021816249D00> has the same name 'LSTMCell' as a built-in Keras object. Consider renaming <class 'keras.layers.recurrent.LSTMCell'> to avoid naming conflicts when loading with `tf.keras.models.load_model`. If renaming is not possible, pass the object in the `custom_objects` parameter of the load function.\n"
     ]
    }
   ],
   "source": [
    "model.save(f'saved_models/FD001_ragged_topo_70_3_lanscape_pearson')"
   ]
  },
  {
   "cell_type": "code",
   "execution_count": 646,
   "metadata": {},
   "outputs": [
    {
     "name": "stdout",
     "output_type": "stream",
     "text": [
      "24\n",
      "Epoch 1/50\n"
     ]
    },
    {
     "name": "stderr",
     "output_type": "stream",
     "text": [
      "c:\\Users\\jakob\\AppData\\Local\\Programs\\Python\\Python39\\lib\\site-packages\\tensorflow\\python\\framework\\indexed_slices.py:444: UserWarning: Converting sparse IndexedSlices(IndexedSlices(indices=Tensor(\"gradient_tape/sequential_54/lstm_108/RaggedToTensor/boolean_mask_1/GatherV2:0\", shape=(None,), dtype=int32), values=Tensor(\"gradient_tape/sequential_54/lstm_108/RaggedToTensor/boolean_mask/GatherV2:0\", shape=(None, 256), dtype=float32), dense_shape=Tensor(\"gradient_tape/sequential_54/lstm_108/RaggedToTensor/Shape:0\", shape=(2,), dtype=int32))) to a dense Tensor of unknown shape. This may consume a large amount of memory.\n",
      "  warnings.warn(\n"
     ]
    },
    {
     "name": "stdout",
     "output_type": "stream",
     "text": [
      "13/13 [==============================] - 6s 186ms/step - loss: 8538.0322 - val_loss: 6714.1758\n",
      "Epoch 2/50\n",
      "13/13 [==============================] - 1s 98ms/step - loss: 5923.8340 - val_loss: 4663.2490\n",
      "Epoch 3/50\n",
      "13/13 [==============================] - 1s 102ms/step - loss: 4148.2568 - val_loss: 3268.8501\n",
      "Epoch 4/50\n",
      "13/13 [==============================] - 1s 95ms/step - loss: 2936.2554 - val_loss: 2439.1414\n",
      "Epoch 5/50\n",
      "13/13 [==============================] - 1s 96ms/step - loss: 2299.4248 - val_loss: 2114.4187\n",
      "Epoch 6/50\n",
      "13/13 [==============================] - 1s 97ms/step - loss: 2078.7708 - val_loss: 2038.3688\n",
      "Epoch 7/50\n",
      "13/13 [==============================] - 2s 116ms/step - loss: 2008.8883 - val_loss: 1994.6438\n",
      "Epoch 8/50\n",
      "13/13 [==============================] - 1s 109ms/step - loss: 1972.7034 - val_loss: 1956.7675\n",
      "Epoch 9/50\n",
      "13/13 [==============================] - 1s 105ms/step - loss: 1940.5269 - val_loss: 1927.9257\n",
      "Epoch 10/50\n",
      "13/13 [==============================] - 1s 106ms/step - loss: 1921.8494 - val_loss: 1908.4847\n",
      "Epoch 11/50\n",
      "13/13 [==============================] - 1s 115ms/step - loss: 1913.6671 - val_loss: 1896.7292\n",
      "Epoch 12/50\n",
      "13/13 [==============================] - 1s 112ms/step - loss: 1891.9364 - val_loss: 1885.7472\n",
      "Epoch 13/50\n",
      "13/13 [==============================] - 1s 115ms/step - loss: 1897.3397 - val_loss: 1879.3300\n",
      "Epoch 14/50\n",
      "13/13 [==============================] - 2s 117ms/step - loss: 1885.3146 - val_loss: 1873.3704\n",
      "Epoch 15/50\n",
      "13/13 [==============================] - 2s 119ms/step - loss: 1880.3967 - val_loss: 1868.0685\n",
      "Epoch 16/50\n",
      "13/13 [==============================] - 1s 112ms/step - loss: 1882.1654 - val_loss: 1864.4385\n",
      "Epoch 17/50\n",
      "13/13 [==============================] - 2s 122ms/step - loss: 1878.7461 - val_loss: 1862.0168\n",
      "Epoch 18/50\n",
      "13/13 [==============================] - 1s 114ms/step - loss: 1866.0017 - val_loss: 1858.9613\n",
      "Epoch 19/50\n",
      "13/13 [==============================] - 1s 108ms/step - loss: 1863.9006 - val_loss: 1855.3717\n",
      "Epoch 20/50\n",
      "13/13 [==============================] - 2s 116ms/step - loss: 1863.6254 - val_loss: 1855.0411\n",
      "Epoch 21/50\n",
      "13/13 [==============================] - 1s 107ms/step - loss: 1865.6533 - val_loss: 1853.0591\n",
      "Epoch 22/50\n",
      "13/13 [==============================] - 1s 113ms/step - loss: 1856.9415 - val_loss: 1852.0402\n",
      "Epoch 23/50\n",
      "13/13 [==============================] - 1s 104ms/step - loss: 1862.6835 - val_loss: 1851.8571\n",
      "Epoch 24/50\n",
      "13/13 [==============================] - 2s 116ms/step - loss: 1862.7314 - val_loss: 1849.7599\n",
      "Epoch 25/50\n",
      "13/13 [==============================] - 1s 109ms/step - loss: 1856.2238 - val_loss: 1847.5016\n",
      "Epoch 26/50\n",
      "13/13 [==============================] - 1s 111ms/step - loss: 1854.9763 - val_loss: 1847.8470\n",
      "Epoch 27/50\n",
      "13/13 [==============================] - 1s 111ms/step - loss: 1852.9799 - val_loss: 1847.4819\n",
      "Epoch 28/50\n",
      "13/13 [==============================] - 1s 110ms/step - loss: 1852.9940 - val_loss: 1847.6378\n",
      "Epoch 29/50\n",
      "13/13 [==============================] - 1s 109ms/step - loss: 1859.0577 - val_loss: 1847.6379\n",
      "Epoch 30/50\n",
      "13/13 [==============================] - 1s 109ms/step - loss: 1860.3734 - val_loss: 1844.8695\n",
      "Epoch 31/50\n",
      "13/13 [==============================] - 1s 113ms/step - loss: 1853.8408 - val_loss: 1848.4628\n",
      "Epoch 32/50\n",
      "13/13 [==============================] - 2s 118ms/step - loss: 1861.8505 - val_loss: 1845.6808\n",
      "Epoch 33/50\n",
      "13/13 [==============================] - 2s 127ms/step - loss: 1853.5514 - val_loss: 1844.5188\n",
      "Epoch 34/50\n",
      "13/13 [==============================] - 2s 123ms/step - loss: 1848.9276 - val_loss: 1844.3209\n",
      "Epoch 35/50\n",
      "13/13 [==============================] - 1s 113ms/step - loss: 1854.8340 - val_loss: 1846.0546\n",
      "Epoch 36/50\n",
      "13/13 [==============================] - 1s 108ms/step - loss: 1862.5909 - val_loss: 1846.3718\n",
      "Epoch 37/50\n",
      "13/13 [==============================] - 1s 109ms/step - loss: 1853.3168 - val_loss: 1842.9098\n",
      "Epoch 38/50\n",
      "13/13 [==============================] - 1s 106ms/step - loss: 1851.6503 - val_loss: 1843.5497\n",
      "Epoch 39/50\n",
      "13/13 [==============================] - 1s 109ms/step - loss: 1858.1740 - val_loss: 1846.2968\n",
      "Epoch 40/50\n",
      "13/13 [==============================] - 1s 105ms/step - loss: 1850.9618 - val_loss: 1842.0815\n",
      "Epoch 41/50\n",
      "13/13 [==============================] - 1s 111ms/step - loss: 1851.0505 - val_loss: 1843.5309\n",
      "Epoch 42/50\n",
      "13/13 [==============================] - 1s 104ms/step - loss: 1856.8929 - val_loss: 1842.0320\n",
      "Epoch 43/50\n",
      "13/13 [==============================] - 2s 121ms/step - loss: 1857.1865 - val_loss: 1842.9426\n",
      "Epoch 44/50\n",
      "13/13 [==============================] - 1s 109ms/step - loss: 1854.7501 - val_loss: 1841.6636\n",
      "Epoch 45/50\n",
      "13/13 [==============================] - 1s 112ms/step - loss: 1843.0698 - val_loss: 1843.3171\n",
      "Epoch 46/50\n",
      "13/13 [==============================] - 1s 108ms/step - loss: 1850.3826 - val_loss: 1843.0525\n",
      "Epoch 47/50\n",
      "13/13 [==============================] - 1s 110ms/step - loss: 1853.5870 - val_loss: 1843.2278\n",
      "Epoch 48/50\n",
      "13/13 [==============================] - 1s 107ms/step - loss: 1852.5188 - val_loss: 1842.3995\n",
      "Epoch 49/50\n",
      "13/13 [==============================] - 1s 108ms/step - loss: 1846.5109 - val_loss: 1840.6831\n",
      "Epoch 50/50\n",
      "13/13 [==============================] - 1s 106ms/step - loss: 1847.1654 - val_loss: 1843.0038\n"
     ]
    },
    {
     "name": "stderr",
     "output_type": "stream",
     "text": [
      "WARNING:absl:Function `_wrapped_model` contains input name(s) args_0 with unsupported characters which will be renamed to args_0_1 in the SavedModel.\n",
      "WARNING:absl:Found untraced functions such as lstm_cell_107_layer_call_fn, lstm_cell_107_layer_call_and_return_conditional_losses, lstm_cell_108_layer_call_fn, lstm_cell_108_layer_call_and_return_conditional_losses while saving (showing 4 of 4). These functions will not be directly callable after loading.\n"
     ]
    },
    {
     "name": "stdout",
     "output_type": "stream",
     "text": [
      "INFO:tensorflow:Assets written to: saved_models/topo_ragged_lstm_model_FD004_label2_50_10_landscape_distance\\assets\n"
     ]
    },
    {
     "name": "stderr",
     "output_type": "stream",
     "text": [
      "INFO:tensorflow:Assets written to: saved_models/topo_ragged_lstm_model_FD004_label2_50_10_landscape_distance\\assets\n",
      "WARNING:absl:<keras.layers.recurrent.LSTMCell object at 0x00000218970DB7C0> has the same name 'LSTMCell' as a built-in Keras object. Consider renaming <class 'keras.layers.recurrent.LSTMCell'> to avoid naming conflicts when loading with `tf.keras.models.load_model`. If renaming is not possible, pass the object in the `custom_objects` parameter of the load function.\n",
      "WARNING:absl:<keras.layers.recurrent.LSTMCell object at 0x0000021897BBB9A0> has the same name 'LSTMCell' as a built-in Keras object. Consider renaming <class 'keras.layers.recurrent.LSTMCell'> to avoid naming conflicts when loading with `tf.keras.models.load_model`. If renaming is not possible, pass the object in the `custom_objects` parameter of the load function.\n"
     ]
    }
   ],
   "source": [
    "# Put in a loop to check all labels\n",
    "add = True\n",
    "\n",
    "dataset = 4\n",
    "\n",
    "sequence_length = 50\n",
    "stride = 10\n",
    "\n",
    "dist = 'distance' # 'spearman', 'distance'\n",
    "m = 'landscape' # 'bottleneck' | 'wasserstein' | 'betti' | 'landscape' | 'silhouette' | 'heat' | 'persistence_image'\n",
    "\n",
    "tr, te, rl = tb.getTFDataset(set = dataset)\n",
    "tb.addTFlinear(tr, te, rl)\n",
    "tr_df = rd.RUL_DataFrame(df = tr, label_cols = ['linear'])\n",
    "te_df = rd.RUL_DataFrame(df = te, label_cols = ['linear'])\n",
    "if dataset in [1,3]:\n",
    "    preproc.drop_zero_variance(rul_df = tr_df, rul_df_test = te_df)\n",
    "    preproc.scale(rul_df = tr_df, rul_df_test = te_df, scale = 'std')\n",
    "elif dataset in [2, 4]:\n",
    "    classy.fit_kmeans(rul_df = tr_df, rul_df_test = te_df, colname = 'kmeans')\n",
    "    preproc.one_hot_encode(rul_df = tr_df, rul_df_test = te_df, c_col = 'kmeans')\n",
    "    preproc.c_drop_zero_variance(rul_df = tr_df, rul_df_test = te_df , c_cols = tr_df.categ_cols)\n",
    "    preproc.c_scale(rul_df = tr_df, rul_df_test = te_df , c_cols = tr_df.categ_cols, scale = 'std')\n",
    "    preproc.drop_zero_variance(rul_df = tr_df, rul_df_test = te_df)\n",
    "    \n",
    "# adjust to label size\n",
    "preproc.delete_first_n(tr_df, 9)\n",
    "\n",
    "labels = pd.read_csv(f'labels/FD00{dataset}')\n",
    "label_cols = ['linear', 'piecewise_optimized', 'piecewies_125', 'descriptive', 'spearman', 'rec_error']\n",
    "if not labels.shape[0] == tr_df.df.shape[0]:\n",
    "    print(f'Labels and Data do not have same length. Dataset FD00{dataset}')\n",
    "temp = pd.concat([tr_df.df, labels], axis=1)\n",
    "training_data_with_labels = rd.RUL_DataFrame(df = temp, data_cols = tr_df.data_cols, categ_cols = tr_df.categ_cols, label_cols = ['linear', 'piecewise_optimized', 'piecewise_125', 'descriptive', 'spearman',\n",
    "                                                            'rec_error'])\n",
    "\n",
    "Xtrain = training_data_with_labels.df[[training_data_with_labels.id_col] + training_data_with_labels.data_cols + training_data_with_labels.categ_cols]\n",
    "Xtest = te_df.df[[te_df.id_col] + te_df.data_cols + te_df.categ_cols]\n",
    "Ytrain = training_data_with_labels.df[training_data_with_labels.label_cols]\n",
    "Ytest = te_df.df['linear']\n",
    "\n",
    "n = Xtrain.shape[1]\n",
    "print(n)\n",
    "\n",
    "groupshufflesplit = GroupShuffleSplit(n_splits = 1, train_size = 0.8 , random_state = 42)\n",
    "Xtrain_split, Ytrain_split, groupstrain, Xval_split, Yval_split, groupsval = training_validation_split(Xtrain, Ytrain, groupshufflesplit, \n",
    "                                                                                        groups = training_data_with_labels.df[training_data_with_labels.id_col])\n",
    "\n",
    "Xtrain_split_sequences_id = make_data_to_sequence(Xtrain_split, sequence_length, groupstrain, stride)\n",
    "Xtrain_split_sequences = Xtrain_split_sequences_id[:,:,1:(n+1)]\n",
    "Xtrain_split_sequences_id = Xtrain_split_sequences_id[:,:,0][:,-1]\n",
    "Ytrain_split_sequences = make_data_to_sequence(Ytrain_split, sequence_length, groupstrain, stride,  y = True)\n",
    "\n",
    "Xval_split_sequences_id = make_data_to_sequence(Xval_split, sequence_length, groupsval, stride)\n",
    "Xval_split_sequences = Xval_split_sequences_id[:,:,1:(n+1)]\n",
    "Xval_split_sequences_id = Xval_split_sequences_id[:,:,0][:,-1]\n",
    "Yval_split_sequences = make_data_to_sequence(Yval_split, sequence_length, groupsval, stride,  y = True)\n",
    "\n",
    "Xtest_sequences_id = make_data_to_sequence(Xtest, sequence_length, te_df.df[te_df.id_col], stride, test = True)\n",
    "Xtest_sequences = Xtest_sequences_id[:,:,1:(n+1)]\n",
    "Xtest_sequences_id = Xtest_sequences_id[:,:,0][:,-1]\n",
    "Ytest_sequences = make_data_to_sequence(Ytest, sequence_length, te_df.df[te_df.id_col], stride, y =True, test = True)\n",
    "\n",
    "Xtrain_topo = pd.read_csv(f'topo_features/{sequence_length}_{stride}_{m}_{dist}_FD00{dataset}' + 'train')\n",
    "Xval_topo = pd.read_csv(f'topo_features/{sequence_length}_{stride}_{m}_{dist}_FD00{dataset}' + 'val')\n",
    "Xtest_topo = pd.read_csv(f'topo_features/{sequence_length}_{stride}_{m}_{dist}_FD00{dataset}' + 'test')\n",
    "\n",
    "label_cols = ['linear', 'piecewise_optimized', 'piecewies_125', 'descriptive', 'spearman', 'rec_error']\n",
    "\n",
    "X_a_train = np.asarray(Xtrain_topo[['H0', 'H1']])\n",
    "X_a_val = np.asarray(Xval_topo[['H0', 'H1']])\n",
    "\n",
    "X_a_test = np.asarray(Xtest_topo[['H0', 'H1']])\n",
    "\n",
    "if add:\n",
    "    X_a_train = np.concatenate((Xtrain_split_sequences[:,-1,:],X_a_train), axis = 1)\n",
    "    X_a_val =np.concatenate((Xval_split_sequences[:,-1,:],X_a_val), axis = 1)\n",
    "    X_a_test = np.concatenate((Xtest_sequences[:,-1,:] ,X_a_test), axis = 1)\n",
    "\n",
    "# adjust ids for ragged tensor\n",
    "counter = 0\n",
    "for i in Xtrain_topo['id'].unique():\n",
    "    Xtrain_topo.loc[Xtrain_topo['id'] == i, 'id'] = counter\n",
    "    counter += 1\n",
    "\n",
    "counter = 0\n",
    "for i in Xval_topo['id'].unique():\n",
    "    Xval_topo.loc[Xval_topo['id'] == i, 'id'] = counter\n",
    "    counter += 1\n",
    "\n",
    "counter = 0\n",
    "for i in Xtest_topo['id'].unique():\n",
    "    Xtest_topo.loc[Xtest_topo['id'] == i, 'id'] = counter\n",
    "    counter += 1\n",
    "\n",
    "Xtest_ragged = tf.RaggedTensor.from_value_rowids(\n",
    "                        values = X_a_test,\n",
    "                        value_rowids = Xtest_topo['id']) \n",
    "Ytest_sequences = np.asarray(Xtest_topo.groupby('id')['linear'].tail(1))\n",
    "\n",
    "\n",
    "Xtrain_ragged = tf.RaggedTensor.from_value_rowids(\n",
    "                        values = X_a_train,\n",
    "                        value_rowids = Xtrain_topo['id'])\n",
    "\n",
    "\n",
    "\n",
    "Xval_ragged = tf.RaggedTensor.from_value_rowids(\n",
    "                        values = X_a_val,\n",
    "                        value_rowids = Xval_topo['id'])\n",
    "\n",
    "\n",
    "# choose label\n",
    "path = f'scores/topo_ragged_LSTM_FD00{dataset}_{sequence_length}_{stride}_{m}_{dist}'\n",
    "results = pd.DataFrame(columns=['dataset', 'label','RSME_tr','R2_tr', 'RSME_v','R2_v','RSME_te','S Score', 'L Score', 'R2_te'])\n",
    "for l in [2]:\n",
    "    Ytrain_split_sequences = np.asarray(Xtrain_topo[label_cols[l]])\n",
    "    Yval_split_sequences = np.asarray(Xval_topo[label_cols[l]])\n",
    "\n",
    "    Ytrain_ragged = tf.RaggedTensor.from_value_rowids(\n",
    "                        values = Ytrain_split_sequences,\n",
    "                        value_rowids = Xtrain_topo['id'])\n",
    "\n",
    "    Yval_ragged = tf.RaggedTensor.from_value_rowids(\n",
    "                        values = Yval_split_sequences,\n",
    "                        value_rowids = Xval_topo['id'])\n",
    "\n",
    "    model = make_model(input_shape = Xtrain_ragged.shape[2], lstm_dims = [256, 128], dropout = True, d_rate = 0.2, dense_dims = [32, 1])\n",
    "            \n",
    "    model.fit(Xtrain_ragged, Ytrain_ragged,\n",
    "                    validation_data = (Xval_ragged, Yval_ragged),\n",
    "                    epochs = 50,\n",
    "                    batch_size = 16)\n",
    "    \n",
    "    model.save(f'saved_models/topo_ragged_lstm_model_FD00{dataset}_label{l}_{sequence_length}_{stride}_{m}_{dist}')\n",
    "\n",
    "    Yhat_train_ragged = model.predict(Xtrain_ragged)\n",
    "    rsmesplit, r2split, = evaluate(Ytrain_ragged.to_list()[0], Yhat_train_ragged.to_list()[0], 'train')\n",
    "\n",
    "    Yhat_val_ragged = model.predict(Xval_ragged)\n",
    "    rsmeval, r2val = evaluate(Yval_ragged.to_list()[0], Yhat_val_ragged.to_list()[0], 'train')\n",
    "\n",
    "    Yhat_test_ragged = model.predict(Xtest_ragged)\n",
    "\n",
    "    Yhat = []\n",
    "    for i in range(Yhat_test_ragged.shape[0]):\n",
    "        temp = Yhat_test_ragged[i][-1]\n",
    "        Yhat.append(temp[-1].numpy())\n",
    "\n",
    "    rsmetest, s, ls, r2test = evaluate(np.asarray(rl), np.asarray(Yhat))\n",
    "\n",
    "    df = pd.DataFrame([[dataset, label_cols[l], rsmesplit, r2split, rsmeval, r2val, rsmetest, s, ls, r2test]], columns=['dataset', 'label','RSME_tr','R2_tr', 'RSME_v','R2_v','RSME_te','S Score', 'L Score', 'R2_te'])\n",
    "    results = pd.concat((results, df))\n",
    "results.to_csv(path, index = False)"
   ]
  },
  {
   "cell_type": "code",
   "execution_count": 642,
   "metadata": {},
   "outputs": [
    {
     "name": "stdout",
     "output_type": "stream",
     "text": [
      "Epoch 1/10\n",
      "13/13 [==============================] - 1s 68ms/step - loss: 1532.7548 - val_loss: 1529.5405\n",
      "Epoch 2/10\n",
      "13/13 [==============================] - 1s 71ms/step - loss: 1522.6014 - val_loss: 1519.5052\n",
      "Epoch 3/10\n",
      "13/13 [==============================] - 1s 71ms/step - loss: 1505.8284 - val_loss: 1502.9746\n",
      "Epoch 4/10\n",
      "13/13 [==============================] - 1s 66ms/step - loss: 1493.9729 - val_loss: 1499.1342\n",
      "Epoch 5/10\n",
      "13/13 [==============================] - 1s 69ms/step - loss: 1495.3925 - val_loss: 1492.7550\n",
      "Epoch 6/10\n",
      "13/13 [==============================] - 1s 67ms/step - loss: 1490.0391 - val_loss: 1478.2839\n",
      "Epoch 7/10\n",
      "13/13 [==============================] - 1s 69ms/step - loss: 1477.8442 - val_loss: 1466.4155\n",
      "Epoch 8/10\n",
      "13/13 [==============================] - 1s 66ms/step - loss: 1456.9021 - val_loss: 1455.1219\n",
      "Epoch 9/10\n",
      "13/13 [==============================] - 1s 73ms/step - loss: 1394.6251 - val_loss: 1079.1375\n",
      "Epoch 10/10\n",
      "13/13 [==============================] - 1s 69ms/step - loss: 677.9403 - val_loss: 482.9922\n"
     ]
    },
    {
     "data": {
      "text/plain": [
       "<keras.callbacks.History at 0x21897bbb9d0>"
      ]
     },
     "execution_count": 642,
     "metadata": {},
     "output_type": "execute_result"
    }
   ],
   "source": [
    "model.fit(Xtrain_ragged, Ytrain_ragged,\n",
    "                    validation_data = (Xval_ragged, Yval_ragged),\n",
    "                    epochs = 10,\n",
    "                    batch_size = 16)"
   ]
  },
  {
   "cell_type": "code",
   "execution_count": 647,
   "metadata": {},
   "outputs": [
    {
     "name": "stdout",
     "output_type": "stream",
     "text": [
      "\\begin{tabular}{lrrrrr}\n",
      "\\hline\n",
      " Label         &   RSME Training &   RSME Validation &   RSME Testing &      S &       L \\\\\n",
      "\\hline\n",
      " piecewies\\_125 &         39.9594 &           41.5309 &        54.6124 & 352781 & 3630.82 \\\\\n",
      "\\hline\n",
      "\\end{tabular}\n"
     ]
    }
   ],
   "source": [
    "from tabulate import tabulate\n",
    "print(tabulate(results[['label', 'RSME_tr','RSME_v', 'RSME_te', 'S Score', 'L Score']], headers=['Label','RSME Training','RSME Validation', 'RSME Testing', 'S', 'L'], tablefmt='latex', showindex=False))"
   ]
  },
  {
   "cell_type": "code",
   "execution_count": 550,
   "metadata": {},
   "outputs": [
    {
     "name": "stdout",
     "output_type": "stream",
     "text": [
      "Model: \"sequential_26\"\n",
      "_________________________________________________________________\n",
      " Layer (type)                Output Shape              Param #   \n",
      "=================================================================\n",
      " lstm_43 (LSTM)              (None, None, 128)         74240     \n",
      "                                                                 \n",
      " dropout_40 (Dropout)        (None, None, 128)         0         \n",
      "                                                                 \n",
      " lstm_44 (LSTM)              (None, None, 64)          49408     \n",
      "                                                                 \n",
      " dropout_41 (Dropout)        (None, None, 64)          0         \n",
      "                                                                 \n",
      " dense_48 (Dense)            (None, None, 16)          1040      \n",
      "                                                                 \n",
      " dense_49 (Dense)            (None, None, 1)           17        \n",
      "                                                                 \n",
      "=================================================================\n",
      "Total params: 124,705\n",
      "Trainable params: 124,705\n",
      "Non-trainable params: 0\n",
      "_________________________________________________________________\n"
     ]
    }
   ],
   "source": [
    "model.summary()"
   ]
  },
  {
   "cell_type": "code",
   "execution_count": 524,
   "metadata": {},
   "outputs": [
    {
     "data": {
      "text/plain": [
       "TensorShape([100, None, 30])"
      ]
     },
     "execution_count": 524,
     "metadata": {},
     "output_type": "execute_result"
    }
   ],
   "source": [
    "Xtest_ragged.shape"
   ]
  },
  {
   "cell_type": "code",
   "execution_count": 210,
   "metadata": {},
   "outputs": [
    {
     "data": {
      "application/vnd.plotly.v1+json": {
       "config": {
        "plotlyServerURL": "https://plot.ly"
       },
       "data": [
        {
         "hoverinfo": "none",
         "line": {
          "color": "black",
          "dash": "dash",
          "width": 1
         },
         "mode": "lines",
         "showlegend": false,
         "type": "scatter",
         "x": [
          -0.009909942150115966,
          0.5054070496559143
         ],
         "y": [
          -0.009909942150115966,
          0.5054070496559143
         ]
        },
        {
         "hoverinfo": "text",
         "hovertext": [
          "(5.551115123125783e-17, 0.2705347537994385)",
          "(0.0, 0.31924229860305786)",
          "(5.551115123125783e-17, 0.32628339529037476)",
          "(0.0, 0.33541226387023926)",
          "(0.0, 0.34373825788497925)",
          "(1.1102230246251565e-16, 0.3741627633571625)",
          "(0.0, 0.38036444783210754)",
          "(0.0, 0.4050758481025696)",
          "(0.0, 0.41083142161369324)",
          "(0.0, 0.4187697470188141)",
          "(0.0, 0.4275447726249695)",
          "(0.0, 0.42881277203559875)",
          "(0.0, 0.4441191852092743)"
         ],
         "mode": "markers",
         "name": "H0",
         "type": "scatter",
         "x": [
          5.551115123125783e-17,
          0,
          5.551115123125783e-17,
          0,
          0,
          1.1102230246251565e-16,
          0,
          0,
          0,
          0,
          0,
          0,
          0
         ],
         "y": [
          0.2705347537994385,
          0.31924229860305786,
          0.32628339529037476,
          0.33541226387023926,
          0.34373825788497925,
          0.3741627633571625,
          0.38036444783210754,
          0.4050758481025696,
          0.41083142161369324,
          0.4187697470188141,
          0.4275447726249695,
          0.42881277203559875,
          0.4441191852092743
         ]
        },
        {
         "hoverinfo": "text",
         "hovertext": [
          "(0.4834539294242859, 0.48562976717948914)",
          "(0.4720577299594879, 0.49549710750579834)",
          "(0.46992236375808716, 0.4803699254989624)",
          "(0.4676731824874878, 0.47325772047042847)",
          "(0.4444294571876526, 0.4803699254989624)",
          "(0.4207450747489929, 0.44936928153038025)",
          "(0.41914036870002747, 0.43916505575180054)"
         ],
         "mode": "markers",
         "name": "H1",
         "type": "scatter",
         "x": [
          0.4834539294242859,
          0.4720577299594879,
          0.46992236375808716,
          0.4676731824874878,
          0.4444294571876526,
          0.4207450747489929,
          0.41914036870002747
         ],
         "y": [
          0.48562976717948914,
          0.49549710750579834,
          0.4803699254989624,
          0.47325772047042847,
          0.4803699254989624,
          0.44936928153038025,
          0.43916505575180054
         ]
        }
       ],
       "layout": {
        "height": 500,
        "plot_bgcolor": "white",
        "template": {
         "data": {
          "bar": [
           {
            "error_x": {
             "color": "#2a3f5f"
            },
            "error_y": {
             "color": "#2a3f5f"
            },
            "marker": {
             "line": {
              "color": "#E5ECF6",
              "width": 0.5
             },
             "pattern": {
              "fillmode": "overlay",
              "size": 10,
              "solidity": 0.2
             }
            },
            "type": "bar"
           }
          ],
          "barpolar": [
           {
            "marker": {
             "line": {
              "color": "#E5ECF6",
              "width": 0.5
             },
             "pattern": {
              "fillmode": "overlay",
              "size": 10,
              "solidity": 0.2
             }
            },
            "type": "barpolar"
           }
          ],
          "carpet": [
           {
            "aaxis": {
             "endlinecolor": "#2a3f5f",
             "gridcolor": "white",
             "linecolor": "white",
             "minorgridcolor": "white",
             "startlinecolor": "#2a3f5f"
            },
            "baxis": {
             "endlinecolor": "#2a3f5f",
             "gridcolor": "white",
             "linecolor": "white",
             "minorgridcolor": "white",
             "startlinecolor": "#2a3f5f"
            },
            "type": "carpet"
           }
          ],
          "choropleth": [
           {
            "colorbar": {
             "outlinewidth": 0,
             "ticks": ""
            },
            "type": "choropleth"
           }
          ],
          "contour": [
           {
            "colorbar": {
             "outlinewidth": 0,
             "ticks": ""
            },
            "colorscale": [
             [
              0,
              "#0d0887"
             ],
             [
              0.1111111111111111,
              "#46039f"
             ],
             [
              0.2222222222222222,
              "#7201a8"
             ],
             [
              0.3333333333333333,
              "#9c179e"
             ],
             [
              0.4444444444444444,
              "#bd3786"
             ],
             [
              0.5555555555555556,
              "#d8576b"
             ],
             [
              0.6666666666666666,
              "#ed7953"
             ],
             [
              0.7777777777777778,
              "#fb9f3a"
             ],
             [
              0.8888888888888888,
              "#fdca26"
             ],
             [
              1,
              "#f0f921"
             ]
            ],
            "type": "contour"
           }
          ],
          "contourcarpet": [
           {
            "colorbar": {
             "outlinewidth": 0,
             "ticks": ""
            },
            "type": "contourcarpet"
           }
          ],
          "heatmap": [
           {
            "colorbar": {
             "outlinewidth": 0,
             "ticks": ""
            },
            "colorscale": [
             [
              0,
              "#0d0887"
             ],
             [
              0.1111111111111111,
              "#46039f"
             ],
             [
              0.2222222222222222,
              "#7201a8"
             ],
             [
              0.3333333333333333,
              "#9c179e"
             ],
             [
              0.4444444444444444,
              "#bd3786"
             ],
             [
              0.5555555555555556,
              "#d8576b"
             ],
             [
              0.6666666666666666,
              "#ed7953"
             ],
             [
              0.7777777777777778,
              "#fb9f3a"
             ],
             [
              0.8888888888888888,
              "#fdca26"
             ],
             [
              1,
              "#f0f921"
             ]
            ],
            "type": "heatmap"
           }
          ],
          "heatmapgl": [
           {
            "colorbar": {
             "outlinewidth": 0,
             "ticks": ""
            },
            "colorscale": [
             [
              0,
              "#0d0887"
             ],
             [
              0.1111111111111111,
              "#46039f"
             ],
             [
              0.2222222222222222,
              "#7201a8"
             ],
             [
              0.3333333333333333,
              "#9c179e"
             ],
             [
              0.4444444444444444,
              "#bd3786"
             ],
             [
              0.5555555555555556,
              "#d8576b"
             ],
             [
              0.6666666666666666,
              "#ed7953"
             ],
             [
              0.7777777777777778,
              "#fb9f3a"
             ],
             [
              0.8888888888888888,
              "#fdca26"
             ],
             [
              1,
              "#f0f921"
             ]
            ],
            "type": "heatmapgl"
           }
          ],
          "histogram": [
           {
            "marker": {
             "pattern": {
              "fillmode": "overlay",
              "size": 10,
              "solidity": 0.2
             }
            },
            "type": "histogram"
           }
          ],
          "histogram2d": [
           {
            "colorbar": {
             "outlinewidth": 0,
             "ticks": ""
            },
            "colorscale": [
             [
              0,
              "#0d0887"
             ],
             [
              0.1111111111111111,
              "#46039f"
             ],
             [
              0.2222222222222222,
              "#7201a8"
             ],
             [
              0.3333333333333333,
              "#9c179e"
             ],
             [
              0.4444444444444444,
              "#bd3786"
             ],
             [
              0.5555555555555556,
              "#d8576b"
             ],
             [
              0.6666666666666666,
              "#ed7953"
             ],
             [
              0.7777777777777778,
              "#fb9f3a"
             ],
             [
              0.8888888888888888,
              "#fdca26"
             ],
             [
              1,
              "#f0f921"
             ]
            ],
            "type": "histogram2d"
           }
          ],
          "histogram2dcontour": [
           {
            "colorbar": {
             "outlinewidth": 0,
             "ticks": ""
            },
            "colorscale": [
             [
              0,
              "#0d0887"
             ],
             [
              0.1111111111111111,
              "#46039f"
             ],
             [
              0.2222222222222222,
              "#7201a8"
             ],
             [
              0.3333333333333333,
              "#9c179e"
             ],
             [
              0.4444444444444444,
              "#bd3786"
             ],
             [
              0.5555555555555556,
              "#d8576b"
             ],
             [
              0.6666666666666666,
              "#ed7953"
             ],
             [
              0.7777777777777778,
              "#fb9f3a"
             ],
             [
              0.8888888888888888,
              "#fdca26"
             ],
             [
              1,
              "#f0f921"
             ]
            ],
            "type": "histogram2dcontour"
           }
          ],
          "mesh3d": [
           {
            "colorbar": {
             "outlinewidth": 0,
             "ticks": ""
            },
            "type": "mesh3d"
           }
          ],
          "parcoords": [
           {
            "line": {
             "colorbar": {
              "outlinewidth": 0,
              "ticks": ""
             }
            },
            "type": "parcoords"
           }
          ],
          "pie": [
           {
            "automargin": true,
            "type": "pie"
           }
          ],
          "scatter": [
           {
            "marker": {
             "colorbar": {
              "outlinewidth": 0,
              "ticks": ""
             }
            },
            "type": "scatter"
           }
          ],
          "scatter3d": [
           {
            "line": {
             "colorbar": {
              "outlinewidth": 0,
              "ticks": ""
             }
            },
            "marker": {
             "colorbar": {
              "outlinewidth": 0,
              "ticks": ""
             }
            },
            "type": "scatter3d"
           }
          ],
          "scattercarpet": [
           {
            "marker": {
             "colorbar": {
              "outlinewidth": 0,
              "ticks": ""
             }
            },
            "type": "scattercarpet"
           }
          ],
          "scattergeo": [
           {
            "marker": {
             "colorbar": {
              "outlinewidth": 0,
              "ticks": ""
             }
            },
            "type": "scattergeo"
           }
          ],
          "scattergl": [
           {
            "marker": {
             "colorbar": {
              "outlinewidth": 0,
              "ticks": ""
             }
            },
            "type": "scattergl"
           }
          ],
          "scattermapbox": [
           {
            "marker": {
             "colorbar": {
              "outlinewidth": 0,
              "ticks": ""
             }
            },
            "type": "scattermapbox"
           }
          ],
          "scatterpolar": [
           {
            "marker": {
             "colorbar": {
              "outlinewidth": 0,
              "ticks": ""
             }
            },
            "type": "scatterpolar"
           }
          ],
          "scatterpolargl": [
           {
            "marker": {
             "colorbar": {
              "outlinewidth": 0,
              "ticks": ""
             }
            },
            "type": "scatterpolargl"
           }
          ],
          "scatterternary": [
           {
            "marker": {
             "colorbar": {
              "outlinewidth": 0,
              "ticks": ""
             }
            },
            "type": "scatterternary"
           }
          ],
          "surface": [
           {
            "colorbar": {
             "outlinewidth": 0,
             "ticks": ""
            },
            "colorscale": [
             [
              0,
              "#0d0887"
             ],
             [
              0.1111111111111111,
              "#46039f"
             ],
             [
              0.2222222222222222,
              "#7201a8"
             ],
             [
              0.3333333333333333,
              "#9c179e"
             ],
             [
              0.4444444444444444,
              "#bd3786"
             ],
             [
              0.5555555555555556,
              "#d8576b"
             ],
             [
              0.6666666666666666,
              "#ed7953"
             ],
             [
              0.7777777777777778,
              "#fb9f3a"
             ],
             [
              0.8888888888888888,
              "#fdca26"
             ],
             [
              1,
              "#f0f921"
             ]
            ],
            "type": "surface"
           }
          ],
          "table": [
           {
            "cells": {
             "fill": {
              "color": "#EBF0F8"
             },
             "line": {
              "color": "white"
             }
            },
            "header": {
             "fill": {
              "color": "#C8D4E3"
             },
             "line": {
              "color": "white"
             }
            },
            "type": "table"
           }
          ]
         },
         "layout": {
          "annotationdefaults": {
           "arrowcolor": "#2a3f5f",
           "arrowhead": 0,
           "arrowwidth": 1
          },
          "autotypenumbers": "strict",
          "coloraxis": {
           "colorbar": {
            "outlinewidth": 0,
            "ticks": ""
           }
          },
          "colorscale": {
           "diverging": [
            [
             0,
             "#8e0152"
            ],
            [
             0.1,
             "#c51b7d"
            ],
            [
             0.2,
             "#de77ae"
            ],
            [
             0.3,
             "#f1b6da"
            ],
            [
             0.4,
             "#fde0ef"
            ],
            [
             0.5,
             "#f7f7f7"
            ],
            [
             0.6,
             "#e6f5d0"
            ],
            [
             0.7,
             "#b8e186"
            ],
            [
             0.8,
             "#7fbc41"
            ],
            [
             0.9,
             "#4d9221"
            ],
            [
             1,
             "#276419"
            ]
           ],
           "sequential": [
            [
             0,
             "#0d0887"
            ],
            [
             0.1111111111111111,
             "#46039f"
            ],
            [
             0.2222222222222222,
             "#7201a8"
            ],
            [
             0.3333333333333333,
             "#9c179e"
            ],
            [
             0.4444444444444444,
             "#bd3786"
            ],
            [
             0.5555555555555556,
             "#d8576b"
            ],
            [
             0.6666666666666666,
             "#ed7953"
            ],
            [
             0.7777777777777778,
             "#fb9f3a"
            ],
            [
             0.8888888888888888,
             "#fdca26"
            ],
            [
             1,
             "#f0f921"
            ]
           ],
           "sequentialminus": [
            [
             0,
             "#0d0887"
            ],
            [
             0.1111111111111111,
             "#46039f"
            ],
            [
             0.2222222222222222,
             "#7201a8"
            ],
            [
             0.3333333333333333,
             "#9c179e"
            ],
            [
             0.4444444444444444,
             "#bd3786"
            ],
            [
             0.5555555555555556,
             "#d8576b"
            ],
            [
             0.6666666666666666,
             "#ed7953"
            ],
            [
             0.7777777777777778,
             "#fb9f3a"
            ],
            [
             0.8888888888888888,
             "#fdca26"
            ],
            [
             1,
             "#f0f921"
            ]
           ]
          },
          "colorway": [
           "#636efa",
           "#EF553B",
           "#00cc96",
           "#ab63fa",
           "#FFA15A",
           "#19d3f3",
           "#FF6692",
           "#B6E880",
           "#FF97FF",
           "#FECB52"
          ],
          "font": {
           "color": "#2a3f5f"
          },
          "geo": {
           "bgcolor": "white",
           "lakecolor": "white",
           "landcolor": "#E5ECF6",
           "showlakes": true,
           "showland": true,
           "subunitcolor": "white"
          },
          "hoverlabel": {
           "align": "left"
          },
          "hovermode": "closest",
          "mapbox": {
           "style": "light"
          },
          "paper_bgcolor": "white",
          "plot_bgcolor": "#E5ECF6",
          "polar": {
           "angularaxis": {
            "gridcolor": "white",
            "linecolor": "white",
            "ticks": ""
           },
           "bgcolor": "#E5ECF6",
           "radialaxis": {
            "gridcolor": "white",
            "linecolor": "white",
            "ticks": ""
           }
          },
          "scene": {
           "xaxis": {
            "backgroundcolor": "#E5ECF6",
            "gridcolor": "white",
            "gridwidth": 2,
            "linecolor": "white",
            "showbackground": true,
            "ticks": "",
            "zerolinecolor": "white"
           },
           "yaxis": {
            "backgroundcolor": "#E5ECF6",
            "gridcolor": "white",
            "gridwidth": 2,
            "linecolor": "white",
            "showbackground": true,
            "ticks": "",
            "zerolinecolor": "white"
           },
           "zaxis": {
            "backgroundcolor": "#E5ECF6",
            "gridcolor": "white",
            "gridwidth": 2,
            "linecolor": "white",
            "showbackground": true,
            "ticks": "",
            "zerolinecolor": "white"
           }
          },
          "shapedefaults": {
           "line": {
            "color": "#2a3f5f"
           }
          },
          "ternary": {
           "aaxis": {
            "gridcolor": "white",
            "linecolor": "white",
            "ticks": ""
           },
           "baxis": {
            "gridcolor": "white",
            "linecolor": "white",
            "ticks": ""
           },
           "bgcolor": "#E5ECF6",
           "caxis": {
            "gridcolor": "white",
            "linecolor": "white",
            "ticks": ""
           }
          },
          "title": {
           "x": 0.05
          },
          "xaxis": {
           "automargin": true,
           "gridcolor": "white",
           "linecolor": "white",
           "ticks": "",
           "title": {
            "standoff": 15
           },
           "zerolinecolor": "white",
           "zerolinewidth": 2
          },
          "yaxis": {
           "automargin": true,
           "gridcolor": "white",
           "linecolor": "white",
           "ticks": "",
           "title": {
            "standoff": 15
           },
           "zerolinecolor": "white",
           "zerolinewidth": 2
          }
         }
        },
        "width": 500,
        "xaxis": {
         "autorange": false,
         "exponentformat": "e",
         "linecolor": "black",
         "linewidth": 1,
         "mirror": false,
         "range": [
          -0.009909942150115966,
          0.5054070496559143
         ],
         "showexponent": "all",
         "showline": true,
         "side": "bottom",
         "ticks": "outside",
         "title": {
          "text": "Birth"
         },
         "type": "linear",
         "zeroline": true
        },
        "yaxis": {
         "autorange": false,
         "exponentformat": "e",
         "linecolor": "black",
         "linewidth": 1,
         "mirror": false,
         "range": [
          -0.009909942150115966,
          0.5054070496559143
         ],
         "scaleanchor": "x",
         "scaleratio": 1,
         "showexponent": "all",
         "showline": true,
         "side": "left",
         "ticks": "outside",
         "title": {
          "text": "Death"
         },
         "type": "linear",
         "zeroline": true
        }
       }
      }
     },
     "metadata": {},
     "output_type": "display_data"
    }
   ],
   "source": [
    "PD = PearsonDissimilarity()\n",
    "X_pd = PD.fit_transform(Xtrain_split_sequences)\n",
    "VR = VietorisRipsPersistence(metric=\"precomputed\")\n",
    "X_vr = VR.fit_transform(X_pd)"
   ]
  },
  {
   "cell_type": "code",
   "execution_count": 246,
   "metadata": {},
   "outputs": [
    {
     "name": "stdout",
     "output_type": "stream",
     "text": [
      "RUL: 78.0\n"
     ]
    },
    {
     "data": {
      "application/vnd.plotly.v1+json": {
       "config": {
        "plotlyServerURL": "https://plot.ly"
       },
       "data": [
        {
         "hoverinfo": "none",
         "line": {
          "color": "black",
          "dash": "dash",
          "width": 1
         },
         "mode": "lines",
         "showlegend": false,
         "type": "scatter",
         "x": [
          -0.010860679149627685,
          0.553894636631012
         ],
         "y": [
          -0.010860679149627685,
          0.553894636631012
         ]
        },
        {
         "hoverinfo": "text",
         "hovertext": [
          "(5.551115123125783e-17, 0.23724912106990814)",
          "(5.551115123125783e-17, 0.2951817810535431)",
          "(1.1102230246251565e-16, 0.31594377756118774)",
          "(0.0, 0.32437437772750854)",
          "(0.0, 0.3481685519218445)",
          "(1.1102230246251565e-16, 0.3527924120426178)",
          "(5.551115123125783e-17, 0.36488664150238037)",
          "(1.1102230246251565e-16, 0.3755149841308594)",
          "(1.1102230246251565e-16, 0.3930458426475525)",
          "(1.1102230246251565e-16, 0.39970287680625916)",
          "(5.551115123125783e-17, 0.4051230549812317)",
          "(0.0, 0.40972113609313965)",
          "(0.0, 0.4656565487384796)"
         ],
         "mode": "markers",
         "name": "H0",
         "type": "scatter",
         "x": [
          5.551115123125783e-17,
          5.551115123125783e-17,
          1.1102230246251565e-16,
          0,
          0,
          1.1102230246251565e-16,
          5.551115123125783e-17,
          1.1102230246251565e-16,
          1.1102230246251565e-16,
          1.1102230246251565e-16,
          5.551115123125783e-17,
          0,
          0
         ],
         "y": [
          0.23724912106990814,
          0.2951817810535431,
          0.31594377756118774,
          0.32437437772750854,
          0.3481685519218445,
          0.3527924120426178,
          0.36488664150238037,
          0.3755149841308594,
          0.3930458426475525,
          0.39970287680625916,
          0.4051230549812317,
          0.40972113609313965,
          0.4656565487384796
         ]
        },
        {
         "hoverinfo": "text",
         "hovertext": [
          "(0.5301936864852905, 0.5430339574813843)",
          "(0.4685310125350952, 0.4954836666584015)",
          "(0.4339964985847473, 0.4492528438568115)",
          "(0.42695897817611694, 0.4672602713108063)",
          "(0.40836408734321594, 0.40904033184051514)",
          "(0.3599518835544586, 0.3910353183746338)"
         ],
         "mode": "markers",
         "name": "H1",
         "type": "scatter",
         "x": [
          0.5301936864852905,
          0.4685310125350952,
          0.4339964985847473,
          0.42695897817611694,
          0.40836408734321594,
          0.3599518835544586
         ],
         "y": [
          0.5430339574813843,
          0.4954836666584015,
          0.4492528438568115,
          0.4672602713108063,
          0.40904033184051514,
          0.3910353183746338
         ]
        }
       ],
       "layout": {
        "height": 500,
        "plot_bgcolor": "white",
        "template": {
         "data": {
          "bar": [
           {
            "error_x": {
             "color": "#2a3f5f"
            },
            "error_y": {
             "color": "#2a3f5f"
            },
            "marker": {
             "line": {
              "color": "#E5ECF6",
              "width": 0.5
             },
             "pattern": {
              "fillmode": "overlay",
              "size": 10,
              "solidity": 0.2
             }
            },
            "type": "bar"
           }
          ],
          "barpolar": [
           {
            "marker": {
             "line": {
              "color": "#E5ECF6",
              "width": 0.5
             },
             "pattern": {
              "fillmode": "overlay",
              "size": 10,
              "solidity": 0.2
             }
            },
            "type": "barpolar"
           }
          ],
          "carpet": [
           {
            "aaxis": {
             "endlinecolor": "#2a3f5f",
             "gridcolor": "white",
             "linecolor": "white",
             "minorgridcolor": "white",
             "startlinecolor": "#2a3f5f"
            },
            "baxis": {
             "endlinecolor": "#2a3f5f",
             "gridcolor": "white",
             "linecolor": "white",
             "minorgridcolor": "white",
             "startlinecolor": "#2a3f5f"
            },
            "type": "carpet"
           }
          ],
          "choropleth": [
           {
            "colorbar": {
             "outlinewidth": 0,
             "ticks": ""
            },
            "type": "choropleth"
           }
          ],
          "contour": [
           {
            "colorbar": {
             "outlinewidth": 0,
             "ticks": ""
            },
            "colorscale": [
             [
              0,
              "#0d0887"
             ],
             [
              0.1111111111111111,
              "#46039f"
             ],
             [
              0.2222222222222222,
              "#7201a8"
             ],
             [
              0.3333333333333333,
              "#9c179e"
             ],
             [
              0.4444444444444444,
              "#bd3786"
             ],
             [
              0.5555555555555556,
              "#d8576b"
             ],
             [
              0.6666666666666666,
              "#ed7953"
             ],
             [
              0.7777777777777778,
              "#fb9f3a"
             ],
             [
              0.8888888888888888,
              "#fdca26"
             ],
             [
              1,
              "#f0f921"
             ]
            ],
            "type": "contour"
           }
          ],
          "contourcarpet": [
           {
            "colorbar": {
             "outlinewidth": 0,
             "ticks": ""
            },
            "type": "contourcarpet"
           }
          ],
          "heatmap": [
           {
            "colorbar": {
             "outlinewidth": 0,
             "ticks": ""
            },
            "colorscale": [
             [
              0,
              "#0d0887"
             ],
             [
              0.1111111111111111,
              "#46039f"
             ],
             [
              0.2222222222222222,
              "#7201a8"
             ],
             [
              0.3333333333333333,
              "#9c179e"
             ],
             [
              0.4444444444444444,
              "#bd3786"
             ],
             [
              0.5555555555555556,
              "#d8576b"
             ],
             [
              0.6666666666666666,
              "#ed7953"
             ],
             [
              0.7777777777777778,
              "#fb9f3a"
             ],
             [
              0.8888888888888888,
              "#fdca26"
             ],
             [
              1,
              "#f0f921"
             ]
            ],
            "type": "heatmap"
           }
          ],
          "heatmapgl": [
           {
            "colorbar": {
             "outlinewidth": 0,
             "ticks": ""
            },
            "colorscale": [
             [
              0,
              "#0d0887"
             ],
             [
              0.1111111111111111,
              "#46039f"
             ],
             [
              0.2222222222222222,
              "#7201a8"
             ],
             [
              0.3333333333333333,
              "#9c179e"
             ],
             [
              0.4444444444444444,
              "#bd3786"
             ],
             [
              0.5555555555555556,
              "#d8576b"
             ],
             [
              0.6666666666666666,
              "#ed7953"
             ],
             [
              0.7777777777777778,
              "#fb9f3a"
             ],
             [
              0.8888888888888888,
              "#fdca26"
             ],
             [
              1,
              "#f0f921"
             ]
            ],
            "type": "heatmapgl"
           }
          ],
          "histogram": [
           {
            "marker": {
             "pattern": {
              "fillmode": "overlay",
              "size": 10,
              "solidity": 0.2
             }
            },
            "type": "histogram"
           }
          ],
          "histogram2d": [
           {
            "colorbar": {
             "outlinewidth": 0,
             "ticks": ""
            },
            "colorscale": [
             [
              0,
              "#0d0887"
             ],
             [
              0.1111111111111111,
              "#46039f"
             ],
             [
              0.2222222222222222,
              "#7201a8"
             ],
             [
              0.3333333333333333,
              "#9c179e"
             ],
             [
              0.4444444444444444,
              "#bd3786"
             ],
             [
              0.5555555555555556,
              "#d8576b"
             ],
             [
              0.6666666666666666,
              "#ed7953"
             ],
             [
              0.7777777777777778,
              "#fb9f3a"
             ],
             [
              0.8888888888888888,
              "#fdca26"
             ],
             [
              1,
              "#f0f921"
             ]
            ],
            "type": "histogram2d"
           }
          ],
          "histogram2dcontour": [
           {
            "colorbar": {
             "outlinewidth": 0,
             "ticks": ""
            },
            "colorscale": [
             [
              0,
              "#0d0887"
             ],
             [
              0.1111111111111111,
              "#46039f"
             ],
             [
              0.2222222222222222,
              "#7201a8"
             ],
             [
              0.3333333333333333,
              "#9c179e"
             ],
             [
              0.4444444444444444,
              "#bd3786"
             ],
             [
              0.5555555555555556,
              "#d8576b"
             ],
             [
              0.6666666666666666,
              "#ed7953"
             ],
             [
              0.7777777777777778,
              "#fb9f3a"
             ],
             [
              0.8888888888888888,
              "#fdca26"
             ],
             [
              1,
              "#f0f921"
             ]
            ],
            "type": "histogram2dcontour"
           }
          ],
          "mesh3d": [
           {
            "colorbar": {
             "outlinewidth": 0,
             "ticks": ""
            },
            "type": "mesh3d"
           }
          ],
          "parcoords": [
           {
            "line": {
             "colorbar": {
              "outlinewidth": 0,
              "ticks": ""
             }
            },
            "type": "parcoords"
           }
          ],
          "pie": [
           {
            "automargin": true,
            "type": "pie"
           }
          ],
          "scatter": [
           {
            "marker": {
             "colorbar": {
              "outlinewidth": 0,
              "ticks": ""
             }
            },
            "type": "scatter"
           }
          ],
          "scatter3d": [
           {
            "line": {
             "colorbar": {
              "outlinewidth": 0,
              "ticks": ""
             }
            },
            "marker": {
             "colorbar": {
              "outlinewidth": 0,
              "ticks": ""
             }
            },
            "type": "scatter3d"
           }
          ],
          "scattercarpet": [
           {
            "marker": {
             "colorbar": {
              "outlinewidth": 0,
              "ticks": ""
             }
            },
            "type": "scattercarpet"
           }
          ],
          "scattergeo": [
           {
            "marker": {
             "colorbar": {
              "outlinewidth": 0,
              "ticks": ""
             }
            },
            "type": "scattergeo"
           }
          ],
          "scattergl": [
           {
            "marker": {
             "colorbar": {
              "outlinewidth": 0,
              "ticks": ""
             }
            },
            "type": "scattergl"
           }
          ],
          "scattermapbox": [
           {
            "marker": {
             "colorbar": {
              "outlinewidth": 0,
              "ticks": ""
             }
            },
            "type": "scattermapbox"
           }
          ],
          "scatterpolar": [
           {
            "marker": {
             "colorbar": {
              "outlinewidth": 0,
              "ticks": ""
             }
            },
            "type": "scatterpolar"
           }
          ],
          "scatterpolargl": [
           {
            "marker": {
             "colorbar": {
              "outlinewidth": 0,
              "ticks": ""
             }
            },
            "type": "scatterpolargl"
           }
          ],
          "scatterternary": [
           {
            "marker": {
             "colorbar": {
              "outlinewidth": 0,
              "ticks": ""
             }
            },
            "type": "scatterternary"
           }
          ],
          "surface": [
           {
            "colorbar": {
             "outlinewidth": 0,
             "ticks": ""
            },
            "colorscale": [
             [
              0,
              "#0d0887"
             ],
             [
              0.1111111111111111,
              "#46039f"
             ],
             [
              0.2222222222222222,
              "#7201a8"
             ],
             [
              0.3333333333333333,
              "#9c179e"
             ],
             [
              0.4444444444444444,
              "#bd3786"
             ],
             [
              0.5555555555555556,
              "#d8576b"
             ],
             [
              0.6666666666666666,
              "#ed7953"
             ],
             [
              0.7777777777777778,
              "#fb9f3a"
             ],
             [
              0.8888888888888888,
              "#fdca26"
             ],
             [
              1,
              "#f0f921"
             ]
            ],
            "type": "surface"
           }
          ],
          "table": [
           {
            "cells": {
             "fill": {
              "color": "#EBF0F8"
             },
             "line": {
              "color": "white"
             }
            },
            "header": {
             "fill": {
              "color": "#C8D4E3"
             },
             "line": {
              "color": "white"
             }
            },
            "type": "table"
           }
          ]
         },
         "layout": {
          "annotationdefaults": {
           "arrowcolor": "#2a3f5f",
           "arrowhead": 0,
           "arrowwidth": 1
          },
          "autotypenumbers": "strict",
          "coloraxis": {
           "colorbar": {
            "outlinewidth": 0,
            "ticks": ""
           }
          },
          "colorscale": {
           "diverging": [
            [
             0,
             "#8e0152"
            ],
            [
             0.1,
             "#c51b7d"
            ],
            [
             0.2,
             "#de77ae"
            ],
            [
             0.3,
             "#f1b6da"
            ],
            [
             0.4,
             "#fde0ef"
            ],
            [
             0.5,
             "#f7f7f7"
            ],
            [
             0.6,
             "#e6f5d0"
            ],
            [
             0.7,
             "#b8e186"
            ],
            [
             0.8,
             "#7fbc41"
            ],
            [
             0.9,
             "#4d9221"
            ],
            [
             1,
             "#276419"
            ]
           ],
           "sequential": [
            [
             0,
             "#0d0887"
            ],
            [
             0.1111111111111111,
             "#46039f"
            ],
            [
             0.2222222222222222,
             "#7201a8"
            ],
            [
             0.3333333333333333,
             "#9c179e"
            ],
            [
             0.4444444444444444,
             "#bd3786"
            ],
            [
             0.5555555555555556,
             "#d8576b"
            ],
            [
             0.6666666666666666,
             "#ed7953"
            ],
            [
             0.7777777777777778,
             "#fb9f3a"
            ],
            [
             0.8888888888888888,
             "#fdca26"
            ],
            [
             1,
             "#f0f921"
            ]
           ],
           "sequentialminus": [
            [
             0,
             "#0d0887"
            ],
            [
             0.1111111111111111,
             "#46039f"
            ],
            [
             0.2222222222222222,
             "#7201a8"
            ],
            [
             0.3333333333333333,
             "#9c179e"
            ],
            [
             0.4444444444444444,
             "#bd3786"
            ],
            [
             0.5555555555555556,
             "#d8576b"
            ],
            [
             0.6666666666666666,
             "#ed7953"
            ],
            [
             0.7777777777777778,
             "#fb9f3a"
            ],
            [
             0.8888888888888888,
             "#fdca26"
            ],
            [
             1,
             "#f0f921"
            ]
           ]
          },
          "colorway": [
           "#636efa",
           "#EF553B",
           "#00cc96",
           "#ab63fa",
           "#FFA15A",
           "#19d3f3",
           "#FF6692",
           "#B6E880",
           "#FF97FF",
           "#FECB52"
          ],
          "font": {
           "color": "#2a3f5f"
          },
          "geo": {
           "bgcolor": "white",
           "lakecolor": "white",
           "landcolor": "#E5ECF6",
           "showlakes": true,
           "showland": true,
           "subunitcolor": "white"
          },
          "hoverlabel": {
           "align": "left"
          },
          "hovermode": "closest",
          "mapbox": {
           "style": "light"
          },
          "paper_bgcolor": "white",
          "plot_bgcolor": "#E5ECF6",
          "polar": {
           "angularaxis": {
            "gridcolor": "white",
            "linecolor": "white",
            "ticks": ""
           },
           "bgcolor": "#E5ECF6",
           "radialaxis": {
            "gridcolor": "white",
            "linecolor": "white",
            "ticks": ""
           }
          },
          "scene": {
           "xaxis": {
            "backgroundcolor": "#E5ECF6",
            "gridcolor": "white",
            "gridwidth": 2,
            "linecolor": "white",
            "showbackground": true,
            "ticks": "",
            "zerolinecolor": "white"
           },
           "yaxis": {
            "backgroundcolor": "#E5ECF6",
            "gridcolor": "white",
            "gridwidth": 2,
            "linecolor": "white",
            "showbackground": true,
            "ticks": "",
            "zerolinecolor": "white"
           },
           "zaxis": {
            "backgroundcolor": "#E5ECF6",
            "gridcolor": "white",
            "gridwidth": 2,
            "linecolor": "white",
            "showbackground": true,
            "ticks": "",
            "zerolinecolor": "white"
           }
          },
          "shapedefaults": {
           "line": {
            "color": "#2a3f5f"
           }
          },
          "ternary": {
           "aaxis": {
            "gridcolor": "white",
            "linecolor": "white",
            "ticks": ""
           },
           "baxis": {
            "gridcolor": "white",
            "linecolor": "white",
            "ticks": ""
           },
           "bgcolor": "#E5ECF6",
           "caxis": {
            "gridcolor": "white",
            "linecolor": "white",
            "ticks": ""
           }
          },
          "title": {
           "x": 0.05
          },
          "xaxis": {
           "automargin": true,
           "gridcolor": "white",
           "linecolor": "white",
           "ticks": "",
           "title": {
            "standoff": 15
           },
           "zerolinecolor": "white",
           "zerolinewidth": 2
          },
          "yaxis": {
           "automargin": true,
           "gridcolor": "white",
           "linecolor": "white",
           "ticks": "",
           "title": {
            "standoff": 15
           },
           "zerolinecolor": "white",
           "zerolinewidth": 2
          }
         }
        },
        "width": 500,
        "xaxis": {
         "autorange": false,
         "exponentformat": "e",
         "linecolor": "black",
         "linewidth": 1,
         "mirror": false,
         "range": [
          -0.010860679149627685,
          0.553894636631012
         ],
         "showexponent": "all",
         "showline": true,
         "side": "bottom",
         "ticks": "outside",
         "title": {
          "text": "Birth"
         },
         "type": "linear",
         "zeroline": true
        },
        "yaxis": {
         "autorange": false,
         "exponentformat": "e",
         "linecolor": "black",
         "linewidth": 1,
         "mirror": false,
         "range": [
          -0.010860679149627685,
          0.553894636631012
         ],
         "scaleanchor": "x",
         "scaleratio": 1,
         "showexponent": "all",
         "showline": true,
         "side": "left",
         "ticks": "outside",
         "title": {
          "text": "Death"
         },
         "type": "linear",
         "zeroline": true
        }
       }
      }
     },
     "metadata": {},
     "output_type": "display_data"
    }
   ],
   "source": [
    "i = 7\n",
    "print(f'RUL: {Ytrain_split_sequences[i,0]}')\n",
    "VR.plot(X_vr, sample=i)"
   ]
  },
  {
   "cell_type": "code",
   "execution_count": 238,
   "metadata": {},
   "outputs": [
    {
     "name": "stdout",
     "output_type": "stream",
     "text": [
      "RUL: 48.0\n"
     ]
    },
    {
     "data": {
      "application/vnd.plotly.v1+json": {
       "config": {
        "plotlyServerURL": "https://plot.ly"
       },
       "data": [
        {
         "hoverinfo": "none",
         "line": {
          "color": "black",
          "dash": "dash",
          "width": 1
         },
         "mode": "lines",
         "showlegend": false,
         "type": "scatter",
         "x": [
          -0.011580597162246704,
          0.5906104552745819
         ],
         "y": [
          -0.011580597162246704,
          0.5906104552745819
         ]
        },
        {
         "hoverinfo": "text",
         "hovertext": [
          "(0.0, 0.14919838309288025)",
          "(0.0, 0.21698138117790222)",
          "(0.0, 0.25552642345428467)",
          "(5.551115123125783e-17, 0.2616819739341736)",
          "(1.1102230246251565e-16, 0.26441001892089844)",
          "(5.551115123125783e-17, 0.2689586877822876)",
          "(0.0, 0.29365745186805725)",
          "(1.1102230246251565e-16, 0.29487958550453186)",
          "(0.0, 0.3037847876548767)",
          "(0.0, 0.30565783381462097)",
          "(0.0, 0.33986449241638184)",
          "(0.0, 0.34262168407440186)",
          "(0.0, 0.5462327003479004)"
         ],
         "mode": "markers",
         "name": "H0",
         "type": "scatter",
         "x": [
          0,
          0,
          0,
          5.551115123125783e-17,
          1.1102230246251565e-16,
          5.551115123125783e-17,
          0,
          1.1102230246251565e-16,
          0,
          0,
          0,
          0,
          0
         ],
         "y": [
          0.14919838309288025,
          0.21698138117790222,
          0.25552642345428467,
          0.2616819739341736,
          0.26441001892089844,
          0.2689586877822876,
          0.29365745186805725,
          0.29487958550453186,
          0.3037847876548767,
          0.30565783381462097,
          0.33986449241638184,
          0.34262168407440186,
          0.5462327003479004
         ]
        },
        {
         "hoverinfo": "text",
         "hovertext": [
          "(0.5661532282829285, 0.5790298581123352)",
          "(0.35575392842292786, 0.3640834093093872)",
          "(0.3144986927509308, 0.33068913221359253)",
          "(0.2783125638961792, 0.28202369809150696)"
         ],
         "mode": "markers",
         "name": "H1",
         "type": "scatter",
         "x": [
          0.5661532282829285,
          0.35575392842292786,
          0.3144986927509308,
          0.2783125638961792
         ],
         "y": [
          0.5790298581123352,
          0.3640834093093872,
          0.33068913221359253,
          0.28202369809150696
         ]
        }
       ],
       "layout": {
        "height": 500,
        "plot_bgcolor": "white",
        "template": {
         "data": {
          "bar": [
           {
            "error_x": {
             "color": "#2a3f5f"
            },
            "error_y": {
             "color": "#2a3f5f"
            },
            "marker": {
             "line": {
              "color": "#E5ECF6",
              "width": 0.5
             },
             "pattern": {
              "fillmode": "overlay",
              "size": 10,
              "solidity": 0.2
             }
            },
            "type": "bar"
           }
          ],
          "barpolar": [
           {
            "marker": {
             "line": {
              "color": "#E5ECF6",
              "width": 0.5
             },
             "pattern": {
              "fillmode": "overlay",
              "size": 10,
              "solidity": 0.2
             }
            },
            "type": "barpolar"
           }
          ],
          "carpet": [
           {
            "aaxis": {
             "endlinecolor": "#2a3f5f",
             "gridcolor": "white",
             "linecolor": "white",
             "minorgridcolor": "white",
             "startlinecolor": "#2a3f5f"
            },
            "baxis": {
             "endlinecolor": "#2a3f5f",
             "gridcolor": "white",
             "linecolor": "white",
             "minorgridcolor": "white",
             "startlinecolor": "#2a3f5f"
            },
            "type": "carpet"
           }
          ],
          "choropleth": [
           {
            "colorbar": {
             "outlinewidth": 0,
             "ticks": ""
            },
            "type": "choropleth"
           }
          ],
          "contour": [
           {
            "colorbar": {
             "outlinewidth": 0,
             "ticks": ""
            },
            "colorscale": [
             [
              0,
              "#0d0887"
             ],
             [
              0.1111111111111111,
              "#46039f"
             ],
             [
              0.2222222222222222,
              "#7201a8"
             ],
             [
              0.3333333333333333,
              "#9c179e"
             ],
             [
              0.4444444444444444,
              "#bd3786"
             ],
             [
              0.5555555555555556,
              "#d8576b"
             ],
             [
              0.6666666666666666,
              "#ed7953"
             ],
             [
              0.7777777777777778,
              "#fb9f3a"
             ],
             [
              0.8888888888888888,
              "#fdca26"
             ],
             [
              1,
              "#f0f921"
             ]
            ],
            "type": "contour"
           }
          ],
          "contourcarpet": [
           {
            "colorbar": {
             "outlinewidth": 0,
             "ticks": ""
            },
            "type": "contourcarpet"
           }
          ],
          "heatmap": [
           {
            "colorbar": {
             "outlinewidth": 0,
             "ticks": ""
            },
            "colorscale": [
             [
              0,
              "#0d0887"
             ],
             [
              0.1111111111111111,
              "#46039f"
             ],
             [
              0.2222222222222222,
              "#7201a8"
             ],
             [
              0.3333333333333333,
              "#9c179e"
             ],
             [
              0.4444444444444444,
              "#bd3786"
             ],
             [
              0.5555555555555556,
              "#d8576b"
             ],
             [
              0.6666666666666666,
              "#ed7953"
             ],
             [
              0.7777777777777778,
              "#fb9f3a"
             ],
             [
              0.8888888888888888,
              "#fdca26"
             ],
             [
              1,
              "#f0f921"
             ]
            ],
            "type": "heatmap"
           }
          ],
          "heatmapgl": [
           {
            "colorbar": {
             "outlinewidth": 0,
             "ticks": ""
            },
            "colorscale": [
             [
              0,
              "#0d0887"
             ],
             [
              0.1111111111111111,
              "#46039f"
             ],
             [
              0.2222222222222222,
              "#7201a8"
             ],
             [
              0.3333333333333333,
              "#9c179e"
             ],
             [
              0.4444444444444444,
              "#bd3786"
             ],
             [
              0.5555555555555556,
              "#d8576b"
             ],
             [
              0.6666666666666666,
              "#ed7953"
             ],
             [
              0.7777777777777778,
              "#fb9f3a"
             ],
             [
              0.8888888888888888,
              "#fdca26"
             ],
             [
              1,
              "#f0f921"
             ]
            ],
            "type": "heatmapgl"
           }
          ],
          "histogram": [
           {
            "marker": {
             "pattern": {
              "fillmode": "overlay",
              "size": 10,
              "solidity": 0.2
             }
            },
            "type": "histogram"
           }
          ],
          "histogram2d": [
           {
            "colorbar": {
             "outlinewidth": 0,
             "ticks": ""
            },
            "colorscale": [
             [
              0,
              "#0d0887"
             ],
             [
              0.1111111111111111,
              "#46039f"
             ],
             [
              0.2222222222222222,
              "#7201a8"
             ],
             [
              0.3333333333333333,
              "#9c179e"
             ],
             [
              0.4444444444444444,
              "#bd3786"
             ],
             [
              0.5555555555555556,
              "#d8576b"
             ],
             [
              0.6666666666666666,
              "#ed7953"
             ],
             [
              0.7777777777777778,
              "#fb9f3a"
             ],
             [
              0.8888888888888888,
              "#fdca26"
             ],
             [
              1,
              "#f0f921"
             ]
            ],
            "type": "histogram2d"
           }
          ],
          "histogram2dcontour": [
           {
            "colorbar": {
             "outlinewidth": 0,
             "ticks": ""
            },
            "colorscale": [
             [
              0,
              "#0d0887"
             ],
             [
              0.1111111111111111,
              "#46039f"
             ],
             [
              0.2222222222222222,
              "#7201a8"
             ],
             [
              0.3333333333333333,
              "#9c179e"
             ],
             [
              0.4444444444444444,
              "#bd3786"
             ],
             [
              0.5555555555555556,
              "#d8576b"
             ],
             [
              0.6666666666666666,
              "#ed7953"
             ],
             [
              0.7777777777777778,
              "#fb9f3a"
             ],
             [
              0.8888888888888888,
              "#fdca26"
             ],
             [
              1,
              "#f0f921"
             ]
            ],
            "type": "histogram2dcontour"
           }
          ],
          "mesh3d": [
           {
            "colorbar": {
             "outlinewidth": 0,
             "ticks": ""
            },
            "type": "mesh3d"
           }
          ],
          "parcoords": [
           {
            "line": {
             "colorbar": {
              "outlinewidth": 0,
              "ticks": ""
             }
            },
            "type": "parcoords"
           }
          ],
          "pie": [
           {
            "automargin": true,
            "type": "pie"
           }
          ],
          "scatter": [
           {
            "marker": {
             "colorbar": {
              "outlinewidth": 0,
              "ticks": ""
             }
            },
            "type": "scatter"
           }
          ],
          "scatter3d": [
           {
            "line": {
             "colorbar": {
              "outlinewidth": 0,
              "ticks": ""
             }
            },
            "marker": {
             "colorbar": {
              "outlinewidth": 0,
              "ticks": ""
             }
            },
            "type": "scatter3d"
           }
          ],
          "scattercarpet": [
           {
            "marker": {
             "colorbar": {
              "outlinewidth": 0,
              "ticks": ""
             }
            },
            "type": "scattercarpet"
           }
          ],
          "scattergeo": [
           {
            "marker": {
             "colorbar": {
              "outlinewidth": 0,
              "ticks": ""
             }
            },
            "type": "scattergeo"
           }
          ],
          "scattergl": [
           {
            "marker": {
             "colorbar": {
              "outlinewidth": 0,
              "ticks": ""
             }
            },
            "type": "scattergl"
           }
          ],
          "scattermapbox": [
           {
            "marker": {
             "colorbar": {
              "outlinewidth": 0,
              "ticks": ""
             }
            },
            "type": "scattermapbox"
           }
          ],
          "scatterpolar": [
           {
            "marker": {
             "colorbar": {
              "outlinewidth": 0,
              "ticks": ""
             }
            },
            "type": "scatterpolar"
           }
          ],
          "scatterpolargl": [
           {
            "marker": {
             "colorbar": {
              "outlinewidth": 0,
              "ticks": ""
             }
            },
            "type": "scatterpolargl"
           }
          ],
          "scatterternary": [
           {
            "marker": {
             "colorbar": {
              "outlinewidth": 0,
              "ticks": ""
             }
            },
            "type": "scatterternary"
           }
          ],
          "surface": [
           {
            "colorbar": {
             "outlinewidth": 0,
             "ticks": ""
            },
            "colorscale": [
             [
              0,
              "#0d0887"
             ],
             [
              0.1111111111111111,
              "#46039f"
             ],
             [
              0.2222222222222222,
              "#7201a8"
             ],
             [
              0.3333333333333333,
              "#9c179e"
             ],
             [
              0.4444444444444444,
              "#bd3786"
             ],
             [
              0.5555555555555556,
              "#d8576b"
             ],
             [
              0.6666666666666666,
              "#ed7953"
             ],
             [
              0.7777777777777778,
              "#fb9f3a"
             ],
             [
              0.8888888888888888,
              "#fdca26"
             ],
             [
              1,
              "#f0f921"
             ]
            ],
            "type": "surface"
           }
          ],
          "table": [
           {
            "cells": {
             "fill": {
              "color": "#EBF0F8"
             },
             "line": {
              "color": "white"
             }
            },
            "header": {
             "fill": {
              "color": "#C8D4E3"
             },
             "line": {
              "color": "white"
             }
            },
            "type": "table"
           }
          ]
         },
         "layout": {
          "annotationdefaults": {
           "arrowcolor": "#2a3f5f",
           "arrowhead": 0,
           "arrowwidth": 1
          },
          "autotypenumbers": "strict",
          "coloraxis": {
           "colorbar": {
            "outlinewidth": 0,
            "ticks": ""
           }
          },
          "colorscale": {
           "diverging": [
            [
             0,
             "#8e0152"
            ],
            [
             0.1,
             "#c51b7d"
            ],
            [
             0.2,
             "#de77ae"
            ],
            [
             0.3,
             "#f1b6da"
            ],
            [
             0.4,
             "#fde0ef"
            ],
            [
             0.5,
             "#f7f7f7"
            ],
            [
             0.6,
             "#e6f5d0"
            ],
            [
             0.7,
             "#b8e186"
            ],
            [
             0.8,
             "#7fbc41"
            ],
            [
             0.9,
             "#4d9221"
            ],
            [
             1,
             "#276419"
            ]
           ],
           "sequential": [
            [
             0,
             "#0d0887"
            ],
            [
             0.1111111111111111,
             "#46039f"
            ],
            [
             0.2222222222222222,
             "#7201a8"
            ],
            [
             0.3333333333333333,
             "#9c179e"
            ],
            [
             0.4444444444444444,
             "#bd3786"
            ],
            [
             0.5555555555555556,
             "#d8576b"
            ],
            [
             0.6666666666666666,
             "#ed7953"
            ],
            [
             0.7777777777777778,
             "#fb9f3a"
            ],
            [
             0.8888888888888888,
             "#fdca26"
            ],
            [
             1,
             "#f0f921"
            ]
           ],
           "sequentialminus": [
            [
             0,
             "#0d0887"
            ],
            [
             0.1111111111111111,
             "#46039f"
            ],
            [
             0.2222222222222222,
             "#7201a8"
            ],
            [
             0.3333333333333333,
             "#9c179e"
            ],
            [
             0.4444444444444444,
             "#bd3786"
            ],
            [
             0.5555555555555556,
             "#d8576b"
            ],
            [
             0.6666666666666666,
             "#ed7953"
            ],
            [
             0.7777777777777778,
             "#fb9f3a"
            ],
            [
             0.8888888888888888,
             "#fdca26"
            ],
            [
             1,
             "#f0f921"
            ]
           ]
          },
          "colorway": [
           "#636efa",
           "#EF553B",
           "#00cc96",
           "#ab63fa",
           "#FFA15A",
           "#19d3f3",
           "#FF6692",
           "#B6E880",
           "#FF97FF",
           "#FECB52"
          ],
          "font": {
           "color": "#2a3f5f"
          },
          "geo": {
           "bgcolor": "white",
           "lakecolor": "white",
           "landcolor": "#E5ECF6",
           "showlakes": true,
           "showland": true,
           "subunitcolor": "white"
          },
          "hoverlabel": {
           "align": "left"
          },
          "hovermode": "closest",
          "mapbox": {
           "style": "light"
          },
          "paper_bgcolor": "white",
          "plot_bgcolor": "#E5ECF6",
          "polar": {
           "angularaxis": {
            "gridcolor": "white",
            "linecolor": "white",
            "ticks": ""
           },
           "bgcolor": "#E5ECF6",
           "radialaxis": {
            "gridcolor": "white",
            "linecolor": "white",
            "ticks": ""
           }
          },
          "scene": {
           "xaxis": {
            "backgroundcolor": "#E5ECF6",
            "gridcolor": "white",
            "gridwidth": 2,
            "linecolor": "white",
            "showbackground": true,
            "ticks": "",
            "zerolinecolor": "white"
           },
           "yaxis": {
            "backgroundcolor": "#E5ECF6",
            "gridcolor": "white",
            "gridwidth": 2,
            "linecolor": "white",
            "showbackground": true,
            "ticks": "",
            "zerolinecolor": "white"
           },
           "zaxis": {
            "backgroundcolor": "#E5ECF6",
            "gridcolor": "white",
            "gridwidth": 2,
            "linecolor": "white",
            "showbackground": true,
            "ticks": "",
            "zerolinecolor": "white"
           }
          },
          "shapedefaults": {
           "line": {
            "color": "#2a3f5f"
           }
          },
          "ternary": {
           "aaxis": {
            "gridcolor": "white",
            "linecolor": "white",
            "ticks": ""
           },
           "baxis": {
            "gridcolor": "white",
            "linecolor": "white",
            "ticks": ""
           },
           "bgcolor": "#E5ECF6",
           "caxis": {
            "gridcolor": "white",
            "linecolor": "white",
            "ticks": ""
           }
          },
          "title": {
           "x": 0.05
          },
          "xaxis": {
           "automargin": true,
           "gridcolor": "white",
           "linecolor": "white",
           "ticks": "",
           "title": {
            "standoff": 15
           },
           "zerolinecolor": "white",
           "zerolinewidth": 2
          },
          "yaxis": {
           "automargin": true,
           "gridcolor": "white",
           "linecolor": "white",
           "ticks": "",
           "title": {
            "standoff": 15
           },
           "zerolinecolor": "white",
           "zerolinewidth": 2
          }
         }
        },
        "width": 500,
        "xaxis": {
         "autorange": false,
         "exponentformat": "e",
         "linecolor": "black",
         "linewidth": 1,
         "mirror": false,
         "range": [
          -0.011580597162246704,
          0.5906104552745819
         ],
         "showexponent": "all",
         "showline": true,
         "side": "bottom",
         "ticks": "outside",
         "title": {
          "text": "Birth"
         },
         "type": "linear",
         "zeroline": true
        },
        "yaxis": {
         "autorange": false,
         "exponentformat": "e",
         "linecolor": "black",
         "linewidth": 1,
         "mirror": false,
         "range": [
          -0.011580597162246704,
          0.5906104552745819
         ],
         "scaleanchor": "x",
         "scaleratio": 1,
         "showexponent": "all",
         "showline": true,
         "side": "left",
         "ticks": "outside",
         "title": {
          "text": "Death"
         },
         "type": "linear",
         "zeroline": true
        }
       }
      }
     },
     "metadata": {},
     "output_type": "display_data"
    }
   ],
   "source": [
    "i = 10\n",
    "print(f'RUL: {Ytrain_split_sequences[i,0]}')\n",
    "VR.plot(X_vr, sample=i)"
   ]
  },
  {
   "cell_type": "code",
   "execution_count": 243,
   "metadata": {},
   "outputs": [
    {
     "name": "stdout",
     "output_type": "stream",
     "text": [
      "RUL: 8.0\n"
     ]
    },
    {
     "data": {
      "application/vnd.plotly.v1+json": {
       "config": {
        "plotlyServerURL": "https://plot.ly"
       },
       "data": [
        {
         "hoverinfo": "none",
         "line": {
          "color": "black",
          "dash": "dash",
          "width": 1
         },
         "mode": "lines",
         "showlegend": false,
         "type": "scatter",
         "x": [
          -0.013159309625625611,
          0.6711247909069061
         ],
         "y": [
          -0.013159309625625611,
          0.6711247909069061
         ]
        },
        {
         "hoverinfo": "text",
         "hovertext": [
          "(0.0, 0.08533933758735657)",
          "(5.551115123125783e-17, 0.10957490652799606)",
          "(5.551115123125783e-17, 0.11297977715730667)",
          "(0.0, 0.12139022350311279)",
          "(0.0, 0.14899170398712158)",
          "(0.0, 0.14918076992034912)",
          "(0.0, 0.16149021685123444)",
          "(0.0, 0.1673489212989807)",
          "(5.551115123125783e-17, 0.19381649792194366)",
          "(0.0, 0.20732054114341736)",
          "(0.0, 0.21723529696464539)",
          "(0.0, 0.2859902083873749)",
          "(0.0, 0.5700269937515259)"
         ],
         "mode": "markers",
         "name": "H0",
         "type": "scatter",
         "x": [
          0,
          5.551115123125783e-17,
          5.551115123125783e-17,
          0,
          0,
          0,
          0,
          0,
          5.551115123125783e-17,
          0,
          0,
          0,
          0
         ],
         "y": [
          0.08533933758735657,
          0.10957490652799606,
          0.11297977715730667,
          0.12139022350311279,
          0.14899170398712158,
          0.14918076992034912,
          0.16149021685123444,
          0.1673489212989807,
          0.19381649792194366,
          0.20732054114341736,
          0.21723529696464539,
          0.2859902083873749,
          0.5700269937515259
         ]
        },
        {
         "hoverinfo": "text",
         "hovertext": [
          "(0.6087192893028259, 0.6579654812812805)"
         ],
         "mode": "markers",
         "name": "H1",
         "type": "scatter",
         "x": [
          0.6087192893028259
         ],
         "y": [
          0.6579654812812805
         ]
        }
       ],
       "layout": {
        "height": 500,
        "plot_bgcolor": "white",
        "template": {
         "data": {
          "bar": [
           {
            "error_x": {
             "color": "#2a3f5f"
            },
            "error_y": {
             "color": "#2a3f5f"
            },
            "marker": {
             "line": {
              "color": "#E5ECF6",
              "width": 0.5
             },
             "pattern": {
              "fillmode": "overlay",
              "size": 10,
              "solidity": 0.2
             }
            },
            "type": "bar"
           }
          ],
          "barpolar": [
           {
            "marker": {
             "line": {
              "color": "#E5ECF6",
              "width": 0.5
             },
             "pattern": {
              "fillmode": "overlay",
              "size": 10,
              "solidity": 0.2
             }
            },
            "type": "barpolar"
           }
          ],
          "carpet": [
           {
            "aaxis": {
             "endlinecolor": "#2a3f5f",
             "gridcolor": "white",
             "linecolor": "white",
             "minorgridcolor": "white",
             "startlinecolor": "#2a3f5f"
            },
            "baxis": {
             "endlinecolor": "#2a3f5f",
             "gridcolor": "white",
             "linecolor": "white",
             "minorgridcolor": "white",
             "startlinecolor": "#2a3f5f"
            },
            "type": "carpet"
           }
          ],
          "choropleth": [
           {
            "colorbar": {
             "outlinewidth": 0,
             "ticks": ""
            },
            "type": "choropleth"
           }
          ],
          "contour": [
           {
            "colorbar": {
             "outlinewidth": 0,
             "ticks": ""
            },
            "colorscale": [
             [
              0,
              "#0d0887"
             ],
             [
              0.1111111111111111,
              "#46039f"
             ],
             [
              0.2222222222222222,
              "#7201a8"
             ],
             [
              0.3333333333333333,
              "#9c179e"
             ],
             [
              0.4444444444444444,
              "#bd3786"
             ],
             [
              0.5555555555555556,
              "#d8576b"
             ],
             [
              0.6666666666666666,
              "#ed7953"
             ],
             [
              0.7777777777777778,
              "#fb9f3a"
             ],
             [
              0.8888888888888888,
              "#fdca26"
             ],
             [
              1,
              "#f0f921"
             ]
            ],
            "type": "contour"
           }
          ],
          "contourcarpet": [
           {
            "colorbar": {
             "outlinewidth": 0,
             "ticks": ""
            },
            "type": "contourcarpet"
           }
          ],
          "heatmap": [
           {
            "colorbar": {
             "outlinewidth": 0,
             "ticks": ""
            },
            "colorscale": [
             [
              0,
              "#0d0887"
             ],
             [
              0.1111111111111111,
              "#46039f"
             ],
             [
              0.2222222222222222,
              "#7201a8"
             ],
             [
              0.3333333333333333,
              "#9c179e"
             ],
             [
              0.4444444444444444,
              "#bd3786"
             ],
             [
              0.5555555555555556,
              "#d8576b"
             ],
             [
              0.6666666666666666,
              "#ed7953"
             ],
             [
              0.7777777777777778,
              "#fb9f3a"
             ],
             [
              0.8888888888888888,
              "#fdca26"
             ],
             [
              1,
              "#f0f921"
             ]
            ],
            "type": "heatmap"
           }
          ],
          "heatmapgl": [
           {
            "colorbar": {
             "outlinewidth": 0,
             "ticks": ""
            },
            "colorscale": [
             [
              0,
              "#0d0887"
             ],
             [
              0.1111111111111111,
              "#46039f"
             ],
             [
              0.2222222222222222,
              "#7201a8"
             ],
             [
              0.3333333333333333,
              "#9c179e"
             ],
             [
              0.4444444444444444,
              "#bd3786"
             ],
             [
              0.5555555555555556,
              "#d8576b"
             ],
             [
              0.6666666666666666,
              "#ed7953"
             ],
             [
              0.7777777777777778,
              "#fb9f3a"
             ],
             [
              0.8888888888888888,
              "#fdca26"
             ],
             [
              1,
              "#f0f921"
             ]
            ],
            "type": "heatmapgl"
           }
          ],
          "histogram": [
           {
            "marker": {
             "pattern": {
              "fillmode": "overlay",
              "size": 10,
              "solidity": 0.2
             }
            },
            "type": "histogram"
           }
          ],
          "histogram2d": [
           {
            "colorbar": {
             "outlinewidth": 0,
             "ticks": ""
            },
            "colorscale": [
             [
              0,
              "#0d0887"
             ],
             [
              0.1111111111111111,
              "#46039f"
             ],
             [
              0.2222222222222222,
              "#7201a8"
             ],
             [
              0.3333333333333333,
              "#9c179e"
             ],
             [
              0.4444444444444444,
              "#bd3786"
             ],
             [
              0.5555555555555556,
              "#d8576b"
             ],
             [
              0.6666666666666666,
              "#ed7953"
             ],
             [
              0.7777777777777778,
              "#fb9f3a"
             ],
             [
              0.8888888888888888,
              "#fdca26"
             ],
             [
              1,
              "#f0f921"
             ]
            ],
            "type": "histogram2d"
           }
          ],
          "histogram2dcontour": [
           {
            "colorbar": {
             "outlinewidth": 0,
             "ticks": ""
            },
            "colorscale": [
             [
              0,
              "#0d0887"
             ],
             [
              0.1111111111111111,
              "#46039f"
             ],
             [
              0.2222222222222222,
              "#7201a8"
             ],
             [
              0.3333333333333333,
              "#9c179e"
             ],
             [
              0.4444444444444444,
              "#bd3786"
             ],
             [
              0.5555555555555556,
              "#d8576b"
             ],
             [
              0.6666666666666666,
              "#ed7953"
             ],
             [
              0.7777777777777778,
              "#fb9f3a"
             ],
             [
              0.8888888888888888,
              "#fdca26"
             ],
             [
              1,
              "#f0f921"
             ]
            ],
            "type": "histogram2dcontour"
           }
          ],
          "mesh3d": [
           {
            "colorbar": {
             "outlinewidth": 0,
             "ticks": ""
            },
            "type": "mesh3d"
           }
          ],
          "parcoords": [
           {
            "line": {
             "colorbar": {
              "outlinewidth": 0,
              "ticks": ""
             }
            },
            "type": "parcoords"
           }
          ],
          "pie": [
           {
            "automargin": true,
            "type": "pie"
           }
          ],
          "scatter": [
           {
            "marker": {
             "colorbar": {
              "outlinewidth": 0,
              "ticks": ""
             }
            },
            "type": "scatter"
           }
          ],
          "scatter3d": [
           {
            "line": {
             "colorbar": {
              "outlinewidth": 0,
              "ticks": ""
             }
            },
            "marker": {
             "colorbar": {
              "outlinewidth": 0,
              "ticks": ""
             }
            },
            "type": "scatter3d"
           }
          ],
          "scattercarpet": [
           {
            "marker": {
             "colorbar": {
              "outlinewidth": 0,
              "ticks": ""
             }
            },
            "type": "scattercarpet"
           }
          ],
          "scattergeo": [
           {
            "marker": {
             "colorbar": {
              "outlinewidth": 0,
              "ticks": ""
             }
            },
            "type": "scattergeo"
           }
          ],
          "scattergl": [
           {
            "marker": {
             "colorbar": {
              "outlinewidth": 0,
              "ticks": ""
             }
            },
            "type": "scattergl"
           }
          ],
          "scattermapbox": [
           {
            "marker": {
             "colorbar": {
              "outlinewidth": 0,
              "ticks": ""
             }
            },
            "type": "scattermapbox"
           }
          ],
          "scatterpolar": [
           {
            "marker": {
             "colorbar": {
              "outlinewidth": 0,
              "ticks": ""
             }
            },
            "type": "scatterpolar"
           }
          ],
          "scatterpolargl": [
           {
            "marker": {
             "colorbar": {
              "outlinewidth": 0,
              "ticks": ""
             }
            },
            "type": "scatterpolargl"
           }
          ],
          "scatterternary": [
           {
            "marker": {
             "colorbar": {
              "outlinewidth": 0,
              "ticks": ""
             }
            },
            "type": "scatterternary"
           }
          ],
          "surface": [
           {
            "colorbar": {
             "outlinewidth": 0,
             "ticks": ""
            },
            "colorscale": [
             [
              0,
              "#0d0887"
             ],
             [
              0.1111111111111111,
              "#46039f"
             ],
             [
              0.2222222222222222,
              "#7201a8"
             ],
             [
              0.3333333333333333,
              "#9c179e"
             ],
             [
              0.4444444444444444,
              "#bd3786"
             ],
             [
              0.5555555555555556,
              "#d8576b"
             ],
             [
              0.6666666666666666,
              "#ed7953"
             ],
             [
              0.7777777777777778,
              "#fb9f3a"
             ],
             [
              0.8888888888888888,
              "#fdca26"
             ],
             [
              1,
              "#f0f921"
             ]
            ],
            "type": "surface"
           }
          ],
          "table": [
           {
            "cells": {
             "fill": {
              "color": "#EBF0F8"
             },
             "line": {
              "color": "white"
             }
            },
            "header": {
             "fill": {
              "color": "#C8D4E3"
             },
             "line": {
              "color": "white"
             }
            },
            "type": "table"
           }
          ]
         },
         "layout": {
          "annotationdefaults": {
           "arrowcolor": "#2a3f5f",
           "arrowhead": 0,
           "arrowwidth": 1
          },
          "autotypenumbers": "strict",
          "coloraxis": {
           "colorbar": {
            "outlinewidth": 0,
            "ticks": ""
           }
          },
          "colorscale": {
           "diverging": [
            [
             0,
             "#8e0152"
            ],
            [
             0.1,
             "#c51b7d"
            ],
            [
             0.2,
             "#de77ae"
            ],
            [
             0.3,
             "#f1b6da"
            ],
            [
             0.4,
             "#fde0ef"
            ],
            [
             0.5,
             "#f7f7f7"
            ],
            [
             0.6,
             "#e6f5d0"
            ],
            [
             0.7,
             "#b8e186"
            ],
            [
             0.8,
             "#7fbc41"
            ],
            [
             0.9,
             "#4d9221"
            ],
            [
             1,
             "#276419"
            ]
           ],
           "sequential": [
            [
             0,
             "#0d0887"
            ],
            [
             0.1111111111111111,
             "#46039f"
            ],
            [
             0.2222222222222222,
             "#7201a8"
            ],
            [
             0.3333333333333333,
             "#9c179e"
            ],
            [
             0.4444444444444444,
             "#bd3786"
            ],
            [
             0.5555555555555556,
             "#d8576b"
            ],
            [
             0.6666666666666666,
             "#ed7953"
            ],
            [
             0.7777777777777778,
             "#fb9f3a"
            ],
            [
             0.8888888888888888,
             "#fdca26"
            ],
            [
             1,
             "#f0f921"
            ]
           ],
           "sequentialminus": [
            [
             0,
             "#0d0887"
            ],
            [
             0.1111111111111111,
             "#46039f"
            ],
            [
             0.2222222222222222,
             "#7201a8"
            ],
            [
             0.3333333333333333,
             "#9c179e"
            ],
            [
             0.4444444444444444,
             "#bd3786"
            ],
            [
             0.5555555555555556,
             "#d8576b"
            ],
            [
             0.6666666666666666,
             "#ed7953"
            ],
            [
             0.7777777777777778,
             "#fb9f3a"
            ],
            [
             0.8888888888888888,
             "#fdca26"
            ],
            [
             1,
             "#f0f921"
            ]
           ]
          },
          "colorway": [
           "#636efa",
           "#EF553B",
           "#00cc96",
           "#ab63fa",
           "#FFA15A",
           "#19d3f3",
           "#FF6692",
           "#B6E880",
           "#FF97FF",
           "#FECB52"
          ],
          "font": {
           "color": "#2a3f5f"
          },
          "geo": {
           "bgcolor": "white",
           "lakecolor": "white",
           "landcolor": "#E5ECF6",
           "showlakes": true,
           "showland": true,
           "subunitcolor": "white"
          },
          "hoverlabel": {
           "align": "left"
          },
          "hovermode": "closest",
          "mapbox": {
           "style": "light"
          },
          "paper_bgcolor": "white",
          "plot_bgcolor": "#E5ECF6",
          "polar": {
           "angularaxis": {
            "gridcolor": "white",
            "linecolor": "white",
            "ticks": ""
           },
           "bgcolor": "#E5ECF6",
           "radialaxis": {
            "gridcolor": "white",
            "linecolor": "white",
            "ticks": ""
           }
          },
          "scene": {
           "xaxis": {
            "backgroundcolor": "#E5ECF6",
            "gridcolor": "white",
            "gridwidth": 2,
            "linecolor": "white",
            "showbackground": true,
            "ticks": "",
            "zerolinecolor": "white"
           },
           "yaxis": {
            "backgroundcolor": "#E5ECF6",
            "gridcolor": "white",
            "gridwidth": 2,
            "linecolor": "white",
            "showbackground": true,
            "ticks": "",
            "zerolinecolor": "white"
           },
           "zaxis": {
            "backgroundcolor": "#E5ECF6",
            "gridcolor": "white",
            "gridwidth": 2,
            "linecolor": "white",
            "showbackground": true,
            "ticks": "",
            "zerolinecolor": "white"
           }
          },
          "shapedefaults": {
           "line": {
            "color": "#2a3f5f"
           }
          },
          "ternary": {
           "aaxis": {
            "gridcolor": "white",
            "linecolor": "white",
            "ticks": ""
           },
           "baxis": {
            "gridcolor": "white",
            "linecolor": "white",
            "ticks": ""
           },
           "bgcolor": "#E5ECF6",
           "caxis": {
            "gridcolor": "white",
            "linecolor": "white",
            "ticks": ""
           }
          },
          "title": {
           "x": 0.05
          },
          "xaxis": {
           "automargin": true,
           "gridcolor": "white",
           "linecolor": "white",
           "ticks": "",
           "title": {
            "standoff": 15
           },
           "zerolinecolor": "white",
           "zerolinewidth": 2
          },
          "yaxis": {
           "automargin": true,
           "gridcolor": "white",
           "linecolor": "white",
           "ticks": "",
           "title": {
            "standoff": 15
           },
           "zerolinecolor": "white",
           "zerolinewidth": 2
          }
         }
        },
        "width": 500,
        "xaxis": {
         "autorange": false,
         "exponentformat": "e",
         "linecolor": "black",
         "linewidth": 1,
         "mirror": false,
         "range": [
          -0.013159309625625611,
          0.6711247909069061
         ],
         "showexponent": "all",
         "showline": true,
         "side": "bottom",
         "ticks": "outside",
         "title": {
          "text": "Birth"
         },
         "type": "linear",
         "zeroline": true
        },
        "yaxis": {
         "autorange": false,
         "exponentformat": "e",
         "linecolor": "black",
         "linewidth": 1,
         "mirror": false,
         "range": [
          -0.013159309625625611,
          0.6711247909069061
         ],
         "scaleanchor": "x",
         "scaleratio": 1,
         "showexponent": "all",
         "showline": true,
         "side": "left",
         "ticks": "outside",
         "title": {
          "text": "Death"
         },
         "type": "linear",
         "zeroline": true
        }
       }
      }
     },
     "metadata": {},
     "output_type": "display_data"
    }
   ],
   "source": [
    "i = 14\n",
    "print(f'RUL: {Ytrain_split_sequences[i,0]}')\n",
    "VR.plot(X_vr, sample=i)"
   ]
  },
  {
   "cell_type": "code",
   "execution_count": 65,
   "metadata": {},
   "outputs": [],
   "source": [
    "Ampl = Amplitude()\n",
    "X_a = Ampl.fit_transform(X_vr)"
   ]
  },
  {
   "cell_type": "code",
   "execution_count": 58,
   "metadata": {},
   "outputs": [
    {
     "data": {
      "text/plain": [
       "LinearRegression()"
      ]
     },
     "execution_count": 58,
     "metadata": {},
     "output_type": "execute_result"
    }
   ],
   "source": [
    "from sklearn import linear_model, svm\n",
    "lm = linear_model.LinearRegression()\n",
    "lm.fit(X_a, Ytrain_split_sequences[:,0])"
   ]
  },
  {
   "cell_type": "code",
   "execution_count": 66,
   "metadata": {},
   "outputs": [],
   "source": [
    "Yhat_train_split = lm.predict(X_a)"
   ]
  },
  {
   "cell_type": "code",
   "execution_count": 67,
   "metadata": {},
   "outputs": [
    {
     "name": "stdout",
     "output_type": "stream",
     "text": [
      "Test set RSME = 38.23183343296603, S = 6080.7100343828415, L= 1588.7851080791245, R2 = 0.15357065813808612\n"
     ]
    },
    {
     "data": {
      "text/plain": [
       "(38.23183343296603,\n",
       " 6080.7100343828415,\n",
       " 1588.7851080791245,\n",
       " 0.15357065813808612)"
      ]
     },
     "execution_count": 67,
     "metadata": {},
     "output_type": "execute_result"
    }
   ],
   "source": [
    "evaluate(Ytest_sequences, Yhat_train_split)"
   ]
  },
  {
   "cell_type": "code",
   "execution_count": 49,
   "metadata": {},
   "outputs": [
    {
     "data": {
      "text/plain": [
       "(835, 60, 14)"
      ]
     },
     "execution_count": 49,
     "metadata": {},
     "output_type": "execute_result"
    }
   ],
   "source": [
    "Xtrain_split_sequences.shape"
   ]
  },
  {
   "cell_type": "code",
   "execution_count": null,
   "metadata": {},
   "outputs": [],
   "source": [
    "from sklearn import linear_model, svm\n"
   ]
  },
  {
   "cell_type": "code",
   "execution_count": 8,
   "metadata": {},
   "outputs": [
    {
     "data": {
      "text/plain": [
       "(204, 60, 14)"
      ]
     },
     "execution_count": 8,
     "metadata": {},
     "output_type": "execute_result"
    }
   ],
   "source": [
    "Xval_split_sequences.shape"
   ]
  },
  {
   "cell_type": "code",
   "execution_count": 15,
   "metadata": {},
   "outputs": [],
   "source": [
    "from scipy import stats\n",
    "import dcor"
   ]
  },
  {
   "cell_type": "code",
   "execution_count": 248,
   "metadata": {},
   "outputs": [],
   "source": [
    "abc = dcor.distances.pairwise_distances(Xval_split_sequences[0].T)"
   ]
  },
  {
   "cell_type": "code",
   "execution_count": 249,
   "metadata": {},
   "outputs": [
    {
     "data": {
      "text/plain": [
       "array([[ 0.        ,  7.03311611,  5.10450104, 13.23756775,  5.98696515,\n",
       "         4.85222962,  5.88041811, 13.06542432,  5.48192318,  4.71828018,\n",
       "         5.90634202,  5.57957565, 12.5841503 , 13.49188227],\n",
       "       [ 7.03311611,  0.        ,  6.5153678 , 13.03635467,  6.52933216,\n",
       "         5.53258477,  6.53224007, 12.87428555,  6.57483787,  5.32469813,\n",
       "         6.7608991 ,  6.41541718, 12.01388098, 12.89701603],\n",
       "       [ 5.10450104,  6.5153678 ,  0.        , 14.09345422,  5.27154817,\n",
       "         3.43565998,  4.02868003, 14.07350329,  4.39559011,  3.5043827 ,\n",
       "         4.87191415,  4.79385378, 13.50662552, 14.29260089],\n",
       "       [13.23756775, 13.03635467, 14.09345422,  0.        , 11.23641984,\n",
       "        12.24958444, 14.15416382,  4.87591072, 12.1214822 , 11.81143591,\n",
       "        13.01356023, 13.90148852,  4.84826899,  4.6906171 ],\n",
       "       [ 5.98696515,  6.52933216,  5.27154817, 11.23641984,  0.        ,\n",
       "         3.68607369,  5.18722722, 11.16914399,  4.39701132,  3.76723251,\n",
       "         5.41077332,  6.09231351, 10.28540336, 11.81857265],\n",
       "       [ 4.85222962,  5.53258477,  3.43565998, 12.24958444,  3.68607369,\n",
       "         0.        ,  4.40265443, 12.11135227,  3.55224432,  2.40036988,\n",
       "         4.3000473 ,  4.44618463, 11.58067116, 12.46037671],\n",
       "       [ 5.88041811,  6.53224007,  4.02868003, 14.15416382,  5.18722722,\n",
       "         4.40265443,  0.        , 14.12625395,  5.13802944,  4.57273556,\n",
       "         5.71041589,  5.25919415, 13.63019179, 14.58167739],\n",
       "       [13.06542432, 12.87428555, 14.07350329,  4.87591072, 11.16914399,\n",
       "        12.11135227, 14.12625395,  0.        , 11.82880363, 11.86445611,\n",
       "        13.05691967, 13.80958371,  5.43367897,  6.3053754 ],\n",
       "       [ 5.48192318,  6.57483787,  4.39559011, 12.1214822 ,  4.39701132,\n",
       "         3.55224432,  5.13802944, 11.82880363,  0.        ,  3.91552754,\n",
       "         4.94982958,  5.39577624, 11.56727155, 12.51074321],\n",
       "       [ 4.71828018,  5.32469813,  3.5043827 , 11.81143591,  3.76723251,\n",
       "         2.40036988,  4.57273556, 11.86445611,  3.91552754,  0.        ,\n",
       "         4.04359921,  4.60632383, 11.1110088 , 11.93716597],\n",
       "       [ 5.90634202,  6.7608991 ,  4.87191415, 13.01356023,  5.41077332,\n",
       "         4.3000473 ,  5.71041589, 13.05691967,  4.94982958,  4.04359921,\n",
       "         0.        ,  5.93418338, 12.31930132, 13.03858425],\n",
       "       [ 5.57957565,  6.41541718,  4.79385378, 13.90148852,  6.09231351,\n",
       "         4.44618463,  5.25919415, 13.80958371,  5.39577624,  4.60632383,\n",
       "         5.93418338,  0.        , 13.2978463 , 13.61289635],\n",
       "       [12.5841503 , 12.01388098, 13.50662552,  4.84826899, 10.28540336,\n",
       "        11.58067116, 13.63019179,  5.43367897, 11.56727155, 11.1110088 ,\n",
       "        12.31930132, 13.2978463 ,  0.        ,  5.44415417],\n",
       "       [13.49188227, 12.89701603, 14.29260089,  4.6906171 , 11.81857265,\n",
       "        12.46037671, 14.58167739,  6.3053754 , 12.51074321, 11.93716597,\n",
       "        13.03858425, 13.61289635,  5.44415417,  0.        ]])"
      ]
     },
     "execution_count": 249,
     "metadata": {},
     "output_type": "execute_result"
    }
   ],
   "source": [
    "abc"
   ]
  },
  {
   "cell_type": "code",
   "execution_count": 270,
   "metadata": {},
   "outputs": [
    {
     "data": {
      "text/plain": [
       "(213, 60, 14)"
      ]
     },
     "execution_count": 270,
     "metadata": {},
     "output_type": "execute_result"
    }
   ],
   "source": [
    "Xval_split_sequences.shape"
   ]
  },
  {
   "cell_type": "code",
   "execution_count": 289,
   "metadata": {},
   "outputs": [
    {
     "data": {
      "text/plain": [
       "213"
      ]
     },
     "execution_count": 289,
     "metadata": {},
     "output_type": "execute_result"
    }
   ],
   "source": [
    "Xval_split_sequences.shape[0]"
   ]
  },
  {
   "cell_type": "code",
   "execution_count": 272,
   "metadata": {},
   "outputs": [
    {
     "data": {
      "text/plain": [
       "numpy.ndarray"
      ]
     },
     "execution_count": 272,
     "metadata": {},
     "output_type": "execute_result"
    }
   ],
   "source": [
    "type(X_pd)"
   ]
  },
  {
   "cell_type": "code",
   "execution_count": 306,
   "metadata": {},
   "outputs": [],
   "source": [
    "roh, pval = stats.spearmanr(Xval_split_sequences[0])\n",
    "X_sp = np.asarray([roh])\n",
    "for i in range(1, Xval_split_sequences.shape[0]):\n",
    "    roh, pval = stats.spearmanr(Xval_split_sequences[i])\n",
    "    X_sp = np.concatenate((X_sp,[roh]))"
   ]
  },
  {
   "cell_type": "code",
   "execution_count": 304,
   "metadata": {},
   "outputs": [
    {
     "ename": "AxisError",
     "evalue": "axis 2 is out of bounds for array of dimension 2",
     "output_type": "error",
     "traceback": [
      "\u001b[1;31m---------------------------------------------------------------------------\u001b[0m",
      "\u001b[1;31mAxisError\u001b[0m                                 Traceback (most recent call last)",
      "\u001b[1;32m<ipython-input-304-9124d588578d>\u001b[0m in \u001b[0;36m<module>\u001b[1;34m\u001b[0m\n\u001b[1;32m----> 1\u001b[1;33m \u001b[0mnp\u001b[0m\u001b[1;33m.\u001b[0m\u001b[0mconcatenate\u001b[0m\u001b[1;33m(\u001b[0m\u001b[1;33m(\u001b[0m\u001b[0mX_sp\u001b[0m\u001b[1;33m,\u001b[0m \u001b[0mX_sp\u001b[0m\u001b[1;33m)\u001b[0m\u001b[1;33m,\u001b[0m \u001b[0maxis\u001b[0m \u001b[1;33m=\u001b[0m \u001b[1;36m2\u001b[0m\u001b[1;33m)\u001b[0m\u001b[1;33m.\u001b[0m\u001b[0mshape\u001b[0m\u001b[1;33m\u001b[0m\u001b[1;33m\u001b[0m\u001b[0m\n\u001b[0m",
      "\u001b[1;32mc:\\Users\\jakob\\AppData\\Local\\Programs\\Python\\Python39\\lib\\site-packages\\numpy\\core\\overrides.py\u001b[0m in \u001b[0;36mconcatenate\u001b[1;34m(*args, **kwargs)\u001b[0m\n",
      "\u001b[1;31mAxisError\u001b[0m: axis 2 is out of bounds for array of dimension 2"
     ]
    }
   ],
   "source": [
    "np.concatenate((X_sp, X_sp), axis = 0).shape"
   ]
  },
  {
   "cell_type": "code",
   "execution_count": 9,
   "metadata": {},
   "outputs": [],
   "source": [
    "PD = PearsonDissimilarity()\n",
    "X_pd = PD.fit_transform(Xval_split_sequences)"
   ]
  },
  {
   "cell_type": "code",
   "execution_count": 10,
   "metadata": {},
   "outputs": [
    {
     "data": {
      "text/plain": [
       "(204, 14, 14)"
      ]
     },
     "execution_count": 10,
     "metadata": {},
     "output_type": "execute_result"
    }
   ],
   "source": [
    "X_pd.shape"
   ]
  },
  {
   "cell_type": "code",
   "execution_count": 11,
   "metadata": {},
   "outputs": [],
   "source": [
    "VR = VietorisRipsPersistence(metric=\"precomputed\")\n",
    "X_vr = VR.fit_transform(X_pd)"
   ]
  },
  {
   "cell_type": "code",
   "execution_count": 13,
   "metadata": {},
   "outputs": [
    {
     "data": {
      "application/vnd.plotly.v1+json": {
       "config": {
        "plotlyServerURL": "https://plot.ly"
       },
       "data": [
        {
         "hoverinfo": "none",
         "line": {
          "color": "black",
          "dash": "dash",
          "width": 1
         },
         "mode": "lines",
         "showlegend": false,
         "type": "scatter",
         "x": [
          -0.01212369441986084,
          0.6183084154129028
         ],
         "y": [
          -0.01212369441986084,
          0.6183084154129028
         ]
        },
        {
         "hoverinfo": "text",
         "hovertext": [
          "(0.0, 0.19674032926559448)",
          "(1.1102230246251565e-16, 0.20294801890850067)",
          "(0.0, 0.20899254083633423)",
          "(0.0, 0.21527238190174103)",
          "(1.1102230246251565e-16, 0.22803764045238495)",
          "(0.0, 0.23905183374881744)",
          "(0.0, 0.2689516842365265)",
          "(0.0, 0.2827910780906677)",
          "(1.1102230246251565e-16, 0.2900526225566864)",
          "(0.0, 0.2951095998287201)",
          "(1.1102230246251565e-16, 0.2961556613445282)",
          "(0.0, 0.358479380607605)",
          "(0.0, 0.4385012686252594)"
         ],
         "mode": "markers",
         "name": "H0",
         "type": "scatter",
         "x": [
          0,
          1.1102230246251565e-16,
          0,
          0,
          1.1102230246251565e-16,
          0,
          0,
          0,
          1.1102230246251565e-16,
          0,
          1.1102230246251565e-16,
          0,
          0
         ],
         "y": [
          0.19674032926559448,
          0.20294801890850067,
          0.20899254083633423,
          0.21527238190174103,
          0.22803764045238495,
          0.23905183374881744,
          0.2689516842365265,
          0.2827910780906677,
          0.2900526225566864,
          0.2951095998287201,
          0.2961556613445282,
          0.358479380607605,
          0.4385012686252594
         ]
        },
        {
         "hoverinfo": "text",
         "hovertext": [
          "(0.5825898051261902, 0.606184720993042)"
         ],
         "mode": "markers",
         "name": "H1",
         "type": "scatter",
         "x": [
          0.5825898051261902
         ],
         "y": [
          0.606184720993042
         ]
        }
       ],
       "layout": {
        "height": 500,
        "plot_bgcolor": "white",
        "template": {
         "data": {
          "bar": [
           {
            "error_x": {
             "color": "#2a3f5f"
            },
            "error_y": {
             "color": "#2a3f5f"
            },
            "marker": {
             "line": {
              "color": "#E5ECF6",
              "width": 0.5
             },
             "pattern": {
              "fillmode": "overlay",
              "size": 10,
              "solidity": 0.2
             }
            },
            "type": "bar"
           }
          ],
          "barpolar": [
           {
            "marker": {
             "line": {
              "color": "#E5ECF6",
              "width": 0.5
             },
             "pattern": {
              "fillmode": "overlay",
              "size": 10,
              "solidity": 0.2
             }
            },
            "type": "barpolar"
           }
          ],
          "carpet": [
           {
            "aaxis": {
             "endlinecolor": "#2a3f5f",
             "gridcolor": "white",
             "linecolor": "white",
             "minorgridcolor": "white",
             "startlinecolor": "#2a3f5f"
            },
            "baxis": {
             "endlinecolor": "#2a3f5f",
             "gridcolor": "white",
             "linecolor": "white",
             "minorgridcolor": "white",
             "startlinecolor": "#2a3f5f"
            },
            "type": "carpet"
           }
          ],
          "choropleth": [
           {
            "colorbar": {
             "outlinewidth": 0,
             "ticks": ""
            },
            "type": "choropleth"
           }
          ],
          "contour": [
           {
            "colorbar": {
             "outlinewidth": 0,
             "ticks": ""
            },
            "colorscale": [
             [
              0,
              "#0d0887"
             ],
             [
              0.1111111111111111,
              "#46039f"
             ],
             [
              0.2222222222222222,
              "#7201a8"
             ],
             [
              0.3333333333333333,
              "#9c179e"
             ],
             [
              0.4444444444444444,
              "#bd3786"
             ],
             [
              0.5555555555555556,
              "#d8576b"
             ],
             [
              0.6666666666666666,
              "#ed7953"
             ],
             [
              0.7777777777777778,
              "#fb9f3a"
             ],
             [
              0.8888888888888888,
              "#fdca26"
             ],
             [
              1,
              "#f0f921"
             ]
            ],
            "type": "contour"
           }
          ],
          "contourcarpet": [
           {
            "colorbar": {
             "outlinewidth": 0,
             "ticks": ""
            },
            "type": "contourcarpet"
           }
          ],
          "heatmap": [
           {
            "colorbar": {
             "outlinewidth": 0,
             "ticks": ""
            },
            "colorscale": [
             [
              0,
              "#0d0887"
             ],
             [
              0.1111111111111111,
              "#46039f"
             ],
             [
              0.2222222222222222,
              "#7201a8"
             ],
             [
              0.3333333333333333,
              "#9c179e"
             ],
             [
              0.4444444444444444,
              "#bd3786"
             ],
             [
              0.5555555555555556,
              "#d8576b"
             ],
             [
              0.6666666666666666,
              "#ed7953"
             ],
             [
              0.7777777777777778,
              "#fb9f3a"
             ],
             [
              0.8888888888888888,
              "#fdca26"
             ],
             [
              1,
              "#f0f921"
             ]
            ],
            "type": "heatmap"
           }
          ],
          "heatmapgl": [
           {
            "colorbar": {
             "outlinewidth": 0,
             "ticks": ""
            },
            "colorscale": [
             [
              0,
              "#0d0887"
             ],
             [
              0.1111111111111111,
              "#46039f"
             ],
             [
              0.2222222222222222,
              "#7201a8"
             ],
             [
              0.3333333333333333,
              "#9c179e"
             ],
             [
              0.4444444444444444,
              "#bd3786"
             ],
             [
              0.5555555555555556,
              "#d8576b"
             ],
             [
              0.6666666666666666,
              "#ed7953"
             ],
             [
              0.7777777777777778,
              "#fb9f3a"
             ],
             [
              0.8888888888888888,
              "#fdca26"
             ],
             [
              1,
              "#f0f921"
             ]
            ],
            "type": "heatmapgl"
           }
          ],
          "histogram": [
           {
            "marker": {
             "pattern": {
              "fillmode": "overlay",
              "size": 10,
              "solidity": 0.2
             }
            },
            "type": "histogram"
           }
          ],
          "histogram2d": [
           {
            "colorbar": {
             "outlinewidth": 0,
             "ticks": ""
            },
            "colorscale": [
             [
              0,
              "#0d0887"
             ],
             [
              0.1111111111111111,
              "#46039f"
             ],
             [
              0.2222222222222222,
              "#7201a8"
             ],
             [
              0.3333333333333333,
              "#9c179e"
             ],
             [
              0.4444444444444444,
              "#bd3786"
             ],
             [
              0.5555555555555556,
              "#d8576b"
             ],
             [
              0.6666666666666666,
              "#ed7953"
             ],
             [
              0.7777777777777778,
              "#fb9f3a"
             ],
             [
              0.8888888888888888,
              "#fdca26"
             ],
             [
              1,
              "#f0f921"
             ]
            ],
            "type": "histogram2d"
           }
          ],
          "histogram2dcontour": [
           {
            "colorbar": {
             "outlinewidth": 0,
             "ticks": ""
            },
            "colorscale": [
             [
              0,
              "#0d0887"
             ],
             [
              0.1111111111111111,
              "#46039f"
             ],
             [
              0.2222222222222222,
              "#7201a8"
             ],
             [
              0.3333333333333333,
              "#9c179e"
             ],
             [
              0.4444444444444444,
              "#bd3786"
             ],
             [
              0.5555555555555556,
              "#d8576b"
             ],
             [
              0.6666666666666666,
              "#ed7953"
             ],
             [
              0.7777777777777778,
              "#fb9f3a"
             ],
             [
              0.8888888888888888,
              "#fdca26"
             ],
             [
              1,
              "#f0f921"
             ]
            ],
            "type": "histogram2dcontour"
           }
          ],
          "mesh3d": [
           {
            "colorbar": {
             "outlinewidth": 0,
             "ticks": ""
            },
            "type": "mesh3d"
           }
          ],
          "parcoords": [
           {
            "line": {
             "colorbar": {
              "outlinewidth": 0,
              "ticks": ""
             }
            },
            "type": "parcoords"
           }
          ],
          "pie": [
           {
            "automargin": true,
            "type": "pie"
           }
          ],
          "scatter": [
           {
            "marker": {
             "colorbar": {
              "outlinewidth": 0,
              "ticks": ""
             }
            },
            "type": "scatter"
           }
          ],
          "scatter3d": [
           {
            "line": {
             "colorbar": {
              "outlinewidth": 0,
              "ticks": ""
             }
            },
            "marker": {
             "colorbar": {
              "outlinewidth": 0,
              "ticks": ""
             }
            },
            "type": "scatter3d"
           }
          ],
          "scattercarpet": [
           {
            "marker": {
             "colorbar": {
              "outlinewidth": 0,
              "ticks": ""
             }
            },
            "type": "scattercarpet"
           }
          ],
          "scattergeo": [
           {
            "marker": {
             "colorbar": {
              "outlinewidth": 0,
              "ticks": ""
             }
            },
            "type": "scattergeo"
           }
          ],
          "scattergl": [
           {
            "marker": {
             "colorbar": {
              "outlinewidth": 0,
              "ticks": ""
             }
            },
            "type": "scattergl"
           }
          ],
          "scattermapbox": [
           {
            "marker": {
             "colorbar": {
              "outlinewidth": 0,
              "ticks": ""
             }
            },
            "type": "scattermapbox"
           }
          ],
          "scatterpolar": [
           {
            "marker": {
             "colorbar": {
              "outlinewidth": 0,
              "ticks": ""
             }
            },
            "type": "scatterpolar"
           }
          ],
          "scatterpolargl": [
           {
            "marker": {
             "colorbar": {
              "outlinewidth": 0,
              "ticks": ""
             }
            },
            "type": "scatterpolargl"
           }
          ],
          "scatterternary": [
           {
            "marker": {
             "colorbar": {
              "outlinewidth": 0,
              "ticks": ""
             }
            },
            "type": "scatterternary"
           }
          ],
          "surface": [
           {
            "colorbar": {
             "outlinewidth": 0,
             "ticks": ""
            },
            "colorscale": [
             [
              0,
              "#0d0887"
             ],
             [
              0.1111111111111111,
              "#46039f"
             ],
             [
              0.2222222222222222,
              "#7201a8"
             ],
             [
              0.3333333333333333,
              "#9c179e"
             ],
             [
              0.4444444444444444,
              "#bd3786"
             ],
             [
              0.5555555555555556,
              "#d8576b"
             ],
             [
              0.6666666666666666,
              "#ed7953"
             ],
             [
              0.7777777777777778,
              "#fb9f3a"
             ],
             [
              0.8888888888888888,
              "#fdca26"
             ],
             [
              1,
              "#f0f921"
             ]
            ],
            "type": "surface"
           }
          ],
          "table": [
           {
            "cells": {
             "fill": {
              "color": "#EBF0F8"
             },
             "line": {
              "color": "white"
             }
            },
            "header": {
             "fill": {
              "color": "#C8D4E3"
             },
             "line": {
              "color": "white"
             }
            },
            "type": "table"
           }
          ]
         },
         "layout": {
          "annotationdefaults": {
           "arrowcolor": "#2a3f5f",
           "arrowhead": 0,
           "arrowwidth": 1
          },
          "autotypenumbers": "strict",
          "coloraxis": {
           "colorbar": {
            "outlinewidth": 0,
            "ticks": ""
           }
          },
          "colorscale": {
           "diverging": [
            [
             0,
             "#8e0152"
            ],
            [
             0.1,
             "#c51b7d"
            ],
            [
             0.2,
             "#de77ae"
            ],
            [
             0.3,
             "#f1b6da"
            ],
            [
             0.4,
             "#fde0ef"
            ],
            [
             0.5,
             "#f7f7f7"
            ],
            [
             0.6,
             "#e6f5d0"
            ],
            [
             0.7,
             "#b8e186"
            ],
            [
             0.8,
             "#7fbc41"
            ],
            [
             0.9,
             "#4d9221"
            ],
            [
             1,
             "#276419"
            ]
           ],
           "sequential": [
            [
             0,
             "#0d0887"
            ],
            [
             0.1111111111111111,
             "#46039f"
            ],
            [
             0.2222222222222222,
             "#7201a8"
            ],
            [
             0.3333333333333333,
             "#9c179e"
            ],
            [
             0.4444444444444444,
             "#bd3786"
            ],
            [
             0.5555555555555556,
             "#d8576b"
            ],
            [
             0.6666666666666666,
             "#ed7953"
            ],
            [
             0.7777777777777778,
             "#fb9f3a"
            ],
            [
             0.8888888888888888,
             "#fdca26"
            ],
            [
             1,
             "#f0f921"
            ]
           ],
           "sequentialminus": [
            [
             0,
             "#0d0887"
            ],
            [
             0.1111111111111111,
             "#46039f"
            ],
            [
             0.2222222222222222,
             "#7201a8"
            ],
            [
             0.3333333333333333,
             "#9c179e"
            ],
            [
             0.4444444444444444,
             "#bd3786"
            ],
            [
             0.5555555555555556,
             "#d8576b"
            ],
            [
             0.6666666666666666,
             "#ed7953"
            ],
            [
             0.7777777777777778,
             "#fb9f3a"
            ],
            [
             0.8888888888888888,
             "#fdca26"
            ],
            [
             1,
             "#f0f921"
            ]
           ]
          },
          "colorway": [
           "#636efa",
           "#EF553B",
           "#00cc96",
           "#ab63fa",
           "#FFA15A",
           "#19d3f3",
           "#FF6692",
           "#B6E880",
           "#FF97FF",
           "#FECB52"
          ],
          "font": {
           "color": "#2a3f5f"
          },
          "geo": {
           "bgcolor": "white",
           "lakecolor": "white",
           "landcolor": "#E5ECF6",
           "showlakes": true,
           "showland": true,
           "subunitcolor": "white"
          },
          "hoverlabel": {
           "align": "left"
          },
          "hovermode": "closest",
          "mapbox": {
           "style": "light"
          },
          "paper_bgcolor": "white",
          "plot_bgcolor": "#E5ECF6",
          "polar": {
           "angularaxis": {
            "gridcolor": "white",
            "linecolor": "white",
            "ticks": ""
           },
           "bgcolor": "#E5ECF6",
           "radialaxis": {
            "gridcolor": "white",
            "linecolor": "white",
            "ticks": ""
           }
          },
          "scene": {
           "xaxis": {
            "backgroundcolor": "#E5ECF6",
            "gridcolor": "white",
            "gridwidth": 2,
            "linecolor": "white",
            "showbackground": true,
            "ticks": "",
            "zerolinecolor": "white"
           },
           "yaxis": {
            "backgroundcolor": "#E5ECF6",
            "gridcolor": "white",
            "gridwidth": 2,
            "linecolor": "white",
            "showbackground": true,
            "ticks": "",
            "zerolinecolor": "white"
           },
           "zaxis": {
            "backgroundcolor": "#E5ECF6",
            "gridcolor": "white",
            "gridwidth": 2,
            "linecolor": "white",
            "showbackground": true,
            "ticks": "",
            "zerolinecolor": "white"
           }
          },
          "shapedefaults": {
           "line": {
            "color": "#2a3f5f"
           }
          },
          "ternary": {
           "aaxis": {
            "gridcolor": "white",
            "linecolor": "white",
            "ticks": ""
           },
           "baxis": {
            "gridcolor": "white",
            "linecolor": "white",
            "ticks": ""
           },
           "bgcolor": "#E5ECF6",
           "caxis": {
            "gridcolor": "white",
            "linecolor": "white",
            "ticks": ""
           }
          },
          "title": {
           "x": 0.05
          },
          "xaxis": {
           "automargin": true,
           "gridcolor": "white",
           "linecolor": "white",
           "ticks": "",
           "title": {
            "standoff": 15
           },
           "zerolinecolor": "white",
           "zerolinewidth": 2
          },
          "yaxis": {
           "automargin": true,
           "gridcolor": "white",
           "linecolor": "white",
           "ticks": "",
           "title": {
            "standoff": 15
           },
           "zerolinecolor": "white",
           "zerolinewidth": 2
          }
         }
        },
        "width": 500,
        "xaxis": {
         "autorange": false,
         "exponentformat": "e",
         "linecolor": "black",
         "linewidth": 1,
         "mirror": false,
         "range": [
          -0.01212369441986084,
          0.6183084154129028
         ],
         "showexponent": "all",
         "showline": true,
         "side": "bottom",
         "ticks": "outside",
         "title": {
          "text": "Birth"
         },
         "type": "linear",
         "zeroline": true
        },
        "yaxis": {
         "autorange": false,
         "exponentformat": "e",
         "linecolor": "black",
         "linewidth": 1,
         "mirror": false,
         "range": [
          -0.01212369441986084,
          0.6183084154129028
         ],
         "scaleanchor": "x",
         "scaleratio": 1,
         "showexponent": "all",
         "showline": true,
         "side": "left",
         "ticks": "outside",
         "title": {
          "text": "Death"
         },
         "type": "linear",
         "zeroline": true
        }
       }
      }
     },
     "metadata": {},
     "output_type": "display_data"
    }
   ],
   "source": [
    "VR.plot(X_vr, sample=50)"
   ]
  }
 ],
 "metadata": {
  "kernelspec": {
   "display_name": "Python 3.9.1 64-bit",
   "language": "python",
   "name": "python3"
  },
  "language_info": {
   "codemirror_mode": {
    "name": "ipython",
    "version": 3
   },
   "file_extension": ".py",
   "mimetype": "text/x-python",
   "name": "python",
   "nbconvert_exporter": "python",
   "pygments_lexer": "ipython3",
   "version": "3.9.1"
  },
  "orig_nbformat": 4,
  "vscode": {
   "interpreter": {
    "hash": "9ca1dab13569cba37c96f77d2e230d532249c1dfc43abceb441f3610f1bfff28"
   }
  }
 },
 "nbformat": 4,
 "nbformat_minor": 2
}
