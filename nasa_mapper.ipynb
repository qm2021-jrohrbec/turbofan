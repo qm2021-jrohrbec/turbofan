{
 "cells": [
  {
   "cell_type": "code",
   "execution_count": 127,
   "id": "charming-holly",
   "metadata": {},
   "outputs": [],
   "source": [
    "import turbo as tb\n",
    "import rul_dataframe as rd\n",
    "import plots as pl\n",
    "import preprocessing as pre\n",
    "import classification as cls"
   ]
  },
  {
   "cell_type": "code",
   "execution_count": 128,
   "metadata": {},
   "outputs": [],
   "source": [
    "import numpy as np\n",
    "import pandas as pd"
   ]
  },
  {
   "cell_type": "code",
   "execution_count": 129,
   "id": "97a1f398",
   "metadata": {},
   "outputs": [],
   "source": [
    "from sklearn.decomposition import PCA\n",
    "from sklearn.cluster import DBSCAN\n",
    "\n",
    "from gtda.plotting import plot_point_cloud\n",
    "from gtda.mapper import (\n",
    "    CubicalCover,\n",
    "    make_mapper_pipeline,\n",
    "    plot_static_mapper_graph,\n",
    "    plot_interactive_mapper_graph,\n",
    ")"
   ]
  },
  {
   "cell_type": "code",
   "execution_count": 130,
   "id": "838c7b89",
   "metadata": {},
   "outputs": [],
   "source": [
    "preproc = pre.Preprocessing()\n",
    "classy = cls.Classification()"
   ]
  },
  {
   "cell_type": "code",
   "execution_count": 261,
   "id": "af950f9f",
   "metadata": {},
   "outputs": [],
   "source": [
    "dataset = 3"
   ]
  },
  {
   "cell_type": "code",
   "execution_count": 262,
   "metadata": {},
   "outputs": [],
   "source": [
    "scale = 'minmax'"
   ]
  },
  {
   "cell_type": "code",
   "execution_count": 263,
   "id": "acb3b29c",
   "metadata": {},
   "outputs": [],
   "source": [
    "tr, te, rl = tb.getTFDataset(set = dataset)\n",
    "tb.addTFlinear(tr, te, rl)\n",
    "tr_df = rd.RUL_DataFrame(df = tr, label_cols = ['linear'])\n",
    "plots = pl.Plots(tr_df)\n",
    "if dataset in [1,3]:\n",
    "    preproc.drop_zero_variance(rul_df = tr_df)\n",
    "    preproc.scale(rul_df = tr_df, scale = scale)\n",
    "elif dataset in [2, 4]:\n",
    "    classy.fit_kmeans(rul_df = tr_df, colname = 'kmeans')\n",
    "    preproc.one_hot_encode(rul_df = tr_df, c_col = 'kmeans')\n",
    "    preproc.c_drop_zero_variance(rul_df = tr_df, c_cols = tr_df.categ_cols)\n",
    "    preproc.c_scale(rul_df = tr_df, c_cols = tr_df.categ_cols, scale = scale)\n",
    "preproc.moving_average(tr_df, shift = 10, mp = 10)"
   ]
  },
  {
   "cell_type": "markdown",
   "id": "d379196b",
   "metadata": {},
   "source": [
    "Create Pointcloud"
   ]
  },
  {
   "cell_type": "code",
   "execution_count": 264,
   "id": "293e1b7a",
   "metadata": {},
   "outputs": [],
   "source": [
    "X = np.array(tr_df.df[tr_df.data_cols])"
   ]
  },
  {
   "cell_type": "markdown",
   "id": "88942fe9",
   "metadata": {},
   "source": [
    "### Color Maps"
   ]
  },
  {
   "cell_type": "code",
   "execution_count": 265,
   "id": "42c4efc4",
   "metadata": {},
   "outputs": [],
   "source": [
    "color_code_rul = np.array(tr_df.df['linear'])\n",
    "for i in range(len(color_code_rul)):\n",
    "    if color_code_rul[i] > 100:\n",
    "        color_code_rul[i] = 0\n",
    "    elif color_code_rul[i] > 50:\n",
    "        color_code_rul[i] = 1\n",
    "    elif color_code_rul[i] > 25:\n",
    "        color_code_rul[i] = 2\n",
    "    elif color_code_rul[i] > 10:\n",
    "        color_code_rul[i] = 3\n",
    "    else:\n",
    "        color_code_rul[i] = 4"
   ]
  },
  {
   "cell_type": "code",
   "execution_count": 266,
   "id": "1db3efdb",
   "metadata": {},
   "outputs": [],
   "source": [
    "id_to_vizualize = 1\n",
    "color_code_id = np.array(tr_df.df[tr_df.id_col])\n",
    "for i in range(len(color_code_id)):\n",
    "    if not color_code_id[i] == id_to_vizualize:\n",
    "        color_code_id[i] = 0\n",
    "    else:\n",
    "        color_code_id[i] = 1"
   ]
  },
  {
   "cell_type": "code",
   "execution_count": 176,
   "id": "bf043a5c",
   "metadata": {},
   "outputs": [],
   "source": [
    "# before and after fault step\n",
    "color_code_fault_step = np.array(tr_df.df[tr_df.time_col])\n",
    "fault_steps = pd.read_csv(f'fault_steps/FD00{dataset}')['Fault Times']\n",
    "for i in tr_df.df[tr_df.id_col].unique():\n",
    "    fs = fault_steps[i - 1]\n",
    "    mask = tr_df.df.loc[tr_df.df[tr_df.id_col] == i, tr_df.time_col] >= fs\n",
    "    color_code_fault_step[tr_df.df[tr_df.id_col] == i] = mask"
   ]
  },
  {
   "cell_type": "code",
   "execution_count": 177,
   "id": "c2902169",
   "metadata": {},
   "outputs": [
    {
     "name": "stdout",
     "output_type": "stream",
     "text": [
      "All sensors spread same\n"
     ]
    }
   ],
   "source": [
    "# fault step by explorative analysis (sensors 7, 12, 15, 20, 21 clearly beave differently in one or two fault mode data)\n",
    "from sklearn.cluster import KMeans\n",
    "# get separating values\n",
    "labels = []\n",
    "if dataset in [3,4]:\n",
    "    sensors = ['s7', 's12', 's15', 's20', 's21']\n",
    "    for s in sensors:\n",
    "        last_values = tr_df.df.groupby(tr_df.id_col)[s].tail(1)\n",
    "        kmeans = KMeans(n_clusters=2, random_state=0).fit(np.asarray(last_values).reshape(-1, 1))\n",
    "        #make sure first label is same, such that if everything is the same, the values of kmeans dont matter\n",
    "        if kmeans.labels_[0] == 0:\n",
    "            labels.append((kmeans.labels_ - 1 )* -1)\n",
    "        else:\n",
    "            labels.append(kmeans.labels_)\n",
    "    for i in range(len(sensors) - 1):\n",
    "        if not all(labels[i] == labels[i + 1]):\n",
    "            print('Not all spreading sensors coincide')\n",
    "    print('All sensors spread same')\n",
    "    # hence can use to control mapper coloring\n",
    "    color_code_fault_mode = np.array(tr_df.df[tr_df.id_col])\n",
    "    for i in range(len(labels[0])):\n",
    "        current_id = i + 1\n",
    "        color_code_fault_mode[tr_df.df[tr_df.id_col] == current_id] = labels[0][i]"
   ]
  },
  {
   "cell_type": "code",
   "execution_count": 250,
   "id": "1237c540",
   "metadata": {},
   "outputs": [
    {
     "data": {
      "text/plain": [
       "101"
      ]
     },
     "execution_count": 250,
     "metadata": {},
     "output_type": "execute_result"
    }
   ],
   "source": [
    "labels[0].sum()"
   ]
  },
  {
   "cell_type": "code",
   "execution_count": 251,
   "id": "1f530768",
   "metadata": {},
   "outputs": [
    {
     "data": {
      "text/plain": [
       "148"
      ]
     },
     "execution_count": 251,
     "metadata": {},
     "output_type": "execute_result"
    }
   ],
   "source": [
    "len(labels[0]) - 101"
   ]
  },
  {
   "cell_type": "markdown",
   "id": "670dc0a2",
   "metadata": {},
   "source": [
    "# Mapper"
   ]
  },
  {
   "cell_type": "code",
   "execution_count": 178,
   "id": "9664c1a1",
   "metadata": {},
   "outputs": [],
   "source": [
    "pca = PCA(n_components = 2)"
   ]
  },
  {
   "cell_type": "code",
   "execution_count": 179,
   "id": "b2b6f0e4",
   "metadata": {},
   "outputs": [],
   "source": [
    "filter_func = pca\n",
    "clusterer = DBSCAN()\n",
    "cover = CubicalCover()\n",
    "n_jobs = 1"
   ]
  },
  {
   "cell_type": "code",
   "execution_count": 267,
   "id": "6a49a7d2",
   "metadata": {},
   "outputs": [
    {
     "data": {
      "application/vnd.plotly.v1+json": {
       "config": {
        "plotlyServerURL": "https://plot.ly",
        "scrollZoom": true
       },
       "data": [
        {
         "hoverinfo": "none",
         "line": {
          "color": "#888",
          "width": 1
         },
         "mode": "lines",
         "name": "edge_trace",
         "type": "scatter",
         "uid": "c61b3e37-9b22-4db7-8268-20585795972f",
         "x": [
          -0.0946406144597719,
          0.29593057238860715,
          null,
          -0.0946406144597719,
          0.22551273474109107,
          null,
          -0.0946406144597719,
          -0.15824787612505167,
          null,
          -0.0946406144597719,
          -0.5688329876108871,
          null,
          -0.0946406144597719,
          -0.5334724385741059,
          null,
          -0.0946406144597719,
          0.2442472977174637,
          null,
          -0.0946406144597719,
          -0.002835417777494803,
          null,
          0.29593057238860715,
          0.5996648181300224,
          null,
          0.29593057238860715,
          0.2442472977174637,
          null,
          0.29593057238860715,
          -0.002835417777494803,
          null,
          0.5996648181300224,
          0.9691773806787333,
          null,
          0.9691773806787333,
          1.4021542811074112,
          null,
          0.9691773806787333,
          1.19737660065163,
          null,
          0.9691773806787333,
          1.35853720643959,
          null,
          1.4021542811074112,
          1.6835768870920422,
          null,
          1.4021542811074112,
          1.4687404541283915,
          null,
          1.4021542811074112,
          1.19737660065163,
          null,
          1.4021542811074112,
          1.35853720643959,
          null,
          1.6835768870920422,
          1.9677858334651654,
          null,
          1.6835768870920422,
          1.7738719051183047,
          null,
          1.6835768870920422,
          1.4687404541283915,
          null,
          1.6835768870920422,
          1.19737660065163,
          null,
          1.9677858334651654,
          2.2831639117856057,
          null,
          1.9677858334651654,
          2.103545476190321,
          null,
          1.9677858334651654,
          1.7738719051183047,
          null,
          1.9677858334651654,
          1.4687404541283915,
          null,
          2.2831639117856057,
          2.103545476190321,
          null,
          2.2831639117856057,
          2.4768129696933374,
          null,
          2.2831639117856057,
          2.6302724642871183,
          null,
          2.2831639117856057,
          1.7738719051183047,
          null,
          2.103545476190321,
          2.4768129696933374,
          null,
          2.103545476190321,
          2.6302724642871183,
          null,
          2.103545476190321,
          1.7738719051183047,
          null,
          2.103545476190321,
          2.0624065590061904,
          null,
          2.4768129696933374,
          2.6302724642871183,
          null,
          2.4768129696933374,
          2.4885818319096686,
          null,
          0.22551273474109107,
          -0.15824787612505167,
          null,
          0.22551273474109107,
          0.2442472977174637,
          null,
          0.22551273474109107,
          0.5028568741022948,
          null,
          -0.15824787612505167,
          -0.5688329876108871,
          null,
          -0.15824787612505167,
          -0.5334724385741059,
          null,
          -0.15824787612505167,
          0.2442472977174637,
          null,
          -0.5688329876108871,
          -0.5334724385741059,
          null,
          -0.5688329876108871,
          -1.002303280119719,
          null,
          -0.5688329876108871,
          -0.9897010126463017,
          null,
          -0.5334724385741059,
          -1.002303280119719,
          null,
          -0.5334724385741059,
          -0.9897010126463017,
          null,
          -1.002303280119719,
          -0.9897010126463017,
          null,
          -1.002303280119719,
          -1.3400671487251326,
          null,
          -1.002303280119719,
          -1.448434156414648,
          null,
          -1.002303280119719,
          -1.2112907014948218,
          null,
          -1.002303280119719,
          -1.0170664560532774,
          null,
          -0.9897010126463017,
          -1.3400671487251326,
          null,
          -0.9897010126463017,
          -1.448434156414648,
          null,
          -0.9897010126463017,
          -1.2112907014948218,
          null,
          -0.9897010126463017,
          -1.0170664560532774,
          null,
          -1.3400671487251326,
          -1.448434156414648,
          null,
          -1.3400671487251326,
          -1.8525664644940114,
          null,
          -1.3400671487251326,
          -1.6694081535766003,
          null,
          -1.448434156414648,
          -1.8525664644940114,
          null,
          -1.448434156414648,
          -1.6694081535766003,
          null,
          -1.8525664644940114,
          -2.1906107223140583,
          null,
          -1.8525664644940114,
          -2.319065795335852,
          null,
          -1.8525664644940114,
          -2.2281976464901367,
          null,
          -1.8525664644940114,
          -1.6694081535766003,
          null,
          -2.1906107223140583,
          -2.319065795335852,
          null,
          -2.1906107223140583,
          -2.560814547342258,
          null,
          -2.1906107223140583,
          -2.6912912506922826,
          null,
          -2.1906107223140583,
          -2.2281976464901367,
          null,
          -2.319065795335852,
          -2.560814547342258,
          null,
          -2.319065795335852,
          -2.6912912506922826,
          null,
          -2.319065795335852,
          -2.2281976464901367,
          null,
          -2.560814547342258,
          -3.0573005355083156,
          null,
          -2.560814547342258,
          -2.913401516299232,
          null,
          -2.560814547342258,
          -2.6912912506922826,
          null,
          -3.0573005355083156,
          -2.913401516299232,
          null,
          -3.0573005355083156,
          -2.6912912506922826,
          null,
          -2.913401516299232,
          -2.6912912506922826,
          null,
          0.2442472977174637,
          -0.002835417777494803,
          null,
          1.7738719051183047,
          1.4687404541283915,
          null,
          0.5028568741022948,
          0.7548960134084851,
          null,
          -1.2112907014948218,
          -1.0170664560532774,
          null,
          -1.0170664560532774,
          -1.158080763882099,
          null,
          -1.158080763882099,
          -1.2673341232833786,
          null,
          -1.2673341232833786,
          -1.3640158237287745,
          null,
          -1.3640158237287745,
          -1.4502644832797509,
          null,
          1.4687404541283915,
          1.19737660065163,
          null,
          1.19737660065163,
          1.35853720643959,
          null,
          2.4885818319096686,
          2.0624065590061904,
          null
         ],
         "y": [
          0.5949887812549934,
          0.920728857399408,
          null,
          0.5949887812549934,
          0.15295962949342592,
          null,
          0.5949887812549934,
          0.2883877243752472,
          null,
          0.5949887812549934,
          0.5836864660869531,
          null,
          0.5949887812549934,
          0.3635428912049566,
          null,
          0.5949887812549934,
          0.5469187395338335,
          null,
          0.5949887812549934,
          0.9686477997065819,
          null,
          0.920728857399408,
          1.2606010579019542,
          null,
          0.920728857399408,
          0.5469187395338335,
          null,
          0.920728857399408,
          0.9686477997065819,
          null,
          1.2606010579019542,
          1.5175947013597249,
          null,
          1.5175947013597249,
          1.7110076037341162,
          null,
          1.5175947013597249,
          1.8790505756179277,
          null,
          1.5175947013597249,
          1.385217043694187,
          null,
          1.7110076037341162,
          1.9992334963026923,
          null,
          1.7110076037341162,
          2.203570180648619,
          null,
          1.7110076037341162,
          1.8790505756179277,
          null,
          1.7110076037341162,
          1.385217043694187,
          null,
          1.9992334963026923,
          2.288050491410637,
          null,
          1.9992334963026923,
          2.4949364970655052,
          null,
          1.9992334963026923,
          2.203570180648619,
          null,
          1.9992334963026923,
          1.8790505756179277,
          null,
          2.288050491410637,
          2.517502624027041,
          null,
          2.288050491410637,
          2.7708183015721137,
          null,
          2.288050491410637,
          2.4949364970655052,
          null,
          2.288050491410637,
          2.203570180648619,
          null,
          2.517502624027041,
          2.7708183015721137,
          null,
          2.517502624027041,
          2.9603400590896007,
          null,
          2.517502624027041,
          2.6604644228648744,
          null,
          2.517502624027041,
          2.4949364970655052,
          null,
          2.7708183015721137,
          2.9603400590896007,
          null,
          2.7708183015721137,
          2.6604644228648744,
          null,
          2.7708183015721137,
          2.4949364970655052,
          null,
          2.7708183015721137,
          3.251517331001747,
          null,
          2.9603400590896007,
          2.6604644228648744,
          null,
          2.9603400590896007,
          3.4117194260722994,
          null,
          0.15295962949342592,
          0.2883877243752472,
          null,
          0.15295962949342592,
          0.5469187395338335,
          null,
          0.15295962949342592,
          -0.23965351120775388,
          null,
          0.2883877243752472,
          0.5836864660869531,
          null,
          0.2883877243752472,
          0.3635428912049566,
          null,
          0.2883877243752472,
          0.5469187395338335,
          null,
          0.5836864660869531,
          0.3635428912049566,
          null,
          0.5836864660869531,
          0.41601372669342274,
          null,
          0.5836864660869531,
          0.27500487354338116,
          null,
          0.3635428912049566,
          0.41601372669342274,
          null,
          0.3635428912049566,
          0.27500487354338116,
          null,
          0.41601372669342274,
          0.27500487354338116,
          null,
          0.41601372669342274,
          0.7085090268917955,
          null,
          0.41601372669342274,
          0.46215825108493885,
          null,
          0.41601372669342274,
          -0.006154693812108503,
          null,
          0.41601372669342274,
          -0.18663683078018944,
          null,
          0.27500487354338116,
          0.7085090268917955,
          null,
          0.27500487354338116,
          0.46215825108493885,
          null,
          0.27500487354338116,
          -0.006154693812108503,
          null,
          0.27500487354338116,
          -0.18663683078018944,
          null,
          0.7085090268917955,
          0.46215825108493885,
          null,
          0.7085090268917955,
          0.8043190923972892,
          null,
          0.7085090268917955,
          0.6773617196030168,
          null,
          0.46215825108493885,
          0.8043190923972892,
          null,
          0.46215825108493885,
          0.6773617196030168,
          null,
          0.8043190923972892,
          1.077244281294386,
          null,
          0.8043190923972892,
          0.8645270667065705,
          null,
          0.8043190923972892,
          0.5687965376295305,
          null,
          0.8043190923972892,
          0.6773617196030168,
          null,
          1.077244281294386,
          0.8645270667065705,
          null,
          1.077244281294386,
          1.283081842837634,
          null,
          1.077244281294386,
          1.0200942487532247,
          null,
          1.077244281294386,
          0.5687965376295305,
          null,
          0.8645270667065705,
          1.283081842837634,
          null,
          0.8645270667065705,
          1.0200942487532247,
          null,
          0.8645270667065705,
          0.5687965376295305,
          null,
          1.283081842837634,
          1.1513919900115344,
          null,
          1.283081842837634,
          1.4658492529762444,
          null,
          1.283081842837634,
          1.0200942487532247,
          null,
          1.1513919900115344,
          1.4658492529762444,
          null,
          1.1513919900115344,
          1.0200942487532247,
          null,
          1.4658492529762444,
          1.0200942487532247,
          null,
          0.5469187395338335,
          0.9686477997065819,
          null,
          2.4949364970655052,
          2.203570180648619,
          null,
          -0.23965351120775388,
          -0.6239540907315678,
          null,
          -0.006154693812108503,
          -0.18663683078018944,
          null,
          -0.18663683078018944,
          -0.6555553517128437,
          null,
          -0.6555553517128437,
          -1.100488235142061,
          null,
          -1.100488235142061,
          -1.5313197369574054,
          null,
          -1.5313197369574054,
          -1.9533034815897932,
          null,
          2.203570180648619,
          1.8790505756179277,
          null,
          1.8790505756179277,
          1.385217043694187,
          null,
          3.4117194260722994,
          3.251517331001747,
          null
         ]
        },
        {
         "hoverinfo": "text",
         "hovertext": [
          "Node ID: 0<br>Pullback set label: 6<br>Partial cluster label: 0<br>Node size: 1696<br>Summary statistic: 0.0542",
          "Node ID: 1<br>Pullback set label: 7<br>Partial cluster label: 0<br>Node size: 2063<br>Summary statistic: 0.176",
          "Node ID: 2<br>Pullback set label: 8<br>Partial cluster label: 0<br>Node size: 2207<br>Summary statistic: 0.424",
          "Node ID: 3<br>Pullback set label: 9<br>Partial cluster label: 0<br>Node size: 2395<br>Summary statistic: 0.644",
          "Node ID: 4<br>Pullback set label: 10<br>Partial cluster label: 0<br>Node size: 1406<br>Summary statistic: 1.23",
          "Node ID: 5<br>Pullback set label: 11<br>Partial cluster label: 0<br>Node size: 934<br>Summary statistic: 1.96",
          "Node ID: 6<br>Pullback set label: 12<br>Partial cluster label: 0<br>Node size: 591<br>Summary statistic: 2.68",
          "Node ID: 7<br>Pullback set label: 13<br>Partial cluster label: 0<br>Node size: 420<br>Summary statistic: 3.52",
          "Node ID: 8<br>Pullback set label: 21<br>Partial cluster label: 0<br>Node size: 243<br>Summary statistic: 3.68",
          "Node ID: 9<br>Pullback set label: 22<br>Partial cluster label: 0<br>Node size: 161<br>Summary statistic: 4.0",
          "Node ID: 10<br>Pullback set label: 14<br>Partial cluster label: 0<br>Node size: 166<br>Summary statistic: 3.99",
          "Node ID: 11<br>Pullback set label: 2<br>Partial cluster label: 0<br>Node size: 3354<br>Summary statistic: 0.0405",
          "Node ID: 12<br>Pullback set label: 5<br>Partial cluster label: 0<br>Node size: 3933<br>Summary statistic: 0.14",
          "Node ID: 13<br>Pullback set label: 15<br>Partial cluster label: 0<br>Node size: 1831<br>Summary statistic: 0.438",
          "Node ID: 14<br>Pullback set label: 16<br>Partial cluster label: 0<br>Node size: 1133<br>Summary statistic: 0.381",
          "Node ID: 15<br>Pullback set label: 23<br>Partial cluster label: 0<br>Node size: 516<br>Summary statistic: 1.03",
          "Node ID: 16<br>Pullback set label: 24<br>Partial cluster label: 0<br>Node size: 765<br>Summary statistic: 1.1",
          "Node ID: 17<br>Pullback set label: 27<br>Partial cluster label: 0<br>Node size: 92<br>Summary statistic: 1.63",
          "Node ID: 18<br>Pullback set label: 28<br>Partial cluster label: 0<br>Node size: 796<br>Summary statistic: 1.56",
          "Node ID: 19<br>Pullback set label: 30<br>Partial cluster label: 0<br>Node size: 656<br>Summary statistic: 2.23",
          "Node ID: 20<br>Pullback set label: 32<br>Partial cluster label: 0<br>Node size: 531<br>Summary statistic: 2.94",
          "Node ID: 21<br>Pullback set label: 33<br>Partial cluster label: 0<br>Node size: 45<br>Summary statistic: 3.07",
          "Node ID: 22<br>Pullback set label: 35<br>Partial cluster label: 0<br>Node size: 230<br>Summary statistic: 3.87",
          "Node ID: 23<br>Pullback set label: 37<br>Partial cluster label: 0<br>Node size: 137<br>Summary statistic: 3.99",
          "Node ID: 24<br>Pullback set label: 36<br>Partial cluster label: 0<br>Node size: 26<br>Summary statistic: 4.0",
          "Node ID: 25<br>Pullback set label: 3<br>Partial cluster label: 0<br>Node size: 98<br>Summary statistic: 0.0102",
          "Node ID: 26<br>Pullback set label: 20<br>Partial cluster label: 0<br>Node size: 166<br>Summary statistic: 3.07",
          "Node ID: 27<br>Pullback set label: 34<br>Partial cluster label: 0<br>Node size: 266<br>Summary statistic: 3.64",
          "Node ID: 28<br>Pullback set label: 0<br>Partial cluster label: 0<br>Node size: 744<br>Summary statistic: 0",
          "Node ID: 29<br>Pullback set label: 1<br>Partial cluster label: 0<br>Node size: 607<br>Summary statistic: 0",
          "Node ID: 30<br>Pullback set label: 27<br>Partial cluster label: -1<br>Node size: 1<br>Summary statistic: 2.0",
          "Node ID: 31<br>Pullback set label: 28<br>Partial cluster label: 1<br>Node size: 12<br>Summary statistic: 2.17",
          "Node ID: 32<br>Pullback set label: 30<br>Partial cluster label: 1<br>Node size: 13<br>Summary statistic: 3.0",
          "Node ID: 33<br>Pullback set label: 32<br>Partial cluster label: 1<br>Node size: 12<br>Summary statistic: 3.75",
          "Node ID: 34<br>Pullback set label: 34<br>Partial cluster label: -1<br>Node size: 3<br>Summary statistic: 4.0",
          "Node ID: 35<br>Pullback set label: 35<br>Partial cluster label: -1<br>Node size: 2<br>Summary statistic: 4.0",
          "Node ID: 36<br>Pullback set label: 31<br>Partial cluster label: -1<br>Node size: 1<br>Summary statistic: 4.0",
          "Node ID: 37<br>Pullback set label: 19<br>Partial cluster label: 0<br>Node size: 127<br>Summary statistic: 2.63",
          "Node ID: 38<br>Pullback set label: 4<br>Partial cluster label: -1<br>Node size: 4<br>Summary statistic: 0",
          "Node ID: 39<br>Pullback set label: 29<br>Partial cluster label: -1<br>Node size: 3<br>Summary statistic: 2.0",
          "Node ID: 40<br>Pullback set label: 18<br>Partial cluster label: 0<br>Node size: 29<br>Summary statistic: 2.52",
          "Node ID: 41<br>Pullback set label: 26<br>Partial cluster label: 0<br>Node size: 8<br>Summary statistic: 4.0",
          "Node ID: 42<br>Pullback set label: 17<br>Partial cluster label: 0<br>Node size: 14<br>Summary statistic: 2.07",
          "Node ID: 43<br>Pullback set label: 25<br>Partial cluster label: -1<br>Node size: 2<br>Summary statistic: 4.0"
         ],
         "marker": {
          "color": [
           0.054245283018867926,
           0.17644207464857004,
           0.4236520163117354,
           0.644258872651357,
           1.2347083926031295,
           1.9593147751605995,
           2.6835871404399323,
           3.519047619047619,
           3.6790123456790123,
           4,
           3.9879518072289155,
           0.04054859868813357,
           0.14035087719298245,
           0.4380120152921901,
           0.38128861429832306,
           1.0290697674418605,
           1.0980392156862746,
           1.6304347826086956,
           1.5615577889447236,
           2.2286585365853657,
           2.937853107344633,
           3.066666666666667,
           3.873913043478261,
           3.9927007299270074,
           4,
           0.01020408163265306,
           3.066265060240964,
           3.6390977443609023,
           0,
           0,
           2,
           2.1666666666666665,
           3,
           3.75,
           4,
           4,
           4,
           2.62992125984252,
           0,
           2,
           2.5172413793103448,
           4,
           2.0714285714285716,
           4
          ],
          "colorbar": {
           "thickness": 15,
           "title": {
            "side": "right",
            "text": ""
           },
           "xanchor": "left"
          },
          "colorscale": [
           [
            0,
            "#440154"
           ],
           [
            0.1111111111111111,
            "#482878"
           ],
           [
            0.2222222222222222,
            "#3e4989"
           ],
           [
            0.3333333333333333,
            "#31688e"
           ],
           [
            0.4444444444444444,
            "#26828e"
           ],
           [
            0.5555555555555556,
            "#1f9e89"
           ],
           [
            0.6666666666666666,
            "#35b779"
           ],
           [
            0.7777777777777778,
            "#6ece58"
           ],
           [
            0.8888888888888888,
            "#b5de2b"
           ],
           [
            1,
            "#fde725"
           ]
          ],
          "line": {
           "color": "#888",
           "width": 1
          },
          "opacity": 1,
          "reversescale": false,
          "showscale": true,
          "size": [
           1696,
           2063,
           2207,
           2395,
           1406,
           934,
           591,
           420,
           243,
           161,
           166,
           3354,
           3933,
           1831,
           1133,
           516,
           765,
           92,
           796,
           656,
           531,
           45,
           230,
           137,
           26,
           98,
           166,
           266,
           744,
           607,
           1,
           12,
           13,
           12,
           3,
           2,
           1,
           127,
           4,
           3,
           29,
           8,
           14,
           2
          ],
          "sizemin": 4,
          "sizemode": "area",
          "sizeref": 8.74
         },
         "mode": "markers",
         "name": "node_trace",
         "type": "scatter",
         "uid": "6130ef74-e679-4199-8c5e-bcb43a790bc7",
         "x": [
          -0.0946406144597719,
          0.29593057238860715,
          0.5996648181300224,
          0.9691773806787333,
          1.4021542811074112,
          1.6835768870920422,
          1.9677858334651654,
          2.2831639117856057,
          2.103545476190321,
          2.4768129696933374,
          2.6302724642871183,
          0.22551273474109107,
          -0.15824787612505167,
          -0.5688329876108871,
          -0.5334724385741059,
          -1.002303280119719,
          -0.9897010126463017,
          -1.3400671487251326,
          -1.448434156414648,
          -1.8525664644940114,
          -2.1906107223140583,
          -2.319065795335852,
          -2.560814547342258,
          -3.0573005355083156,
          -2.913401516299232,
          0.2442472977174637,
          1.7738719051183047,
          -2.6912912506922826,
          0.5028568741022948,
          0.7548960134084851,
          -1.2112907014948218,
          -1.0170664560532774,
          -1.158080763882099,
          -1.2673341232833786,
          -1.3640158237287745,
          -1.4502644832797509,
          -2.2281976464901367,
          1.4687404541283915,
          -0.002835417777494803,
          -1.6694081535766003,
          1.19737660065163,
          2.4885818319096686,
          1.35853720643959,
          2.0624065590061904
         ],
         "y": [
          0.5949887812549934,
          0.920728857399408,
          1.2606010579019542,
          1.5175947013597249,
          1.7110076037341162,
          1.9992334963026923,
          2.288050491410637,
          2.517502624027041,
          2.7708183015721137,
          2.9603400590896007,
          2.6604644228648744,
          0.15295962949342592,
          0.2883877243752472,
          0.5836864660869531,
          0.3635428912049566,
          0.41601372669342274,
          0.27500487354338116,
          0.7085090268917955,
          0.46215825108493885,
          0.8043190923972892,
          1.077244281294386,
          0.8645270667065705,
          1.283081842837634,
          1.1513919900115344,
          1.4658492529762444,
          0.5469187395338335,
          2.4949364970655052,
          1.0200942487532247,
          -0.23965351120775388,
          -0.6239540907315678,
          -0.006154693812108503,
          -0.18663683078018944,
          -0.6555553517128437,
          -1.100488235142061,
          -1.5313197369574054,
          -1.9533034815897932,
          0.5687965376295305,
          2.203570180648619,
          0.9686477997065819,
          0.6773617196030168,
          1.8790505756179277,
          3.4117194260722994,
          1.385217043694187,
          3.251517331001747
         ]
        }
       ],
       "layout": {
        "autosize": false,
        "hovermode": "closest",
        "margin": {
         "b": 20,
         "l": 5,
         "r": 5,
         "t": 40
        },
        "showlegend": false,
        "template": {
         "data": {
          "bar": [
           {
            "error_x": {
             "color": "rgb(36,36,36)"
            },
            "error_y": {
             "color": "rgb(36,36,36)"
            },
            "marker": {
             "line": {
              "color": "white",
              "width": 0.5
             },
             "pattern": {
              "fillmode": "overlay",
              "size": 10,
              "solidity": 0.2
             }
            },
            "type": "bar"
           }
          ],
          "barpolar": [
           {
            "marker": {
             "line": {
              "color": "white",
              "width": 0.5
             },
             "pattern": {
              "fillmode": "overlay",
              "size": 10,
              "solidity": 0.2
             }
            },
            "type": "barpolar"
           }
          ],
          "carpet": [
           {
            "aaxis": {
             "endlinecolor": "rgb(36,36,36)",
             "gridcolor": "white",
             "linecolor": "white",
             "minorgridcolor": "white",
             "startlinecolor": "rgb(36,36,36)"
            },
            "baxis": {
             "endlinecolor": "rgb(36,36,36)",
             "gridcolor": "white",
             "linecolor": "white",
             "minorgridcolor": "white",
             "startlinecolor": "rgb(36,36,36)"
            },
            "type": "carpet"
           }
          ],
          "choropleth": [
           {
            "colorbar": {
             "outlinewidth": 1,
             "tickcolor": "rgb(36,36,36)",
             "ticks": "outside"
            },
            "type": "choropleth"
           }
          ],
          "contour": [
           {
            "colorbar": {
             "outlinewidth": 1,
             "tickcolor": "rgb(36,36,36)",
             "ticks": "outside"
            },
            "colorscale": [
             [
              0,
              "#440154"
             ],
             [
              0.1111111111111111,
              "#482878"
             ],
             [
              0.2222222222222222,
              "#3e4989"
             ],
             [
              0.3333333333333333,
              "#31688e"
             ],
             [
              0.4444444444444444,
              "#26828e"
             ],
             [
              0.5555555555555556,
              "#1f9e89"
             ],
             [
              0.6666666666666666,
              "#35b779"
             ],
             [
              0.7777777777777778,
              "#6ece58"
             ],
             [
              0.8888888888888888,
              "#b5de2b"
             ],
             [
              1,
              "#fde725"
             ]
            ],
            "type": "contour"
           }
          ],
          "contourcarpet": [
           {
            "colorbar": {
             "outlinewidth": 1,
             "tickcolor": "rgb(36,36,36)",
             "ticks": "outside"
            },
            "type": "contourcarpet"
           }
          ],
          "heatmap": [
           {
            "colorbar": {
             "outlinewidth": 1,
             "tickcolor": "rgb(36,36,36)",
             "ticks": "outside"
            },
            "colorscale": [
             [
              0,
              "#440154"
             ],
             [
              0.1111111111111111,
              "#482878"
             ],
             [
              0.2222222222222222,
              "#3e4989"
             ],
             [
              0.3333333333333333,
              "#31688e"
             ],
             [
              0.4444444444444444,
              "#26828e"
             ],
             [
              0.5555555555555556,
              "#1f9e89"
             ],
             [
              0.6666666666666666,
              "#35b779"
             ],
             [
              0.7777777777777778,
              "#6ece58"
             ],
             [
              0.8888888888888888,
              "#b5de2b"
             ],
             [
              1,
              "#fde725"
             ]
            ],
            "type": "heatmap"
           }
          ],
          "heatmapgl": [
           {
            "colorbar": {
             "outlinewidth": 1,
             "tickcolor": "rgb(36,36,36)",
             "ticks": "outside"
            },
            "colorscale": [
             [
              0,
              "#440154"
             ],
             [
              0.1111111111111111,
              "#482878"
             ],
             [
              0.2222222222222222,
              "#3e4989"
             ],
             [
              0.3333333333333333,
              "#31688e"
             ],
             [
              0.4444444444444444,
              "#26828e"
             ],
             [
              0.5555555555555556,
              "#1f9e89"
             ],
             [
              0.6666666666666666,
              "#35b779"
             ],
             [
              0.7777777777777778,
              "#6ece58"
             ],
             [
              0.8888888888888888,
              "#b5de2b"
             ],
             [
              1,
              "#fde725"
             ]
            ],
            "type": "heatmapgl"
           }
          ],
          "histogram": [
           {
            "marker": {
             "line": {
              "color": "white",
              "width": 0.6
             }
            },
            "type": "histogram"
           }
          ],
          "histogram2d": [
           {
            "colorbar": {
             "outlinewidth": 1,
             "tickcolor": "rgb(36,36,36)",
             "ticks": "outside"
            },
            "colorscale": [
             [
              0,
              "#440154"
             ],
             [
              0.1111111111111111,
              "#482878"
             ],
             [
              0.2222222222222222,
              "#3e4989"
             ],
             [
              0.3333333333333333,
              "#31688e"
             ],
             [
              0.4444444444444444,
              "#26828e"
             ],
             [
              0.5555555555555556,
              "#1f9e89"
             ],
             [
              0.6666666666666666,
              "#35b779"
             ],
             [
              0.7777777777777778,
              "#6ece58"
             ],
             [
              0.8888888888888888,
              "#b5de2b"
             ],
             [
              1,
              "#fde725"
             ]
            ],
            "type": "histogram2d"
           }
          ],
          "histogram2dcontour": [
           {
            "colorbar": {
             "outlinewidth": 1,
             "tickcolor": "rgb(36,36,36)",
             "ticks": "outside"
            },
            "colorscale": [
             [
              0,
              "#440154"
             ],
             [
              0.1111111111111111,
              "#482878"
             ],
             [
              0.2222222222222222,
              "#3e4989"
             ],
             [
              0.3333333333333333,
              "#31688e"
             ],
             [
              0.4444444444444444,
              "#26828e"
             ],
             [
              0.5555555555555556,
              "#1f9e89"
             ],
             [
              0.6666666666666666,
              "#35b779"
             ],
             [
              0.7777777777777778,
              "#6ece58"
             ],
             [
              0.8888888888888888,
              "#b5de2b"
             ],
             [
              1,
              "#fde725"
             ]
            ],
            "type": "histogram2dcontour"
           }
          ],
          "mesh3d": [
           {
            "colorbar": {
             "outlinewidth": 1,
             "tickcolor": "rgb(36,36,36)",
             "ticks": "outside"
            },
            "type": "mesh3d"
           }
          ],
          "parcoords": [
           {
            "line": {
             "colorbar": {
              "outlinewidth": 1,
              "tickcolor": "rgb(36,36,36)",
              "ticks": "outside"
             }
            },
            "type": "parcoords"
           }
          ],
          "pie": [
           {
            "automargin": true,
            "type": "pie"
           }
          ],
          "scatter": [
           {
            "marker": {
             "colorbar": {
              "outlinewidth": 1,
              "tickcolor": "rgb(36,36,36)",
              "ticks": "outside"
             }
            },
            "type": "scatter"
           }
          ],
          "scatter3d": [
           {
            "line": {
             "colorbar": {
              "outlinewidth": 1,
              "tickcolor": "rgb(36,36,36)",
              "ticks": "outside"
             }
            },
            "marker": {
             "colorbar": {
              "outlinewidth": 1,
              "tickcolor": "rgb(36,36,36)",
              "ticks": "outside"
             }
            },
            "type": "scatter3d"
           }
          ],
          "scattercarpet": [
           {
            "marker": {
             "colorbar": {
              "outlinewidth": 1,
              "tickcolor": "rgb(36,36,36)",
              "ticks": "outside"
             }
            },
            "type": "scattercarpet"
           }
          ],
          "scattergeo": [
           {
            "marker": {
             "colorbar": {
              "outlinewidth": 1,
              "tickcolor": "rgb(36,36,36)",
              "ticks": "outside"
             }
            },
            "type": "scattergeo"
           }
          ],
          "scattergl": [
           {
            "marker": {
             "colorbar": {
              "outlinewidth": 1,
              "tickcolor": "rgb(36,36,36)",
              "ticks": "outside"
             }
            },
            "type": "scattergl"
           }
          ],
          "scattermapbox": [
           {
            "marker": {
             "colorbar": {
              "outlinewidth": 1,
              "tickcolor": "rgb(36,36,36)",
              "ticks": "outside"
             }
            },
            "type": "scattermapbox"
           }
          ],
          "scatterpolar": [
           {
            "marker": {
             "colorbar": {
              "outlinewidth": 1,
              "tickcolor": "rgb(36,36,36)",
              "ticks": "outside"
             }
            },
            "type": "scatterpolar"
           }
          ],
          "scatterpolargl": [
           {
            "marker": {
             "colorbar": {
              "outlinewidth": 1,
              "tickcolor": "rgb(36,36,36)",
              "ticks": "outside"
             }
            },
            "type": "scatterpolargl"
           }
          ],
          "scatterternary": [
           {
            "marker": {
             "colorbar": {
              "outlinewidth": 1,
              "tickcolor": "rgb(36,36,36)",
              "ticks": "outside"
             }
            },
            "type": "scatterternary"
           }
          ],
          "surface": [
           {
            "colorbar": {
             "outlinewidth": 1,
             "tickcolor": "rgb(36,36,36)",
             "ticks": "outside"
            },
            "colorscale": [
             [
              0,
              "#440154"
             ],
             [
              0.1111111111111111,
              "#482878"
             ],
             [
              0.2222222222222222,
              "#3e4989"
             ],
             [
              0.3333333333333333,
              "#31688e"
             ],
             [
              0.4444444444444444,
              "#26828e"
             ],
             [
              0.5555555555555556,
              "#1f9e89"
             ],
             [
              0.6666666666666666,
              "#35b779"
             ],
             [
              0.7777777777777778,
              "#6ece58"
             ],
             [
              0.8888888888888888,
              "#b5de2b"
             ],
             [
              1,
              "#fde725"
             ]
            ],
            "type": "surface"
           }
          ],
          "table": [
           {
            "cells": {
             "fill": {
              "color": "rgb(237,237,237)"
             },
             "line": {
              "color": "white"
             }
            },
            "header": {
             "fill": {
              "color": "rgb(217,217,217)"
             },
             "line": {
              "color": "white"
             }
            },
            "type": "table"
           }
          ]
         },
         "layout": {
          "annotationdefaults": {
           "arrowhead": 0,
           "arrowwidth": 1
          },
          "autotypenumbers": "strict",
          "coloraxis": {
           "colorbar": {
            "outlinewidth": 1,
            "tickcolor": "rgb(36,36,36)",
            "ticks": "outside"
           }
          },
          "colorscale": {
           "diverging": [
            [
             0,
             "rgb(103,0,31)"
            ],
            [
             0.1,
             "rgb(178,24,43)"
            ],
            [
             0.2,
             "rgb(214,96,77)"
            ],
            [
             0.3,
             "rgb(244,165,130)"
            ],
            [
             0.4,
             "rgb(253,219,199)"
            ],
            [
             0.5,
             "rgb(247,247,247)"
            ],
            [
             0.6,
             "rgb(209,229,240)"
            ],
            [
             0.7,
             "rgb(146,197,222)"
            ],
            [
             0.8,
             "rgb(67,147,195)"
            ],
            [
             0.9,
             "rgb(33,102,172)"
            ],
            [
             1,
             "rgb(5,48,97)"
            ]
           ],
           "sequential": [
            [
             0,
             "#440154"
            ],
            [
             0.1111111111111111,
             "#482878"
            ],
            [
             0.2222222222222222,
             "#3e4989"
            ],
            [
             0.3333333333333333,
             "#31688e"
            ],
            [
             0.4444444444444444,
             "#26828e"
            ],
            [
             0.5555555555555556,
             "#1f9e89"
            ],
            [
             0.6666666666666666,
             "#35b779"
            ],
            [
             0.7777777777777778,
             "#6ece58"
            ],
            [
             0.8888888888888888,
             "#b5de2b"
            ],
            [
             1,
             "#fde725"
            ]
           ],
           "sequentialminus": [
            [
             0,
             "#440154"
            ],
            [
             0.1111111111111111,
             "#482878"
            ],
            [
             0.2222222222222222,
             "#3e4989"
            ],
            [
             0.3333333333333333,
             "#31688e"
            ],
            [
             0.4444444444444444,
             "#26828e"
            ],
            [
             0.5555555555555556,
             "#1f9e89"
            ],
            [
             0.6666666666666666,
             "#35b779"
            ],
            [
             0.7777777777777778,
             "#6ece58"
            ],
            [
             0.8888888888888888,
             "#b5de2b"
            ],
            [
             1,
             "#fde725"
            ]
           ]
          },
          "colorway": [
           "#1F77B4",
           "#FF7F0E",
           "#2CA02C",
           "#D62728",
           "#9467BD",
           "#8C564B",
           "#E377C2",
           "#7F7F7F",
           "#BCBD22",
           "#17BECF"
          ],
          "font": {
           "color": "rgb(36,36,36)"
          },
          "geo": {
           "bgcolor": "white",
           "lakecolor": "white",
           "landcolor": "white",
           "showlakes": true,
           "showland": true,
           "subunitcolor": "white"
          },
          "hoverlabel": {
           "align": "left"
          },
          "hovermode": "closest",
          "mapbox": {
           "style": "light"
          },
          "paper_bgcolor": "white",
          "plot_bgcolor": "white",
          "polar": {
           "angularaxis": {
            "gridcolor": "rgb(232,232,232)",
            "linecolor": "rgb(36,36,36)",
            "showgrid": false,
            "showline": true,
            "ticks": "outside"
           },
           "bgcolor": "white",
           "radialaxis": {
            "gridcolor": "rgb(232,232,232)",
            "linecolor": "rgb(36,36,36)",
            "showgrid": false,
            "showline": true,
            "ticks": "outside"
           }
          },
          "scene": {
           "xaxis": {
            "backgroundcolor": "white",
            "gridcolor": "rgb(232,232,232)",
            "gridwidth": 2,
            "linecolor": "rgb(36,36,36)",
            "showbackground": true,
            "showgrid": false,
            "showline": true,
            "ticks": "outside",
            "zeroline": false,
            "zerolinecolor": "rgb(36,36,36)"
           },
           "yaxis": {
            "backgroundcolor": "white",
            "gridcolor": "rgb(232,232,232)",
            "gridwidth": 2,
            "linecolor": "rgb(36,36,36)",
            "showbackground": true,
            "showgrid": false,
            "showline": true,
            "ticks": "outside",
            "zeroline": false,
            "zerolinecolor": "rgb(36,36,36)"
           },
           "zaxis": {
            "backgroundcolor": "white",
            "gridcolor": "rgb(232,232,232)",
            "gridwidth": 2,
            "linecolor": "rgb(36,36,36)",
            "showbackground": true,
            "showgrid": false,
            "showline": true,
            "ticks": "outside",
            "zeroline": false,
            "zerolinecolor": "rgb(36,36,36)"
           }
          },
          "shapedefaults": {
           "fillcolor": "black",
           "line": {
            "width": 0
           },
           "opacity": 0.3
          },
          "ternary": {
           "aaxis": {
            "gridcolor": "rgb(232,232,232)",
            "linecolor": "rgb(36,36,36)",
            "showgrid": false,
            "showline": true,
            "ticks": "outside"
           },
           "baxis": {
            "gridcolor": "rgb(232,232,232)",
            "linecolor": "rgb(36,36,36)",
            "showgrid": false,
            "showline": true,
            "ticks": "outside"
           },
           "bgcolor": "white",
           "caxis": {
            "gridcolor": "rgb(232,232,232)",
            "linecolor": "rgb(36,36,36)",
            "showgrid": false,
            "showline": true,
            "ticks": "outside"
           }
          },
          "title": {
           "x": 0.05
          },
          "xaxis": {
           "automargin": true,
           "gridcolor": "rgb(232,232,232)",
           "linecolor": "rgb(36,36,36)",
           "showgrid": false,
           "showline": true,
           "ticks": "outside",
           "title": {
            "standoff": 15
           },
           "zeroline": false,
           "zerolinecolor": "rgb(36,36,36)"
          },
          "yaxis": {
           "automargin": true,
           "gridcolor": "rgb(232,232,232)",
           "linecolor": "rgb(36,36,36)",
           "showgrid": false,
           "showline": true,
           "ticks": "outside",
           "title": {
            "standoff": 15
           },
           "zeroline": false,
           "zerolinecolor": "rgb(36,36,36)"
          }
         }
        },
        "title": {
         "text": ""
        },
        "xaxis": {
         "showgrid": false,
         "showline": false,
         "showticklabels": false,
         "ticks": "",
         "title": {
          "text": ""
         },
         "zeroline": false
        },
        "yaxis": {
         "showgrid": false,
         "showline": false,
         "showticklabels": false,
         "ticks": "",
         "title": {
          "text": ""
         },
         "zeroline": false
        }
       }
      }
     },
     "metadata": {},
     "output_type": "display_data"
    }
   ],
   "source": [
    "pipe = make_mapper_pipeline(\n",
    "    filter_func=filter_func,\n",
    "    cover=cover,\n",
    "    clusterer=clusterer,\n",
    "    verbose=False,\n",
    "    n_jobs=n_jobs,\n",
    ")\n",
    "\n",
    "fig = plot_static_mapper_graph(pipe, X, layout_dim=2, color_data = color_code_rul, node_scale = 30)\n",
    "fig.show(config={'scrollZoom': True})"
   ]
  },
  {
   "cell_type": "code",
   "execution_count": 181,
   "id": "7dbfcfdd",
   "metadata": {},
   "outputs": [
    {
     "data": {
      "application/vnd.plotly.v1+json": {
       "config": {
        "plotlyServerURL": "https://plot.ly",
        "scrollZoom": true
       },
       "data": [
        {
         "hoverinfo": "none",
         "line": {
          "color": "#888",
          "width": 1
         },
         "mode": "lines",
         "name": "edge_trace",
         "type": "scatter",
         "uid": "2198d668-2093-4a1e-a2e8-3303e1f63654",
         "x": [
          1.4382793358863317,
          0.8258221968849745,
          null,
          1.4382793358863317,
          1.5297337291536655,
          null,
          1.4382793358863317,
          0.9971730663944429,
          null,
          1.4382793358863317,
          1.9870703476734124,
          null,
          1.4382793358863317,
          1.9860764706051732,
          null,
          1.4382793358863317,
          1.623461951494887,
          null,
          1.4382793358863317,
          2.2148545840860177,
          null,
          0.8258221968849745,
          1.5297337291536655,
          null,
          0.8258221968849745,
          0.9971730663944429,
          null,
          0.8258221968849745,
          0.6671809118520471,
          null,
          0.8258221968849745,
          0.2372057361523154,
          null,
          1.5297337291536655,
          0.9971730663944429,
          null,
          1.5297337291536655,
          1.4274014685947647,
          null,
          1.5297337291536655,
          1.9870703476734124,
          null,
          1.5297337291536655,
          2.2148545840860177,
          null,
          1.5297337291536655,
          1.6595118192142628,
          null,
          0.9971730663944429,
          1.4274014685947647,
          null,
          0.9971730663944429,
          0.6671809118520471,
          null,
          0.9971730663944429,
          1.1476574737822711,
          null,
          0.9971730663944429,
          0.2372057361523154,
          null,
          0.9971730663944429,
          1.6595118192142628,
          null,
          1.4274014685947647,
          0.6671809118520471,
          null,
          1.4274014685947647,
          1.1476574737822711,
          null,
          1.4274014685947647,
          1.6027539482505626,
          null,
          1.4274014685947647,
          1.6595118192142628,
          null,
          1.4274014685947647,
          1.9251991943232047,
          null,
          0.6671809118520471,
          1.1476574737822711,
          null,
          0.6671809118520471,
          0.8386681119358265,
          null,
          0.6671809118520471,
          0.2372057361523154,
          null,
          0.6671809118520471,
          0.47950970277754457,
          null,
          1.1476574737822711,
          0.8386681119358265,
          null,
          1.1476574737822711,
          1.6027539482505626,
          null,
          1.1476574737822711,
          1.3287487056048284,
          null,
          1.1476574737822711,
          0.47950970277754457,
          null,
          1.1476574737822711,
          1.9251991943232047,
          null,
          0.8386681119358265,
          1.6027539482505626,
          null,
          0.8386681119358265,
          1.3287487056048284,
          null,
          0.8386681119358265,
          0.9927055041833894,
          null,
          0.8386681119358265,
          0.47950970277754457,
          null,
          0.8386681119358265,
          0.6222316437136666,
          null,
          0.8386681119358265,
          0.16503769963131756,
          null,
          1.6027539482505626,
          1.3287487056048284,
          null,
          1.6027539482505626,
          1.7585924975135998,
          null,
          1.6027539482505626,
          1.9251991943232047,
          null,
          1.6027539482505626,
          2.1097878697103787,
          null,
          1.3287487056048284,
          0.9927055041833894,
          null,
          1.3287487056048284,
          1.4133676363104097,
          null,
          1.3287487056048284,
          0.6222316437136666,
          null,
          1.3287487056048284,
          1.7585924975135998,
          null,
          1.3287487056048284,
          2.1097878697103787,
          null,
          0.9927055041833894,
          1.4133676363104097,
          null,
          0.9927055041833894,
          1.0505281195883933,
          null,
          0.9927055041833894,
          0.6222316437136666,
          null,
          0.9927055041833894,
          0.6937944940308688,
          null,
          0.9927055041833894,
          1.7585924975135998,
          null,
          1.4133676363104097,
          1.0505281195883933,
          null,
          1.4133676363104097,
          1.476776666581253,
          null,
          1.4133676363104097,
          0.6937944940308688,
          null,
          1.4133676363104097,
          1.7585924975135998,
          null,
          1.4133676363104097,
          1.812503584301799,
          null,
          1.4133676363104097,
          2.213201213399538,
          null,
          1.0505281195883933,
          1.476776666581253,
          null,
          1.0505281195883933,
          1.0826308234565742,
          null,
          1.0505281195883933,
          0.6937944940308688,
          null,
          1.0505281195883933,
          0.7572328871248667,
          null,
          1.0505281195883933,
          0.33014548331187177,
          null,
          1.0505281195883933,
          1.812503584301799,
          null,
          1.476776666581253,
          1.0826308234565742,
          null,
          1.476776666581253,
          0.7572328871248667,
          null,
          1.476776666581253,
          1.812503584301799,
          null,
          1.476776666581253,
          1.9972587946742224,
          null,
          1.0826308234565742,
          0.8127872531019827,
          null,
          1.0826308234565742,
          1.1614382868522666,
          null,
          1.0826308234565742,
          0.7572328871248667,
          null,
          1.0826308234565742,
          1.563271590731531,
          null,
          1.0826308234565742,
          0.36017696393756754,
          null,
          0.8127872531019827,
          1.1614382868522666,
          null,
          0.8127872531019827,
          0.7572328871248667,
          null,
          0.8127872531019827,
          1.563271590731531,
          null,
          0.8127872531019827,
          0.5342169565327444,
          null,
          0.8127872531019827,
          0.9655488161721663,
          null,
          0.8127872531019827,
          0.36017696393756754,
          null,
          1.1614382868522666,
          1.563271590731531,
          null,
          1.1614382868522666,
          0.5342169565327444,
          null,
          1.1614382868522666,
          0.9655488161721663,
          null,
          0.2372057361523154,
          0.009086016608310696,
          null,
          0.2372057361523154,
          -0.42487667941717966,
          null,
          0.2372057361523154,
          -0.45757668448058847,
          null,
          0.009086016608310696,
          -0.42487667941717966,
          null,
          0.009086016608310696,
          -0.45757668448058847,
          null,
          0.009086016608310696,
          -0.5258598621571441,
          null,
          0.009086016608310696,
          -0.07918554326356678,
          null,
          -0.42487667941717966,
          -0.45757668448058847,
          null,
          -0.42487667941717966,
          -1.0607126140000758,
          null,
          -0.42487667941717966,
          -0.9868206777613885,
          null,
          -0.42487667941717966,
          -0.5258598621571441,
          null,
          -0.42487667941717966,
          -1.1050300313109624,
          null,
          -0.42487667941717966,
          -0.07918554326356678,
          null,
          -0.45757668448058847,
          -1.0607126140000758,
          null,
          -0.45757668448058847,
          -1.1050300313109624,
          null,
          -1.0607126140000758,
          -0.9868206777613885,
          null,
          -1.0607126140000758,
          -1.572660170178835,
          null,
          -1.0607126140000758,
          -1.642844433763436,
          null,
          -1.0607126140000758,
          -0.5258598621571441,
          null,
          -1.0607126140000758,
          -1.1050300313109624,
          null,
          -1.0607126140000758,
          -1.6789309745145913,
          null,
          -0.9868206777613885,
          -1.572660170178835,
          null,
          -0.9868206777613885,
          -1.4795366139308845,
          null,
          -0.9868206777613885,
          -1.642844433763436,
          null,
          -0.9868206777613885,
          -0.5258598621571441,
          null,
          -0.9868206777613885,
          -1.0717956564682454,
          null,
          -1.572660170178835,
          -1.4795366139308845,
          null,
          -1.572660170178835,
          -1.9740321368127651,
          null,
          -1.572660170178835,
          -1.642844433763436,
          null,
          -1.572660170178835,
          -2.2736107472618556,
          null,
          -1.572660170178835,
          -2.15713682734284,
          null,
          -1.572660170178835,
          -1.0717956564682454,
          null,
          -1.4795366139308845,
          -1.9740321368127651,
          null,
          -1.4795366139308845,
          -2.15713682734284,
          null,
          -1.4795366139308845,
          -1.0717956564682454,
          null,
          -1.9740321368127651,
          -2.15713682734284,
          null,
          -1.9740321368127651,
          -2.656443083792658,
          null,
          -1.9740321368127651,
          -2.3842935173281297,
          null,
          0.47950970277754457,
          0.6222316437136666,
          null,
          0.47950970277754457,
          0.16503769963131756,
          null,
          0.6222316437136666,
          0.16503769963131756,
          null,
          0.6937944940308688,
          0.7572328871248667,
          null,
          0.6937944940308688,
          0.33014548331187177,
          null,
          0.7572328871248667,
          0.33014548331187177,
          null,
          0.7572328871248667,
          0.36017696393756754,
          null,
          -1.642844433763436,
          -2.2736107472618556,
          null,
          -1.642844433763436,
          -2.15713682734284,
          null,
          -1.642844433763436,
          -1.1050300313109624,
          null,
          -1.642844433763436,
          -1.6789309745145913,
          null,
          -2.2736107472618556,
          -2.15713682734284,
          null,
          -2.2736107472618556,
          -2.656443083792658,
          null,
          -2.2736107472618556,
          -2.878254699685846,
          null,
          -2.2736107472618556,
          -2.387742545447429,
          null,
          -2.15713682734284,
          -2.656443083792658,
          null,
          -2.15713682734284,
          -2.878254699685846,
          null,
          -2.15713682734284,
          -2.3842935173281297,
          null,
          -2.656443083792658,
          -2.878254699685846,
          null,
          -2.656443083792658,
          -2.3842935173281297,
          null,
          -2.656443083792658,
          -3.145361877743415,
          null,
          -2.878254699685846,
          -3.061154787651869,
          null,
          -2.878254699685846,
          -3.5493613063745295,
          null,
          -0.5258598621571441,
          -0.07918554326356678,
          null,
          1.563271590731531,
          1.9972587946742224,
          null,
          1.9870703476734124,
          1.9860764706051732,
          null,
          1.9870703476734124,
          1.623461951494887,
          null,
          1.9870703476734124,
          2.2148545840860177,
          null,
          1.9860764706051732,
          1.623461951494887,
          null,
          0.5342169565327444,
          0.9655488161721663,
          null,
          1.7585924975135998,
          1.812503584301799,
          null,
          1.7585924975135998,
          2.1097878697103787,
          null,
          1.7585924975135998,
          2.213201213399538,
          null,
          -1.1050300313109624,
          -1.6789309745145913,
          null,
          -1.6789309745145913,
          -2.387742545447429,
          null,
          -3.061154787651869,
          -2.387742545447429,
          null,
          -3.061154787651869,
          -3.6907794222719787,
          null,
          1.812503584301799,
          2.213201213399538,
          null
         ],
         "y": [
          2.0313033294217813,
          1.640744472795784,
          null,
          2.0313033294217813,
          1.6602834534667041,
          null,
          2.0313033294217813,
          1.33879459578648,
          null,
          2.0313033294217813,
          2.179896920546618,
          null,
          2.0313033294217813,
          2.569954341166525,
          null,
          2.0313033294217813,
          2.6609600341440065,
          null,
          2.0313033294217813,
          1.8673599031655717,
          null,
          1.640744472795784,
          1.6602834534667041,
          null,
          1.640744472795784,
          1.33879459578648,
          null,
          1.640744472795784,
          0.91183442610257,
          null,
          1.640744472795784,
          1.438865057455615,
          null,
          1.6602834534667041,
          1.33879459578648,
          null,
          1.6602834534667041,
          0.9714402480176734,
          null,
          1.6602834534667041,
          2.179896920546618,
          null,
          1.6602834534667041,
          1.8673599031655717,
          null,
          1.6602834534667041,
          1.371755720905952,
          null,
          1.33879459578648,
          0.9714402480176734,
          null,
          1.33879459578648,
          0.91183442610257,
          null,
          1.33879459578648,
          0.5864252191305166,
          null,
          1.33879459578648,
          1.438865057455615,
          null,
          1.33879459578648,
          1.371755720905952,
          null,
          0.9714402480176734,
          0.91183442610257,
          null,
          0.9714402480176734,
          0.5864252191305166,
          null,
          0.9714402480176734,
          0.27329429840489533,
          null,
          0.9714402480176734,
          1.371755720905952,
          null,
          0.9714402480176734,
          0.6936662750896143,
          null,
          0.91183442610257,
          0.5864252191305166,
          null,
          0.91183442610257,
          0.15001299881086183,
          null,
          0.91183442610257,
          1.438865057455615,
          null,
          0.91183442610257,
          0.4009171983215571,
          null,
          0.5864252191305166,
          0.15001299881086183,
          null,
          0.5864252191305166,
          0.27329429840489533,
          null,
          0.5864252191305166,
          -0.13498076043103263,
          null,
          0.5864252191305166,
          0.4009171983215571,
          null,
          0.5864252191305166,
          0.6936662750896143,
          null,
          0.15001299881086183,
          0.27329429840489533,
          null,
          0.15001299881086183,
          -0.13498076043103263,
          null,
          0.15001299881086183,
          -0.5861577277559255,
          null,
          0.15001299881086183,
          0.4009171983215571,
          null,
          0.15001299881086183,
          -0.26456509622920316,
          null,
          0.15001299881086183,
          -0.07932762613998805,
          null,
          0.27329429840489533,
          -0.13498076043103263,
          null,
          0.27329429840489533,
          -0.4376380630594967,
          null,
          0.27329429840489533,
          0.6936662750896143,
          null,
          0.27329429840489533,
          -0.04062086215582682,
          null,
          -0.13498076043103263,
          -0.5861577277559255,
          null,
          -0.13498076043103263,
          -0.8623528907832793,
          null,
          -0.13498076043103263,
          -0.26456509622920316,
          null,
          -0.13498076043103263,
          -0.4376380630594967,
          null,
          -0.13498076043103263,
          -0.04062086215582682,
          null,
          -0.5861577277559255,
          -0.8623528907832793,
          null,
          -0.5861577277559255,
          -1.3109673244663205,
          null,
          -0.5861577277559255,
          -0.26456509622920316,
          null,
          -0.5861577277559255,
          -1.136826463058017,
          null,
          -0.5861577277559255,
          -0.4376380630594967,
          null,
          -0.8623528907832793,
          -1.3109673244663205,
          null,
          -0.8623528907832793,
          -1.5834735131785869,
          null,
          -0.8623528907832793,
          -1.136826463058017,
          null,
          -0.8623528907832793,
          -0.4376380630594967,
          null,
          -0.8623528907832793,
          -1.1312815042708309,
          null,
          -0.8623528907832793,
          -0.8378792405137507,
          null,
          -1.3109673244663205,
          -1.5834735131785869,
          null,
          -1.3109673244663205,
          -2.0457396384867432,
          null,
          -1.3109673244663205,
          -1.136826463058017,
          null,
          -1.3109673244663205,
          -1.8365368917400398,
          null,
          -1.3109673244663205,
          -1.5593474559638343,
          null,
          -1.3109673244663205,
          -1.1312815042708309,
          null,
          -1.5834735131785869,
          -2.0457396384867432,
          null,
          -1.5834735131785869,
          -1.8365368917400398,
          null,
          -1.5834735131785869,
          -1.1312815042708309,
          null,
          -1.5834735131785869,
          -2.0728012466936576,
          null,
          -2.0457396384867432,
          -2.5445570484190454,
          null,
          -2.0457396384867432,
          -2.7439997480720586,
          null,
          -2.0457396384867432,
          -1.8365368917400398,
          null,
          -2.0457396384867432,
          -2.51121049748459,
          null,
          -2.0457396384867432,
          -2.32362863915744,
          null,
          -2.5445570484190454,
          -2.7439997480720586,
          null,
          -2.5445570484190454,
          -1.8365368917400398,
          null,
          -2.5445570484190454,
          -2.51121049748459,
          null,
          -2.5445570484190454,
          -3.1364504309815344,
          null,
          -2.5445570484190454,
          -3.247869918503426,
          null,
          -2.5445570484190454,
          -2.32362863915744,
          null,
          -2.7439997480720586,
          -2.51121049748459,
          null,
          -2.7439997480720586,
          -3.1364504309815344,
          null,
          -2.7439997480720586,
          -3.247869918503426,
          null,
          1.438865057455615,
          1.9509552239236048,
          null,
          1.438865057455615,
          1.8403308500634679,
          null,
          1.438865057455615,
          1.4538727328794097,
          null,
          1.9509552239236048,
          1.8403308500634679,
          null,
          1.9509552239236048,
          1.4538727328794097,
          null,
          1.9509552239236048,
          2.3368615127539205,
          null,
          1.9509552239236048,
          2.5425674267290463,
          null,
          1.8403308500634679,
          1.4538727328794097,
          null,
          1.8403308500634679,
          1.866383839736908,
          null,
          1.8403308500634679,
          2.2964322956428633,
          null,
          1.8403308500634679,
          2.3368615127539205,
          null,
          1.8403308500634679,
          1.4773850322242694,
          null,
          1.8403308500634679,
          2.5425674267290463,
          null,
          1.4538727328794097,
          1.866383839736908,
          null,
          1.4538727328794097,
          1.4773850322242694,
          null,
          1.866383839736908,
          2.2964322956428633,
          null,
          1.866383839736908,
          2.395548851708178,
          null,
          1.866383839736908,
          1.9654571363208717,
          null,
          1.866383839736908,
          2.3368615127539205,
          null,
          1.866383839736908,
          1.4773850322242694,
          null,
          1.866383839736908,
          1.410566077754117,
          null,
          2.2964322956428633,
          2.395548851708178,
          null,
          2.2964322956428633,
          2.792553027232231,
          null,
          2.2964322956428633,
          1.9654571363208717,
          null,
          2.2964322956428633,
          2.3368615127539205,
          null,
          2.2964322956428633,
          2.944873761243323,
          null,
          2.395548851708178,
          2.792553027232231,
          null,
          2.395548851708178,
          2.9779491308939527,
          null,
          2.395548851708178,
          1.9654571363208717,
          null,
          2.395548851708178,
          2.128253299411024,
          null,
          2.395548851708178,
          2.524758544457922,
          null,
          2.395548851708178,
          2.944873761243323,
          null,
          2.792553027232231,
          2.9779491308939527,
          null,
          2.792553027232231,
          2.524758544457922,
          null,
          2.792553027232231,
          2.944873761243323,
          null,
          2.9779491308939527,
          2.524758544457922,
          null,
          2.9779491308939527,
          2.7754715809915966,
          null,
          2.9779491308939527,
          3.242197507302281,
          null,
          0.4009171983215571,
          -0.26456509622920316,
          null,
          0.4009171983215571,
          -0.07932762613998805,
          null,
          -0.26456509622920316,
          -0.07932762613998805,
          null,
          -1.136826463058017,
          -1.8365368917400398,
          null,
          -1.136826463058017,
          -1.5593474559638343,
          null,
          -1.8365368917400398,
          -1.5593474559638343,
          null,
          -1.8365368917400398,
          -2.32362863915744,
          null,
          1.9654571363208717,
          2.128253299411024,
          null,
          1.9654571363208717,
          2.524758544457922,
          null,
          1.9654571363208717,
          1.4773850322242694,
          null,
          1.9654571363208717,
          1.410566077754117,
          null,
          2.128253299411024,
          2.524758544457922,
          null,
          2.128253299411024,
          2.7754715809915966,
          null,
          2.128253299411024,
          2.2593531588690463,
          null,
          2.128253299411024,
          1.467611099877891,
          null,
          2.524758544457922,
          2.7754715809915966,
          null,
          2.524758544457922,
          2.2593531588690463,
          null,
          2.524758544457922,
          3.242197507302281,
          null,
          2.7754715809915966,
          2.2593531588690463,
          null,
          2.7754715809915966,
          3.242197507302281,
          null,
          2.7754715809915966,
          3.285800311027737,
          null,
          2.2593531588690463,
          1.5792548064885914,
          null,
          2.2593531588690463,
          2.458795712351924,
          null,
          2.3368615127539205,
          2.5425674267290463,
          null,
          -2.51121049748459,
          -2.0728012466936576,
          null,
          2.179896920546618,
          2.569954341166525,
          null,
          2.179896920546618,
          2.6609600341440065,
          null,
          2.179896920546618,
          1.8673599031655717,
          null,
          2.569954341166525,
          2.6609600341440065,
          null,
          -3.1364504309815344,
          -3.247869918503426,
          null,
          -0.4376380630594967,
          -1.1312815042708309,
          null,
          -0.4376380630594967,
          -0.04062086215582682,
          null,
          -0.4376380630594967,
          -0.8378792405137507,
          null,
          1.4773850322242694,
          1.410566077754117,
          null,
          1.410566077754117,
          1.467611099877891,
          null,
          1.5792548064885914,
          1.467611099877891,
          null,
          1.5792548064885914,
          1.3394414418616682,
          null,
          -1.1312815042708309,
          -0.8378792405137507,
          null
         ]
        },
        {
         "hoverinfo": "text",
         "hovertext": [
          "Node ID: 0<br>Pullback set label: 4<br>Partial cluster label: 0<br>Node size: 3906<br>Summary statistic: 1",
          "Node ID: 1<br>Pullback set label: 7<br>Partial cluster label: 0<br>Node size: 2347<br>Summary statistic: 1",
          "Node ID: 2<br>Pullback set label: 5<br>Partial cluster label: 0<br>Node size: 2039<br>Summary statistic: 1",
          "Node ID: 3<br>Pullback set label: 8<br>Partial cluster label: 0<br>Node size: 4691<br>Summary statistic: 1",
          "Node ID: 4<br>Pullback set label: 9<br>Partial cluster label: 0<br>Node size: 559<br>Summary statistic: 1",
          "Node ID: 5<br>Pullback set label: 14<br>Partial cluster label: 0<br>Node size: 5533<br>Summary statistic: 1",
          "Node ID: 6<br>Pullback set label: 15<br>Partial cluster label: 0<br>Node size: 1874<br>Summary statistic: 1",
          "Node ID: 7<br>Pullback set label: 22<br>Partial cluster label: 0<br>Node size: 2439<br>Summary statistic: 1",
          "Node ID: 8<br>Pullback set label: 16<br>Partial cluster label: 0<br>Node size: 250<br>Summary statistic: 1",
          "Node ID: 9<br>Pullback set label: 23<br>Partial cluster label: 0<br>Node size: 947<br>Summary statistic: 1",
          "Node ID: 10<br>Pullback set label: 32<br>Partial cluster label: 0<br>Node size: 1091<br>Summary statistic: 1",
          "Node ID: 11<br>Pullback set label: 33<br>Partial cluster label: 0<br>Node size: 505<br>Summary statistic: 1",
          "Node ID: 12<br>Pullback set label: 40<br>Partial cluster label: 0<br>Node size: 874<br>Summary statistic: 1",
          "Node ID: 13<br>Pullback set label: 41<br>Partial cluster label: 0<br>Node size: 331<br>Summary statistic: 1",
          "Node ID: 14<br>Pullback set label: 49<br>Partial cluster label: 0<br>Node size: 630<br>Summary statistic: 1",
          "Node ID: 15<br>Pullback set label: 56<br>Partial cluster label: 0<br>Node size: 540<br>Summary statistic: 1",
          "Node ID: 16<br>Pullback set label: 57<br>Partial cluster label: 0<br>Node size: 138<br>Summary statistic: 1",
          "Node ID: 17<br>Pullback set label: 13<br>Partial cluster label: 0<br>Node size: 6094<br>Summary statistic: 0",
          "Node ID: 18<br>Pullback set label: 12<br>Partial cluster label: 0<br>Node size: 1289<br>Summary statistic: 0",
          "Node ID: 19<br>Pullback set label: 19<br>Partial cluster label: 0<br>Node size: 11938<br>Summary statistic: 0",
          "Node ID: 20<br>Pullback set label: 20<br>Partial cluster label: 0<br>Node size: 3737<br>Summary statistic: 0",
          "Node ID: 21<br>Pullback set label: 28<br>Partial cluster label: 0<br>Node size: 3751<br>Summary statistic: 0",
          "Node ID: 22<br>Pullback set label: 27<br>Partial cluster label: 0<br>Node size: 4036<br>Summary statistic: 0",
          "Node ID: 23<br>Pullback set label: 36<br>Partial cluster label: 0<br>Node size: 2089<br>Summary statistic: 0",
          "Node ID: 24<br>Pullback set label: 35<br>Partial cluster label: 0<br>Node size: 1170<br>Summary statistic: 0",
          "Node ID: 25<br>Pullback set label: 43<br>Partial cluster label: 0<br>Node size: 301<br>Summary statistic: 0",
          "Node ID: 26<br>Pullback set label: 21<br>Partial cluster label: 0<br>Node size: 1728<br>Summary statistic: 0",
          "Node ID: 27<br>Pullback set label: 31<br>Partial cluster label: 0<br>Node size: 652<br>Summary statistic: 0",
          "Node ID: 28<br>Pullback set label: 39<br>Partial cluster label: 0<br>Node size: 665<br>Summary statistic: 0",
          "Node ID: 29<br>Pullback set label: 48<br>Partial cluster label: 0<br>Node size: 657<br>Summary statistic: 0",
          "Node ID: 30<br>Pullback set label: 37<br>Partial cluster label: 0<br>Node size: 542<br>Summary statistic: 0",
          "Node ID: 31<br>Pullback set label: 45<br>Partial cluster label: 0<br>Node size: 189<br>Summary statistic: 0",
          "Node ID: 32<br>Pullback set label: 44<br>Partial cluster label: 0<br>Node size: 691<br>Summary statistic: 0",
          "Node ID: 33<br>Pullback set label: 52<br>Partial cluster label: 0<br>Node size: 141<br>Summary statistic: 0",
          "Node ID: 34<br>Pullback set label: 53<br>Partial cluster label: 0<br>Node size: 79<br>Summary statistic: 0",
          "Node ID: 35<br>Pullback set label: 18<br>Partial cluster label: 0<br>Node size: 992<br>Summary statistic: 0",
          "Node ID: 36<br>Pullback set label: 50<br>Partial cluster label: 0<br>Node size: 126<br>Summary statistic: 0",
          "Node ID: 37<br>Pullback set label: 1<br>Partial cluster label: 0<br>Node size: 1303<br>Summary statistic: 0",
          "Node ID: 38<br>Pullback set label: 3<br>Partial cluster label: 0<br>Node size: 76<br>Summary statistic: 0",
          "Node ID: 39<br>Pullback set label: 26<br>Partial cluster label: 0<br>Node size: 301<br>Summary statistic: 0",
          "Node ID: 40<br>Pullback set label: 61<br>Partial cluster label: 0<br>Node size: 69<br>Summary statistic: 0",
          "Node ID: 41<br>Pullback set label: 62<br>Partial cluster label: 0<br>Node size: 30<br>Summary statistic: 0",
          "Node ID: 42<br>Pullback set label: 47<br>Partial cluster label: 0<br>Node size: 29<br>Summary statistic: 0",
          "Node ID: 43<br>Pullback set label: 55<br>Partial cluster label: 0<br>Node size: 100<br>Summary statistic: 0",
          "Node ID: 44<br>Pullback set label: 24<br>Partial cluster label: 0<br>Node size: 95<br>Summary statistic: 0",
          "Node ID: 45<br>Pullback set label: 51<br>Partial cluster label: -1<br>Node size: 1<br>Summary statistic: 0",
          "Node ID: 46<br>Pullback set label: 29<br>Partial cluster label: 0<br>Node size: 169<br>Summary statistic: 0",
          "Node ID: 47<br>Pullback set label: 38<br>Partial cluster label: 0<br>Node size: 62<br>Summary statistic: 0",
          "Node ID: 48<br>Pullback set label: 54<br>Partial cluster label: 0<br>Node size: 13<br>Summary statistic: 0",
          "Node ID: 49<br>Pullback set label: 0<br>Partial cluster label: 0<br>Node size: 187<br>Summary statistic: 0",
          "Node ID: 50<br>Pullback set label: 34<br>Partial cluster label: 0<br>Node size: 50<br>Summary statistic: 0",
          "Node ID: 51<br>Pullback set label: 42<br>Partial cluster label: 0<br>Node size: 30<br>Summary statistic: 0",
          "Node ID: 52<br>Pullback set label: 2<br>Partial cluster label: 0<br>Node size: 45<br>Summary statistic: 0",
          "Node ID: 53<br>Pullback set label: 6<br>Partial cluster label: 0<br>Node size: 15<br>Summary statistic: 0",
          "Node ID: 54<br>Pullback set label: 10<br>Partial cluster label: 0<br>Node size: 7<br>Summary statistic: 0",
          "Node ID: 55<br>Pullback set label: 17<br>Partial cluster label: -1<br>Node size: 2<br>Summary statistic: 0",
          "Node ID: 56<br>Pullback set label: 25<br>Partial cluster label: -1<br>Node size: 3<br>Summary statistic: 0",
          "Node ID: 57<br>Pullback set label: 46<br>Partial cluster label: 0<br>Node size: 21<br>Summary statistic: 0",
          "Node ID: 58<br>Pullback set label: 59<br>Partial cluster label: 0<br>Node size: 8<br>Summary statistic: 0",
          "Node ID: 59<br>Pullback set label: 58<br>Partial cluster label: -1<br>Node size: 1<br>Summary statistic: 0",
          "Node ID: 60<br>Pullback set label: 11<br>Partial cluster label: -1<br>Node size: 1<br>Summary statistic: 0",
          "Node ID: 61<br>Pullback set label: 60<br>Partial cluster label: -1<br>Node size: 3<br>Summary statistic: 0",
          "Node ID: 62<br>Pullback set label: 30<br>Partial cluster label: -1<br>Node size: 1<br>Summary statistic: 0"
         ],
         "marker": {
          "color": [
           1,
           1,
           1,
           1,
           1,
           1,
           1,
           1,
           1,
           1,
           1,
           1,
           1,
           1,
           1,
           1,
           1,
           0,
           0,
           0,
           0,
           0,
           0,
           0,
           0,
           0,
           0,
           0,
           0,
           0,
           0,
           0,
           0,
           0,
           0,
           0,
           0,
           0,
           0,
           0,
           0,
           0,
           0,
           0,
           0,
           0,
           0,
           0,
           0,
           0,
           0,
           0,
           0,
           0,
           0,
           0,
           0,
           0,
           0,
           0,
           0,
           0,
           0
          ],
          "colorbar": {
           "thickness": 15,
           "title": {
            "side": "right",
            "text": ""
           },
           "xanchor": "left"
          },
          "colorscale": [
           [
            0,
            "#440154"
           ],
           [
            0.1111111111111111,
            "#482878"
           ],
           [
            0.2222222222222222,
            "#3e4989"
           ],
           [
            0.3333333333333333,
            "#31688e"
           ],
           [
            0.4444444444444444,
            "#26828e"
           ],
           [
            0.5555555555555556,
            "#1f9e89"
           ],
           [
            0.6666666666666666,
            "#35b779"
           ],
           [
            0.7777777777777778,
            "#6ece58"
           ],
           [
            0.8888888888888888,
            "#b5de2b"
           ],
           [
            1,
            "#fde725"
           ]
          ],
          "line": {
           "color": "#888",
           "width": 1
          },
          "opacity": 1,
          "reversescale": false,
          "showscale": true,
          "size": [
           3906,
           2347,
           2039,
           4691,
           559,
           5533,
           1874,
           2439,
           250,
           947,
           1091,
           505,
           874,
           331,
           630,
           540,
           138,
           6094,
           1289,
           11938,
           3737,
           3751,
           4036,
           2089,
           1170,
           301,
           1728,
           652,
           665,
           657,
           542,
           189,
           691,
           141,
           79,
           992,
           126,
           1303,
           76,
           301,
           69,
           30,
           29,
           100,
           95,
           1,
           169,
           62,
           13,
           187,
           50,
           30,
           45,
           15,
           7,
           2,
           3,
           21,
           8,
           1,
           1,
           3,
           1
          ],
          "sizemin": 4,
          "sizemode": "area",
          "sizeref": 26.52888888888889
         },
         "mode": "markers",
         "name": "node_trace",
         "type": "scatter",
         "uid": "e83d01cb-3ae2-44d7-9997-01c597e2a897",
         "x": [
          1.4382793358863317,
          0.8258221968849745,
          1.5297337291536655,
          0.9971730663944429,
          1.4274014685947647,
          0.6671809118520471,
          1.1476574737822711,
          0.8386681119358265,
          1.6027539482505626,
          1.3287487056048284,
          0.9927055041833894,
          1.4133676363104097,
          1.0505281195883933,
          1.476776666581253,
          1.0826308234565742,
          0.8127872531019827,
          1.1614382868522666,
          0.2372057361523154,
          0.009086016608310696,
          -0.42487667941717966,
          -0.45757668448058847,
          -1.0607126140000758,
          -0.9868206777613885,
          -1.572660170178835,
          -1.4795366139308845,
          -1.9740321368127651,
          0.47950970277754457,
          0.6222316437136666,
          0.6937944940308688,
          0.7572328871248667,
          -1.642844433763436,
          -2.2736107472618556,
          -2.15713682734284,
          -2.656443083792658,
          -2.878254699685846,
          -0.5258598621571441,
          1.563271590731531,
          1.9870703476734124,
          1.9860764706051732,
          -1.0717956564682454,
          0.5342169565327444,
          0.9655488161721663,
          0.33014548331187177,
          0.36017696393756754,
          1.7585924975135998,
          -2.3842935173281297,
          -1.1050300313109624,
          -1.6789309745145913,
          -3.061154787651869,
          1.623461951494887,
          1.812503584301799,
          1.9972587946742224,
          2.2148545840860177,
          1.6595118192142628,
          1.9251991943232047,
          2.1097878697103787,
          2.213201213399538,
          -2.387742545447429,
          -3.5493613063745295,
          -3.145361877743415,
          -0.07918554326356678,
          -3.6907794222719787,
          0.16503769963131756
         ],
         "y": [
          2.0313033294217813,
          1.640744472795784,
          1.6602834534667041,
          1.33879459578648,
          0.9714402480176734,
          0.91183442610257,
          0.5864252191305166,
          0.15001299881086183,
          0.27329429840489533,
          -0.13498076043103263,
          -0.5861577277559255,
          -0.8623528907832793,
          -1.3109673244663205,
          -1.5834735131785869,
          -2.0457396384867432,
          -2.5445570484190454,
          -2.7439997480720586,
          1.438865057455615,
          1.9509552239236048,
          1.8403308500634679,
          1.4538727328794097,
          1.866383839736908,
          2.2964322956428633,
          2.395548851708178,
          2.792553027232231,
          2.9779491308939527,
          0.4009171983215571,
          -0.26456509622920316,
          -1.136826463058017,
          -1.8365368917400398,
          1.9654571363208717,
          2.128253299411024,
          2.524758544457922,
          2.7754715809915966,
          2.2593531588690463,
          2.3368615127539205,
          -2.51121049748459,
          2.179896920546618,
          2.569954341166525,
          2.944873761243323,
          -3.1364504309815344,
          -3.247869918503426,
          -1.5593474559638343,
          -2.32362863915744,
          -0.4376380630594967,
          3.242197507302281,
          1.4773850322242694,
          1.410566077754117,
          1.5792548064885914,
          2.6609600341440065,
          -1.1312815042708309,
          -2.0728012466936576,
          1.8673599031655717,
          1.371755720905952,
          0.6936662750896143,
          -0.04062086215582682,
          -0.8378792405137507,
          1.467611099877891,
          2.458795712351924,
          3.285800311027737,
          2.5425674267290463,
          1.3394414418616682,
          -0.07932762613998805
         ]
        }
       ],
       "layout": {
        "autosize": false,
        "hovermode": "closest",
        "margin": {
         "b": 20,
         "l": 5,
         "r": 5,
         "t": 40
        },
        "showlegend": false,
        "template": {
         "data": {
          "bar": [
           {
            "error_x": {
             "color": "rgb(36,36,36)"
            },
            "error_y": {
             "color": "rgb(36,36,36)"
            },
            "marker": {
             "line": {
              "color": "white",
              "width": 0.5
             },
             "pattern": {
              "fillmode": "overlay",
              "size": 10,
              "solidity": 0.2
             }
            },
            "type": "bar"
           }
          ],
          "barpolar": [
           {
            "marker": {
             "line": {
              "color": "white",
              "width": 0.5
             },
             "pattern": {
              "fillmode": "overlay",
              "size": 10,
              "solidity": 0.2
             }
            },
            "type": "barpolar"
           }
          ],
          "carpet": [
           {
            "aaxis": {
             "endlinecolor": "rgb(36,36,36)",
             "gridcolor": "white",
             "linecolor": "white",
             "minorgridcolor": "white",
             "startlinecolor": "rgb(36,36,36)"
            },
            "baxis": {
             "endlinecolor": "rgb(36,36,36)",
             "gridcolor": "white",
             "linecolor": "white",
             "minorgridcolor": "white",
             "startlinecolor": "rgb(36,36,36)"
            },
            "type": "carpet"
           }
          ],
          "choropleth": [
           {
            "colorbar": {
             "outlinewidth": 1,
             "tickcolor": "rgb(36,36,36)",
             "ticks": "outside"
            },
            "type": "choropleth"
           }
          ],
          "contour": [
           {
            "colorbar": {
             "outlinewidth": 1,
             "tickcolor": "rgb(36,36,36)",
             "ticks": "outside"
            },
            "colorscale": [
             [
              0,
              "#440154"
             ],
             [
              0.1111111111111111,
              "#482878"
             ],
             [
              0.2222222222222222,
              "#3e4989"
             ],
             [
              0.3333333333333333,
              "#31688e"
             ],
             [
              0.4444444444444444,
              "#26828e"
             ],
             [
              0.5555555555555556,
              "#1f9e89"
             ],
             [
              0.6666666666666666,
              "#35b779"
             ],
             [
              0.7777777777777778,
              "#6ece58"
             ],
             [
              0.8888888888888888,
              "#b5de2b"
             ],
             [
              1,
              "#fde725"
             ]
            ],
            "type": "contour"
           }
          ],
          "contourcarpet": [
           {
            "colorbar": {
             "outlinewidth": 1,
             "tickcolor": "rgb(36,36,36)",
             "ticks": "outside"
            },
            "type": "contourcarpet"
           }
          ],
          "heatmap": [
           {
            "colorbar": {
             "outlinewidth": 1,
             "tickcolor": "rgb(36,36,36)",
             "ticks": "outside"
            },
            "colorscale": [
             [
              0,
              "#440154"
             ],
             [
              0.1111111111111111,
              "#482878"
             ],
             [
              0.2222222222222222,
              "#3e4989"
             ],
             [
              0.3333333333333333,
              "#31688e"
             ],
             [
              0.4444444444444444,
              "#26828e"
             ],
             [
              0.5555555555555556,
              "#1f9e89"
             ],
             [
              0.6666666666666666,
              "#35b779"
             ],
             [
              0.7777777777777778,
              "#6ece58"
             ],
             [
              0.8888888888888888,
              "#b5de2b"
             ],
             [
              1,
              "#fde725"
             ]
            ],
            "type": "heatmap"
           }
          ],
          "heatmapgl": [
           {
            "colorbar": {
             "outlinewidth": 1,
             "tickcolor": "rgb(36,36,36)",
             "ticks": "outside"
            },
            "colorscale": [
             [
              0,
              "#440154"
             ],
             [
              0.1111111111111111,
              "#482878"
             ],
             [
              0.2222222222222222,
              "#3e4989"
             ],
             [
              0.3333333333333333,
              "#31688e"
             ],
             [
              0.4444444444444444,
              "#26828e"
             ],
             [
              0.5555555555555556,
              "#1f9e89"
             ],
             [
              0.6666666666666666,
              "#35b779"
             ],
             [
              0.7777777777777778,
              "#6ece58"
             ],
             [
              0.8888888888888888,
              "#b5de2b"
             ],
             [
              1,
              "#fde725"
             ]
            ],
            "type": "heatmapgl"
           }
          ],
          "histogram": [
           {
            "marker": {
             "line": {
              "color": "white",
              "width": 0.6
             }
            },
            "type": "histogram"
           }
          ],
          "histogram2d": [
           {
            "colorbar": {
             "outlinewidth": 1,
             "tickcolor": "rgb(36,36,36)",
             "ticks": "outside"
            },
            "colorscale": [
             [
              0,
              "#440154"
             ],
             [
              0.1111111111111111,
              "#482878"
             ],
             [
              0.2222222222222222,
              "#3e4989"
             ],
             [
              0.3333333333333333,
              "#31688e"
             ],
             [
              0.4444444444444444,
              "#26828e"
             ],
             [
              0.5555555555555556,
              "#1f9e89"
             ],
             [
              0.6666666666666666,
              "#35b779"
             ],
             [
              0.7777777777777778,
              "#6ece58"
             ],
             [
              0.8888888888888888,
              "#b5de2b"
             ],
             [
              1,
              "#fde725"
             ]
            ],
            "type": "histogram2d"
           }
          ],
          "histogram2dcontour": [
           {
            "colorbar": {
             "outlinewidth": 1,
             "tickcolor": "rgb(36,36,36)",
             "ticks": "outside"
            },
            "colorscale": [
             [
              0,
              "#440154"
             ],
             [
              0.1111111111111111,
              "#482878"
             ],
             [
              0.2222222222222222,
              "#3e4989"
             ],
             [
              0.3333333333333333,
              "#31688e"
             ],
             [
              0.4444444444444444,
              "#26828e"
             ],
             [
              0.5555555555555556,
              "#1f9e89"
             ],
             [
              0.6666666666666666,
              "#35b779"
             ],
             [
              0.7777777777777778,
              "#6ece58"
             ],
             [
              0.8888888888888888,
              "#b5de2b"
             ],
             [
              1,
              "#fde725"
             ]
            ],
            "type": "histogram2dcontour"
           }
          ],
          "mesh3d": [
           {
            "colorbar": {
             "outlinewidth": 1,
             "tickcolor": "rgb(36,36,36)",
             "ticks": "outside"
            },
            "type": "mesh3d"
           }
          ],
          "parcoords": [
           {
            "line": {
             "colorbar": {
              "outlinewidth": 1,
              "tickcolor": "rgb(36,36,36)",
              "ticks": "outside"
             }
            },
            "type": "parcoords"
           }
          ],
          "pie": [
           {
            "automargin": true,
            "type": "pie"
           }
          ],
          "scatter": [
           {
            "marker": {
             "colorbar": {
              "outlinewidth": 1,
              "tickcolor": "rgb(36,36,36)",
              "ticks": "outside"
             }
            },
            "type": "scatter"
           }
          ],
          "scatter3d": [
           {
            "line": {
             "colorbar": {
              "outlinewidth": 1,
              "tickcolor": "rgb(36,36,36)",
              "ticks": "outside"
             }
            },
            "marker": {
             "colorbar": {
              "outlinewidth": 1,
              "tickcolor": "rgb(36,36,36)",
              "ticks": "outside"
             }
            },
            "type": "scatter3d"
           }
          ],
          "scattercarpet": [
           {
            "marker": {
             "colorbar": {
              "outlinewidth": 1,
              "tickcolor": "rgb(36,36,36)",
              "ticks": "outside"
             }
            },
            "type": "scattercarpet"
           }
          ],
          "scattergeo": [
           {
            "marker": {
             "colorbar": {
              "outlinewidth": 1,
              "tickcolor": "rgb(36,36,36)",
              "ticks": "outside"
             }
            },
            "type": "scattergeo"
           }
          ],
          "scattergl": [
           {
            "marker": {
             "colorbar": {
              "outlinewidth": 1,
              "tickcolor": "rgb(36,36,36)",
              "ticks": "outside"
             }
            },
            "type": "scattergl"
           }
          ],
          "scattermapbox": [
           {
            "marker": {
             "colorbar": {
              "outlinewidth": 1,
              "tickcolor": "rgb(36,36,36)",
              "ticks": "outside"
             }
            },
            "type": "scattermapbox"
           }
          ],
          "scatterpolar": [
           {
            "marker": {
             "colorbar": {
              "outlinewidth": 1,
              "tickcolor": "rgb(36,36,36)",
              "ticks": "outside"
             }
            },
            "type": "scatterpolar"
           }
          ],
          "scatterpolargl": [
           {
            "marker": {
             "colorbar": {
              "outlinewidth": 1,
              "tickcolor": "rgb(36,36,36)",
              "ticks": "outside"
             }
            },
            "type": "scatterpolargl"
           }
          ],
          "scatterternary": [
           {
            "marker": {
             "colorbar": {
              "outlinewidth": 1,
              "tickcolor": "rgb(36,36,36)",
              "ticks": "outside"
             }
            },
            "type": "scatterternary"
           }
          ],
          "surface": [
           {
            "colorbar": {
             "outlinewidth": 1,
             "tickcolor": "rgb(36,36,36)",
             "ticks": "outside"
            },
            "colorscale": [
             [
              0,
              "#440154"
             ],
             [
              0.1111111111111111,
              "#482878"
             ],
             [
              0.2222222222222222,
              "#3e4989"
             ],
             [
              0.3333333333333333,
              "#31688e"
             ],
             [
              0.4444444444444444,
              "#26828e"
             ],
             [
              0.5555555555555556,
              "#1f9e89"
             ],
             [
              0.6666666666666666,
              "#35b779"
             ],
             [
              0.7777777777777778,
              "#6ece58"
             ],
             [
              0.8888888888888888,
              "#b5de2b"
             ],
             [
              1,
              "#fde725"
             ]
            ],
            "type": "surface"
           }
          ],
          "table": [
           {
            "cells": {
             "fill": {
              "color": "rgb(237,237,237)"
             },
             "line": {
              "color": "white"
             }
            },
            "header": {
             "fill": {
              "color": "rgb(217,217,217)"
             },
             "line": {
              "color": "white"
             }
            },
            "type": "table"
           }
          ]
         },
         "layout": {
          "annotationdefaults": {
           "arrowhead": 0,
           "arrowwidth": 1
          },
          "autotypenumbers": "strict",
          "coloraxis": {
           "colorbar": {
            "outlinewidth": 1,
            "tickcolor": "rgb(36,36,36)",
            "ticks": "outside"
           }
          },
          "colorscale": {
           "diverging": [
            [
             0,
             "rgb(103,0,31)"
            ],
            [
             0.1,
             "rgb(178,24,43)"
            ],
            [
             0.2,
             "rgb(214,96,77)"
            ],
            [
             0.3,
             "rgb(244,165,130)"
            ],
            [
             0.4,
             "rgb(253,219,199)"
            ],
            [
             0.5,
             "rgb(247,247,247)"
            ],
            [
             0.6,
             "rgb(209,229,240)"
            ],
            [
             0.7,
             "rgb(146,197,222)"
            ],
            [
             0.8,
             "rgb(67,147,195)"
            ],
            [
             0.9,
             "rgb(33,102,172)"
            ],
            [
             1,
             "rgb(5,48,97)"
            ]
           ],
           "sequential": [
            [
             0,
             "#440154"
            ],
            [
             0.1111111111111111,
             "#482878"
            ],
            [
             0.2222222222222222,
             "#3e4989"
            ],
            [
             0.3333333333333333,
             "#31688e"
            ],
            [
             0.4444444444444444,
             "#26828e"
            ],
            [
             0.5555555555555556,
             "#1f9e89"
            ],
            [
             0.6666666666666666,
             "#35b779"
            ],
            [
             0.7777777777777778,
             "#6ece58"
            ],
            [
             0.8888888888888888,
             "#b5de2b"
            ],
            [
             1,
             "#fde725"
            ]
           ],
           "sequentialminus": [
            [
             0,
             "#440154"
            ],
            [
             0.1111111111111111,
             "#482878"
            ],
            [
             0.2222222222222222,
             "#3e4989"
            ],
            [
             0.3333333333333333,
             "#31688e"
            ],
            [
             0.4444444444444444,
             "#26828e"
            ],
            [
             0.5555555555555556,
             "#1f9e89"
            ],
            [
             0.6666666666666666,
             "#35b779"
            ],
            [
             0.7777777777777778,
             "#6ece58"
            ],
            [
             0.8888888888888888,
             "#b5de2b"
            ],
            [
             1,
             "#fde725"
            ]
           ]
          },
          "colorway": [
           "#1F77B4",
           "#FF7F0E",
           "#2CA02C",
           "#D62728",
           "#9467BD",
           "#8C564B",
           "#E377C2",
           "#7F7F7F",
           "#BCBD22",
           "#17BECF"
          ],
          "font": {
           "color": "rgb(36,36,36)"
          },
          "geo": {
           "bgcolor": "white",
           "lakecolor": "white",
           "landcolor": "white",
           "showlakes": true,
           "showland": true,
           "subunitcolor": "white"
          },
          "hoverlabel": {
           "align": "left"
          },
          "hovermode": "closest",
          "mapbox": {
           "style": "light"
          },
          "paper_bgcolor": "white",
          "plot_bgcolor": "white",
          "polar": {
           "angularaxis": {
            "gridcolor": "rgb(232,232,232)",
            "linecolor": "rgb(36,36,36)",
            "showgrid": false,
            "showline": true,
            "ticks": "outside"
           },
           "bgcolor": "white",
           "radialaxis": {
            "gridcolor": "rgb(232,232,232)",
            "linecolor": "rgb(36,36,36)",
            "showgrid": false,
            "showline": true,
            "ticks": "outside"
           }
          },
          "scene": {
           "xaxis": {
            "backgroundcolor": "white",
            "gridcolor": "rgb(232,232,232)",
            "gridwidth": 2,
            "linecolor": "rgb(36,36,36)",
            "showbackground": true,
            "showgrid": false,
            "showline": true,
            "ticks": "outside",
            "zeroline": false,
            "zerolinecolor": "rgb(36,36,36)"
           },
           "yaxis": {
            "backgroundcolor": "white",
            "gridcolor": "rgb(232,232,232)",
            "gridwidth": 2,
            "linecolor": "rgb(36,36,36)",
            "showbackground": true,
            "showgrid": false,
            "showline": true,
            "ticks": "outside",
            "zeroline": false,
            "zerolinecolor": "rgb(36,36,36)"
           },
           "zaxis": {
            "backgroundcolor": "white",
            "gridcolor": "rgb(232,232,232)",
            "gridwidth": 2,
            "linecolor": "rgb(36,36,36)",
            "showbackground": true,
            "showgrid": false,
            "showline": true,
            "ticks": "outside",
            "zeroline": false,
            "zerolinecolor": "rgb(36,36,36)"
           }
          },
          "shapedefaults": {
           "fillcolor": "black",
           "line": {
            "width": 0
           },
           "opacity": 0.3
          },
          "ternary": {
           "aaxis": {
            "gridcolor": "rgb(232,232,232)",
            "linecolor": "rgb(36,36,36)",
            "showgrid": false,
            "showline": true,
            "ticks": "outside"
           },
           "baxis": {
            "gridcolor": "rgb(232,232,232)",
            "linecolor": "rgb(36,36,36)",
            "showgrid": false,
            "showline": true,
            "ticks": "outside"
           },
           "bgcolor": "white",
           "caxis": {
            "gridcolor": "rgb(232,232,232)",
            "linecolor": "rgb(36,36,36)",
            "showgrid": false,
            "showline": true,
            "ticks": "outside"
           }
          },
          "title": {
           "x": 0.05
          },
          "xaxis": {
           "automargin": true,
           "gridcolor": "rgb(232,232,232)",
           "linecolor": "rgb(36,36,36)",
           "showgrid": false,
           "showline": true,
           "ticks": "outside",
           "title": {
            "standoff": 15
           },
           "zeroline": false,
           "zerolinecolor": "rgb(36,36,36)"
          },
          "yaxis": {
           "automargin": true,
           "gridcolor": "rgb(232,232,232)",
           "linecolor": "rgb(36,36,36)",
           "showgrid": false,
           "showline": true,
           "ticks": "outside",
           "title": {
            "standoff": 15
           },
           "zeroline": false,
           "zerolinecolor": "rgb(36,36,36)"
          }
         }
        },
        "title": {
         "text": ""
        },
        "xaxis": {
         "showgrid": false,
         "showline": false,
         "showticklabels": false,
         "ticks": "",
         "title": {
          "text": ""
         },
         "zeroline": false
        },
        "yaxis": {
         "showgrid": false,
         "showline": false,
         "showticklabels": false,
         "ticks": "",
         "title": {
          "text": ""
         },
         "zeroline": false
        }
       }
      }
     },
     "metadata": {},
     "output_type": "display_data"
    }
   ],
   "source": [
    "fig = plot_static_mapper_graph(pipe, X, layout_dim=2, color_data = color_code_id, node_color_statistic=lambda x: max(x), node_scale = 30)\n",
    "fig.show(config={'scrollZoom': True})\n",
    "#layout=\"fruchterman_reingold\""
   ]
  },
  {
   "cell_type": "code",
   "execution_count": 182,
   "id": "51e9ffc8",
   "metadata": {},
   "outputs": [
    {
     "data": {
      "application/vnd.plotly.v1+json": {
       "config": {
        "plotlyServerURL": "https://plot.ly",
        "scrollZoom": true
       },
       "data": [
        {
         "hoverinfo": "none",
         "line": {
          "color": "#888",
          "width": 1
         },
         "mode": "lines",
         "name": "edge_trace",
         "type": "scatter",
         "uid": "8610b331-bbf5-4890-be7e-8e195adf8b15",
         "x": [
          1.4382793358863317,
          0.8258221968849745,
          null,
          1.4382793358863317,
          1.5297337291536655,
          null,
          1.4382793358863317,
          0.9971730663944429,
          null,
          1.4382793358863317,
          1.9870703476734124,
          null,
          1.4382793358863317,
          1.9860764706051732,
          null,
          1.4382793358863317,
          1.623461951494887,
          null,
          1.4382793358863317,
          2.2148545840860177,
          null,
          0.8258221968849745,
          1.5297337291536655,
          null,
          0.8258221968849745,
          0.9971730663944429,
          null,
          0.8258221968849745,
          0.6671809118520471,
          null,
          0.8258221968849745,
          0.2372057361523154,
          null,
          1.5297337291536655,
          0.9971730663944429,
          null,
          1.5297337291536655,
          1.4274014685947647,
          null,
          1.5297337291536655,
          1.9870703476734124,
          null,
          1.5297337291536655,
          2.2148545840860177,
          null,
          1.5297337291536655,
          1.6595118192142628,
          null,
          0.9971730663944429,
          1.4274014685947647,
          null,
          0.9971730663944429,
          0.6671809118520471,
          null,
          0.9971730663944429,
          1.1476574737822711,
          null,
          0.9971730663944429,
          0.2372057361523154,
          null,
          0.9971730663944429,
          1.6595118192142628,
          null,
          1.4274014685947647,
          0.6671809118520471,
          null,
          1.4274014685947647,
          1.1476574737822711,
          null,
          1.4274014685947647,
          1.6027539482505626,
          null,
          1.4274014685947647,
          1.6595118192142628,
          null,
          1.4274014685947647,
          1.9251991943232047,
          null,
          0.6671809118520471,
          1.1476574737822711,
          null,
          0.6671809118520471,
          0.8386681119358265,
          null,
          0.6671809118520471,
          0.2372057361523154,
          null,
          0.6671809118520471,
          0.47950970277754457,
          null,
          1.1476574737822711,
          0.8386681119358265,
          null,
          1.1476574737822711,
          1.6027539482505626,
          null,
          1.1476574737822711,
          1.3287487056048284,
          null,
          1.1476574737822711,
          0.47950970277754457,
          null,
          1.1476574737822711,
          1.9251991943232047,
          null,
          0.8386681119358265,
          1.6027539482505626,
          null,
          0.8386681119358265,
          1.3287487056048284,
          null,
          0.8386681119358265,
          0.9927055041833894,
          null,
          0.8386681119358265,
          0.47950970277754457,
          null,
          0.8386681119358265,
          0.6222316437136666,
          null,
          0.8386681119358265,
          0.16503769963131756,
          null,
          1.6027539482505626,
          1.3287487056048284,
          null,
          1.6027539482505626,
          1.7585924975135998,
          null,
          1.6027539482505626,
          1.9251991943232047,
          null,
          1.6027539482505626,
          2.1097878697103787,
          null,
          1.3287487056048284,
          0.9927055041833894,
          null,
          1.3287487056048284,
          1.4133676363104097,
          null,
          1.3287487056048284,
          0.6222316437136666,
          null,
          1.3287487056048284,
          1.7585924975135998,
          null,
          1.3287487056048284,
          2.1097878697103787,
          null,
          0.9927055041833894,
          1.4133676363104097,
          null,
          0.9927055041833894,
          1.0505281195883933,
          null,
          0.9927055041833894,
          0.6222316437136666,
          null,
          0.9927055041833894,
          0.6937944940308688,
          null,
          0.9927055041833894,
          1.7585924975135998,
          null,
          1.4133676363104097,
          1.0505281195883933,
          null,
          1.4133676363104097,
          1.476776666581253,
          null,
          1.4133676363104097,
          0.6937944940308688,
          null,
          1.4133676363104097,
          1.7585924975135998,
          null,
          1.4133676363104097,
          1.812503584301799,
          null,
          1.4133676363104097,
          2.213201213399538,
          null,
          1.0505281195883933,
          1.476776666581253,
          null,
          1.0505281195883933,
          1.0826308234565742,
          null,
          1.0505281195883933,
          0.6937944940308688,
          null,
          1.0505281195883933,
          0.7572328871248667,
          null,
          1.0505281195883933,
          0.33014548331187177,
          null,
          1.0505281195883933,
          1.812503584301799,
          null,
          1.476776666581253,
          1.0826308234565742,
          null,
          1.476776666581253,
          0.7572328871248667,
          null,
          1.476776666581253,
          1.812503584301799,
          null,
          1.476776666581253,
          1.9972587946742224,
          null,
          1.0826308234565742,
          0.8127872531019827,
          null,
          1.0826308234565742,
          1.1614382868522666,
          null,
          1.0826308234565742,
          0.7572328871248667,
          null,
          1.0826308234565742,
          1.563271590731531,
          null,
          1.0826308234565742,
          0.36017696393756754,
          null,
          0.8127872531019827,
          1.1614382868522666,
          null,
          0.8127872531019827,
          0.7572328871248667,
          null,
          0.8127872531019827,
          1.563271590731531,
          null,
          0.8127872531019827,
          0.5342169565327444,
          null,
          0.8127872531019827,
          0.9655488161721663,
          null,
          0.8127872531019827,
          0.36017696393756754,
          null,
          1.1614382868522666,
          1.563271590731531,
          null,
          1.1614382868522666,
          0.5342169565327444,
          null,
          1.1614382868522666,
          0.9655488161721663,
          null,
          0.2372057361523154,
          0.009086016608310696,
          null,
          0.2372057361523154,
          -0.42487667941717966,
          null,
          0.2372057361523154,
          -0.45757668448058847,
          null,
          0.009086016608310696,
          -0.42487667941717966,
          null,
          0.009086016608310696,
          -0.45757668448058847,
          null,
          0.009086016608310696,
          -0.5258598621571441,
          null,
          0.009086016608310696,
          -0.07918554326356678,
          null,
          -0.42487667941717966,
          -0.45757668448058847,
          null,
          -0.42487667941717966,
          -1.0607126140000758,
          null,
          -0.42487667941717966,
          -0.9868206777613885,
          null,
          -0.42487667941717966,
          -0.5258598621571441,
          null,
          -0.42487667941717966,
          -1.1050300313109624,
          null,
          -0.42487667941717966,
          -0.07918554326356678,
          null,
          -0.45757668448058847,
          -1.0607126140000758,
          null,
          -0.45757668448058847,
          -1.1050300313109624,
          null,
          -1.0607126140000758,
          -0.9868206777613885,
          null,
          -1.0607126140000758,
          -1.572660170178835,
          null,
          -1.0607126140000758,
          -1.642844433763436,
          null,
          -1.0607126140000758,
          -0.5258598621571441,
          null,
          -1.0607126140000758,
          -1.1050300313109624,
          null,
          -1.0607126140000758,
          -1.6789309745145913,
          null,
          -0.9868206777613885,
          -1.572660170178835,
          null,
          -0.9868206777613885,
          -1.4795366139308845,
          null,
          -0.9868206777613885,
          -1.642844433763436,
          null,
          -0.9868206777613885,
          -0.5258598621571441,
          null,
          -0.9868206777613885,
          -1.0717956564682454,
          null,
          -1.572660170178835,
          -1.4795366139308845,
          null,
          -1.572660170178835,
          -1.9740321368127651,
          null,
          -1.572660170178835,
          -1.642844433763436,
          null,
          -1.572660170178835,
          -2.2736107472618556,
          null,
          -1.572660170178835,
          -2.15713682734284,
          null,
          -1.572660170178835,
          -1.0717956564682454,
          null,
          -1.4795366139308845,
          -1.9740321368127651,
          null,
          -1.4795366139308845,
          -2.15713682734284,
          null,
          -1.4795366139308845,
          -1.0717956564682454,
          null,
          -1.9740321368127651,
          -2.15713682734284,
          null,
          -1.9740321368127651,
          -2.656443083792658,
          null,
          -1.9740321368127651,
          -2.3842935173281297,
          null,
          0.47950970277754457,
          0.6222316437136666,
          null,
          0.47950970277754457,
          0.16503769963131756,
          null,
          0.6222316437136666,
          0.16503769963131756,
          null,
          0.6937944940308688,
          0.7572328871248667,
          null,
          0.6937944940308688,
          0.33014548331187177,
          null,
          0.7572328871248667,
          0.33014548331187177,
          null,
          0.7572328871248667,
          0.36017696393756754,
          null,
          -1.642844433763436,
          -2.2736107472618556,
          null,
          -1.642844433763436,
          -2.15713682734284,
          null,
          -1.642844433763436,
          -1.1050300313109624,
          null,
          -1.642844433763436,
          -1.6789309745145913,
          null,
          -2.2736107472618556,
          -2.15713682734284,
          null,
          -2.2736107472618556,
          -2.656443083792658,
          null,
          -2.2736107472618556,
          -2.878254699685846,
          null,
          -2.2736107472618556,
          -2.387742545447429,
          null,
          -2.15713682734284,
          -2.656443083792658,
          null,
          -2.15713682734284,
          -2.878254699685846,
          null,
          -2.15713682734284,
          -2.3842935173281297,
          null,
          -2.656443083792658,
          -2.878254699685846,
          null,
          -2.656443083792658,
          -2.3842935173281297,
          null,
          -2.656443083792658,
          -3.145361877743415,
          null,
          -2.878254699685846,
          -3.061154787651869,
          null,
          -2.878254699685846,
          -3.5493613063745295,
          null,
          -0.5258598621571441,
          -0.07918554326356678,
          null,
          1.563271590731531,
          1.9972587946742224,
          null,
          1.9870703476734124,
          1.9860764706051732,
          null,
          1.9870703476734124,
          1.623461951494887,
          null,
          1.9870703476734124,
          2.2148545840860177,
          null,
          1.9860764706051732,
          1.623461951494887,
          null,
          0.5342169565327444,
          0.9655488161721663,
          null,
          1.7585924975135998,
          1.812503584301799,
          null,
          1.7585924975135998,
          2.1097878697103787,
          null,
          1.7585924975135998,
          2.213201213399538,
          null,
          -1.1050300313109624,
          -1.6789309745145913,
          null,
          -1.6789309745145913,
          -2.387742545447429,
          null,
          -3.061154787651869,
          -2.387742545447429,
          null,
          -3.061154787651869,
          -3.6907794222719787,
          null,
          1.812503584301799,
          2.213201213399538,
          null
         ],
         "y": [
          2.0313033294217813,
          1.640744472795784,
          null,
          2.0313033294217813,
          1.6602834534667041,
          null,
          2.0313033294217813,
          1.33879459578648,
          null,
          2.0313033294217813,
          2.179896920546618,
          null,
          2.0313033294217813,
          2.569954341166525,
          null,
          2.0313033294217813,
          2.6609600341440065,
          null,
          2.0313033294217813,
          1.8673599031655717,
          null,
          1.640744472795784,
          1.6602834534667041,
          null,
          1.640744472795784,
          1.33879459578648,
          null,
          1.640744472795784,
          0.91183442610257,
          null,
          1.640744472795784,
          1.438865057455615,
          null,
          1.6602834534667041,
          1.33879459578648,
          null,
          1.6602834534667041,
          0.9714402480176734,
          null,
          1.6602834534667041,
          2.179896920546618,
          null,
          1.6602834534667041,
          1.8673599031655717,
          null,
          1.6602834534667041,
          1.371755720905952,
          null,
          1.33879459578648,
          0.9714402480176734,
          null,
          1.33879459578648,
          0.91183442610257,
          null,
          1.33879459578648,
          0.5864252191305166,
          null,
          1.33879459578648,
          1.438865057455615,
          null,
          1.33879459578648,
          1.371755720905952,
          null,
          0.9714402480176734,
          0.91183442610257,
          null,
          0.9714402480176734,
          0.5864252191305166,
          null,
          0.9714402480176734,
          0.27329429840489533,
          null,
          0.9714402480176734,
          1.371755720905952,
          null,
          0.9714402480176734,
          0.6936662750896143,
          null,
          0.91183442610257,
          0.5864252191305166,
          null,
          0.91183442610257,
          0.15001299881086183,
          null,
          0.91183442610257,
          1.438865057455615,
          null,
          0.91183442610257,
          0.4009171983215571,
          null,
          0.5864252191305166,
          0.15001299881086183,
          null,
          0.5864252191305166,
          0.27329429840489533,
          null,
          0.5864252191305166,
          -0.13498076043103263,
          null,
          0.5864252191305166,
          0.4009171983215571,
          null,
          0.5864252191305166,
          0.6936662750896143,
          null,
          0.15001299881086183,
          0.27329429840489533,
          null,
          0.15001299881086183,
          -0.13498076043103263,
          null,
          0.15001299881086183,
          -0.5861577277559255,
          null,
          0.15001299881086183,
          0.4009171983215571,
          null,
          0.15001299881086183,
          -0.26456509622920316,
          null,
          0.15001299881086183,
          -0.07932762613998805,
          null,
          0.27329429840489533,
          -0.13498076043103263,
          null,
          0.27329429840489533,
          -0.4376380630594967,
          null,
          0.27329429840489533,
          0.6936662750896143,
          null,
          0.27329429840489533,
          -0.04062086215582682,
          null,
          -0.13498076043103263,
          -0.5861577277559255,
          null,
          -0.13498076043103263,
          -0.8623528907832793,
          null,
          -0.13498076043103263,
          -0.26456509622920316,
          null,
          -0.13498076043103263,
          -0.4376380630594967,
          null,
          -0.13498076043103263,
          -0.04062086215582682,
          null,
          -0.5861577277559255,
          -0.8623528907832793,
          null,
          -0.5861577277559255,
          -1.3109673244663205,
          null,
          -0.5861577277559255,
          -0.26456509622920316,
          null,
          -0.5861577277559255,
          -1.136826463058017,
          null,
          -0.5861577277559255,
          -0.4376380630594967,
          null,
          -0.8623528907832793,
          -1.3109673244663205,
          null,
          -0.8623528907832793,
          -1.5834735131785869,
          null,
          -0.8623528907832793,
          -1.136826463058017,
          null,
          -0.8623528907832793,
          -0.4376380630594967,
          null,
          -0.8623528907832793,
          -1.1312815042708309,
          null,
          -0.8623528907832793,
          -0.8378792405137507,
          null,
          -1.3109673244663205,
          -1.5834735131785869,
          null,
          -1.3109673244663205,
          -2.0457396384867432,
          null,
          -1.3109673244663205,
          -1.136826463058017,
          null,
          -1.3109673244663205,
          -1.8365368917400398,
          null,
          -1.3109673244663205,
          -1.5593474559638343,
          null,
          -1.3109673244663205,
          -1.1312815042708309,
          null,
          -1.5834735131785869,
          -2.0457396384867432,
          null,
          -1.5834735131785869,
          -1.8365368917400398,
          null,
          -1.5834735131785869,
          -1.1312815042708309,
          null,
          -1.5834735131785869,
          -2.0728012466936576,
          null,
          -2.0457396384867432,
          -2.5445570484190454,
          null,
          -2.0457396384867432,
          -2.7439997480720586,
          null,
          -2.0457396384867432,
          -1.8365368917400398,
          null,
          -2.0457396384867432,
          -2.51121049748459,
          null,
          -2.0457396384867432,
          -2.32362863915744,
          null,
          -2.5445570484190454,
          -2.7439997480720586,
          null,
          -2.5445570484190454,
          -1.8365368917400398,
          null,
          -2.5445570484190454,
          -2.51121049748459,
          null,
          -2.5445570484190454,
          -3.1364504309815344,
          null,
          -2.5445570484190454,
          -3.247869918503426,
          null,
          -2.5445570484190454,
          -2.32362863915744,
          null,
          -2.7439997480720586,
          -2.51121049748459,
          null,
          -2.7439997480720586,
          -3.1364504309815344,
          null,
          -2.7439997480720586,
          -3.247869918503426,
          null,
          1.438865057455615,
          1.9509552239236048,
          null,
          1.438865057455615,
          1.8403308500634679,
          null,
          1.438865057455615,
          1.4538727328794097,
          null,
          1.9509552239236048,
          1.8403308500634679,
          null,
          1.9509552239236048,
          1.4538727328794097,
          null,
          1.9509552239236048,
          2.3368615127539205,
          null,
          1.9509552239236048,
          2.5425674267290463,
          null,
          1.8403308500634679,
          1.4538727328794097,
          null,
          1.8403308500634679,
          1.866383839736908,
          null,
          1.8403308500634679,
          2.2964322956428633,
          null,
          1.8403308500634679,
          2.3368615127539205,
          null,
          1.8403308500634679,
          1.4773850322242694,
          null,
          1.8403308500634679,
          2.5425674267290463,
          null,
          1.4538727328794097,
          1.866383839736908,
          null,
          1.4538727328794097,
          1.4773850322242694,
          null,
          1.866383839736908,
          2.2964322956428633,
          null,
          1.866383839736908,
          2.395548851708178,
          null,
          1.866383839736908,
          1.9654571363208717,
          null,
          1.866383839736908,
          2.3368615127539205,
          null,
          1.866383839736908,
          1.4773850322242694,
          null,
          1.866383839736908,
          1.410566077754117,
          null,
          2.2964322956428633,
          2.395548851708178,
          null,
          2.2964322956428633,
          2.792553027232231,
          null,
          2.2964322956428633,
          1.9654571363208717,
          null,
          2.2964322956428633,
          2.3368615127539205,
          null,
          2.2964322956428633,
          2.944873761243323,
          null,
          2.395548851708178,
          2.792553027232231,
          null,
          2.395548851708178,
          2.9779491308939527,
          null,
          2.395548851708178,
          1.9654571363208717,
          null,
          2.395548851708178,
          2.128253299411024,
          null,
          2.395548851708178,
          2.524758544457922,
          null,
          2.395548851708178,
          2.944873761243323,
          null,
          2.792553027232231,
          2.9779491308939527,
          null,
          2.792553027232231,
          2.524758544457922,
          null,
          2.792553027232231,
          2.944873761243323,
          null,
          2.9779491308939527,
          2.524758544457922,
          null,
          2.9779491308939527,
          2.7754715809915966,
          null,
          2.9779491308939527,
          3.242197507302281,
          null,
          0.4009171983215571,
          -0.26456509622920316,
          null,
          0.4009171983215571,
          -0.07932762613998805,
          null,
          -0.26456509622920316,
          -0.07932762613998805,
          null,
          -1.136826463058017,
          -1.8365368917400398,
          null,
          -1.136826463058017,
          -1.5593474559638343,
          null,
          -1.8365368917400398,
          -1.5593474559638343,
          null,
          -1.8365368917400398,
          -2.32362863915744,
          null,
          1.9654571363208717,
          2.128253299411024,
          null,
          1.9654571363208717,
          2.524758544457922,
          null,
          1.9654571363208717,
          1.4773850322242694,
          null,
          1.9654571363208717,
          1.410566077754117,
          null,
          2.128253299411024,
          2.524758544457922,
          null,
          2.128253299411024,
          2.7754715809915966,
          null,
          2.128253299411024,
          2.2593531588690463,
          null,
          2.128253299411024,
          1.467611099877891,
          null,
          2.524758544457922,
          2.7754715809915966,
          null,
          2.524758544457922,
          2.2593531588690463,
          null,
          2.524758544457922,
          3.242197507302281,
          null,
          2.7754715809915966,
          2.2593531588690463,
          null,
          2.7754715809915966,
          3.242197507302281,
          null,
          2.7754715809915966,
          3.285800311027737,
          null,
          2.2593531588690463,
          1.5792548064885914,
          null,
          2.2593531588690463,
          2.458795712351924,
          null,
          2.3368615127539205,
          2.5425674267290463,
          null,
          -2.51121049748459,
          -2.0728012466936576,
          null,
          2.179896920546618,
          2.569954341166525,
          null,
          2.179896920546618,
          2.6609600341440065,
          null,
          2.179896920546618,
          1.8673599031655717,
          null,
          2.569954341166525,
          2.6609600341440065,
          null,
          -3.1364504309815344,
          -3.247869918503426,
          null,
          -0.4376380630594967,
          -1.1312815042708309,
          null,
          -0.4376380630594967,
          -0.04062086215582682,
          null,
          -0.4376380630594967,
          -0.8378792405137507,
          null,
          1.4773850322242694,
          1.410566077754117,
          null,
          1.410566077754117,
          1.467611099877891,
          null,
          1.5792548064885914,
          1.467611099877891,
          null,
          1.5792548064885914,
          1.3394414418616682,
          null,
          -1.1312815042708309,
          -0.8378792405137507,
          null
         ]
        },
        {
         "hoverinfo": "text",
         "hovertext": [
          "Node ID: 0<br>Pullback set label: 4<br>Partial cluster label: 0<br>Node size: 3906<br>Summary statistic: 1.0",
          "Node ID: 1<br>Pullback set label: 7<br>Partial cluster label: 0<br>Node size: 2347<br>Summary statistic: 0.988",
          "Node ID: 2<br>Pullback set label: 5<br>Partial cluster label: 0<br>Node size: 2039<br>Summary statistic: 1.0",
          "Node ID: 3<br>Pullback set label: 8<br>Partial cluster label: 0<br>Node size: 4691<br>Summary statistic: 1.0",
          "Node ID: 4<br>Pullback set label: 9<br>Partial cluster label: 0<br>Node size: 559<br>Summary statistic: 1.0",
          "Node ID: 5<br>Pullback set label: 14<br>Partial cluster label: 0<br>Node size: 5533<br>Summary statistic: 0.999",
          "Node ID: 6<br>Pullback set label: 15<br>Partial cluster label: 0<br>Node size: 1874<br>Summary statistic: 1.0",
          "Node ID: 7<br>Pullback set label: 22<br>Partial cluster label: 0<br>Node size: 2439<br>Summary statistic: 1.0",
          "Node ID: 8<br>Pullback set label: 16<br>Partial cluster label: 0<br>Node size: 250<br>Summary statistic: 1.0",
          "Node ID: 9<br>Pullback set label: 23<br>Partial cluster label: 0<br>Node size: 947<br>Summary statistic: 1.0",
          "Node ID: 10<br>Pullback set label: 32<br>Partial cluster label: 0<br>Node size: 1091<br>Summary statistic: 1.0",
          "Node ID: 11<br>Pullback set label: 33<br>Partial cluster label: 0<br>Node size: 505<br>Summary statistic: 1.0",
          "Node ID: 12<br>Pullback set label: 40<br>Partial cluster label: 0<br>Node size: 874<br>Summary statistic: 1.0",
          "Node ID: 13<br>Pullback set label: 41<br>Partial cluster label: 0<br>Node size: 331<br>Summary statistic: 1.0",
          "Node ID: 14<br>Pullback set label: 49<br>Partial cluster label: 0<br>Node size: 630<br>Summary statistic: 1.0",
          "Node ID: 15<br>Pullback set label: 56<br>Partial cluster label: 0<br>Node size: 540<br>Summary statistic: 1.0",
          "Node ID: 16<br>Pullback set label: 57<br>Partial cluster label: 0<br>Node size: 138<br>Summary statistic: 1.0",
          "Node ID: 17<br>Pullback set label: 13<br>Partial cluster label: 0<br>Node size: 6094<br>Summary statistic: 0.143",
          "Node ID: 18<br>Pullback set label: 12<br>Partial cluster label: 0<br>Node size: 1289<br>Summary statistic: 0",
          "Node ID: 19<br>Pullback set label: 19<br>Partial cluster label: 0<br>Node size: 11938<br>Summary statistic: 0",
          "Node ID: 20<br>Pullback set label: 20<br>Partial cluster label: 0<br>Node size: 3737<br>Summary statistic: 0",
          "Node ID: 21<br>Pullback set label: 28<br>Partial cluster label: 0<br>Node size: 3751<br>Summary statistic: 0",
          "Node ID: 22<br>Pullback set label: 27<br>Partial cluster label: 0<br>Node size: 4036<br>Summary statistic: 0",
          "Node ID: 23<br>Pullback set label: 36<br>Partial cluster label: 0<br>Node size: 2089<br>Summary statistic: 0",
          "Node ID: 24<br>Pullback set label: 35<br>Partial cluster label: 0<br>Node size: 1170<br>Summary statistic: 0",
          "Node ID: 25<br>Pullback set label: 43<br>Partial cluster label: 0<br>Node size: 301<br>Summary statistic: 0",
          "Node ID: 26<br>Pullback set label: 21<br>Partial cluster label: 0<br>Node size: 1728<br>Summary statistic: 1.0",
          "Node ID: 27<br>Pullback set label: 31<br>Partial cluster label: 0<br>Node size: 652<br>Summary statistic: 1.0",
          "Node ID: 28<br>Pullback set label: 39<br>Partial cluster label: 0<br>Node size: 665<br>Summary statistic: 1.0",
          "Node ID: 29<br>Pullback set label: 48<br>Partial cluster label: 0<br>Node size: 657<br>Summary statistic: 1.0",
          "Node ID: 30<br>Pullback set label: 37<br>Partial cluster label: 0<br>Node size: 542<br>Summary statistic: 0",
          "Node ID: 31<br>Pullback set label: 45<br>Partial cluster label: 0<br>Node size: 189<br>Summary statistic: 0",
          "Node ID: 32<br>Pullback set label: 44<br>Partial cluster label: 0<br>Node size: 691<br>Summary statistic: 0",
          "Node ID: 33<br>Pullback set label: 52<br>Partial cluster label: 0<br>Node size: 141<br>Summary statistic: 0",
          "Node ID: 34<br>Pullback set label: 53<br>Partial cluster label: 0<br>Node size: 79<br>Summary statistic: 0",
          "Node ID: 35<br>Pullback set label: 18<br>Partial cluster label: 0<br>Node size: 992<br>Summary statistic: 0",
          "Node ID: 36<br>Pullback set label: 50<br>Partial cluster label: 0<br>Node size: 126<br>Summary statistic: 1.0",
          "Node ID: 37<br>Pullback set label: 1<br>Partial cluster label: 0<br>Node size: 1303<br>Summary statistic: 1.0",
          "Node ID: 38<br>Pullback set label: 3<br>Partial cluster label: 0<br>Node size: 76<br>Summary statistic: 1.0",
          "Node ID: 39<br>Pullback set label: 26<br>Partial cluster label: 0<br>Node size: 301<br>Summary statistic: 0",
          "Node ID: 40<br>Pullback set label: 61<br>Partial cluster label: 0<br>Node size: 69<br>Summary statistic: 1.0",
          "Node ID: 41<br>Pullback set label: 62<br>Partial cluster label: 0<br>Node size: 30<br>Summary statistic: 1.0",
          "Node ID: 42<br>Pullback set label: 47<br>Partial cluster label: 0<br>Node size: 29<br>Summary statistic: 1.0",
          "Node ID: 43<br>Pullback set label: 55<br>Partial cluster label: 0<br>Node size: 100<br>Summary statistic: 1.0",
          "Node ID: 44<br>Pullback set label: 24<br>Partial cluster label: 0<br>Node size: 95<br>Summary statistic: 1.0",
          "Node ID: 45<br>Pullback set label: 51<br>Partial cluster label: -1<br>Node size: 1<br>Summary statistic: 0",
          "Node ID: 46<br>Pullback set label: 29<br>Partial cluster label: 0<br>Node size: 169<br>Summary statistic: 0",
          "Node ID: 47<br>Pullback set label: 38<br>Partial cluster label: 0<br>Node size: 62<br>Summary statistic: 0",
          "Node ID: 48<br>Pullback set label: 54<br>Partial cluster label: 0<br>Node size: 13<br>Summary statistic: 0",
          "Node ID: 49<br>Pullback set label: 0<br>Partial cluster label: 0<br>Node size: 187<br>Summary statistic: 1.0",
          "Node ID: 50<br>Pullback set label: 34<br>Partial cluster label: 0<br>Node size: 50<br>Summary statistic: 1.0",
          "Node ID: 51<br>Pullback set label: 42<br>Partial cluster label: 0<br>Node size: 30<br>Summary statistic: 1.0",
          "Node ID: 52<br>Pullback set label: 2<br>Partial cluster label: 0<br>Node size: 45<br>Summary statistic: 1.0",
          "Node ID: 53<br>Pullback set label: 6<br>Partial cluster label: 0<br>Node size: 15<br>Summary statistic: 1.0",
          "Node ID: 54<br>Pullback set label: 10<br>Partial cluster label: 0<br>Node size: 7<br>Summary statistic: 1.0",
          "Node ID: 55<br>Pullback set label: 17<br>Partial cluster label: -1<br>Node size: 2<br>Summary statistic: 1.0",
          "Node ID: 56<br>Pullback set label: 25<br>Partial cluster label: -1<br>Node size: 3<br>Summary statistic: 1.0",
          "Node ID: 57<br>Pullback set label: 46<br>Partial cluster label: 0<br>Node size: 21<br>Summary statistic: 0",
          "Node ID: 58<br>Pullback set label: 59<br>Partial cluster label: 0<br>Node size: 8<br>Summary statistic: 0",
          "Node ID: 59<br>Pullback set label: 58<br>Partial cluster label: -1<br>Node size: 1<br>Summary statistic: 0",
          "Node ID: 60<br>Pullback set label: 11<br>Partial cluster label: -1<br>Node size: 1<br>Summary statistic: 0",
          "Node ID: 61<br>Pullback set label: 60<br>Partial cluster label: -1<br>Node size: 3<br>Summary statistic: 0",
          "Node ID: 62<br>Pullback set label: 30<br>Partial cluster label: -1<br>Node size: 1<br>Summary statistic: 1.0"
         ],
         "marker": {
          "color": [
           1,
           0.9884959522795057,
           1,
           1,
           1,
           0.9985541297668534,
           1,
           1,
           1,
           1,
           1,
           1,
           1,
           1,
           1,
           1,
           1,
           0.1429274696422711,
           0,
           0,
           0,
           0,
           0,
           0,
           0,
           0,
           1,
           1,
           1,
           1,
           0,
           0,
           0,
           0,
           0,
           0,
           1,
           1,
           1,
           0,
           1,
           1,
           1,
           1,
           1,
           0,
           0,
           0,
           0,
           1,
           1,
           1,
           1,
           1,
           1,
           1,
           1,
           0,
           0,
           0,
           0,
           0,
           1
          ],
          "colorbar": {
           "thickness": 15,
           "title": {
            "side": "right",
            "text": ""
           },
           "xanchor": "left"
          },
          "colorscale": [
           [
            0,
            "#440154"
           ],
           [
            0.1111111111111111,
            "#482878"
           ],
           [
            0.2222222222222222,
            "#3e4989"
           ],
           [
            0.3333333333333333,
            "#31688e"
           ],
           [
            0.4444444444444444,
            "#26828e"
           ],
           [
            0.5555555555555556,
            "#1f9e89"
           ],
           [
            0.6666666666666666,
            "#35b779"
           ],
           [
            0.7777777777777778,
            "#6ece58"
           ],
           [
            0.8888888888888888,
            "#b5de2b"
           ],
           [
            1,
            "#fde725"
           ]
          ],
          "line": {
           "color": "#888",
           "width": 1
          },
          "opacity": 1,
          "reversescale": false,
          "showscale": true,
          "size": [
           3906,
           2347,
           2039,
           4691,
           559,
           5533,
           1874,
           2439,
           250,
           947,
           1091,
           505,
           874,
           331,
           630,
           540,
           138,
           6094,
           1289,
           11938,
           3737,
           3751,
           4036,
           2089,
           1170,
           301,
           1728,
           652,
           665,
           657,
           542,
           189,
           691,
           141,
           79,
           992,
           126,
           1303,
           76,
           301,
           69,
           30,
           29,
           100,
           95,
           1,
           169,
           62,
           13,
           187,
           50,
           30,
           45,
           15,
           7,
           2,
           3,
           21,
           8,
           1,
           1,
           3,
           1
          ],
          "sizemin": 4,
          "sizemode": "area",
          "sizeref": 26.52888888888889
         },
         "mode": "markers",
         "name": "node_trace",
         "type": "scatter",
         "uid": "a305cbb7-7727-40f7-969e-e621058cbdc4",
         "x": [
          1.4382793358863317,
          0.8258221968849745,
          1.5297337291536655,
          0.9971730663944429,
          1.4274014685947647,
          0.6671809118520471,
          1.1476574737822711,
          0.8386681119358265,
          1.6027539482505626,
          1.3287487056048284,
          0.9927055041833894,
          1.4133676363104097,
          1.0505281195883933,
          1.476776666581253,
          1.0826308234565742,
          0.8127872531019827,
          1.1614382868522666,
          0.2372057361523154,
          0.009086016608310696,
          -0.42487667941717966,
          -0.45757668448058847,
          -1.0607126140000758,
          -0.9868206777613885,
          -1.572660170178835,
          -1.4795366139308845,
          -1.9740321368127651,
          0.47950970277754457,
          0.6222316437136666,
          0.6937944940308688,
          0.7572328871248667,
          -1.642844433763436,
          -2.2736107472618556,
          -2.15713682734284,
          -2.656443083792658,
          -2.878254699685846,
          -0.5258598621571441,
          1.563271590731531,
          1.9870703476734124,
          1.9860764706051732,
          -1.0717956564682454,
          0.5342169565327444,
          0.9655488161721663,
          0.33014548331187177,
          0.36017696393756754,
          1.7585924975135998,
          -2.3842935173281297,
          -1.1050300313109624,
          -1.6789309745145913,
          -3.061154787651869,
          1.623461951494887,
          1.812503584301799,
          1.9972587946742224,
          2.2148545840860177,
          1.6595118192142628,
          1.9251991943232047,
          2.1097878697103787,
          2.213201213399538,
          -2.387742545447429,
          -3.5493613063745295,
          -3.145361877743415,
          -0.07918554326356678,
          -3.6907794222719787,
          0.16503769963131756
         ],
         "y": [
          2.0313033294217813,
          1.640744472795784,
          1.6602834534667041,
          1.33879459578648,
          0.9714402480176734,
          0.91183442610257,
          0.5864252191305166,
          0.15001299881086183,
          0.27329429840489533,
          -0.13498076043103263,
          -0.5861577277559255,
          -0.8623528907832793,
          -1.3109673244663205,
          -1.5834735131785869,
          -2.0457396384867432,
          -2.5445570484190454,
          -2.7439997480720586,
          1.438865057455615,
          1.9509552239236048,
          1.8403308500634679,
          1.4538727328794097,
          1.866383839736908,
          2.2964322956428633,
          2.395548851708178,
          2.792553027232231,
          2.9779491308939527,
          0.4009171983215571,
          -0.26456509622920316,
          -1.136826463058017,
          -1.8365368917400398,
          1.9654571363208717,
          2.128253299411024,
          2.524758544457922,
          2.7754715809915966,
          2.2593531588690463,
          2.3368615127539205,
          -2.51121049748459,
          2.179896920546618,
          2.569954341166525,
          2.944873761243323,
          -3.1364504309815344,
          -3.247869918503426,
          -1.5593474559638343,
          -2.32362863915744,
          -0.4376380630594967,
          3.242197507302281,
          1.4773850322242694,
          1.410566077754117,
          1.5792548064885914,
          2.6609600341440065,
          -1.1312815042708309,
          -2.0728012466936576,
          1.8673599031655717,
          1.371755720905952,
          0.6936662750896143,
          -0.04062086215582682,
          -0.8378792405137507,
          1.467611099877891,
          2.458795712351924,
          3.285800311027737,
          2.5425674267290463,
          1.3394414418616682,
          -0.07932762613998805
         ]
        }
       ],
       "layout": {
        "autosize": false,
        "hovermode": "closest",
        "margin": {
         "b": 20,
         "l": 5,
         "r": 5,
         "t": 40
        },
        "showlegend": false,
        "template": {
         "data": {
          "bar": [
           {
            "error_x": {
             "color": "rgb(36,36,36)"
            },
            "error_y": {
             "color": "rgb(36,36,36)"
            },
            "marker": {
             "line": {
              "color": "white",
              "width": 0.5
             },
             "pattern": {
              "fillmode": "overlay",
              "size": 10,
              "solidity": 0.2
             }
            },
            "type": "bar"
           }
          ],
          "barpolar": [
           {
            "marker": {
             "line": {
              "color": "white",
              "width": 0.5
             },
             "pattern": {
              "fillmode": "overlay",
              "size": 10,
              "solidity": 0.2
             }
            },
            "type": "barpolar"
           }
          ],
          "carpet": [
           {
            "aaxis": {
             "endlinecolor": "rgb(36,36,36)",
             "gridcolor": "white",
             "linecolor": "white",
             "minorgridcolor": "white",
             "startlinecolor": "rgb(36,36,36)"
            },
            "baxis": {
             "endlinecolor": "rgb(36,36,36)",
             "gridcolor": "white",
             "linecolor": "white",
             "minorgridcolor": "white",
             "startlinecolor": "rgb(36,36,36)"
            },
            "type": "carpet"
           }
          ],
          "choropleth": [
           {
            "colorbar": {
             "outlinewidth": 1,
             "tickcolor": "rgb(36,36,36)",
             "ticks": "outside"
            },
            "type": "choropleth"
           }
          ],
          "contour": [
           {
            "colorbar": {
             "outlinewidth": 1,
             "tickcolor": "rgb(36,36,36)",
             "ticks": "outside"
            },
            "colorscale": [
             [
              0,
              "#440154"
             ],
             [
              0.1111111111111111,
              "#482878"
             ],
             [
              0.2222222222222222,
              "#3e4989"
             ],
             [
              0.3333333333333333,
              "#31688e"
             ],
             [
              0.4444444444444444,
              "#26828e"
             ],
             [
              0.5555555555555556,
              "#1f9e89"
             ],
             [
              0.6666666666666666,
              "#35b779"
             ],
             [
              0.7777777777777778,
              "#6ece58"
             ],
             [
              0.8888888888888888,
              "#b5de2b"
             ],
             [
              1,
              "#fde725"
             ]
            ],
            "type": "contour"
           }
          ],
          "contourcarpet": [
           {
            "colorbar": {
             "outlinewidth": 1,
             "tickcolor": "rgb(36,36,36)",
             "ticks": "outside"
            },
            "type": "contourcarpet"
           }
          ],
          "heatmap": [
           {
            "colorbar": {
             "outlinewidth": 1,
             "tickcolor": "rgb(36,36,36)",
             "ticks": "outside"
            },
            "colorscale": [
             [
              0,
              "#440154"
             ],
             [
              0.1111111111111111,
              "#482878"
             ],
             [
              0.2222222222222222,
              "#3e4989"
             ],
             [
              0.3333333333333333,
              "#31688e"
             ],
             [
              0.4444444444444444,
              "#26828e"
             ],
             [
              0.5555555555555556,
              "#1f9e89"
             ],
             [
              0.6666666666666666,
              "#35b779"
             ],
             [
              0.7777777777777778,
              "#6ece58"
             ],
             [
              0.8888888888888888,
              "#b5de2b"
             ],
             [
              1,
              "#fde725"
             ]
            ],
            "type": "heatmap"
           }
          ],
          "heatmapgl": [
           {
            "colorbar": {
             "outlinewidth": 1,
             "tickcolor": "rgb(36,36,36)",
             "ticks": "outside"
            },
            "colorscale": [
             [
              0,
              "#440154"
             ],
             [
              0.1111111111111111,
              "#482878"
             ],
             [
              0.2222222222222222,
              "#3e4989"
             ],
             [
              0.3333333333333333,
              "#31688e"
             ],
             [
              0.4444444444444444,
              "#26828e"
             ],
             [
              0.5555555555555556,
              "#1f9e89"
             ],
             [
              0.6666666666666666,
              "#35b779"
             ],
             [
              0.7777777777777778,
              "#6ece58"
             ],
             [
              0.8888888888888888,
              "#b5de2b"
             ],
             [
              1,
              "#fde725"
             ]
            ],
            "type": "heatmapgl"
           }
          ],
          "histogram": [
           {
            "marker": {
             "line": {
              "color": "white",
              "width": 0.6
             }
            },
            "type": "histogram"
           }
          ],
          "histogram2d": [
           {
            "colorbar": {
             "outlinewidth": 1,
             "tickcolor": "rgb(36,36,36)",
             "ticks": "outside"
            },
            "colorscale": [
             [
              0,
              "#440154"
             ],
             [
              0.1111111111111111,
              "#482878"
             ],
             [
              0.2222222222222222,
              "#3e4989"
             ],
             [
              0.3333333333333333,
              "#31688e"
             ],
             [
              0.4444444444444444,
              "#26828e"
             ],
             [
              0.5555555555555556,
              "#1f9e89"
             ],
             [
              0.6666666666666666,
              "#35b779"
             ],
             [
              0.7777777777777778,
              "#6ece58"
             ],
             [
              0.8888888888888888,
              "#b5de2b"
             ],
             [
              1,
              "#fde725"
             ]
            ],
            "type": "histogram2d"
           }
          ],
          "histogram2dcontour": [
           {
            "colorbar": {
             "outlinewidth": 1,
             "tickcolor": "rgb(36,36,36)",
             "ticks": "outside"
            },
            "colorscale": [
             [
              0,
              "#440154"
             ],
             [
              0.1111111111111111,
              "#482878"
             ],
             [
              0.2222222222222222,
              "#3e4989"
             ],
             [
              0.3333333333333333,
              "#31688e"
             ],
             [
              0.4444444444444444,
              "#26828e"
             ],
             [
              0.5555555555555556,
              "#1f9e89"
             ],
             [
              0.6666666666666666,
              "#35b779"
             ],
             [
              0.7777777777777778,
              "#6ece58"
             ],
             [
              0.8888888888888888,
              "#b5de2b"
             ],
             [
              1,
              "#fde725"
             ]
            ],
            "type": "histogram2dcontour"
           }
          ],
          "mesh3d": [
           {
            "colorbar": {
             "outlinewidth": 1,
             "tickcolor": "rgb(36,36,36)",
             "ticks": "outside"
            },
            "type": "mesh3d"
           }
          ],
          "parcoords": [
           {
            "line": {
             "colorbar": {
              "outlinewidth": 1,
              "tickcolor": "rgb(36,36,36)",
              "ticks": "outside"
             }
            },
            "type": "parcoords"
           }
          ],
          "pie": [
           {
            "automargin": true,
            "type": "pie"
           }
          ],
          "scatter": [
           {
            "marker": {
             "colorbar": {
              "outlinewidth": 1,
              "tickcolor": "rgb(36,36,36)",
              "ticks": "outside"
             }
            },
            "type": "scatter"
           }
          ],
          "scatter3d": [
           {
            "line": {
             "colorbar": {
              "outlinewidth": 1,
              "tickcolor": "rgb(36,36,36)",
              "ticks": "outside"
             }
            },
            "marker": {
             "colorbar": {
              "outlinewidth": 1,
              "tickcolor": "rgb(36,36,36)",
              "ticks": "outside"
             }
            },
            "type": "scatter3d"
           }
          ],
          "scattercarpet": [
           {
            "marker": {
             "colorbar": {
              "outlinewidth": 1,
              "tickcolor": "rgb(36,36,36)",
              "ticks": "outside"
             }
            },
            "type": "scattercarpet"
           }
          ],
          "scattergeo": [
           {
            "marker": {
             "colorbar": {
              "outlinewidth": 1,
              "tickcolor": "rgb(36,36,36)",
              "ticks": "outside"
             }
            },
            "type": "scattergeo"
           }
          ],
          "scattergl": [
           {
            "marker": {
             "colorbar": {
              "outlinewidth": 1,
              "tickcolor": "rgb(36,36,36)",
              "ticks": "outside"
             }
            },
            "type": "scattergl"
           }
          ],
          "scattermapbox": [
           {
            "marker": {
             "colorbar": {
              "outlinewidth": 1,
              "tickcolor": "rgb(36,36,36)",
              "ticks": "outside"
             }
            },
            "type": "scattermapbox"
           }
          ],
          "scatterpolar": [
           {
            "marker": {
             "colorbar": {
              "outlinewidth": 1,
              "tickcolor": "rgb(36,36,36)",
              "ticks": "outside"
             }
            },
            "type": "scatterpolar"
           }
          ],
          "scatterpolargl": [
           {
            "marker": {
             "colorbar": {
              "outlinewidth": 1,
              "tickcolor": "rgb(36,36,36)",
              "ticks": "outside"
             }
            },
            "type": "scatterpolargl"
           }
          ],
          "scatterternary": [
           {
            "marker": {
             "colorbar": {
              "outlinewidth": 1,
              "tickcolor": "rgb(36,36,36)",
              "ticks": "outside"
             }
            },
            "type": "scatterternary"
           }
          ],
          "surface": [
           {
            "colorbar": {
             "outlinewidth": 1,
             "tickcolor": "rgb(36,36,36)",
             "ticks": "outside"
            },
            "colorscale": [
             [
              0,
              "#440154"
             ],
             [
              0.1111111111111111,
              "#482878"
             ],
             [
              0.2222222222222222,
              "#3e4989"
             ],
             [
              0.3333333333333333,
              "#31688e"
             ],
             [
              0.4444444444444444,
              "#26828e"
             ],
             [
              0.5555555555555556,
              "#1f9e89"
             ],
             [
              0.6666666666666666,
              "#35b779"
             ],
             [
              0.7777777777777778,
              "#6ece58"
             ],
             [
              0.8888888888888888,
              "#b5de2b"
             ],
             [
              1,
              "#fde725"
             ]
            ],
            "type": "surface"
           }
          ],
          "table": [
           {
            "cells": {
             "fill": {
              "color": "rgb(237,237,237)"
             },
             "line": {
              "color": "white"
             }
            },
            "header": {
             "fill": {
              "color": "rgb(217,217,217)"
             },
             "line": {
              "color": "white"
             }
            },
            "type": "table"
           }
          ]
         },
         "layout": {
          "annotationdefaults": {
           "arrowhead": 0,
           "arrowwidth": 1
          },
          "autotypenumbers": "strict",
          "coloraxis": {
           "colorbar": {
            "outlinewidth": 1,
            "tickcolor": "rgb(36,36,36)",
            "ticks": "outside"
           }
          },
          "colorscale": {
           "diverging": [
            [
             0,
             "rgb(103,0,31)"
            ],
            [
             0.1,
             "rgb(178,24,43)"
            ],
            [
             0.2,
             "rgb(214,96,77)"
            ],
            [
             0.3,
             "rgb(244,165,130)"
            ],
            [
             0.4,
             "rgb(253,219,199)"
            ],
            [
             0.5,
             "rgb(247,247,247)"
            ],
            [
             0.6,
             "rgb(209,229,240)"
            ],
            [
             0.7,
             "rgb(146,197,222)"
            ],
            [
             0.8,
             "rgb(67,147,195)"
            ],
            [
             0.9,
             "rgb(33,102,172)"
            ],
            [
             1,
             "rgb(5,48,97)"
            ]
           ],
           "sequential": [
            [
             0,
             "#440154"
            ],
            [
             0.1111111111111111,
             "#482878"
            ],
            [
             0.2222222222222222,
             "#3e4989"
            ],
            [
             0.3333333333333333,
             "#31688e"
            ],
            [
             0.4444444444444444,
             "#26828e"
            ],
            [
             0.5555555555555556,
             "#1f9e89"
            ],
            [
             0.6666666666666666,
             "#35b779"
            ],
            [
             0.7777777777777778,
             "#6ece58"
            ],
            [
             0.8888888888888888,
             "#b5de2b"
            ],
            [
             1,
             "#fde725"
            ]
           ],
           "sequentialminus": [
            [
             0,
             "#440154"
            ],
            [
             0.1111111111111111,
             "#482878"
            ],
            [
             0.2222222222222222,
             "#3e4989"
            ],
            [
             0.3333333333333333,
             "#31688e"
            ],
            [
             0.4444444444444444,
             "#26828e"
            ],
            [
             0.5555555555555556,
             "#1f9e89"
            ],
            [
             0.6666666666666666,
             "#35b779"
            ],
            [
             0.7777777777777778,
             "#6ece58"
            ],
            [
             0.8888888888888888,
             "#b5de2b"
            ],
            [
             1,
             "#fde725"
            ]
           ]
          },
          "colorway": [
           "#1F77B4",
           "#FF7F0E",
           "#2CA02C",
           "#D62728",
           "#9467BD",
           "#8C564B",
           "#E377C2",
           "#7F7F7F",
           "#BCBD22",
           "#17BECF"
          ],
          "font": {
           "color": "rgb(36,36,36)"
          },
          "geo": {
           "bgcolor": "white",
           "lakecolor": "white",
           "landcolor": "white",
           "showlakes": true,
           "showland": true,
           "subunitcolor": "white"
          },
          "hoverlabel": {
           "align": "left"
          },
          "hovermode": "closest",
          "mapbox": {
           "style": "light"
          },
          "paper_bgcolor": "white",
          "plot_bgcolor": "white",
          "polar": {
           "angularaxis": {
            "gridcolor": "rgb(232,232,232)",
            "linecolor": "rgb(36,36,36)",
            "showgrid": false,
            "showline": true,
            "ticks": "outside"
           },
           "bgcolor": "white",
           "radialaxis": {
            "gridcolor": "rgb(232,232,232)",
            "linecolor": "rgb(36,36,36)",
            "showgrid": false,
            "showline": true,
            "ticks": "outside"
           }
          },
          "scene": {
           "xaxis": {
            "backgroundcolor": "white",
            "gridcolor": "rgb(232,232,232)",
            "gridwidth": 2,
            "linecolor": "rgb(36,36,36)",
            "showbackground": true,
            "showgrid": false,
            "showline": true,
            "ticks": "outside",
            "zeroline": false,
            "zerolinecolor": "rgb(36,36,36)"
           },
           "yaxis": {
            "backgroundcolor": "white",
            "gridcolor": "rgb(232,232,232)",
            "gridwidth": 2,
            "linecolor": "rgb(36,36,36)",
            "showbackground": true,
            "showgrid": false,
            "showline": true,
            "ticks": "outside",
            "zeroline": false,
            "zerolinecolor": "rgb(36,36,36)"
           },
           "zaxis": {
            "backgroundcolor": "white",
            "gridcolor": "rgb(232,232,232)",
            "gridwidth": 2,
            "linecolor": "rgb(36,36,36)",
            "showbackground": true,
            "showgrid": false,
            "showline": true,
            "ticks": "outside",
            "zeroline": false,
            "zerolinecolor": "rgb(36,36,36)"
           }
          },
          "shapedefaults": {
           "fillcolor": "black",
           "line": {
            "width": 0
           },
           "opacity": 0.3
          },
          "ternary": {
           "aaxis": {
            "gridcolor": "rgb(232,232,232)",
            "linecolor": "rgb(36,36,36)",
            "showgrid": false,
            "showline": true,
            "ticks": "outside"
           },
           "baxis": {
            "gridcolor": "rgb(232,232,232)",
            "linecolor": "rgb(36,36,36)",
            "showgrid": false,
            "showline": true,
            "ticks": "outside"
           },
           "bgcolor": "white",
           "caxis": {
            "gridcolor": "rgb(232,232,232)",
            "linecolor": "rgb(36,36,36)",
            "showgrid": false,
            "showline": true,
            "ticks": "outside"
           }
          },
          "title": {
           "x": 0.05
          },
          "xaxis": {
           "automargin": true,
           "gridcolor": "rgb(232,232,232)",
           "linecolor": "rgb(36,36,36)",
           "showgrid": false,
           "showline": true,
           "ticks": "outside",
           "title": {
            "standoff": 15
           },
           "zeroline": false,
           "zerolinecolor": "rgb(36,36,36)"
          },
          "yaxis": {
           "automargin": true,
           "gridcolor": "rgb(232,232,232)",
           "linecolor": "rgb(36,36,36)",
           "showgrid": false,
           "showline": true,
           "ticks": "outside",
           "title": {
            "standoff": 15
           },
           "zeroline": false,
           "zerolinecolor": "rgb(36,36,36)"
          }
         }
        },
        "title": {
         "text": ""
        },
        "xaxis": {
         "showgrid": false,
         "showline": false,
         "showticklabels": false,
         "ticks": "",
         "title": {
          "text": ""
         },
         "zeroline": false
        },
        "yaxis": {
         "showgrid": false,
         "showline": false,
         "showticklabels": false,
         "ticks": "",
         "title": {
          "text": ""
         },
         "zeroline": false
        }
       }
      }
     },
     "metadata": {},
     "output_type": "display_data"
    }
   ],
   "source": [
    "fig = plot_static_mapper_graph(pipe, X, layout_dim=2, color_data = color_code_fault_mode, node_scale = 30)\n",
    "fig.show(config={'scrollZoom': True})"
   ]
  },
  {
   "cell_type": "code",
   "execution_count": 183,
   "id": "24a742f4",
   "metadata": {},
   "outputs": [
    {
     "data": {
      "application/vnd.plotly.v1+json": {
       "config": {
        "plotlyServerURL": "https://plot.ly",
        "scrollZoom": true
       },
       "data": [
        {
         "hoverinfo": "none",
         "line": {
          "color": "#888",
          "width": 1
         },
         "mode": "lines",
         "name": "edge_trace",
         "type": "scatter",
         "uid": "b53f9834-1578-42dd-80ae-2e5e0e2ef00c",
         "x": [
          1.4382793358863317,
          0.8258221968849745,
          null,
          1.4382793358863317,
          1.5297337291536655,
          null,
          1.4382793358863317,
          0.9971730663944429,
          null,
          1.4382793358863317,
          1.9870703476734124,
          null,
          1.4382793358863317,
          1.9860764706051732,
          null,
          1.4382793358863317,
          1.623461951494887,
          null,
          1.4382793358863317,
          2.2148545840860177,
          null,
          0.8258221968849745,
          1.5297337291536655,
          null,
          0.8258221968849745,
          0.9971730663944429,
          null,
          0.8258221968849745,
          0.6671809118520471,
          null,
          0.8258221968849745,
          0.2372057361523154,
          null,
          1.5297337291536655,
          0.9971730663944429,
          null,
          1.5297337291536655,
          1.4274014685947647,
          null,
          1.5297337291536655,
          1.9870703476734124,
          null,
          1.5297337291536655,
          2.2148545840860177,
          null,
          1.5297337291536655,
          1.6595118192142628,
          null,
          0.9971730663944429,
          1.4274014685947647,
          null,
          0.9971730663944429,
          0.6671809118520471,
          null,
          0.9971730663944429,
          1.1476574737822711,
          null,
          0.9971730663944429,
          0.2372057361523154,
          null,
          0.9971730663944429,
          1.6595118192142628,
          null,
          1.4274014685947647,
          0.6671809118520471,
          null,
          1.4274014685947647,
          1.1476574737822711,
          null,
          1.4274014685947647,
          1.6027539482505626,
          null,
          1.4274014685947647,
          1.6595118192142628,
          null,
          1.4274014685947647,
          1.9251991943232047,
          null,
          0.6671809118520471,
          1.1476574737822711,
          null,
          0.6671809118520471,
          0.8386681119358265,
          null,
          0.6671809118520471,
          0.2372057361523154,
          null,
          0.6671809118520471,
          0.47950970277754457,
          null,
          1.1476574737822711,
          0.8386681119358265,
          null,
          1.1476574737822711,
          1.6027539482505626,
          null,
          1.1476574737822711,
          1.3287487056048284,
          null,
          1.1476574737822711,
          0.47950970277754457,
          null,
          1.1476574737822711,
          1.9251991943232047,
          null,
          0.8386681119358265,
          1.6027539482505626,
          null,
          0.8386681119358265,
          1.3287487056048284,
          null,
          0.8386681119358265,
          0.9927055041833894,
          null,
          0.8386681119358265,
          0.47950970277754457,
          null,
          0.8386681119358265,
          0.6222316437136666,
          null,
          0.8386681119358265,
          0.16503769963131756,
          null,
          1.6027539482505626,
          1.3287487056048284,
          null,
          1.6027539482505626,
          1.7585924975135998,
          null,
          1.6027539482505626,
          1.9251991943232047,
          null,
          1.6027539482505626,
          2.1097878697103787,
          null,
          1.3287487056048284,
          0.9927055041833894,
          null,
          1.3287487056048284,
          1.4133676363104097,
          null,
          1.3287487056048284,
          0.6222316437136666,
          null,
          1.3287487056048284,
          1.7585924975135998,
          null,
          1.3287487056048284,
          2.1097878697103787,
          null,
          0.9927055041833894,
          1.4133676363104097,
          null,
          0.9927055041833894,
          1.0505281195883933,
          null,
          0.9927055041833894,
          0.6222316437136666,
          null,
          0.9927055041833894,
          0.6937944940308688,
          null,
          0.9927055041833894,
          1.7585924975135998,
          null,
          1.4133676363104097,
          1.0505281195883933,
          null,
          1.4133676363104097,
          1.476776666581253,
          null,
          1.4133676363104097,
          0.6937944940308688,
          null,
          1.4133676363104097,
          1.7585924975135998,
          null,
          1.4133676363104097,
          1.812503584301799,
          null,
          1.4133676363104097,
          2.213201213399538,
          null,
          1.0505281195883933,
          1.476776666581253,
          null,
          1.0505281195883933,
          1.0826308234565742,
          null,
          1.0505281195883933,
          0.6937944940308688,
          null,
          1.0505281195883933,
          0.7572328871248667,
          null,
          1.0505281195883933,
          0.33014548331187177,
          null,
          1.0505281195883933,
          1.812503584301799,
          null,
          1.476776666581253,
          1.0826308234565742,
          null,
          1.476776666581253,
          0.7572328871248667,
          null,
          1.476776666581253,
          1.812503584301799,
          null,
          1.476776666581253,
          1.9972587946742224,
          null,
          1.0826308234565742,
          0.8127872531019827,
          null,
          1.0826308234565742,
          1.1614382868522666,
          null,
          1.0826308234565742,
          0.7572328871248667,
          null,
          1.0826308234565742,
          1.563271590731531,
          null,
          1.0826308234565742,
          0.36017696393756754,
          null,
          0.8127872531019827,
          1.1614382868522666,
          null,
          0.8127872531019827,
          0.7572328871248667,
          null,
          0.8127872531019827,
          1.563271590731531,
          null,
          0.8127872531019827,
          0.5342169565327444,
          null,
          0.8127872531019827,
          0.9655488161721663,
          null,
          0.8127872531019827,
          0.36017696393756754,
          null,
          1.1614382868522666,
          1.563271590731531,
          null,
          1.1614382868522666,
          0.5342169565327444,
          null,
          1.1614382868522666,
          0.9655488161721663,
          null,
          0.2372057361523154,
          0.009086016608310696,
          null,
          0.2372057361523154,
          -0.42487667941717966,
          null,
          0.2372057361523154,
          -0.45757668448058847,
          null,
          0.009086016608310696,
          -0.42487667941717966,
          null,
          0.009086016608310696,
          -0.45757668448058847,
          null,
          0.009086016608310696,
          -0.5258598621571441,
          null,
          0.009086016608310696,
          -0.07918554326356678,
          null,
          -0.42487667941717966,
          -0.45757668448058847,
          null,
          -0.42487667941717966,
          -1.0607126140000758,
          null,
          -0.42487667941717966,
          -0.9868206777613885,
          null,
          -0.42487667941717966,
          -0.5258598621571441,
          null,
          -0.42487667941717966,
          -1.1050300313109624,
          null,
          -0.42487667941717966,
          -0.07918554326356678,
          null,
          -0.45757668448058847,
          -1.0607126140000758,
          null,
          -0.45757668448058847,
          -1.1050300313109624,
          null,
          -1.0607126140000758,
          -0.9868206777613885,
          null,
          -1.0607126140000758,
          -1.572660170178835,
          null,
          -1.0607126140000758,
          -1.642844433763436,
          null,
          -1.0607126140000758,
          -0.5258598621571441,
          null,
          -1.0607126140000758,
          -1.1050300313109624,
          null,
          -1.0607126140000758,
          -1.6789309745145913,
          null,
          -0.9868206777613885,
          -1.572660170178835,
          null,
          -0.9868206777613885,
          -1.4795366139308845,
          null,
          -0.9868206777613885,
          -1.642844433763436,
          null,
          -0.9868206777613885,
          -0.5258598621571441,
          null,
          -0.9868206777613885,
          -1.0717956564682454,
          null,
          -1.572660170178835,
          -1.4795366139308845,
          null,
          -1.572660170178835,
          -1.9740321368127651,
          null,
          -1.572660170178835,
          -1.642844433763436,
          null,
          -1.572660170178835,
          -2.2736107472618556,
          null,
          -1.572660170178835,
          -2.15713682734284,
          null,
          -1.572660170178835,
          -1.0717956564682454,
          null,
          -1.4795366139308845,
          -1.9740321368127651,
          null,
          -1.4795366139308845,
          -2.15713682734284,
          null,
          -1.4795366139308845,
          -1.0717956564682454,
          null,
          -1.9740321368127651,
          -2.15713682734284,
          null,
          -1.9740321368127651,
          -2.656443083792658,
          null,
          -1.9740321368127651,
          -2.3842935173281297,
          null,
          0.47950970277754457,
          0.6222316437136666,
          null,
          0.47950970277754457,
          0.16503769963131756,
          null,
          0.6222316437136666,
          0.16503769963131756,
          null,
          0.6937944940308688,
          0.7572328871248667,
          null,
          0.6937944940308688,
          0.33014548331187177,
          null,
          0.7572328871248667,
          0.33014548331187177,
          null,
          0.7572328871248667,
          0.36017696393756754,
          null,
          -1.642844433763436,
          -2.2736107472618556,
          null,
          -1.642844433763436,
          -2.15713682734284,
          null,
          -1.642844433763436,
          -1.1050300313109624,
          null,
          -1.642844433763436,
          -1.6789309745145913,
          null,
          -2.2736107472618556,
          -2.15713682734284,
          null,
          -2.2736107472618556,
          -2.656443083792658,
          null,
          -2.2736107472618556,
          -2.878254699685846,
          null,
          -2.2736107472618556,
          -2.387742545447429,
          null,
          -2.15713682734284,
          -2.656443083792658,
          null,
          -2.15713682734284,
          -2.878254699685846,
          null,
          -2.15713682734284,
          -2.3842935173281297,
          null,
          -2.656443083792658,
          -2.878254699685846,
          null,
          -2.656443083792658,
          -2.3842935173281297,
          null,
          -2.656443083792658,
          -3.145361877743415,
          null,
          -2.878254699685846,
          -3.061154787651869,
          null,
          -2.878254699685846,
          -3.5493613063745295,
          null,
          -0.5258598621571441,
          -0.07918554326356678,
          null,
          1.563271590731531,
          1.9972587946742224,
          null,
          1.9870703476734124,
          1.9860764706051732,
          null,
          1.9870703476734124,
          1.623461951494887,
          null,
          1.9870703476734124,
          2.2148545840860177,
          null,
          1.9860764706051732,
          1.623461951494887,
          null,
          0.5342169565327444,
          0.9655488161721663,
          null,
          1.7585924975135998,
          1.812503584301799,
          null,
          1.7585924975135998,
          2.1097878697103787,
          null,
          1.7585924975135998,
          2.213201213399538,
          null,
          -1.1050300313109624,
          -1.6789309745145913,
          null,
          -1.6789309745145913,
          -2.387742545447429,
          null,
          -3.061154787651869,
          -2.387742545447429,
          null,
          -3.061154787651869,
          -3.6907794222719787,
          null,
          1.812503584301799,
          2.213201213399538,
          null
         ],
         "y": [
          2.0313033294217813,
          1.640744472795784,
          null,
          2.0313033294217813,
          1.6602834534667041,
          null,
          2.0313033294217813,
          1.33879459578648,
          null,
          2.0313033294217813,
          2.179896920546618,
          null,
          2.0313033294217813,
          2.569954341166525,
          null,
          2.0313033294217813,
          2.6609600341440065,
          null,
          2.0313033294217813,
          1.8673599031655717,
          null,
          1.640744472795784,
          1.6602834534667041,
          null,
          1.640744472795784,
          1.33879459578648,
          null,
          1.640744472795784,
          0.91183442610257,
          null,
          1.640744472795784,
          1.438865057455615,
          null,
          1.6602834534667041,
          1.33879459578648,
          null,
          1.6602834534667041,
          0.9714402480176734,
          null,
          1.6602834534667041,
          2.179896920546618,
          null,
          1.6602834534667041,
          1.8673599031655717,
          null,
          1.6602834534667041,
          1.371755720905952,
          null,
          1.33879459578648,
          0.9714402480176734,
          null,
          1.33879459578648,
          0.91183442610257,
          null,
          1.33879459578648,
          0.5864252191305166,
          null,
          1.33879459578648,
          1.438865057455615,
          null,
          1.33879459578648,
          1.371755720905952,
          null,
          0.9714402480176734,
          0.91183442610257,
          null,
          0.9714402480176734,
          0.5864252191305166,
          null,
          0.9714402480176734,
          0.27329429840489533,
          null,
          0.9714402480176734,
          1.371755720905952,
          null,
          0.9714402480176734,
          0.6936662750896143,
          null,
          0.91183442610257,
          0.5864252191305166,
          null,
          0.91183442610257,
          0.15001299881086183,
          null,
          0.91183442610257,
          1.438865057455615,
          null,
          0.91183442610257,
          0.4009171983215571,
          null,
          0.5864252191305166,
          0.15001299881086183,
          null,
          0.5864252191305166,
          0.27329429840489533,
          null,
          0.5864252191305166,
          -0.13498076043103263,
          null,
          0.5864252191305166,
          0.4009171983215571,
          null,
          0.5864252191305166,
          0.6936662750896143,
          null,
          0.15001299881086183,
          0.27329429840489533,
          null,
          0.15001299881086183,
          -0.13498076043103263,
          null,
          0.15001299881086183,
          -0.5861577277559255,
          null,
          0.15001299881086183,
          0.4009171983215571,
          null,
          0.15001299881086183,
          -0.26456509622920316,
          null,
          0.15001299881086183,
          -0.07932762613998805,
          null,
          0.27329429840489533,
          -0.13498076043103263,
          null,
          0.27329429840489533,
          -0.4376380630594967,
          null,
          0.27329429840489533,
          0.6936662750896143,
          null,
          0.27329429840489533,
          -0.04062086215582682,
          null,
          -0.13498076043103263,
          -0.5861577277559255,
          null,
          -0.13498076043103263,
          -0.8623528907832793,
          null,
          -0.13498076043103263,
          -0.26456509622920316,
          null,
          -0.13498076043103263,
          -0.4376380630594967,
          null,
          -0.13498076043103263,
          -0.04062086215582682,
          null,
          -0.5861577277559255,
          -0.8623528907832793,
          null,
          -0.5861577277559255,
          -1.3109673244663205,
          null,
          -0.5861577277559255,
          -0.26456509622920316,
          null,
          -0.5861577277559255,
          -1.136826463058017,
          null,
          -0.5861577277559255,
          -0.4376380630594967,
          null,
          -0.8623528907832793,
          -1.3109673244663205,
          null,
          -0.8623528907832793,
          -1.5834735131785869,
          null,
          -0.8623528907832793,
          -1.136826463058017,
          null,
          -0.8623528907832793,
          -0.4376380630594967,
          null,
          -0.8623528907832793,
          -1.1312815042708309,
          null,
          -0.8623528907832793,
          -0.8378792405137507,
          null,
          -1.3109673244663205,
          -1.5834735131785869,
          null,
          -1.3109673244663205,
          -2.0457396384867432,
          null,
          -1.3109673244663205,
          -1.136826463058017,
          null,
          -1.3109673244663205,
          -1.8365368917400398,
          null,
          -1.3109673244663205,
          -1.5593474559638343,
          null,
          -1.3109673244663205,
          -1.1312815042708309,
          null,
          -1.5834735131785869,
          -2.0457396384867432,
          null,
          -1.5834735131785869,
          -1.8365368917400398,
          null,
          -1.5834735131785869,
          -1.1312815042708309,
          null,
          -1.5834735131785869,
          -2.0728012466936576,
          null,
          -2.0457396384867432,
          -2.5445570484190454,
          null,
          -2.0457396384867432,
          -2.7439997480720586,
          null,
          -2.0457396384867432,
          -1.8365368917400398,
          null,
          -2.0457396384867432,
          -2.51121049748459,
          null,
          -2.0457396384867432,
          -2.32362863915744,
          null,
          -2.5445570484190454,
          -2.7439997480720586,
          null,
          -2.5445570484190454,
          -1.8365368917400398,
          null,
          -2.5445570484190454,
          -2.51121049748459,
          null,
          -2.5445570484190454,
          -3.1364504309815344,
          null,
          -2.5445570484190454,
          -3.247869918503426,
          null,
          -2.5445570484190454,
          -2.32362863915744,
          null,
          -2.7439997480720586,
          -2.51121049748459,
          null,
          -2.7439997480720586,
          -3.1364504309815344,
          null,
          -2.7439997480720586,
          -3.247869918503426,
          null,
          1.438865057455615,
          1.9509552239236048,
          null,
          1.438865057455615,
          1.8403308500634679,
          null,
          1.438865057455615,
          1.4538727328794097,
          null,
          1.9509552239236048,
          1.8403308500634679,
          null,
          1.9509552239236048,
          1.4538727328794097,
          null,
          1.9509552239236048,
          2.3368615127539205,
          null,
          1.9509552239236048,
          2.5425674267290463,
          null,
          1.8403308500634679,
          1.4538727328794097,
          null,
          1.8403308500634679,
          1.866383839736908,
          null,
          1.8403308500634679,
          2.2964322956428633,
          null,
          1.8403308500634679,
          2.3368615127539205,
          null,
          1.8403308500634679,
          1.4773850322242694,
          null,
          1.8403308500634679,
          2.5425674267290463,
          null,
          1.4538727328794097,
          1.866383839736908,
          null,
          1.4538727328794097,
          1.4773850322242694,
          null,
          1.866383839736908,
          2.2964322956428633,
          null,
          1.866383839736908,
          2.395548851708178,
          null,
          1.866383839736908,
          1.9654571363208717,
          null,
          1.866383839736908,
          2.3368615127539205,
          null,
          1.866383839736908,
          1.4773850322242694,
          null,
          1.866383839736908,
          1.410566077754117,
          null,
          2.2964322956428633,
          2.395548851708178,
          null,
          2.2964322956428633,
          2.792553027232231,
          null,
          2.2964322956428633,
          1.9654571363208717,
          null,
          2.2964322956428633,
          2.3368615127539205,
          null,
          2.2964322956428633,
          2.944873761243323,
          null,
          2.395548851708178,
          2.792553027232231,
          null,
          2.395548851708178,
          2.9779491308939527,
          null,
          2.395548851708178,
          1.9654571363208717,
          null,
          2.395548851708178,
          2.128253299411024,
          null,
          2.395548851708178,
          2.524758544457922,
          null,
          2.395548851708178,
          2.944873761243323,
          null,
          2.792553027232231,
          2.9779491308939527,
          null,
          2.792553027232231,
          2.524758544457922,
          null,
          2.792553027232231,
          2.944873761243323,
          null,
          2.9779491308939527,
          2.524758544457922,
          null,
          2.9779491308939527,
          2.7754715809915966,
          null,
          2.9779491308939527,
          3.242197507302281,
          null,
          0.4009171983215571,
          -0.26456509622920316,
          null,
          0.4009171983215571,
          -0.07932762613998805,
          null,
          -0.26456509622920316,
          -0.07932762613998805,
          null,
          -1.136826463058017,
          -1.8365368917400398,
          null,
          -1.136826463058017,
          -1.5593474559638343,
          null,
          -1.8365368917400398,
          -1.5593474559638343,
          null,
          -1.8365368917400398,
          -2.32362863915744,
          null,
          1.9654571363208717,
          2.128253299411024,
          null,
          1.9654571363208717,
          2.524758544457922,
          null,
          1.9654571363208717,
          1.4773850322242694,
          null,
          1.9654571363208717,
          1.410566077754117,
          null,
          2.128253299411024,
          2.524758544457922,
          null,
          2.128253299411024,
          2.7754715809915966,
          null,
          2.128253299411024,
          2.2593531588690463,
          null,
          2.128253299411024,
          1.467611099877891,
          null,
          2.524758544457922,
          2.7754715809915966,
          null,
          2.524758544457922,
          2.2593531588690463,
          null,
          2.524758544457922,
          3.242197507302281,
          null,
          2.7754715809915966,
          2.2593531588690463,
          null,
          2.7754715809915966,
          3.242197507302281,
          null,
          2.7754715809915966,
          3.285800311027737,
          null,
          2.2593531588690463,
          1.5792548064885914,
          null,
          2.2593531588690463,
          2.458795712351924,
          null,
          2.3368615127539205,
          2.5425674267290463,
          null,
          -2.51121049748459,
          -2.0728012466936576,
          null,
          2.179896920546618,
          2.569954341166525,
          null,
          2.179896920546618,
          2.6609600341440065,
          null,
          2.179896920546618,
          1.8673599031655717,
          null,
          2.569954341166525,
          2.6609600341440065,
          null,
          -3.1364504309815344,
          -3.247869918503426,
          null,
          -0.4376380630594967,
          -1.1312815042708309,
          null,
          -0.4376380630594967,
          -0.04062086215582682,
          null,
          -0.4376380630594967,
          -0.8378792405137507,
          null,
          1.4773850322242694,
          1.410566077754117,
          null,
          1.410566077754117,
          1.467611099877891,
          null,
          1.5792548064885914,
          1.467611099877891,
          null,
          1.5792548064885914,
          1.3394414418616682,
          null,
          -1.1312815042708309,
          -0.8378792405137507,
          null
         ]
        },
        {
         "hoverinfo": "text",
         "hovertext": [
          "Node ID: 0<br>Pullback set label: 4<br>Partial cluster label: 0<br>Node size: 3906<br>Summary statistic: 0.189",
          "Node ID: 1<br>Pullback set label: 7<br>Partial cluster label: 0<br>Node size: 2347<br>Summary statistic: 0.032",
          "Node ID: 2<br>Pullback set label: 5<br>Partial cluster label: 0<br>Node size: 2039<br>Summary statistic: 0.225",
          "Node ID: 3<br>Pullback set label: 8<br>Partial cluster label: 0<br>Node size: 4691<br>Summary statistic: 0.351",
          "Node ID: 4<br>Pullback set label: 9<br>Partial cluster label: 0<br>Node size: 559<br>Summary statistic: 0.905",
          "Node ID: 5<br>Pullback set label: 14<br>Partial cluster label: 0<br>Node size: 5533<br>Summary statistic: 0.554",
          "Node ID: 6<br>Pullback set label: 15<br>Partial cluster label: 0<br>Node size: 1874<br>Summary statistic: 0.991",
          "Node ID: 7<br>Pullback set label: 22<br>Partial cluster label: 0<br>Node size: 2439<br>Summary statistic: 0.969",
          "Node ID: 8<br>Pullback set label: 16<br>Partial cluster label: 0<br>Node size: 250<br>Summary statistic: 1.0",
          "Node ID: 9<br>Pullback set label: 23<br>Partial cluster label: 0<br>Node size: 947<br>Summary statistic: 1.0",
          "Node ID: 10<br>Pullback set label: 32<br>Partial cluster label: 0<br>Node size: 1091<br>Summary statistic: 1.0",
          "Node ID: 11<br>Pullback set label: 33<br>Partial cluster label: 0<br>Node size: 505<br>Summary statistic: 1.0",
          "Node ID: 12<br>Pullback set label: 40<br>Partial cluster label: 0<br>Node size: 874<br>Summary statistic: 1.0",
          "Node ID: 13<br>Pullback set label: 41<br>Partial cluster label: 0<br>Node size: 331<br>Summary statistic: 1.0",
          "Node ID: 14<br>Pullback set label: 49<br>Partial cluster label: 0<br>Node size: 630<br>Summary statistic: 1.0",
          "Node ID: 15<br>Pullback set label: 56<br>Partial cluster label: 0<br>Node size: 540<br>Summary statistic: 1.0",
          "Node ID: 16<br>Pullback set label: 57<br>Partial cluster label: 0<br>Node size: 138<br>Summary statistic: 1.0",
          "Node ID: 17<br>Pullback set label: 13<br>Partial cluster label: 0<br>Node size: 6094<br>Summary statistic: 0.251",
          "Node ID: 18<br>Pullback set label: 12<br>Partial cluster label: 0<br>Node size: 1289<br>Summary statistic: 0.346",
          "Node ID: 19<br>Pullback set label: 19<br>Partial cluster label: 0<br>Node size: 11938<br>Summary statistic: 0.606",
          "Node ID: 20<br>Pullback set label: 20<br>Partial cluster label: 0<br>Node size: 3737<br>Summary statistic: 0.614",
          "Node ID: 21<br>Pullback set label: 28<br>Partial cluster label: 0<br>Node size: 3751<br>Summary statistic: 0.898",
          "Node ID: 22<br>Pullback set label: 27<br>Partial cluster label: 0<br>Node size: 4036<br>Summary statistic: 0.963",
          "Node ID: 23<br>Pullback set label: 36<br>Partial cluster label: 0<br>Node size: 2089<br>Summary statistic: 1.0",
          "Node ID: 24<br>Pullback set label: 35<br>Partial cluster label: 0<br>Node size: 1170<br>Summary statistic: 1.0",
          "Node ID: 25<br>Pullback set label: 43<br>Partial cluster label: 0<br>Node size: 301<br>Summary statistic: 1.0",
          "Node ID: 26<br>Pullback set label: 21<br>Partial cluster label: 0<br>Node size: 1728<br>Summary statistic: 0.633",
          "Node ID: 27<br>Pullback set label: 31<br>Partial cluster label: 0<br>Node size: 652<br>Summary statistic: 1.0",
          "Node ID: 28<br>Pullback set label: 39<br>Partial cluster label: 0<br>Node size: 665<br>Summary statistic: 1.0",
          "Node ID: 29<br>Pullback set label: 48<br>Partial cluster label: 0<br>Node size: 657<br>Summary statistic: 1.0",
          "Node ID: 30<br>Pullback set label: 37<br>Partial cluster label: 0<br>Node size: 542<br>Summary statistic: 1.0",
          "Node ID: 31<br>Pullback set label: 45<br>Partial cluster label: 0<br>Node size: 189<br>Summary statistic: 1.0",
          "Node ID: 32<br>Pullback set label: 44<br>Partial cluster label: 0<br>Node size: 691<br>Summary statistic: 1.0",
          "Node ID: 33<br>Pullback set label: 52<br>Partial cluster label: 0<br>Node size: 141<br>Summary statistic: 1.0",
          "Node ID: 34<br>Pullback set label: 53<br>Partial cluster label: 0<br>Node size: 79<br>Summary statistic: 1.0",
          "Node ID: 35<br>Pullback set label: 18<br>Partial cluster label: 0<br>Node size: 992<br>Summary statistic: 0.843",
          "Node ID: 36<br>Pullback set label: 50<br>Partial cluster label: 0<br>Node size: 126<br>Summary statistic: 1.0",
          "Node ID: 37<br>Pullback set label: 1<br>Partial cluster label: 0<br>Node size: 1303<br>Summary statistic: 0.333",
          "Node ID: 38<br>Pullback set label: 3<br>Partial cluster label: 0<br>Node size: 76<br>Summary statistic: 0.197",
          "Node ID: 39<br>Pullback set label: 26<br>Partial cluster label: 0<br>Node size: 301<br>Summary statistic: 1.0",
          "Node ID: 40<br>Pullback set label: 61<br>Partial cluster label: 0<br>Node size: 69<br>Summary statistic: 1.0",
          "Node ID: 41<br>Pullback set label: 62<br>Partial cluster label: 0<br>Node size: 30<br>Summary statistic: 1.0",
          "Node ID: 42<br>Pullback set label: 47<br>Partial cluster label: 0<br>Node size: 29<br>Summary statistic: 1.0",
          "Node ID: 43<br>Pullback set label: 55<br>Partial cluster label: 0<br>Node size: 100<br>Summary statistic: 1.0",
          "Node ID: 44<br>Pullback set label: 24<br>Partial cluster label: 0<br>Node size: 95<br>Summary statistic: 1.0",
          "Node ID: 45<br>Pullback set label: 51<br>Partial cluster label: -1<br>Node size: 1<br>Summary statistic: 1.0",
          "Node ID: 46<br>Pullback set label: 29<br>Partial cluster label: 0<br>Node size: 169<br>Summary statistic: 1.0",
          "Node ID: 47<br>Pullback set label: 38<br>Partial cluster label: 0<br>Node size: 62<br>Summary statistic: 1.0",
          "Node ID: 48<br>Pullback set label: 54<br>Partial cluster label: 0<br>Node size: 13<br>Summary statistic: 1.0",
          "Node ID: 49<br>Pullback set label: 0<br>Partial cluster label: 0<br>Node size: 187<br>Summary statistic: 0.112",
          "Node ID: 50<br>Pullback set label: 34<br>Partial cluster label: 0<br>Node size: 50<br>Summary statistic: 1.0",
          "Node ID: 51<br>Pullback set label: 42<br>Partial cluster label: 0<br>Node size: 30<br>Summary statistic: 1.0",
          "Node ID: 52<br>Pullback set label: 2<br>Partial cluster label: 0<br>Node size: 45<br>Summary statistic: 1.0",
          "Node ID: 53<br>Pullback set label: 6<br>Partial cluster label: 0<br>Node size: 15<br>Summary statistic: 0.867",
          "Node ID: 54<br>Pullback set label: 10<br>Partial cluster label: 0<br>Node size: 7<br>Summary statistic: 1.0",
          "Node ID: 55<br>Pullback set label: 17<br>Partial cluster label: -1<br>Node size: 2<br>Summary statistic: 1.0",
          "Node ID: 56<br>Pullback set label: 25<br>Partial cluster label: -1<br>Node size: 3<br>Summary statistic: 1.0",
          "Node ID: 57<br>Pullback set label: 46<br>Partial cluster label: 0<br>Node size: 21<br>Summary statistic: 1.0",
          "Node ID: 58<br>Pullback set label: 59<br>Partial cluster label: 0<br>Node size: 8<br>Summary statistic: 1.0",
          "Node ID: 59<br>Pullback set label: 58<br>Partial cluster label: -1<br>Node size: 1<br>Summary statistic: 1.0",
          "Node ID: 60<br>Pullback set label: 11<br>Partial cluster label: -1<br>Node size: 1<br>Summary statistic: 1.0",
          "Node ID: 61<br>Pullback set label: 60<br>Partial cluster label: -1<br>Node size: 3<br>Summary statistic: 1.0",
          "Node ID: 62<br>Pullback set label: 30<br>Partial cluster label: -1<br>Node size: 1<br>Summary statistic: 1.0"
         ],
         "marker": {
          "color": [
           0.1889400921658986,
           0.031955688112484025,
           0.2246199117214321,
           0.3506714986143679,
           0.9051878354203936,
           0.5537682992951383,
           0.9909284951974386,
           0.9692496924969249,
           1,
           1,
           1,
           1,
           1,
           1,
           1,
           1,
           1,
           0.2509025270758123,
           0.3460046547711404,
           0.605964148098509,
           0.6141289804656141,
           0.8984270861103706,
           0.9625867195242814,
           1,
           1,
           1,
           0.6325231481481481,
           1,
           1,
           1,
           1,
           1,
           1,
           1,
           1,
           0.842741935483871,
           1,
           0.33307751343054487,
           0.19736842105263158,
           1,
           1,
           1,
           1,
           1,
           1,
           1,
           1,
           1,
           1,
           0.11229946524064172,
           1,
           1,
           1,
           0.8666666666666667,
           1,
           1,
           1,
           1,
           1,
           1,
           1,
           1,
           1
          ],
          "colorbar": {
           "thickness": 15,
           "title": {
            "side": "right",
            "text": ""
           },
           "xanchor": "left"
          },
          "colorscale": [
           [
            0,
            "#440154"
           ],
           [
            0.1111111111111111,
            "#482878"
           ],
           [
            0.2222222222222222,
            "#3e4989"
           ],
           [
            0.3333333333333333,
            "#31688e"
           ],
           [
            0.4444444444444444,
            "#26828e"
           ],
           [
            0.5555555555555556,
            "#1f9e89"
           ],
           [
            0.6666666666666666,
            "#35b779"
           ],
           [
            0.7777777777777778,
            "#6ece58"
           ],
           [
            0.8888888888888888,
            "#b5de2b"
           ],
           [
            1,
            "#fde725"
           ]
          ],
          "line": {
           "color": "#888",
           "width": 1
          },
          "opacity": 1,
          "reversescale": false,
          "showscale": true,
          "size": [
           3906,
           2347,
           2039,
           4691,
           559,
           5533,
           1874,
           2439,
           250,
           947,
           1091,
           505,
           874,
           331,
           630,
           540,
           138,
           6094,
           1289,
           11938,
           3737,
           3751,
           4036,
           2089,
           1170,
           301,
           1728,
           652,
           665,
           657,
           542,
           189,
           691,
           141,
           79,
           992,
           126,
           1303,
           76,
           301,
           69,
           30,
           29,
           100,
           95,
           1,
           169,
           62,
           13,
           187,
           50,
           30,
           45,
           15,
           7,
           2,
           3,
           21,
           8,
           1,
           1,
           3,
           1
          ],
          "sizemin": 4,
          "sizemode": "area",
          "sizeref": 26.52888888888889
         },
         "mode": "markers",
         "name": "node_trace",
         "type": "scatter",
         "uid": "62be80aa-4a93-4d61-996e-b68c8fb2f1f3",
         "x": [
          1.4382793358863317,
          0.8258221968849745,
          1.5297337291536655,
          0.9971730663944429,
          1.4274014685947647,
          0.6671809118520471,
          1.1476574737822711,
          0.8386681119358265,
          1.6027539482505626,
          1.3287487056048284,
          0.9927055041833894,
          1.4133676363104097,
          1.0505281195883933,
          1.476776666581253,
          1.0826308234565742,
          0.8127872531019827,
          1.1614382868522666,
          0.2372057361523154,
          0.009086016608310696,
          -0.42487667941717966,
          -0.45757668448058847,
          -1.0607126140000758,
          -0.9868206777613885,
          -1.572660170178835,
          -1.4795366139308845,
          -1.9740321368127651,
          0.47950970277754457,
          0.6222316437136666,
          0.6937944940308688,
          0.7572328871248667,
          -1.642844433763436,
          -2.2736107472618556,
          -2.15713682734284,
          -2.656443083792658,
          -2.878254699685846,
          -0.5258598621571441,
          1.563271590731531,
          1.9870703476734124,
          1.9860764706051732,
          -1.0717956564682454,
          0.5342169565327444,
          0.9655488161721663,
          0.33014548331187177,
          0.36017696393756754,
          1.7585924975135998,
          -2.3842935173281297,
          -1.1050300313109624,
          -1.6789309745145913,
          -3.061154787651869,
          1.623461951494887,
          1.812503584301799,
          1.9972587946742224,
          2.2148545840860177,
          1.6595118192142628,
          1.9251991943232047,
          2.1097878697103787,
          2.213201213399538,
          -2.387742545447429,
          -3.5493613063745295,
          -3.145361877743415,
          -0.07918554326356678,
          -3.6907794222719787,
          0.16503769963131756
         ],
         "y": [
          2.0313033294217813,
          1.640744472795784,
          1.6602834534667041,
          1.33879459578648,
          0.9714402480176734,
          0.91183442610257,
          0.5864252191305166,
          0.15001299881086183,
          0.27329429840489533,
          -0.13498076043103263,
          -0.5861577277559255,
          -0.8623528907832793,
          -1.3109673244663205,
          -1.5834735131785869,
          -2.0457396384867432,
          -2.5445570484190454,
          -2.7439997480720586,
          1.438865057455615,
          1.9509552239236048,
          1.8403308500634679,
          1.4538727328794097,
          1.866383839736908,
          2.2964322956428633,
          2.395548851708178,
          2.792553027232231,
          2.9779491308939527,
          0.4009171983215571,
          -0.26456509622920316,
          -1.136826463058017,
          -1.8365368917400398,
          1.9654571363208717,
          2.128253299411024,
          2.524758544457922,
          2.7754715809915966,
          2.2593531588690463,
          2.3368615127539205,
          -2.51121049748459,
          2.179896920546618,
          2.569954341166525,
          2.944873761243323,
          -3.1364504309815344,
          -3.247869918503426,
          -1.5593474559638343,
          -2.32362863915744,
          -0.4376380630594967,
          3.242197507302281,
          1.4773850322242694,
          1.410566077754117,
          1.5792548064885914,
          2.6609600341440065,
          -1.1312815042708309,
          -2.0728012466936576,
          1.8673599031655717,
          1.371755720905952,
          0.6936662750896143,
          -0.04062086215582682,
          -0.8378792405137507,
          1.467611099877891,
          2.458795712351924,
          3.285800311027737,
          2.5425674267290463,
          1.3394414418616682,
          -0.07932762613998805
         ]
        }
       ],
       "layout": {
        "autosize": false,
        "hovermode": "closest",
        "margin": {
         "b": 20,
         "l": 5,
         "r": 5,
         "t": 40
        },
        "showlegend": false,
        "template": {
         "data": {
          "bar": [
           {
            "error_x": {
             "color": "rgb(36,36,36)"
            },
            "error_y": {
             "color": "rgb(36,36,36)"
            },
            "marker": {
             "line": {
              "color": "white",
              "width": 0.5
             },
             "pattern": {
              "fillmode": "overlay",
              "size": 10,
              "solidity": 0.2
             }
            },
            "type": "bar"
           }
          ],
          "barpolar": [
           {
            "marker": {
             "line": {
              "color": "white",
              "width": 0.5
             },
             "pattern": {
              "fillmode": "overlay",
              "size": 10,
              "solidity": 0.2
             }
            },
            "type": "barpolar"
           }
          ],
          "carpet": [
           {
            "aaxis": {
             "endlinecolor": "rgb(36,36,36)",
             "gridcolor": "white",
             "linecolor": "white",
             "minorgridcolor": "white",
             "startlinecolor": "rgb(36,36,36)"
            },
            "baxis": {
             "endlinecolor": "rgb(36,36,36)",
             "gridcolor": "white",
             "linecolor": "white",
             "minorgridcolor": "white",
             "startlinecolor": "rgb(36,36,36)"
            },
            "type": "carpet"
           }
          ],
          "choropleth": [
           {
            "colorbar": {
             "outlinewidth": 1,
             "tickcolor": "rgb(36,36,36)",
             "ticks": "outside"
            },
            "type": "choropleth"
           }
          ],
          "contour": [
           {
            "colorbar": {
             "outlinewidth": 1,
             "tickcolor": "rgb(36,36,36)",
             "ticks": "outside"
            },
            "colorscale": [
             [
              0,
              "#440154"
             ],
             [
              0.1111111111111111,
              "#482878"
             ],
             [
              0.2222222222222222,
              "#3e4989"
             ],
             [
              0.3333333333333333,
              "#31688e"
             ],
             [
              0.4444444444444444,
              "#26828e"
             ],
             [
              0.5555555555555556,
              "#1f9e89"
             ],
             [
              0.6666666666666666,
              "#35b779"
             ],
             [
              0.7777777777777778,
              "#6ece58"
             ],
             [
              0.8888888888888888,
              "#b5de2b"
             ],
             [
              1,
              "#fde725"
             ]
            ],
            "type": "contour"
           }
          ],
          "contourcarpet": [
           {
            "colorbar": {
             "outlinewidth": 1,
             "tickcolor": "rgb(36,36,36)",
             "ticks": "outside"
            },
            "type": "contourcarpet"
           }
          ],
          "heatmap": [
           {
            "colorbar": {
             "outlinewidth": 1,
             "tickcolor": "rgb(36,36,36)",
             "ticks": "outside"
            },
            "colorscale": [
             [
              0,
              "#440154"
             ],
             [
              0.1111111111111111,
              "#482878"
             ],
             [
              0.2222222222222222,
              "#3e4989"
             ],
             [
              0.3333333333333333,
              "#31688e"
             ],
             [
              0.4444444444444444,
              "#26828e"
             ],
             [
              0.5555555555555556,
              "#1f9e89"
             ],
             [
              0.6666666666666666,
              "#35b779"
             ],
             [
              0.7777777777777778,
              "#6ece58"
             ],
             [
              0.8888888888888888,
              "#b5de2b"
             ],
             [
              1,
              "#fde725"
             ]
            ],
            "type": "heatmap"
           }
          ],
          "heatmapgl": [
           {
            "colorbar": {
             "outlinewidth": 1,
             "tickcolor": "rgb(36,36,36)",
             "ticks": "outside"
            },
            "colorscale": [
             [
              0,
              "#440154"
             ],
             [
              0.1111111111111111,
              "#482878"
             ],
             [
              0.2222222222222222,
              "#3e4989"
             ],
             [
              0.3333333333333333,
              "#31688e"
             ],
             [
              0.4444444444444444,
              "#26828e"
             ],
             [
              0.5555555555555556,
              "#1f9e89"
             ],
             [
              0.6666666666666666,
              "#35b779"
             ],
             [
              0.7777777777777778,
              "#6ece58"
             ],
             [
              0.8888888888888888,
              "#b5de2b"
             ],
             [
              1,
              "#fde725"
             ]
            ],
            "type": "heatmapgl"
           }
          ],
          "histogram": [
           {
            "marker": {
             "line": {
              "color": "white",
              "width": 0.6
             }
            },
            "type": "histogram"
           }
          ],
          "histogram2d": [
           {
            "colorbar": {
             "outlinewidth": 1,
             "tickcolor": "rgb(36,36,36)",
             "ticks": "outside"
            },
            "colorscale": [
             [
              0,
              "#440154"
             ],
             [
              0.1111111111111111,
              "#482878"
             ],
             [
              0.2222222222222222,
              "#3e4989"
             ],
             [
              0.3333333333333333,
              "#31688e"
             ],
             [
              0.4444444444444444,
              "#26828e"
             ],
             [
              0.5555555555555556,
              "#1f9e89"
             ],
             [
              0.6666666666666666,
              "#35b779"
             ],
             [
              0.7777777777777778,
              "#6ece58"
             ],
             [
              0.8888888888888888,
              "#b5de2b"
             ],
             [
              1,
              "#fde725"
             ]
            ],
            "type": "histogram2d"
           }
          ],
          "histogram2dcontour": [
           {
            "colorbar": {
             "outlinewidth": 1,
             "tickcolor": "rgb(36,36,36)",
             "ticks": "outside"
            },
            "colorscale": [
             [
              0,
              "#440154"
             ],
             [
              0.1111111111111111,
              "#482878"
             ],
             [
              0.2222222222222222,
              "#3e4989"
             ],
             [
              0.3333333333333333,
              "#31688e"
             ],
             [
              0.4444444444444444,
              "#26828e"
             ],
             [
              0.5555555555555556,
              "#1f9e89"
             ],
             [
              0.6666666666666666,
              "#35b779"
             ],
             [
              0.7777777777777778,
              "#6ece58"
             ],
             [
              0.8888888888888888,
              "#b5de2b"
             ],
             [
              1,
              "#fde725"
             ]
            ],
            "type": "histogram2dcontour"
           }
          ],
          "mesh3d": [
           {
            "colorbar": {
             "outlinewidth": 1,
             "tickcolor": "rgb(36,36,36)",
             "ticks": "outside"
            },
            "type": "mesh3d"
           }
          ],
          "parcoords": [
           {
            "line": {
             "colorbar": {
              "outlinewidth": 1,
              "tickcolor": "rgb(36,36,36)",
              "ticks": "outside"
             }
            },
            "type": "parcoords"
           }
          ],
          "pie": [
           {
            "automargin": true,
            "type": "pie"
           }
          ],
          "scatter": [
           {
            "marker": {
             "colorbar": {
              "outlinewidth": 1,
              "tickcolor": "rgb(36,36,36)",
              "ticks": "outside"
             }
            },
            "type": "scatter"
           }
          ],
          "scatter3d": [
           {
            "line": {
             "colorbar": {
              "outlinewidth": 1,
              "tickcolor": "rgb(36,36,36)",
              "ticks": "outside"
             }
            },
            "marker": {
             "colorbar": {
              "outlinewidth": 1,
              "tickcolor": "rgb(36,36,36)",
              "ticks": "outside"
             }
            },
            "type": "scatter3d"
           }
          ],
          "scattercarpet": [
           {
            "marker": {
             "colorbar": {
              "outlinewidth": 1,
              "tickcolor": "rgb(36,36,36)",
              "ticks": "outside"
             }
            },
            "type": "scattercarpet"
           }
          ],
          "scattergeo": [
           {
            "marker": {
             "colorbar": {
              "outlinewidth": 1,
              "tickcolor": "rgb(36,36,36)",
              "ticks": "outside"
             }
            },
            "type": "scattergeo"
           }
          ],
          "scattergl": [
           {
            "marker": {
             "colorbar": {
              "outlinewidth": 1,
              "tickcolor": "rgb(36,36,36)",
              "ticks": "outside"
             }
            },
            "type": "scattergl"
           }
          ],
          "scattermapbox": [
           {
            "marker": {
             "colorbar": {
              "outlinewidth": 1,
              "tickcolor": "rgb(36,36,36)",
              "ticks": "outside"
             }
            },
            "type": "scattermapbox"
           }
          ],
          "scatterpolar": [
           {
            "marker": {
             "colorbar": {
              "outlinewidth": 1,
              "tickcolor": "rgb(36,36,36)",
              "ticks": "outside"
             }
            },
            "type": "scatterpolar"
           }
          ],
          "scatterpolargl": [
           {
            "marker": {
             "colorbar": {
              "outlinewidth": 1,
              "tickcolor": "rgb(36,36,36)",
              "ticks": "outside"
             }
            },
            "type": "scatterpolargl"
           }
          ],
          "scatterternary": [
           {
            "marker": {
             "colorbar": {
              "outlinewidth": 1,
              "tickcolor": "rgb(36,36,36)",
              "ticks": "outside"
             }
            },
            "type": "scatterternary"
           }
          ],
          "surface": [
           {
            "colorbar": {
             "outlinewidth": 1,
             "tickcolor": "rgb(36,36,36)",
             "ticks": "outside"
            },
            "colorscale": [
             [
              0,
              "#440154"
             ],
             [
              0.1111111111111111,
              "#482878"
             ],
             [
              0.2222222222222222,
              "#3e4989"
             ],
             [
              0.3333333333333333,
              "#31688e"
             ],
             [
              0.4444444444444444,
              "#26828e"
             ],
             [
              0.5555555555555556,
              "#1f9e89"
             ],
             [
              0.6666666666666666,
              "#35b779"
             ],
             [
              0.7777777777777778,
              "#6ece58"
             ],
             [
              0.8888888888888888,
              "#b5de2b"
             ],
             [
              1,
              "#fde725"
             ]
            ],
            "type": "surface"
           }
          ],
          "table": [
           {
            "cells": {
             "fill": {
              "color": "rgb(237,237,237)"
             },
             "line": {
              "color": "white"
             }
            },
            "header": {
             "fill": {
              "color": "rgb(217,217,217)"
             },
             "line": {
              "color": "white"
             }
            },
            "type": "table"
           }
          ]
         },
         "layout": {
          "annotationdefaults": {
           "arrowhead": 0,
           "arrowwidth": 1
          },
          "autotypenumbers": "strict",
          "coloraxis": {
           "colorbar": {
            "outlinewidth": 1,
            "tickcolor": "rgb(36,36,36)",
            "ticks": "outside"
           }
          },
          "colorscale": {
           "diverging": [
            [
             0,
             "rgb(103,0,31)"
            ],
            [
             0.1,
             "rgb(178,24,43)"
            ],
            [
             0.2,
             "rgb(214,96,77)"
            ],
            [
             0.3,
             "rgb(244,165,130)"
            ],
            [
             0.4,
             "rgb(253,219,199)"
            ],
            [
             0.5,
             "rgb(247,247,247)"
            ],
            [
             0.6,
             "rgb(209,229,240)"
            ],
            [
             0.7,
             "rgb(146,197,222)"
            ],
            [
             0.8,
             "rgb(67,147,195)"
            ],
            [
             0.9,
             "rgb(33,102,172)"
            ],
            [
             1,
             "rgb(5,48,97)"
            ]
           ],
           "sequential": [
            [
             0,
             "#440154"
            ],
            [
             0.1111111111111111,
             "#482878"
            ],
            [
             0.2222222222222222,
             "#3e4989"
            ],
            [
             0.3333333333333333,
             "#31688e"
            ],
            [
             0.4444444444444444,
             "#26828e"
            ],
            [
             0.5555555555555556,
             "#1f9e89"
            ],
            [
             0.6666666666666666,
             "#35b779"
            ],
            [
             0.7777777777777778,
             "#6ece58"
            ],
            [
             0.8888888888888888,
             "#b5de2b"
            ],
            [
             1,
             "#fde725"
            ]
           ],
           "sequentialminus": [
            [
             0,
             "#440154"
            ],
            [
             0.1111111111111111,
             "#482878"
            ],
            [
             0.2222222222222222,
             "#3e4989"
            ],
            [
             0.3333333333333333,
             "#31688e"
            ],
            [
             0.4444444444444444,
             "#26828e"
            ],
            [
             0.5555555555555556,
             "#1f9e89"
            ],
            [
             0.6666666666666666,
             "#35b779"
            ],
            [
             0.7777777777777778,
             "#6ece58"
            ],
            [
             0.8888888888888888,
             "#b5de2b"
            ],
            [
             1,
             "#fde725"
            ]
           ]
          },
          "colorway": [
           "#1F77B4",
           "#FF7F0E",
           "#2CA02C",
           "#D62728",
           "#9467BD",
           "#8C564B",
           "#E377C2",
           "#7F7F7F",
           "#BCBD22",
           "#17BECF"
          ],
          "font": {
           "color": "rgb(36,36,36)"
          },
          "geo": {
           "bgcolor": "white",
           "lakecolor": "white",
           "landcolor": "white",
           "showlakes": true,
           "showland": true,
           "subunitcolor": "white"
          },
          "hoverlabel": {
           "align": "left"
          },
          "hovermode": "closest",
          "mapbox": {
           "style": "light"
          },
          "paper_bgcolor": "white",
          "plot_bgcolor": "white",
          "polar": {
           "angularaxis": {
            "gridcolor": "rgb(232,232,232)",
            "linecolor": "rgb(36,36,36)",
            "showgrid": false,
            "showline": true,
            "ticks": "outside"
           },
           "bgcolor": "white",
           "radialaxis": {
            "gridcolor": "rgb(232,232,232)",
            "linecolor": "rgb(36,36,36)",
            "showgrid": false,
            "showline": true,
            "ticks": "outside"
           }
          },
          "scene": {
           "xaxis": {
            "backgroundcolor": "white",
            "gridcolor": "rgb(232,232,232)",
            "gridwidth": 2,
            "linecolor": "rgb(36,36,36)",
            "showbackground": true,
            "showgrid": false,
            "showline": true,
            "ticks": "outside",
            "zeroline": false,
            "zerolinecolor": "rgb(36,36,36)"
           },
           "yaxis": {
            "backgroundcolor": "white",
            "gridcolor": "rgb(232,232,232)",
            "gridwidth": 2,
            "linecolor": "rgb(36,36,36)",
            "showbackground": true,
            "showgrid": false,
            "showline": true,
            "ticks": "outside",
            "zeroline": false,
            "zerolinecolor": "rgb(36,36,36)"
           },
           "zaxis": {
            "backgroundcolor": "white",
            "gridcolor": "rgb(232,232,232)",
            "gridwidth": 2,
            "linecolor": "rgb(36,36,36)",
            "showbackground": true,
            "showgrid": false,
            "showline": true,
            "ticks": "outside",
            "zeroline": false,
            "zerolinecolor": "rgb(36,36,36)"
           }
          },
          "shapedefaults": {
           "fillcolor": "black",
           "line": {
            "width": 0
           },
           "opacity": 0.3
          },
          "ternary": {
           "aaxis": {
            "gridcolor": "rgb(232,232,232)",
            "linecolor": "rgb(36,36,36)",
            "showgrid": false,
            "showline": true,
            "ticks": "outside"
           },
           "baxis": {
            "gridcolor": "rgb(232,232,232)",
            "linecolor": "rgb(36,36,36)",
            "showgrid": false,
            "showline": true,
            "ticks": "outside"
           },
           "bgcolor": "white",
           "caxis": {
            "gridcolor": "rgb(232,232,232)",
            "linecolor": "rgb(36,36,36)",
            "showgrid": false,
            "showline": true,
            "ticks": "outside"
           }
          },
          "title": {
           "x": 0.05
          },
          "xaxis": {
           "automargin": true,
           "gridcolor": "rgb(232,232,232)",
           "linecolor": "rgb(36,36,36)",
           "showgrid": false,
           "showline": true,
           "ticks": "outside",
           "title": {
            "standoff": 15
           },
           "zeroline": false,
           "zerolinecolor": "rgb(36,36,36)"
          },
          "yaxis": {
           "automargin": true,
           "gridcolor": "rgb(232,232,232)",
           "linecolor": "rgb(36,36,36)",
           "showgrid": false,
           "showline": true,
           "ticks": "outside",
           "title": {
            "standoff": 15
           },
           "zeroline": false,
           "zerolinecolor": "rgb(36,36,36)"
          }
         }
        },
        "title": {
         "text": ""
        },
        "xaxis": {
         "showgrid": false,
         "showline": false,
         "showticklabels": false,
         "ticks": "",
         "title": {
          "text": ""
         },
         "zeroline": false
        },
        "yaxis": {
         "showgrid": false,
         "showline": false,
         "showticklabels": false,
         "ticks": "",
         "title": {
          "text": ""
         },
         "zeroline": false
        }
       }
      }
     },
     "metadata": {},
     "output_type": "display_data"
    }
   ],
   "source": [
    "fig = plot_static_mapper_graph(pipe, X, layout_dim=2, color_data = color_code_fault_step, node_scale = 30)\n",
    "fig.show(config={'scrollZoom': True})"
   ]
  },
  {
   "cell_type": "markdown",
   "id": "482fcfcd",
   "metadata": {},
   "source": [
    "# Kolmogorov Smirnov"
   ]
  },
  {
   "cell_type": "code",
   "execution_count": 268,
   "id": "f9804116",
   "metadata": {},
   "outputs": [],
   "source": [
    "graph = pipe.fit_transform(X)"
   ]
  },
  {
   "cell_type": "code",
   "execution_count": 252,
   "id": "1aed86cd",
   "metadata": {},
   "outputs": [],
   "source": [
    "# identify end nodes by hand (here for FD004)\n",
    "node_ids_0 = [16, 36, 51]\n",
    "node_ids_1 = [59, 58, 61, 45, 33, 34, 48]"
   ]
  },
  {
   "cell_type": "code",
   "execution_count": 269,
   "id": "59ca158b",
   "metadata": {},
   "outputs": [],
   "source": [
    "# for FD003\n",
    "node_ids_0 = [41, 9, 10, 43]\n",
    "node_ids_1 = [24, 23]"
   ]
  },
  {
   "cell_type": "code",
   "execution_count": 270,
   "id": "60900ac8",
   "metadata": {},
   "outputs": [],
   "source": [
    "ne = graph.vs['node_elements']"
   ]
  },
  {
   "cell_type": "code",
   "execution_count": 271,
   "id": "a365b257",
   "metadata": {},
   "outputs": [],
   "source": [
    "points_0 = np.empty(0)\n",
    "for i in node_ids_0:\n",
    "    points_0 = np.append(points_0, ne[i])"
   ]
  },
  {
   "cell_type": "code",
   "execution_count": 272,
   "id": "6c5093e7",
   "metadata": {},
   "outputs": [
    {
     "data": {
      "text/plain": [
       "(337,)"
      ]
     },
     "execution_count": 272,
     "metadata": {},
     "output_type": "execute_result"
    }
   ],
   "source": [
    "points_0.shape"
   ]
  },
  {
   "cell_type": "code",
   "execution_count": 273,
   "id": "f91b41dd",
   "metadata": {},
   "outputs": [],
   "source": [
    "points_1 = np.empty(0)\n",
    "for i in node_ids_1:\n",
    "    points_1 = np.append(points_1, ne[i])"
   ]
  },
  {
   "cell_type": "code",
   "execution_count": 274,
   "id": "eadda518",
   "metadata": {},
   "outputs": [
    {
     "data": {
      "text/plain": [
       "(163,)"
      ]
     },
     "execution_count": 274,
     "metadata": {},
     "output_type": "execute_result"
    }
   ],
   "source": [
    "points_1.shape"
   ]
  },
  {
   "cell_type": "code",
   "execution_count": 275,
   "id": "cb598348",
   "metadata": {},
   "outputs": [],
   "source": [
    "# prepare data for ks test\n",
    "tr_df_KS = rd.RUL_DataFrame(df = tr, label_cols = ['linear'])\n",
    "if dataset == 3:\n",
    "    preproc.scale(rul_df = tr_df_KS, scale = 'std')\n",
    "elif dataset == 4:\n",
    "    classy.fit_kmeans(rul_df = tr_df_KS, colname = 'kmeans')\n",
    "    preproc.one_hot_encode(rul_df = tr_df_KS, c_col = 'kmeans')\n",
    "    preproc.c_scale(rul_df = tr_df_KS, c_cols = tr_df.categ_cols, scale = 'std')"
   ]
  },
  {
   "cell_type": "code",
   "execution_count": 276,
   "id": "884e7539",
   "metadata": {},
   "outputs": [],
   "source": [
    "fault_0_data = tr_df_KS.df.iloc[points_0]\n",
    "fault_1_data = tr_df_KS.df.iloc[points_1]"
   ]
  },
  {
   "cell_type": "code",
   "execution_count": 277,
   "id": "8c311e37",
   "metadata": {},
   "outputs": [
    {
     "name": "stdout",
     "output_type": "stream",
     "text": [
      "s1\n",
      "KstestResult(statistic=0.0, pvalue=1.0)\n",
      "s2\n",
      "KstestResult(statistic=0.2325462853397899, pvalue=1.0354884867855324e-05)\n",
      "s3\n",
      "KstestResult(statistic=0.2289417633030529, pvalue=1.5124370169461103e-05)\n",
      "s4\n",
      "KstestResult(statistic=0.2734885583732319, pvalue=9.573650205702801e-08)\n",
      "s5\n",
      "KstestResult(statistic=0.0, pvalue=1.0)\n",
      "s6\n",
      "KstestResult(statistic=0.22040377928674154, pvalue=3.593675736028469e-05)\n",
      "s7\n",
      "KstestResult(statistic=0.2506053048369773, pvalue=1.4479748044436763e-06)\n",
      "s8\n",
      "KstestResult(statistic=0.08650852888168793, pvalue=0.3574108721839549)\n",
      "s9\n",
      "KstestResult(statistic=0.16302270120696874, pvalue=0.004999965468307523)\n",
      "s10\n",
      "KstestResult(statistic=0.09799566729169322, pvalue=0.22293530880069476)\n",
      "s11\n",
      "KstestResult(statistic=0.23411188582039286, pvalue=8.794209865401994e-06)\n",
      "s12\n",
      "KstestResult(statistic=0.2531721614388961, pvalue=1.0803637702123687e-06)\n",
      "s13\n",
      "KstestResult(statistic=0.09786823469443484, pvalue=0.22416994211730348)\n",
      "s14\n",
      "KstestResult(statistic=0.2208042817352679, pvalue=3.4530854361407084e-05)\n",
      "s15\n",
      "KstestResult(statistic=0.31186397480475503, pvalue=5.763556254265348e-10)\n",
      "s16\n",
      "KstestResult(statistic=0.0, pvalue=1.0)\n",
      "s17\n",
      "KstestResult(statistic=0.19120350985782164, pvalue=0.0005323288933976213)\n",
      "s18\n",
      "KstestResult(statistic=0.0, pvalue=1.0)\n",
      "s19\n",
      "KstestResult(statistic=0.0, pvalue=1.0)\n",
      "s20\n",
      "KstestResult(statistic=0.24457956345233112, pvalue=2.8462547779273913e-06)\n",
      "s21\n",
      "KstestResult(statistic=0.27834920172580147, pvalue=5.2430070787898516e-08)\n"
     ]
    }
   ],
   "source": [
    "from scipy import stats\n",
    "for s in tr_df_KS.data_cols:\n",
    "    # KS test\n",
    "    sample0 = fault_0_data[s].values\n",
    "    sample1 = fault_1_data[s].values\n",
    "    print(s)\n",
    "    test = stats.ks_2samp(sample0, sample1)\n",
    "    print(test)"
   ]
  },
  {
   "cell_type": "code",
   "execution_count": 217,
   "id": "f27652e3",
   "metadata": {},
   "outputs": [],
   "source": [
    "test = stats.ks_2samp(sample0, sample1)"
   ]
  },
  {
   "cell_type": "code",
   "execution_count": 231,
   "id": "84ed999f",
   "metadata": {},
   "outputs": [
    {
     "data": {
      "text/plain": [
       "7.30306153831923e-16"
      ]
     },
     "execution_count": 231,
     "metadata": {},
     "output_type": "execute_result"
    }
   ],
   "source": [
    "7.30306153831923e-16"
   ]
  },
  {
   "cell_type": "markdown",
   "id": "ed288553",
   "metadata": {},
   "source": [
    "Kepler Mapper offers more flexibility. OLD CODE!!! Probably wont work"
   ]
  },
  {
   "cell_type": "code",
   "execution_count": 3,
   "id": "02bd6232",
   "metadata": {},
   "outputs": [],
   "source": [
    "tr_df = rdf.RUL_DataFrame(df = tr, label_cols = ['linear'])\n",
    "te_df = rdf.RUL_DataFrame(df = te, label_cols = ['linear'])"
   ]
  },
  {
   "cell_type": "code",
   "execution_count": 4,
   "id": "concrete-colon",
   "metadata": {},
   "outputs": [],
   "source": [
    "pre = pr.Preprocessing()\n",
    "cl = cl.Classification()"
   ]
  },
  {
   "cell_type": "code",
   "execution_count": 5,
   "id": "happy-december",
   "metadata": {},
   "outputs": [],
   "source": [
    "import copy\n",
    "rul_df = copy.deepcopy(tr_df)\n",
    "rul_df_test = copy.deepcopy(te_df)"
   ]
  },
  {
   "cell_type": "code",
   "execution_count": 6,
   "id": "81aa6b12",
   "metadata": {},
   "outputs": [],
   "source": [
    "cl.fit_kmeans(rul_df = rul_df)"
   ]
  },
  {
   "cell_type": "code",
   "execution_count": 7,
   "id": "16564a4e",
   "metadata": {},
   "outputs": [],
   "source": [
    "pre.one_hot_encode(rul_df = rul_df)"
   ]
  },
  {
   "cell_type": "code",
   "execution_count": 8,
   "id": "60b9e77a",
   "metadata": {},
   "outputs": [],
   "source": [
    "pre.c_drop_zero_variance(rul_df = rul_df , c_cols = rul_df.categ_cols, eps = 0.0001)\n",
    "# pre.drop_zero_variance(rul_df = rul_df, rul_df_test = rul_df_test)\n",
    "# rul_df.data_cols"
   ]
  },
  {
   "cell_type": "code",
   "execution_count": 9,
   "id": "apart-blackjack",
   "metadata": {},
   "outputs": [],
   "source": [
    "pre.c_scale(rul_df = rul_df, c_cols = rul_df.categ_cols)\n",
    "# pre.scale(rul_df = rul_df, scale = 'minmax')"
   ]
  },
  {
   "cell_type": "code",
   "execution_count": 10,
   "id": "separate-device",
   "metadata": {},
   "outputs": [],
   "source": [
    "pre.moving_average(rul_df = rul_df)"
   ]
  },
  {
   "cell_type": "code",
   "execution_count": 11,
   "id": "cellular-terminology",
   "metadata": {},
   "outputs": [],
   "source": [
    "import kmapper as km\n",
    "import pandas as pd\n",
    "import numpy as np\n",
    "from sklearn import ensemble, cluster"
   ]
  },
  {
   "cell_type": "code",
   "execution_count": 12,
   "id": "assigned-seattle",
   "metadata": {},
   "outputs": [],
   "source": [
    "X = np.array(rul_df.df[rul_df.data_cols])\n",
    "y = np.array(rul_df.df[rul_df.label_cols])"
   ]
  },
  {
   "cell_type": "code",
   "execution_count": 13,
   "id": "fuzzy-briefing",
   "metadata": {},
   "outputs": [],
   "source": [
    "for i in range(len(y)):\n",
    "    if y[i] > 100:\n",
    "        y[i] = 0\n",
    "    elif y[i] > 50:\n",
    "        y[i] = 1\n",
    "    elif y[i] > 25:\n",
    "        y[i] = 2\n",
    "    elif y[i] > 10:\n",
    "        y[i] = 3\n",
    "    else:\n",
    "        y[i] = 4"
   ]
  },
  {
   "cell_type": "markdown",
   "id": "0e9ee770",
   "metadata": {},
   "source": [
    "#### Choosing parameter for dbscan:\n"
   ]
  },
  {
   "cell_type": "code",
   "execution_count": 26,
   "id": "7f44b80b",
   "metadata": {},
   "outputs": [],
   "source": [
    "from sklearn.neighbors import NearestNeighbors\n",
    "neighbors = 6\n",
    "nbrs = NearestNeighbors(n_neighbors = neighbors).fit(X)\n",
    "distances, indices = nbrs.kneighbors(X)"
   ]
  },
  {
   "cell_type": "code",
   "execution_count": 37,
   "id": "3339ebfa",
   "metadata": {},
   "outputs": [],
   "source": [
    "distance_desc = sorted(distances.mean(axis = 1), reverse=True)"
   ]
  },
  {
   "cell_type": "code",
   "execution_count": 39,
   "id": "063cfcef",
   "metadata": {},
   "outputs": [],
   "source": [
    "from kneed import KneeLocator\n",
    "kneedle = KneeLocator(range(1,len(distance_desc)+1),  #x values\n",
    "                      distance_desc, # y values\n",
    "                      S=1.0, #parameter suggested from paper\n",
    "                      curve=\"convex\", #parameter from figure\n",
    "                      direction=\"decreasing\") #parameter from figure"
   ]
  },
  {
   "cell_type": "code",
   "execution_count": 40,
   "id": "1d7a11f2",
   "metadata": {},
   "outputs": [
    {
     "data": {
      "image/png": "[encoded data removed]",
      "text/plain": [
       "<Figure size 432x432 with 1 Axes>"
      ]
     },
     "metadata": {
      "needs_background": "light"
     },
     "output_type": "display_data"
    }
   ],
   "source": [
    "kneedle.plot_knee_normalized()"
   ]
  },
  {
   "cell_type": "code",
   "execution_count": 42,
   "id": "43e1459a",
   "metadata": {},
   "outputs": [
    {
     "data": {
      "text/plain": [
       "0.6857844190265147"
      ]
     },
     "execution_count": 42,
     "metadata": {},
     "output_type": "execute_result"
    }
   ],
   "source": [
    "kneedle.knee_y"
   ]
  },
  {
   "cell_type": "markdown",
   "id": "9b086c59",
   "metadata": {},
   "source": [
    "### Mapper"
   ]
  },
  {
   "cell_type": "code",
   "execution_count": 14,
   "id": "01f057d8",
   "metadata": {},
   "outputs": [],
   "source": [
    "projector = ensemble.IsolationForest(random_state=0, n_jobs=-1)\n",
    "projector.fit(X)\n",
    "lens1 = projector.decision_function(X)"
   ]
  },
  {
   "cell_type": "code",
   "execution_count": 15,
   "id": "veterinary-messaging",
   "metadata": {},
   "outputs": [
    {
     "name": "stdout",
     "output_type": "stream",
     "text": [
      "KeplerMapper(verbose=3)\n",
      "..Composing projection pipeline of length 1:\n",
      "\tProjections: knn_distance_10\n",
      "\tDistance matrices: False\n",
      "\tScalers: None\n",
      "..Projecting on data shaped (60253, 16)\n",
      "\n",
      "..Projecting data using: knn_distance_10\n"
     ]
    }
   ],
   "source": [
    "mapper = km.KeplerMapper(verbose=3)\n",
    "lens2 = mapper.fit_transform(X, projection = \"knn_distance_10\", scaler = None)"
   ]
  },
  {
   "cell_type": "code",
   "execution_count": 15,
   "id": "serious-break",
   "metadata": {},
   "outputs": [
    {
     "name": "stdout",
     "output_type": "stream",
     "text": [
      "..Composing projection pipeline of length 1:\n",
      "\tProjections: sum\n",
      "\tDistance matrices: False\n",
      "\tScalers: MinMaxScaler()\n",
      "..Projecting on data shaped (20231, 14)\n",
      "\n",
      "..Projecting data using: sum\n",
      "\n",
      "..Scaling with: MinMaxScaler()\n",
      "\n"
     ]
    }
   ],
   "source": [
    "lens3 = mapper.fit_transform(X) # projection: sum"
   ]
  },
  {
   "cell_type": "code",
   "execution_count": 16,
   "id": "1ead37bb",
   "metadata": {},
   "outputs": [],
   "source": [
    "pca = PCA(n_components = 1)\n",
    "lens4 = pca.fit_transform(X)"
   ]
  },
  {
   "cell_type": "code",
   "execution_count": 16,
   "id": "58cd6541",
   "metadata": {},
   "outputs": [],
   "source": [
    "lens5 = y"
   ]
  },
  {
   "cell_type": "code",
   "execution_count": 20,
   "id": "amber-filling",
   "metadata": {},
   "outputs": [],
   "source": [
    "lens = np.c_[lens1, lens2, lens5]"
   ]
  },
  {
   "cell_type": "code",
   "execution_count": 21,
   "id": "heated-recorder",
   "metadata": {},
   "outputs": [
    {
     "name": "stdout",
     "output_type": "stream",
     "text": [
      "Mapping on data shaped (60253, 16) using lens shaped (60253, 3)\n",
      "\n",
      "Minimal points in hypercube before clustering: 5\n",
      "Creating 8000 hypercubes.\n",
      "Cube_0 is empty.\n",
      "\n",
      "Cube_1 is empty.\n",
      "\n",
      "Cube_2 is empty.\n",
      "\n",
      "Cube_3 is empty.\n",
      "\n",
      "Cube_4 is empty.\n",
      "\n",
      "Cube_5 is empty.\n",
      "\n",
      "Cube_6 is empty.\n",
      "\n",
      "Cube_7 is empty.\n",
      "\n",
      "Cube_8 is empty.\n",
      "\n",
      "Cube_9 is empty.\n",
      "\n",
      "   > Found 0 clusters in hypercube 10.\n",
      "Cube_11 is empty.\n",
      "\n",
      "   > Found 0 clusters in hypercube 12.\n",
      "Cube_13 is empty.\n",
      "\n",
      "Cube_14 is empty.\n",
      "\n",
      "   > Found 0 clusters in hypercube 15.\n",
      "Cube_16 is empty.\n",
      "\n",
      "Cube_17 is empty.\n",
      "\n",
      "   > Found 0 clusters in hypercube 18.\n",
      "Cube_19 is empty.\n",
      "\n",
      "Cube_20 is empty.\n",
      "\n",
      "Cube_21 is empty.\n",
      "\n",
      "Cube_22 is empty.\n",
      "\n",
      "Cube_23 is empty.\n",
      "\n",
      "Cube_24 is empty.\n",
      "\n",
      "Cube_25 is empty.\n",
      "\n",
      "Cube_26 is empty.\n",
      "\n",
      "Cube_27 is empty.\n",
      "\n",
      "Cube_28 is empty.\n",
      "\n",
      "Cube_29 is empty.\n",
      "\n",
      "Cube_30 is empty.\n",
      "\n",
      "Cube_31 is empty.\n",
      "\n",
      "   > Found 0 clusters in hypercube 32.\n",
      "Cube_33 is empty.\n",
      "\n",
      "Cube_34 is empty.\n",
      "\n",
      "Cube_35 is empty.\n",
      "\n",
      "Cube_36 is empty.\n",
      "\n",
      "   > Found 0 clusters in hypercube 37.\n",
      "Cube_38 is empty.\n",
      "\n",
      "Cube_39 is empty.\n",
      "\n",
      "Cube_40 is empty.\n",
      "\n",
      "Cube_41 is empty.\n",
      "\n",
      "Cube_42 is empty.\n",
      "\n",
      "Cube_43 is empty.\n",
      "\n",
      "Cube_44 is empty.\n",
      "\n",
      "   > Found 0 clusters in hypercube 45.\n",
      "Cube_46 is empty.\n",
      "\n",
      "Cube_47 is empty.\n",
      "\n",
      "   > Found 0 clusters in hypercube 48.\n",
      "Cube_49 is empty.\n",
      "\n",
      "   > Found 0 clusters in hypercube 50.\n",
      "Cube_51 is empty.\n",
      "\n",
      "   > Found 0 clusters in hypercube 52.\n",
      "   > Found 0 clusters in hypercube 53.\n",
      "Cube_54 is empty.\n",
      "\n",
      "Cube_55 is empty.\n",
      "\n",
      "   > Found 0 clusters in hypercube 56.\n",
      "   > Found 0 clusters in hypercube 57.\n",
      "   > Found 0 clusters in hypercube 58.\n",
      "   > Found 0 clusters in hypercube 59.\n",
      "Cube_60 is empty.\n",
      "\n",
      "Cube_61 is empty.\n",
      "\n",
      "Cube_62 is empty.\n",
      "\n",
      "Cube_63 is empty.\n",
      "\n",
      "Cube_64 is empty.\n",
      "\n",
      "Cube_65 is empty.\n",
      "\n",
      "Cube_66 is empty.\n",
      "\n",
      "Cube_67 is empty.\n",
      "\n",
      "   > Found 1 clusters in hypercube 68.\n",
      "Cube_69 is empty.\n",
      "\n",
      "Cube_70 is empty.\n",
      "\n",
      "Cube_71 is empty.\n",
      "\n",
      "Cube_72 is empty.\n",
      "\n",
      "Cube_73 is empty.\n",
      "\n",
      "   > Found 0 clusters in hypercube 74.\n",
      "Cube_75 is empty.\n",
      "\n",
      "Cube_76 is empty.\n",
      "\n",
      "Cube_77 is empty.\n",
      "\n",
      "Cube_78 is empty.\n",
      "\n",
      "   > Found 0 clusters in hypercube 79.\n",
      "Cube_80 is empty.\n",
      "\n",
      "Cube_81 is empty.\n",
      "\n",
      "Cube_82 is empty.\n",
      "\n",
      "Cube_83 is empty.\n",
      "\n",
      "Cube_84 is empty.\n",
      "\n",
      "   > Found 0 clusters in hypercube 85.\n",
      "   > Found 0 clusters in hypercube 86.\n",
      "Cube_87 is empty.\n",
      "\n",
      "Cube_88 is empty.\n",
      "\n",
      "   > Found 0 clusters in hypercube 89.\n",
      "   > Found 0 clusters in hypercube 90.\n",
      "Cube_91 is empty.\n",
      "\n",
      "Cube_92 is empty.\n",
      "\n",
      "   > Found 0 clusters in hypercube 93.\n",
      "Cube_94 is empty.\n",
      "\n",
      "Cube_95 is empty.\n",
      "\n",
      "   > Found 0 clusters in hypercube 96.\n",
      "Cube_97 is empty.\n",
      "\n",
      "Cube_98 is empty.\n",
      "\n",
      "   > Found 0 clusters in hypercube 99.\n",
      "   > Found 0 clusters in hypercube 100.\n",
      "Cube_101 is empty.\n",
      "\n",
      "Cube_102 is empty.\n",
      "\n",
      "Cube_103 is empty.\n",
      "\n",
      "   > Found 0 clusters in hypercube 104.\n",
      "   > Found 2 clusters in hypercube 105.\n",
      "Cube_106 is empty.\n",
      "\n",
      "Cube_107 is empty.\n",
      "\n",
      "Cube_108 is empty.\n",
      "\n",
      "Cube_109 is empty.\n",
      "\n",
      "Cube_110 is empty.\n",
      "\n",
      "Cube_111 is empty.\n",
      "\n",
      "Cube_112 is empty.\n",
      "\n",
      "   > Found 1 clusters in hypercube 113.\n",
      "Cube_114 is empty.\n",
      "\n",
      "Cube_115 is empty.\n",
      "\n",
      "Cube_116 is empty.\n",
      "\n",
      "Cube_117 is empty.\n",
      "\n",
      "Cube_118 is empty.\n",
      "\n",
      "Cube_119 is empty.\n",
      "\n",
      "Cube_120 is empty.\n",
      "\n",
      "   > Found 0 clusters in hypercube 121.\n",
      "Cube_122 is empty.\n",
      "\n",
      "Cube_123 is empty.\n",
      "\n",
      "Cube_124 is empty.\n",
      "\n",
      "Cube_125 is empty.\n",
      "\n",
      "   > Found 0 clusters in hypercube 126.\n",
      "   > Found 0 clusters in hypercube 127.\n",
      "   > Found 0 clusters in hypercube 128.\n",
      "   > Found 0 clusters in hypercube 129.\n",
      "   > Found 0 clusters in hypercube 130.\n",
      "   > Found 0 clusters in hypercube 131.\n",
      "Cube_132 is empty.\n",
      "\n",
      "Cube_133 is empty.\n",
      "\n",
      "   > Found 0 clusters in hypercube 134.\n",
      "   > Found 0 clusters in hypercube 135.\n",
      "   > Found 0 clusters in hypercube 136.\n",
      "   > Found 0 clusters in hypercube 137.\n",
      "   > Found 0 clusters in hypercube 138.\n",
      "   > Found 0 clusters in hypercube 139.\n",
      "   > Found 0 clusters in hypercube 140.\n",
      "   > Found 0 clusters in hypercube 141.\n",
      "   > Found 0 clusters in hypercube 142.\n",
      "   > Found 0 clusters in hypercube 143.\n",
      "Cube_144 is empty.\n",
      "\n",
      "Cube_145 is empty.\n",
      "\n",
      "Cube_146 is empty.\n",
      "\n",
      "Cube_147 is empty.\n",
      "\n",
      "Cube_148 is empty.\n",
      "\n",
      "Cube_149 is empty.\n",
      "\n",
      "Cube_150 is empty.\n",
      "\n",
      "Cube_151 is empty.\n",
      "\n",
      "Cube_152 is empty.\n",
      "\n",
      "   > Found 1 clusters in hypercube 153.\n",
      "Cube_154 is empty.\n",
      "\n",
      "Cube_155 is empty.\n",
      "\n",
      "Cube_156 is empty.\n",
      "\n",
      "   > Found 0 clusters in hypercube 157.\n",
      "   > Found 0 clusters in hypercube 158.\n",
      "   > Found 3 clusters in hypercube 159.\n",
      "Cube_160 is empty.\n",
      "\n",
      "Cube_161 is empty.\n",
      "\n",
      "   > Found 0 clusters in hypercube 162.\n",
      "   > Found 0 clusters in hypercube 163.\n",
      "   > Found 0 clusters in hypercube 164.\n",
      "Cube_165 is empty.\n",
      "\n",
      "   > Found 0 clusters in hypercube 166.\n",
      "   > Found 0 clusters in hypercube 167.\n",
      "   > Found 0 clusters in hypercube 168.\n",
      "   > Found 0 clusters in hypercube 169.\n",
      "   > Found 0 clusters in hypercube 170.\n",
      "Cube_171 is empty.\n",
      "\n",
      "   > Found 0 clusters in hypercube 172.\n",
      "   > Found 0 clusters in hypercube 173.\n",
      "Cube_174 is empty.\n",
      "\n",
      "Cube_175 is empty.\n",
      "\n",
      "   > Found 0 clusters in hypercube 176.\n",
      "   > Found 0 clusters in hypercube 177.\n",
      "   > Found 0 clusters in hypercube 178.\n",
      "Cube_179 is empty.\n",
      "\n",
      "Cube_180 is empty.\n",
      "\n",
      "Cube_181 is empty.\n",
      "\n",
      "Cube_182 is empty.\n",
      "\n",
      "Cube_183 is empty.\n",
      "\n",
      "   > Found 0 clusters in hypercube 184.\n",
      "   > Found 0 clusters in hypercube 185.\n",
      "   > Found 0 clusters in hypercube 186.\n",
      "Cube_187 is empty.\n",
      "\n",
      "Cube_188 is empty.\n",
      "\n",
      "Cube_189 is empty.\n",
      "\n",
      "   > Found 0 clusters in hypercube 190.\n",
      "   > Found 0 clusters in hypercube 191.\n",
      "   > Found 0 clusters in hypercube 192.\n",
      "Cube_193 is empty.\n",
      "\n",
      "Cube_194 is empty.\n",
      "\n",
      "Cube_195 is empty.\n",
      "\n",
      "   > Found 0 clusters in hypercube 196.\n",
      "   > Found 0 clusters in hypercube 197.\n",
      "   > Found 0 clusters in hypercube 198.\n",
      "Cube_199 is empty.\n",
      "\n",
      "Cube_200 is empty.\n",
      "\n",
      "   > Found 0 clusters in hypercube 201.\n",
      "   > Found 0 clusters in hypercube 202.\n",
      "   > Found 0 clusters in hypercube 203.\n",
      "Cube_204 is empty.\n",
      "\n",
      "Cube_205 is empty.\n",
      "\n",
      "   > Found 0 clusters in hypercube 206.\n",
      "   > Found 0 clusters in hypercube 207.\n",
      "Cube_208 is empty.\n",
      "\n",
      "Cube_209 is empty.\n",
      "\n",
      "Cube_210 is empty.\n",
      "\n",
      "Cube_211 is empty.\n",
      "\n",
      "Cube_212 is empty.\n",
      "\n",
      "Cube_213 is empty.\n",
      "\n",
      "Cube_214 is empty.\n",
      "\n",
      "Cube_215 is empty.\n",
      "\n",
      "Cube_216 is empty.\n",
      "\n",
      "Cube_217 is empty.\n",
      "\n",
      "Cube_218 is empty.\n",
      "\n",
      "Cube_219 is empty.\n",
      "\n",
      "Cube_220 is empty.\n",
      "\n",
      "Cube_221 is empty.\n",
      "\n",
      "Cube_222 is empty.\n",
      "\n",
      "Cube_223 is empty.\n",
      "\n",
      "   > Found 0 clusters in hypercube 224.\n",
      "   > Found 1 clusters in hypercube 225.\n",
      "Cube_226 is empty.\n",
      "\n",
      "Cube_227 is empty.\n",
      "\n",
      "Cube_228 is empty.\n",
      "\n",
      "Cube_229 is empty.\n",
      "\n",
      "   > Found 1 clusters in hypercube 230.\n",
      "   > Found 1 clusters in hypercube 231.\n",
      "   > Found 1 clusters in hypercube 232.\n",
      "   > Found 0 clusters in hypercube 233.\n",
      "   > Found 0 clusters in hypercube 234.\n",
      "   > Found 0 clusters in hypercube 235.\n",
      "Cube_236 is empty.\n",
      "\n",
      "Cube_237 is empty.\n",
      "\n",
      "   > Found 0 clusters in hypercube 238.\n",
      "   > Found 0 clusters in hypercube 239.\n",
      "   > Found 2 clusters in hypercube 240.\n",
      "Cube_241 is empty.\n",
      "\n",
      "   > Found 0 clusters in hypercube 242.\n",
      "   > Found 0 clusters in hypercube 243.\n",
      "Cube_244 is empty.\n",
      "\n",
      "Cube_245 is empty.\n",
      "\n",
      "   > Found 0 clusters in hypercube 246.\n",
      "   > Found 0 clusters in hypercube 247.\n",
      "   > Found 0 clusters in hypercube 248.\n",
      "   > Found 0 clusters in hypercube 249.\n",
      "Cube_250 is empty.\n",
      "\n",
      "Cube_251 is empty.\n",
      "\n",
      "Cube_252 is empty.\n",
      "\n",
      "Cube_253 is empty.\n",
      "\n",
      "   > Found 0 clusters in hypercube 254.\n",
      "   > Found 0 clusters in hypercube 255.\n",
      "   > Found 0 clusters in hypercube 256.\n",
      "Cube_257 is empty.\n",
      "\n",
      "Cube_258 is empty.\n",
      "\n",
      "Cube_259 is empty.\n",
      "\n",
      "   > Found 0 clusters in hypercube 260.\n",
      "   > Found 0 clusters in hypercube 261.\n",
      "   > Found 0 clusters in hypercube 262.\n",
      "   > Found 0 clusters in hypercube 263.\n",
      "   > Found 0 clusters in hypercube 264.\n",
      "   > Found 0 clusters in hypercube 265.\n",
      "   > Found 0 clusters in hypercube 266.\n",
      "   > Found 0 clusters in hypercube 267.\n",
      "   > Found 0 clusters in hypercube 268.\n",
      "   > Found 0 clusters in hypercube 269.\n",
      "Cube_270 is empty.\n",
      "\n",
      "Cube_271 is empty.\n",
      "\n",
      "   > Found 0 clusters in hypercube 272.\n",
      "   > Found 0 clusters in hypercube 273.\n",
      "   > Found 0 clusters in hypercube 274.\n",
      "Cube_275 is empty.\n",
      "\n",
      "Cube_276 is empty.\n",
      "\n",
      "   > Found 0 clusters in hypercube 277.\n",
      "Cube_278 is empty.\n",
      "\n",
      "Cube_279 is empty.\n",
      "\n",
      "Cube_280 is empty.\n",
      "\n",
      "Cube_281 is empty.\n",
      "\n",
      "Cube_282 is empty.\n",
      "\n",
      "Cube_283 is empty.\n",
      "\n",
      "Cube_284 is empty.\n",
      "\n",
      "Cube_285 is empty.\n",
      "\n",
      "Cube_286 is empty.\n",
      "\n",
      "Cube_287 is empty.\n",
      "\n",
      "Cube_288 is empty.\n",
      "\n",
      "Cube_289 is empty.\n",
      "\n",
      "Cube_290 is empty.\n",
      "\n",
      "Cube_291 is empty.\n",
      "\n",
      "Cube_292 is empty.\n",
      "\n",
      "Cube_293 is empty.\n",
      "\n",
      "Cube_294 is empty.\n",
      "\n",
      "Cube_295 is empty.\n",
      "\n",
      "Cube_296 is empty.\n",
      "\n",
      "   > Found 1 clusters in hypercube 297.\n",
      "Cube_298 is empty.\n",
      "\n",
      "Cube_299 is empty.\n",
      "\n",
      "Cube_300 is empty.\n",
      "\n",
      "Cube_301 is empty.\n",
      "\n",
      "   > Found 1 clusters in hypercube 302.\n",
      "   > Found 1 clusters in hypercube 303.\n",
      "   > Found 0 clusters in hypercube 304.\n",
      "   > Found 1 clusters in hypercube 305.\n",
      "Cube_306 is empty.\n",
      "\n",
      "Cube_307 is empty.\n",
      "\n",
      "   > Found 0 clusters in hypercube 308.\n",
      "   > Found 0 clusters in hypercube 309.\n",
      "   > Found 3 clusters in hypercube 310.\n",
      "   > Found 3 clusters in hypercube 311.\n",
      "   > Found 3 clusters in hypercube 312.\n",
      "   > Found 0 clusters in hypercube 313.\n",
      "   > Found 0 clusters in hypercube 314.\n",
      "   > Found 0 clusters in hypercube 315.\n",
      "   > Found 0 clusters in hypercube 316.\n",
      "   > Found 0 clusters in hypercube 317.\n",
      "   > Found 1 clusters in hypercube 318.\n",
      "   > Found 1 clusters in hypercube 319.\n",
      "   > Found 3 clusters in hypercube 320.\n",
      "   > Found 0 clusters in hypercube 321.\n",
      "   > Found 0 clusters in hypercube 322.\n",
      "   > Found 0 clusters in hypercube 323.\n",
      "   > Found 0 clusters in hypercube 324.\n",
      "   > Found 0 clusters in hypercube 325.\n",
      "   > Found 0 clusters in hypercube 326.\n",
      "   > Found 0 clusters in hypercube 327.\n",
      "   > Found 0 clusters in hypercube 328.\n",
      "   > Found 0 clusters in hypercube 329.\n",
      "Cube_330 is empty.\n",
      "\n",
      "Cube_331 is empty.\n",
      "\n",
      "   > Found 0 clusters in hypercube 332.\n",
      "   > Found 0 clusters in hypercube 333.\n",
      "   > Found 0 clusters in hypercube 334.\n",
      "   > Found 0 clusters in hypercube 335.\n",
      "   > Found 0 clusters in hypercube 336.\n",
      "   > Found 0 clusters in hypercube 337.\n",
      "   > Found 0 clusters in hypercube 338.\n",
      "   > Found 0 clusters in hypercube 339.\n",
      "   > Found 0 clusters in hypercube 340.\n",
      "   > Found 0 clusters in hypercube 341.\n",
      "   > Found 0 clusters in hypercube 342.\n",
      "Cube_343 is empty.\n",
      "\n",
      "Cube_344 is empty.\n",
      "\n",
      "Cube_345 is empty.\n",
      "\n",
      "   > Found 0 clusters in hypercube 346.\n",
      "   > Found 0 clusters in hypercube 347.\n",
      "   > Found 0 clusters in hypercube 348.\n",
      "   > Found 0 clusters in hypercube 349.\n",
      "   > Found 0 clusters in hypercube 350.\n",
      "Cube_351 is empty.\n",
      "\n",
      "Cube_352 is empty.\n",
      "\n",
      "Cube_353 is empty.\n",
      "\n",
      "Cube_354 is empty.\n",
      "\n",
      "Cube_355 is empty.\n",
      "\n",
      "Cube_356 is empty.\n",
      "\n",
      "Cube_357 is empty.\n",
      "\n",
      "Cube_358 is empty.\n",
      "\n",
      "Cube_359 is empty.\n",
      "\n",
      "Cube_360 is empty.\n",
      "\n",
      "Cube_361 is empty.\n",
      "\n",
      "Cube_362 is empty.\n",
      "\n",
      "Cube_363 is empty.\n",
      "\n",
      "Cube_364 is empty.\n",
      "\n",
      "Cube_365 is empty.\n",
      "\n",
      "Cube_366 is empty.\n",
      "\n",
      "Cube_367 is empty.\n",
      "\n",
      "Cube_368 is empty.\n",
      "\n",
      "Cube_369 is empty.\n",
      "\n",
      "Cube_370 is empty.\n",
      "\n",
      "Cube_371 is empty.\n",
      "\n",
      "Cube_372 is empty.\n",
      "\n",
      "Cube_373 is empty.\n",
      "\n",
      "Cube_374 is empty.\n",
      "\n",
      "Cube_375 is empty.\n",
      "\n",
      "Cube_376 is empty.\n",
      "\n",
      "   > Found 2 clusters in hypercube 377.\n",
      "Cube_378 is empty.\n",
      "\n",
      "Cube_379 is empty.\n",
      "\n",
      "   > Found 0 clusters in hypercube 380.\n",
      "   > Found 0 clusters in hypercube 381.\n",
      "   > Found 3 clusters in hypercube 382.\n",
      "   > Found 3 clusters in hypercube 383.\n",
      "   > Found 1 clusters in hypercube 384.\n",
      "   > Found 5 clusters in hypercube 385.\n",
      "   > Found 0 clusters in hypercube 386.\n",
      "   > Found 0 clusters in hypercube 387.\n",
      "   > Found 0 clusters in hypercube 388.\n",
      "   > Found 0 clusters in hypercube 389.\n",
      "   > Found 4 clusters in hypercube 390.\n",
      "   > Found 4 clusters in hypercube 391.\n",
      "   > Found 5 clusters in hypercube 392.\n",
      "   > Found 1 clusters in hypercube 393.\n",
      "   > Found 0 clusters in hypercube 394.\n",
      "   > Found 0 clusters in hypercube 395.\n",
      "   > Found 0 clusters in hypercube 396.\n",
      "   > Found 0 clusters in hypercube 397.\n",
      "   > Found 1 clusters in hypercube 398.\n",
      "   > Found 1 clusters in hypercube 399.\n",
      "   > Found 0 clusters in hypercube 400.\n",
      "   > Found 0 clusters in hypercube 401.\n",
      "   > Found 0 clusters in hypercube 402.\n",
      "   > Found 0 clusters in hypercube 403.\n",
      "   > Found 0 clusters in hypercube 404.\n",
      "   > Found 0 clusters in hypercube 405.\n",
      "   > Found 0 clusters in hypercube 406.\n",
      "   > Found 0 clusters in hypercube 407.\n",
      "   > Found 0 clusters in hypercube 408.\n",
      "   > Found 0 clusters in hypercube 409.\n",
      "   > Found 0 clusters in hypercube 410.\n",
      "   > Found 0 clusters in hypercube 411.\n",
      "   > Found 0 clusters in hypercube 412.\n",
      "   > Found 0 clusters in hypercube 413.\n",
      "   > Found 0 clusters in hypercube 414.\n",
      "   > Found 0 clusters in hypercube 415.\n",
      "   > Found 0 clusters in hypercube 416.\n",
      "   > Found 0 clusters in hypercube 417.\n",
      "Cube_418 is empty.\n",
      "\n",
      "Cube_419 is empty.\n",
      "\n",
      "   > Found 0 clusters in hypercube 420.\n",
      "   > Found 0 clusters in hypercube 421.\n",
      "   > Found 0 clusters in hypercube 422.\n",
      "   > Found 0 clusters in hypercube 423.\n",
      "   > Found 0 clusters in hypercube 424.\n",
      "Cube_425 is empty.\n",
      "\n",
      "Cube_426 is empty.\n",
      "\n",
      "   > Found 0 clusters in hypercube 427.\n",
      "   > Found 0 clusters in hypercube 428.\n",
      "   > Found 0 clusters in hypercube 429.\n",
      "   > Found 0 clusters in hypercube 430.\n",
      "   > Found 0 clusters in hypercube 431.\n",
      "Cube_432 is empty.\n",
      "\n",
      "Cube_433 is empty.\n",
      "\n",
      "Cube_434 is empty.\n",
      "\n",
      "   > Found 0 clusters in hypercube 435.\n",
      "   > Found 0 clusters in hypercube 436.\n",
      "Cube_437 is empty.\n",
      "\n",
      "Cube_438 is empty.\n",
      "\n",
      "Cube_439 is empty.\n",
      "\n",
      "   > Found 0 clusters in hypercube 440.\n",
      "   > Found 0 clusters in hypercube 441.\n",
      "Cube_442 is empty.\n",
      "\n",
      "Cube_443 is empty.\n",
      "\n",
      "   > Found 0 clusters in hypercube 444.\n",
      "Cube_445 is empty.\n",
      "\n",
      "Cube_446 is empty.\n",
      "\n",
      "Cube_447 is empty.\n",
      "\n",
      "Cube_448 is empty.\n",
      "\n",
      "   > Found 2 clusters in hypercube 449.\n",
      "   > Found 0 clusters in hypercube 450.\n",
      "   > Found 0 clusters in hypercube 451.\n",
      "   > Found 3 clusters in hypercube 452.\n",
      "   > Found 3 clusters in hypercube 453.\n",
      "   > Found 4 clusters in hypercube 454.\n",
      "   > Found 4 clusters in hypercube 455.\n",
      "   > Found 1 clusters in hypercube 456.\n",
      "   > Found 4 clusters in hypercube 457.\n",
      "   > Found 0 clusters in hypercube 458.\n",
      "   > Found 0 clusters in hypercube 459.\n",
      "   > Found 7 clusters in hypercube 460.\n",
      "   > Found 7 clusters in hypercube 461.\n",
      "   > Found 6 clusters in hypercube 462.\n",
      "   > Found 6 clusters in hypercube 463.\n",
      "   > Found 1 clusters in hypercube 464.\n",
      "   > Found 0 clusters in hypercube 465.\n",
      "   > Found 0 clusters in hypercube 466.\n",
      "   > Found 0 clusters in hypercube 467.\n",
      "   > Found 1 clusters in hypercube 468.\n",
      "   > Found 1 clusters in hypercube 469.\n",
      "   > Found 4 clusters in hypercube 470.\n",
      "   > Found 4 clusters in hypercube 471.\n",
      "   > Found 1 clusters in hypercube 472.\n",
      "   > Found 0 clusters in hypercube 473.\n",
      "   > Found 0 clusters in hypercube 474.\n",
      "   > Found 0 clusters in hypercube 475.\n",
      "   > Found 0 clusters in hypercube 476.\n",
      "   > Found 0 clusters in hypercube 477.\n",
      "   > Found 0 clusters in hypercube 478.\n",
      "   > Found 0 clusters in hypercube 479.\n",
      "   > Found 0 clusters in hypercube 480.\n",
      "   > Found 0 clusters in hypercube 481.\n",
      "   > Found 0 clusters in hypercube 482.\n",
      "   > Found 0 clusters in hypercube 483.\n",
      "   > Found 0 clusters in hypercube 484.\n",
      "   > Found 0 clusters in hypercube 485.\n",
      "   > Found 0 clusters in hypercube 486.\n",
      "   > Found 0 clusters in hypercube 487.\n",
      "   > Found 0 clusters in hypercube 488.\n",
      "   > Found 0 clusters in hypercube 489.\n",
      "   > Found 0 clusters in hypercube 490.\n",
      "   > Found 0 clusters in hypercube 491.\n",
      "   > Found 0 clusters in hypercube 492.\n",
      "   > Found 0 clusters in hypercube 493.\n",
      "   > Found 0 clusters in hypercube 494.\n",
      "   > Found 0 clusters in hypercube 495.\n",
      "   > Found 0 clusters in hypercube 496.\n",
      "   > Found 0 clusters in hypercube 497.\n",
      "   > Found 0 clusters in hypercube 498.\n",
      "Cube_499 is empty.\n",
      "\n",
      "   > Found 0 clusters in hypercube 500.\n",
      "   > Found 0 clusters in hypercube 501.\n",
      "Cube_502 is empty.\n",
      "\n",
      "Cube_503 is empty.\n",
      "\n",
      "Cube_504 is empty.\n",
      "\n",
      "Cube_505 is empty.\n",
      "\n",
      "Cube_506 is empty.\n",
      "\n",
      "Cube_507 is empty.\n",
      "\n",
      "Cube_508 is empty.\n",
      "\n",
      "Cube_509 is empty.\n",
      "\n",
      "   > Found 1 clusters in hypercube 510.\n",
      "   > Found 1 clusters in hypercube 511.\n",
      "   > Found 1 clusters in hypercube 512.\n",
      "   > Found 0 clusters in hypercube 513.\n",
      "   > Found 0 clusters in hypercube 514.\n",
      "Cube_515 is empty.\n",
      "\n",
      "Cube_516 is empty.\n",
      "\n",
      "Cube_517 is empty.\n",
      "\n",
      "   > Found 1 clusters in hypercube 518.\n",
      "   > Found 1 clusters in hypercube 519.\n",
      "   > Found 1 clusters in hypercube 520.\n",
      "   > Found 5 clusters in hypercube 521.\n",
      "   > Found 5 clusters in hypercube 522.\n",
      "   > Found 2 clusters in hypercube 523.\n",
      "   > Found 2 clusters in hypercube 524.\n",
      "   > Found 1 clusters in hypercube 525.\n",
      "   > Found 14 clusters in hypercube 526.\n",
      "   > Found 2 clusters in hypercube 527.\n",
      "   > Found 2 clusters in hypercube 528.\n",
      "   > Found 12 clusters in hypercube 529.\n",
      "   > Found 12 clusters in hypercube 530.\n",
      "   > Found 4 clusters in hypercube 531.\n",
      "   > Found 4 clusters in hypercube 532.\n",
      "   > Found 0 clusters in hypercube 533.\n",
      "   > Found 0 clusters in hypercube 534.\n",
      "   > Found 0 clusters in hypercube 535.\n",
      "   > Found 0 clusters in hypercube 536.\n",
      "   > Found 0 clusters in hypercube 537.\n",
      "   > Found 0 clusters in hypercube 538.\n",
      "   > Found 0 clusters in hypercube 539.\n",
      "   > Found 0 clusters in hypercube 540.\n",
      "   > Found 0 clusters in hypercube 541.\n",
      "   > Found 0 clusters in hypercube 542.\n",
      "   > Found 0 clusters in hypercube 543.\n",
      "   > Found 0 clusters in hypercube 544.\n",
      "   > Found 0 clusters in hypercube 545.\n",
      "   > Found 0 clusters in hypercube 546.\n",
      "   > Found 0 clusters in hypercube 547.\n",
      "   > Found 0 clusters in hypercube 548.\n",
      "   > Found 0 clusters in hypercube 549.\n",
      "   > Found 0 clusters in hypercube 550.\n",
      "Cube_551 is empty.\n",
      "\n",
      "Cube_552 is empty.\n",
      "\n",
      "   > Found 0 clusters in hypercube 553.\n",
      "   > Found 0 clusters in hypercube 554.\n",
      "   > Found 0 clusters in hypercube 555.\n",
      "   > Found 0 clusters in hypercube 556.\n",
      "   > Found 0 clusters in hypercube 557.\n",
      "   > Found 0 clusters in hypercube 558.\n",
      "   > Found 0 clusters in hypercube 559.\n",
      "   > Found 0 clusters in hypercube 560.\n",
      "   > Found 0 clusters in hypercube 561.\n",
      "   > Found 0 clusters in hypercube 562.\n",
      "   > Found 0 clusters in hypercube 563.\n",
      "   > Found 0 clusters in hypercube 564.\n",
      "   > Found 0 clusters in hypercube 565.\n",
      "Cube_566 is empty.\n",
      "\n",
      "   > Found 0 clusters in hypercube 567.\n",
      "   > Found 0 clusters in hypercube 568.\n",
      "Cube_569 is empty.\n",
      "\n",
      "Cube_570 is empty.\n",
      "\n",
      "Cube_571 is empty.\n",
      "\n",
      "Cube_572 is empty.\n",
      "\n",
      "Cube_573 is empty.\n",
      "\n",
      "Cube_574 is empty.\n",
      "\n",
      "Cube_575 is empty.\n",
      "\n",
      "Cube_576 is empty.\n",
      "\n",
      "Cube_577 is empty.\n",
      "\n",
      "Cube_578 is empty.\n",
      "\n",
      "Cube_579 is empty.\n",
      "\n",
      "Cube_580 is empty.\n",
      "\n",
      "Cube_581 is empty.\n",
      "\n",
      "Cube_582 is empty.\n",
      "\n",
      "Cube_583 is empty.\n",
      "\n",
      "Cube_584 is empty.\n",
      "\n",
      "Cube_585 is empty.\n",
      "\n",
      "Cube_586 is empty.\n",
      "\n",
      "Cube_587 is empty.\n",
      "\n",
      "   > Found 1 clusters in hypercube 588.\n",
      "   > Found 2 clusters in hypercube 589.\n",
      "   > Found 2 clusters in hypercube 590.\n",
      "   > Found 1 clusters in hypercube 591.\n",
      "   > Found 1 clusters in hypercube 592.\n",
      "Cube_593 is empty.\n",
      "\n",
      "Cube_594 is empty.\n",
      "\n",
      "Cube_595 is empty.\n",
      "\n",
      "   > Found 1 clusters in hypercube 596.\n",
      "   > Found 4 clusters in hypercube 597.\n",
      "   > Found 4 clusters in hypercube 598.\n",
      "   > Found 3 clusters in hypercube 599.\n",
      "   > Found 3 clusters in hypercube 600.\n",
      "   > Found 0 clusters in hypercube 601.\n",
      "   > Found 0 clusters in hypercube 602.\n",
      "   > Found 1 clusters in hypercube 603.\n",
      "   > Found 9 clusters in hypercube 604.\n",
      "   > Found 1 clusters in hypercube 605.\n",
      "   > Found 1 clusters in hypercube 606.\n",
      "   > Found 16 clusters in hypercube 607.\n",
      "   > Found 16 clusters in hypercube 608.\n",
      "   > Found 5 clusters in hypercube 609.\n",
      "   > Found 5 clusters in hypercube 610.\n",
      "   > Found 1 clusters in hypercube 611.\n",
      "   > Found 0 clusters in hypercube 612.\n",
      "   > Found 1 clusters in hypercube 613.\n",
      "   > Found 1 clusters in hypercube 614.\n",
      "   > Found 1 clusters in hypercube 615.\n",
      "   > Found 1 clusters in hypercube 616.\n",
      "   > Found 0 clusters in hypercube 617.\n",
      "   > Found 0 clusters in hypercube 618.\n",
      "   > Found 0 clusters in hypercube 619.\n",
      "   > Found 0 clusters in hypercube 620.\n",
      "   > Found 0 clusters in hypercube 621.\n",
      "   > Found 0 clusters in hypercube 622.\n",
      "   > Found 0 clusters in hypercube 623.\n",
      "   > Found 0 clusters in hypercube 624.\n",
      "   > Found 0 clusters in hypercube 625.\n",
      "   > Found 0 clusters in hypercube 626.\n",
      "   > Found 0 clusters in hypercube 627.\n",
      "   > Found 0 clusters in hypercube 628.\n",
      "   > Found 0 clusters in hypercube 629.\n",
      "   > Found 0 clusters in hypercube 630.\n",
      "   > Found 0 clusters in hypercube 631.\n",
      "   > Found 0 clusters in hypercube 632.\n",
      "   > Found 0 clusters in hypercube 633.\n",
      "   > Found 0 clusters in hypercube 634.\n",
      "   > Found 0 clusters in hypercube 635.\n",
      "Cube_636 is empty.\n",
      "\n",
      "   > Found 0 clusters in hypercube 637.\n",
      "   > Found 0 clusters in hypercube 638.\n",
      "   > Found 0 clusters in hypercube 639.\n",
      "   > Found 0 clusters in hypercube 640.\n",
      "   > Found 0 clusters in hypercube 641.\n",
      "   > Found 0 clusters in hypercube 642.\n",
      "   > Found 0 clusters in hypercube 643.\n",
      "Cube_644 is empty.\n",
      "\n",
      "Cube_645 is empty.\n",
      "\n",
      "Cube_646 is empty.\n",
      "\n",
      "   > Found 0 clusters in hypercube 647.\n",
      "   > Found 0 clusters in hypercube 648.\n",
      "Cube_649 is empty.\n",
      "\n",
      "Cube_650 is empty.\n",
      "\n",
      "Cube_651 is empty.\n",
      "\n",
      "Cube_652 is empty.\n",
      "\n",
      "Cube_653 is empty.\n",
      "\n",
      "Cube_654 is empty.\n",
      "\n",
      "Cube_655 is empty.\n",
      "\n",
      "Cube_656 is empty.\n",
      "\n",
      "Cube_657 is empty.\n",
      "\n",
      "Cube_658 is empty.\n",
      "\n",
      "Cube_659 is empty.\n",
      "\n",
      "   > Found 1 clusters in hypercube 660.\n",
      "   > Found 3 clusters in hypercube 661.\n",
      "   > Found 3 clusters in hypercube 662.\n",
      "   > Found 0 clusters in hypercube 663.\n",
      "   > Found 0 clusters in hypercube 664.\n",
      "   > Found 0 clusters in hypercube 665.\n",
      "   > Found 0 clusters in hypercube 666.\n",
      "   > Found 3 clusters in hypercube 667.\n",
      "   > Found 4 clusters in hypercube 668.\n",
      "   > Found 4 clusters in hypercube 669.\n",
      "   > Found 6 clusters in hypercube 670.\n",
      "   > Found 6 clusters in hypercube 671.\n",
      "   > Found 3 clusters in hypercube 672.\n",
      "   > Found 3 clusters in hypercube 673.\n",
      "Cube_674 is empty.\n",
      "\n",
      "   > Found 9 clusters in hypercube 675.\n",
      "   > Found 9 clusters in hypercube 676.\n",
      "   > Found 9 clusters in hypercube 677.\n",
      "   > Found 9 clusters in hypercube 678.\n",
      "   > Found 9 clusters in hypercube 679.\n",
      "   > Found 8 clusters in hypercube 680.\n",
      "   > Found 8 clusters in hypercube 681.\n",
      "   > Found 0 clusters in hypercube 682.\n",
      "   > Found 0 clusters in hypercube 683.\n",
      "   > Found 0 clusters in hypercube 684.\n",
      "   > Found 0 clusters in hypercube 685.\n",
      "   > Found 1 clusters in hypercube 686.\n",
      "   > Found 1 clusters in hypercube 687.\n",
      "   > Found 0 clusters in hypercube 688.\n",
      "   > Found 0 clusters in hypercube 689.\n",
      "   > Found 0 clusters in hypercube 690.\n",
      "   > Found 0 clusters in hypercube 691.\n",
      "   > Found 0 clusters in hypercube 692.\n",
      "   > Found 0 clusters in hypercube 693.\n",
      "   > Found 0 clusters in hypercube 694.\n",
      "   > Found 0 clusters in hypercube 695.\n",
      "   > Found 0 clusters in hypercube 696.\n",
      "   > Found 0 clusters in hypercube 697.\n",
      "   > Found 0 clusters in hypercube 698.\n",
      "   > Found 0 clusters in hypercube 699.\n",
      "   > Found 0 clusters in hypercube 700.\n",
      "   > Found 0 clusters in hypercube 701.\n",
      "   > Found 0 clusters in hypercube 702.\n",
      "   > Found 0 clusters in hypercube 703.\n",
      "   > Found 0 clusters in hypercube 704.\n",
      "   > Found 0 clusters in hypercube 705.\n",
      "Cube_706 is empty.\n",
      "\n",
      "   > Found 0 clusters in hypercube 707.\n",
      "   > Found 0 clusters in hypercube 708.\n",
      "   > Found 0 clusters in hypercube 709.\n",
      "   > Found 0 clusters in hypercube 710.\n",
      "   > Found 0 clusters in hypercube 711.\n",
      "   > Found 0 clusters in hypercube 712.\n",
      "   > Found 0 clusters in hypercube 713.\n",
      "Cube_714 is empty.\n",
      "\n",
      "Cube_715 is empty.\n",
      "\n",
      "Cube_716 is empty.\n",
      "\n",
      "Cube_717 is empty.\n",
      "\n",
      "Cube_718 is empty.\n",
      "\n",
      "Cube_719 is empty.\n",
      "\n",
      "Cube_720 is empty.\n",
      "\n",
      "Cube_721 is empty.\n",
      "\n",
      "Cube_722 is empty.\n",
      "\n",
      "Cube_723 is empty.\n",
      "\n",
      "Cube_724 is empty.\n",
      "\n",
      "Cube_725 is empty.\n",
      "\n",
      "Cube_726 is empty.\n",
      "\n",
      "Cube_727 is empty.\n",
      "\n",
      "   > Found 2 clusters in hypercube 728.\n",
      "   > Found 2 clusters in hypercube 729.\n",
      "   > Found 2 clusters in hypercube 730.\n",
      "   > Found 2 clusters in hypercube 731.\n",
      "   > Found 2 clusters in hypercube 732.\n",
      "   > Found 0 clusters in hypercube 733.\n",
      "   > Found 0 clusters in hypercube 734.\n",
      "   > Found 4 clusters in hypercube 735.\n",
      "   > Found 2 clusters in hypercube 736.\n",
      "   > Found 2 clusters in hypercube 737.\n",
      "   > Found 6 clusters in hypercube 738.\n",
      "   > Found 6 clusters in hypercube 739.\n",
      "   > Found 2 clusters in hypercube 740.\n",
      "   > Found 2 clusters in hypercube 741.\n",
      "Cube_742 is empty.\n",
      "\n",
      "   > Found 13 clusters in hypercube 743.\n",
      "   > Found 13 clusters in hypercube 744.\n",
      "   > Found 13 clusters in hypercube 745.\n",
      "   > Found 7 clusters in hypercube 746.\n",
      "   > Found 7 clusters in hypercube 747.\n",
      "   > Found 2 clusters in hypercube 748.\n",
      "   > Found 2 clusters in hypercube 749.\n",
      "Cube_750 is empty.\n",
      "\n",
      "   > Found 0 clusters in hypercube 751.\n",
      "   > Found 0 clusters in hypercube 752.\n",
      "   > Found 0 clusters in hypercube 753.\n",
      "   > Found 0 clusters in hypercube 754.\n",
      "   > Found 0 clusters in hypercube 755.\n",
      "   > Found 1 clusters in hypercube 756.\n",
      "   > Found 1 clusters in hypercube 757.\n",
      "   > Found 0 clusters in hypercube 758.\n",
      "   > Found 0 clusters in hypercube 759.\n",
      "   > Found 0 clusters in hypercube 760.\n",
      "   > Found 0 clusters in hypercube 761.\n",
      "   > Found 0 clusters in hypercube 762.\n",
      "   > Found 0 clusters in hypercube 763.\n",
      "   > Found 0 clusters in hypercube 764.\n",
      "   > Found 0 clusters in hypercube 765.\n",
      "Cube_766 is empty.\n",
      "\n",
      "   > Found 0 clusters in hypercube 767.\n",
      "   > Found 0 clusters in hypercube 768.\n",
      "   > Found 0 clusters in hypercube 769.\n",
      "   > Found 0 clusters in hypercube 770.\n",
      "   > Found 0 clusters in hypercube 771.\n",
      "   > Found 0 clusters in hypercube 772.\n",
      "   > Found 0 clusters in hypercube 773.\n",
      "Cube_774 is empty.\n",
      "\n",
      "   > Found 0 clusters in hypercube 775.\n",
      "   > Found 0 clusters in hypercube 776.\n",
      "   > Found 0 clusters in hypercube 777.\n",
      "   > Found 0 clusters in hypercube 778.\n",
      "   > Found 0 clusters in hypercube 779.\n",
      "   > Found 0 clusters in hypercube 780.\n",
      "   > Found 0 clusters in hypercube 781.\n",
      "Cube_782 is empty.\n",
      "\n",
      "Cube_783 is empty.\n",
      "\n",
      "Cube_784 is empty.\n",
      "\n",
      "   > Found 0 clusters in hypercube 785.\n",
      "   > Found 0 clusters in hypercube 786.\n",
      "Cube_787 is empty.\n",
      "\n",
      "Cube_788 is empty.\n",
      "\n",
      "Cube_789 is empty.\n",
      "\n",
      "   > Found 0 clusters in hypercube 790.\n",
      "   > Found 0 clusters in hypercube 791.\n",
      "   > Found 2 clusters in hypercube 792.\n",
      "   > Found 2 clusters in hypercube 793.\n",
      "   > Found 2 clusters in hypercube 794.\n",
      "   > Found 2 clusters in hypercube 795.\n",
      "   > Found 2 clusters in hypercube 796.\n",
      "Cube_797 is empty.\n",
      "\n",
      "Cube_798 is empty.\n",
      "\n",
      "   > Found 5 clusters in hypercube 799.\n",
      "   > Found 7 clusters in hypercube 800.\n",
      "   > Found 7 clusters in hypercube 801.\n",
      "   > Found 5 clusters in hypercube 802.\n",
      "   > Found 5 clusters in hypercube 803.\n",
      "   > Found 3 clusters in hypercube 804.\n",
      "   > Found 3 clusters in hypercube 805.\n",
      "   > Found 12 clusters in hypercube 806.\n",
      "   > Found 13 clusters in hypercube 807.\n",
      "   > Found 13 clusters in hypercube 808.\n",
      "   > Found 8 clusters in hypercube 809.\n",
      "   > Found 8 clusters in hypercube 810.\n",
      "   > Found 2 clusters in hypercube 811.\n",
      "   > Found 2 clusters in hypercube 812.\n",
      "   > Found 0 clusters in hypercube 813.\n",
      "   > Found 1 clusters in hypercube 814.\n",
      "   > Found 1 clusters in hypercube 815.\n",
      "   > Found 1 clusters in hypercube 816.\n",
      "   > Found 1 clusters in hypercube 817.\n",
      "   > Found 1 clusters in hypercube 818.\n",
      "   > Found 1 clusters in hypercube 819.\n",
      "Cube_820 is empty.\n",
      "\n",
      "   > Found 0 clusters in hypercube 821.\n",
      "   > Found 0 clusters in hypercube 822.\n",
      "   > Found 0 clusters in hypercube 823.\n",
      "   > Found 0 clusters in hypercube 824.\n",
      "   > Found 0 clusters in hypercube 825.\n",
      "   > Found 0 clusters in hypercube 826.\n",
      "   > Found 0 clusters in hypercube 827.\n",
      "   > Found 0 clusters in hypercube 828.\n",
      "   > Found 0 clusters in hypercube 829.\n",
      "   > Found 0 clusters in hypercube 830.\n",
      "   > Found 0 clusters in hypercube 831.\n",
      "   > Found 0 clusters in hypercube 832.\n",
      "   > Found 0 clusters in hypercube 833.\n",
      "   > Found 0 clusters in hypercube 834.\n",
      "   > Found 0 clusters in hypercube 835.\n",
      "   > Found 0 clusters in hypercube 836.\n",
      "   > Found 0 clusters in hypercube 837.\n",
      "   > Found 0 clusters in hypercube 838.\n",
      "   > Found 0 clusters in hypercube 839.\n",
      "Cube_840 is empty.\n",
      "\n",
      "Cube_841 is empty.\n",
      "\n",
      "Cube_842 is empty.\n",
      "\n",
      "Cube_843 is empty.\n",
      "\n",
      "Cube_844 is empty.\n",
      "\n",
      "   > Found 0 clusters in hypercube 845.\n",
      "   > Found 0 clusters in hypercube 846.\n",
      "   > Found 2 clusters in hypercube 847.\n",
      "   > Found 1 clusters in hypercube 848.\n",
      "   > Found 1 clusters in hypercube 849.\n",
      "Cube_850 is empty.\n",
      "\n",
      "Cube_851 is empty.\n",
      "\n",
      "   > Found 3 clusters in hypercube 852.\n",
      "   > Found 2 clusters in hypercube 853.\n",
      "   > Found 2 clusters in hypercube 854.\n",
      "   > Found 3 clusters in hypercube 855.\n",
      "   > Found 3 clusters in hypercube 856.\n",
      "Cube_857 is empty.\n",
      "\n",
      "Cube_858 is empty.\n",
      "\n",
      "   > Found 7 clusters in hypercube 859.\n",
      "   > Found 12 clusters in hypercube 860.\n",
      "   > Found 12 clusters in hypercube 861.\n",
      "   > Found 4 clusters in hypercube 862.\n",
      "   > Found 4 clusters in hypercube 863.\n",
      "   > Found 2 clusters in hypercube 864.\n",
      "   > Found 2 clusters in hypercube 865.\n",
      "   > Found 36 clusters in hypercube 866.\n",
      "   > Found 14 clusters in hypercube 867.\n",
      "   > Found 14 clusters in hypercube 868.\n",
      "   > Found 14 clusters in hypercube 869.\n",
      "   > Found 14 clusters in hypercube 870.\n",
      "   > Found 2 clusters in hypercube 871.\n",
      "   > Found 2 clusters in hypercube 872.\n",
      "   > Found 1 clusters in hypercube 873.\n",
      "   > Found 2 clusters in hypercube 874.\n",
      "   > Found 2 clusters in hypercube 875.\n",
      "   > Found 0 clusters in hypercube 876.\n",
      "   > Found 0 clusters in hypercube 877.\n",
      "   > Found 0 clusters in hypercube 878.\n",
      "   > Found 0 clusters in hypercube 879.\n",
      "Cube_880 is empty.\n",
      "\n",
      "   > Found 0 clusters in hypercube 881.\n",
      "   > Found 0 clusters in hypercube 882.\n",
      "   > Found 0 clusters in hypercube 883.\n",
      "   > Found 0 clusters in hypercube 884.\n",
      "   > Found 0 clusters in hypercube 885.\n",
      "   > Found 0 clusters in hypercube 886.\n",
      "   > Found 0 clusters in hypercube 887.\n",
      "   > Found 0 clusters in hypercube 888.\n",
      "   > Found 0 clusters in hypercube 889.\n",
      "   > Found 0 clusters in hypercube 890.\n",
      "   > Found 0 clusters in hypercube 891.\n",
      "   > Found 0 clusters in hypercube 892.\n",
      "   > Found 0 clusters in hypercube 893.\n",
      "   > Found 0 clusters in hypercube 894.\n",
      "   > Found 0 clusters in hypercube 895.\n",
      "   > Found 0 clusters in hypercube 896.\n",
      "   > Found 0 clusters in hypercube 897.\n",
      "Cube_898 is empty.\n",
      "\n",
      "Cube_899 is empty.\n",
      "\n",
      "Cube_900 is empty.\n",
      "\n",
      "Cube_901 is empty.\n",
      "\n",
      "Cube_902 is empty.\n",
      "\n",
      "Cube_903 is empty.\n",
      "\n",
      "Cube_904 is empty.\n",
      "\n",
      "Cube_905 is empty.\n",
      "\n",
      "Cube_906 is empty.\n",
      "\n",
      "Cube_907 is empty.\n",
      "\n",
      "Cube_908 is empty.\n",
      "\n",
      "   > Found 2 clusters in hypercube 909.\n",
      "   > Found 1 clusters in hypercube 910.\n",
      "   > Found 1 clusters in hypercube 911.\n",
      "   > Found 2 clusters in hypercube 912.\n",
      "   > Found 5 clusters in hypercube 913.\n",
      "   > Found 5 clusters in hypercube 914.\n",
      "   > Found 2 clusters in hypercube 915.\n",
      "   > Found 2 clusters in hypercube 916.\n",
      "Cube_917 is empty.\n",
      "\n",
      "Cube_918 is empty.\n",
      "\n",
      "   > Found 3 clusters in hypercube 919.\n",
      "   > Found 14 clusters in hypercube 920.\n",
      "   > Found 14 clusters in hypercube 921.\n",
      "   > Found 5 clusters in hypercube 922.\n",
      "   > Found 5 clusters in hypercube 923.\n",
      "   > Found 0 clusters in hypercube 924.\n",
      "   > Found 0 clusters in hypercube 925.\n",
      "   > Found 90 clusters in hypercube 926.\n",
      "   > Found 28 clusters in hypercube 927.\n",
      "   > Found 28 clusters in hypercube 928.\n",
      "   > Found 10 clusters in hypercube 929.\n",
      "   > Found 10 clusters in hypercube 930.\n",
      "   > Found 0 clusters in hypercube 931.\n",
      "   > Found 0 clusters in hypercube 932.\n",
      "   > Found 1 clusters in hypercube 933.\n",
      "   > Found 0 clusters in hypercube 934.\n",
      "   > Found 0 clusters in hypercube 935.\n",
      "   > Found 0 clusters in hypercube 936.\n",
      "   > Found 0 clusters in hypercube 937.\n",
      "   > Found 1 clusters in hypercube 938.\n",
      "   > Found 1 clusters in hypercube 939.\n",
      "   > Found 0 clusters in hypercube 940.\n",
      "   > Found 0 clusters in hypercube 941.\n",
      "   > Found 0 clusters in hypercube 942.\n",
      "   > Found 0 clusters in hypercube 943.\n",
      "   > Found 0 clusters in hypercube 944.\n",
      "   > Found 0 clusters in hypercube 945.\n",
      "   > Found 0 clusters in hypercube 946.\n",
      "   > Found 0 clusters in hypercube 947.\n",
      "   > Found 0 clusters in hypercube 948.\n",
      "   > Found 0 clusters in hypercube 949.\n",
      "   > Found 0 clusters in hypercube 950.\n",
      "   > Found 0 clusters in hypercube 951.\n",
      "Cube_952 is empty.\n",
      "\n",
      "Cube_953 is empty.\n",
      "\n",
      "Cube_954 is empty.\n",
      "\n",
      "Cube_955 is empty.\n",
      "\n",
      "Cube_956 is empty.\n",
      "\n",
      "Cube_957 is empty.\n",
      "\n",
      "Cube_958 is empty.\n",
      "\n",
      "Cube_959 is empty.\n",
      "\n",
      "Cube_960 is empty.\n",
      "\n",
      "Cube_961 is empty.\n",
      "\n",
      "   > Found 2 clusters in hypercube 962.\n",
      "   > Found 0 clusters in hypercube 963.\n",
      "   > Found 0 clusters in hypercube 964.\n",
      "   > Found 5 clusters in hypercube 965.\n",
      "   > Found 9 clusters in hypercube 966.\n",
      "   > Found 9 clusters in hypercube 967.\n",
      "   > Found 1 clusters in hypercube 968.\n",
      "   > Found 1 clusters in hypercube 969.\n",
      "Cube_970 is empty.\n",
      "\n",
      "Cube_971 is empty.\n",
      "\n",
      "   > Found 12 clusters in hypercube 972.\n",
      "   > Found 7 clusters in hypercube 973.\n",
      "   > Found 7 clusters in hypercube 974.\n",
      "   > Found 1 clusters in hypercube 975.\n",
      "   > Found 1 clusters in hypercube 976.\n",
      "   > Found 0 clusters in hypercube 977.\n",
      "   > Found 0 clusters in hypercube 978.\n",
      "   > Found 84 clusters in hypercube 979.\n",
      "   > Found 30 clusters in hypercube 980.\n",
      "   > Found 30 clusters in hypercube 981.\n",
      "   > Found 9 clusters in hypercube 982.\n",
      "   > Found 9 clusters in hypercube 983.\n",
      "   > Found 0 clusters in hypercube 984.\n",
      "   > Found 0 clusters in hypercube 985.\n",
      "   > Found 0 clusters in hypercube 986.\n",
      "   > Found 0 clusters in hypercube 987.\n",
      "   > Found 0 clusters in hypercube 988.\n",
      "   > Found 0 clusters in hypercube 989.\n",
      "   > Found 0 clusters in hypercube 990.\n",
      "Cube_991 is empty.\n",
      "\n",
      "Cube_992 is empty.\n",
      "\n",
      "   > Found 0 clusters in hypercube 993.\n",
      "   > Found 0 clusters in hypercube 994.\n",
      "   > Found 0 clusters in hypercube 995.\n",
      "   > Found 0 clusters in hypercube 996.\n",
      "   > Found 0 clusters in hypercube 997.\n",
      "   > Found 0 clusters in hypercube 998.\n",
      "   > Found 0 clusters in hypercube 999.\n",
      "   > Found 0 clusters in hypercube 1000.\n",
      "Cube_1001 is empty.\n",
      "\n",
      "Cube_1002 is empty.\n",
      "\n",
      "   > Found 1 clusters in hypercube 1003.\n",
      "   > Found 2 clusters in hypercube 1004.\n",
      "   > Found 2 clusters in hypercube 1005.\n",
      "   > Found 0 clusters in hypercube 1006.\n",
      "   > Found 0 clusters in hypercube 1007.\n",
      "   > Found 1 clusters in hypercube 1008.\n",
      "   > Found 3 clusters in hypercube 1009.\n",
      "   > Found 3 clusters in hypercube 1010.\n",
      "   > Found 3 clusters in hypercube 1011.\n",
      "   > Found 3 clusters in hypercube 1012.\n",
      "   > Found 1 clusters in hypercube 1013.\n",
      "   > Found 4 clusters in hypercube 1014.\n",
      "   > Found 4 clusters in hypercube 1015.\n",
      "   > Found 3 clusters in hypercube 1016.\n",
      "   > Found 3 clusters in hypercube 1017.\n",
      "Cube_1018 is empty.\n",
      "\n",
      "Cube_1019 is empty.\n",
      "\n",
      "   > Found 62 clusters in hypercube 1020.\n",
      "   > Found 11 clusters in hypercube 1021.\n",
      "   > Found 11 clusters in hypercube 1022.\n",
      "   > Found 0 clusters in hypercube 1023.\n",
      "   > Found 0 clusters in hypercube 1024.\n",
      "Cube_1025 is empty.\n",
      "\n",
      "Cube_1026 is empty.\n",
      "\n",
      "   > Found 0 clusters in hypercube 1027.\n",
      "   > Found 0 clusters in hypercube 1028.\n",
      "   > Found 0 clusters in hypercube 1029.\n",
      "   > Found 0 clusters in hypercube 1030.\n",
      "   > Found 0 clusters in hypercube 1031.\n",
      "   > Found 0 clusters in hypercube 1032.\n",
      "   > Found 0 clusters in hypercube 1033.\n",
      "   > Found 0 clusters in hypercube 1034.\n",
      "Cube_1035 is empty.\n",
      "\n",
      "Cube_1036 is empty.\n",
      "\n",
      "   > Found 1 clusters in hypercube 1037.\n",
      "   > Found 2 clusters in hypercube 1038.\n",
      "   > Found 2 clusters in hypercube 1039.\n",
      "Cube_1040 is empty.\n",
      "\n",
      "Cube_1041 is empty.\n",
      "\n",
      "   > Found 1 clusters in hypercube 1042.\n",
      "   > Found 1 clusters in hypercube 1043.\n",
      "   > Found 1 clusters in hypercube 1044.\n",
      "   > Found 1 clusters in hypercube 1045.\n",
      "   > Found 1 clusters in hypercube 1046.\n",
      "   > Found 1 clusters in hypercube 1047.\n",
      "   > Found 3 clusters in hypercube 1048.\n",
      "   > Found 3 clusters in hypercube 1049.\n",
      "   > Found 0 clusters in hypercube 1050.\n",
      "   > Found 0 clusters in hypercube 1051.\n",
      "   > Found 1 clusters in hypercube 1052.\n",
      "   > Found 0 clusters in hypercube 1053.\n",
      "   > Found 0 clusters in hypercube 1054.\n",
      "Cube_1055 is empty.\n",
      "\n",
      "Cube_1056 is empty.\n",
      "\n",
      "Cube_1057 is empty.\n",
      "\n",
      "Cube_1058 is empty.\n",
      "\n",
      "Cube_1059 is empty.\n",
      "\n",
      "\n",
      "Created 2990 edges and 1317 nodes in 0:00:28.118367.\n",
      "num nodes: 1317\n",
      "num edges: 2990\n"
     ]
    }
   ],
   "source": [
    "G = mapper.map(\n",
    "    lens,\n",
    "    X,\n",
    "    cover = km.Cover(n_cubes=20,\n",
    "                     perc_overlap=.15),\n",
    "    clusterer = DBSCAN(eps = 0.68))\n",
    "    # clusterer = cluster.AgglomerativeClustering(5))\n",
    "\n",
    "print(f\"num nodes: {len(G['nodes'])}\")\n",
    "print(f\"num edges: {sum([len(values) for key, values in G['links'].items()])}\")"
   ]
  },
  {
   "cell_type": "code",
   "execution_count": 22,
   "id": "quarterly-homeless",
   "metadata": {},
   "outputs": [
    {
     "name": "stdout",
     "output_type": "stream",
     "text": [
      "Wrote visualization to: mapper_y.html\n"
     ]
    }
   ],
   "source": [
    "_ = mapper.visualize(\n",
    "    G,\n",
    "    color_values = y,\n",
    "    color_function_name= 'criticality',\n",
    "    path_html = \"mapper_y.html\",\n",
    "    X = X,\n",
    "    X_names = rul_df.data_cols,\n",
    "    lens = lens,\n",
    "    lens_names = [\"IsolationForest\", \"knn\", \"y\"],\n",
    "    title = \"Mapper RUL\"\n",
    ")"
   ]
  }
 ],
 "metadata": {
  "kernelspec": {
   "display_name": "Python 3",
   "language": "python",
   "name": "python3"
  },
  "language_info": {
   "codemirror_mode": {
    "name": "ipython",
    "version": 3
   },
   "file_extension": ".py",
   "mimetype": "text/x-python",
   "name": "python",
   "nbconvert_exporter": "python",
   "pygments_lexer": "ipython3",
   "version": "3.9.1"
  },
  "vscode": {
   "interpreter": {
    "hash": "9ca1dab13569cba37c96f77d2e230d532249c1dfc43abceb441f3610f1bfff28"
   }
  }
 },
 "nbformat": 4,
 "nbformat_minor": 5
}
